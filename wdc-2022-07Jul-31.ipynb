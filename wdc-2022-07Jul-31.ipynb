{
 "cells": [
  {
   "cell_type": "markdown",
   "id": "b1e0989b",
   "metadata": {},
   "source": [
    "# Agenda:\n",
    "\n",
    "- Functions!\n",
    "    - Writing functions\n",
    "    - Arguments -> Parameters\n",
    "        - Mandatory parameters \n",
    "        - Parameters with defaults\n",
    "        - `*args`\n",
    "        - `**kwargs`\n",
    "    - Scoping"
   ]
  },
  {
   "cell_type": "markdown",
   "id": "7570da5e",
   "metadata": {},
   "source": [
    "# DRY - don't repeat yourself"
   ]
  },
  {
   "cell_type": "code",
   "execution_count": 1,
   "id": "21a357f8",
   "metadata": {},
   "outputs": [
    {
     "data": {
      "text/plain": [
       "int"
      ]
     },
     "execution_count": 1,
     "metadata": {},
     "output_type": "execute_result"
    }
   ],
   "source": [
    "s = 'abcd'\n",
    "\n",
    "x = len(s)\n",
    "\n",
    "type(x)"
   ]
  },
  {
   "cell_type": "code",
   "execution_count": 2,
   "id": "c1687c4b",
   "metadata": {},
   "outputs": [
    {
     "data": {
      "text/plain": [
       "4"
      ]
     },
     "execution_count": 2,
     "metadata": {},
     "output_type": "execute_result"
    }
   ],
   "source": [
    "x"
   ]
  },
  {
   "cell_type": "code",
   "execution_count": 3,
   "id": "8096e813",
   "metadata": {},
   "outputs": [
    {
     "data": {
      "text/plain": [
       "str"
      ]
     },
     "execution_count": 3,
     "metadata": {},
     "output_type": "execute_result"
    }
   ],
   "source": [
    "x = s.upper()\n",
    "\n",
    "type(x)"
   ]
  },
  {
   "cell_type": "code",
   "execution_count": 4,
   "id": "bf1d6f19",
   "metadata": {},
   "outputs": [
    {
     "data": {
      "text/plain": [
       "'ABCD'"
      ]
     },
     "execution_count": 4,
     "metadata": {},
     "output_type": "execute_result"
    }
   ],
   "source": [
    "x"
   ]
  },
  {
   "cell_type": "code",
   "execution_count": 5,
   "id": "bbef7cf9",
   "metadata": {},
   "outputs": [],
   "source": [
    "x = s.upper"
   ]
  },
  {
   "cell_type": "code",
   "execution_count": 6,
   "id": "52aa4cd8",
   "metadata": {},
   "outputs": [
    {
     "data": {
      "text/plain": [
       "builtin_function_or_method"
      ]
     },
     "execution_count": 6,
     "metadata": {},
     "output_type": "execute_result"
    }
   ],
   "source": [
    "type(x)"
   ]
  },
  {
   "cell_type": "code",
   "execution_count": 7,
   "id": "ca3d8822",
   "metadata": {},
   "outputs": [
    {
     "data": {
      "text/plain": [
       "<function str.upper()>"
      ]
     },
     "execution_count": 7,
     "metadata": {},
     "output_type": "execute_result"
    }
   ],
   "source": [
    "x"
   ]
  },
  {
   "cell_type": "code",
   "execution_count": 8,
   "id": "0311e88e",
   "metadata": {},
   "outputs": [
    {
     "data": {
      "text/plain": [
       "'ABCD'"
      ]
     },
     "execution_count": 8,
     "metadata": {},
     "output_type": "execute_result"
    }
   ],
   "source": [
    "x()"
   ]
  },
  {
   "cell_type": "code",
   "execution_count": 9,
   "id": "ab7fb710",
   "metadata": {},
   "outputs": [
    {
     "ename": "TypeError",
     "evalue": "'int' object is not callable",
     "output_type": "error",
     "traceback": [
      "\u001b[0;31m---------------------------------------------------------------------------\u001b[0m",
      "\u001b[0;31mTypeError\u001b[0m                                 Traceback (most recent call last)",
      "\u001b[0;32m/var/folders/rr/0mnyyv811fs5vyp22gf4fxk00000gn/T/ipykernel_39378/1128582300.py\u001b[0m in \u001b[0;36m<module>\u001b[0;34m\u001b[0m\n\u001b[1;32m      1\u001b[0m \u001b[0mx\u001b[0m \u001b[0;34m=\u001b[0m \u001b[0;36m5\u001b[0m\u001b[0;34m\u001b[0m\u001b[0;34m\u001b[0m\u001b[0m\n\u001b[1;32m      2\u001b[0m \u001b[0;34m\u001b[0m\u001b[0m\n\u001b[0;32m----> 3\u001b[0;31m \u001b[0mx\u001b[0m\u001b[0;34m(\u001b[0m\u001b[0;34m)\u001b[0m\u001b[0;34m\u001b[0m\u001b[0;34m\u001b[0m\u001b[0m\n\u001b[0m",
      "\u001b[0;31mTypeError\u001b[0m: 'int' object is not callable"
     ]
    }
   ],
   "source": [
    "x = 5\n",
    "\n",
    "x()"
   ]
  },
  {
   "cell_type": "code",
   "execution_count": 10,
   "id": "cfff04e1",
   "metadata": {},
   "outputs": [
    {
     "name": "stdout",
     "output_type": "stream",
     "text": [
      "a: 10\n",
      "b: 20\n",
      "c: 30\n"
     ]
    }
   ],
   "source": [
    "d = {'a':10, 'b':20, 'c':30}\n",
    "\n",
    "# for loop on the dict\n",
    "for key, value in d.items():\n",
    "    print(f'{key}: {value}')"
   ]
  },
  {
   "cell_type": "code",
   "execution_count": 11,
   "id": "da55aedd",
   "metadata": {},
   "outputs": [
    {
     "ename": "TypeError",
     "evalue": "'builtin_function_or_method' object is not iterable",
     "output_type": "error",
     "traceback": [
      "\u001b[0;31m---------------------------------------------------------------------------\u001b[0m",
      "\u001b[0;31mTypeError\u001b[0m                                 Traceback (most recent call last)",
      "\u001b[0;32m/var/folders/rr/0mnyyv811fs5vyp22gf4fxk00000gn/T/ipykernel_39378/4167693387.py\u001b[0m in \u001b[0;36m<module>\u001b[0;34m\u001b[0m\n\u001b[1;32m      2\u001b[0m \u001b[0;34m\u001b[0m\u001b[0m\n\u001b[1;32m      3\u001b[0m \u001b[0;31m# for loop on the dict -- without the () after d.items... will it work?\u001b[0m\u001b[0;34m\u001b[0m\u001b[0;34m\u001b[0m\u001b[0m\n\u001b[0;32m----> 4\u001b[0;31m \u001b[0;32mfor\u001b[0m \u001b[0mkey\u001b[0m\u001b[0;34m,\u001b[0m \u001b[0mvalue\u001b[0m \u001b[0;32min\u001b[0m \u001b[0md\u001b[0m\u001b[0;34m.\u001b[0m\u001b[0mitems\u001b[0m\u001b[0;34m:\u001b[0m\u001b[0;34m\u001b[0m\u001b[0;34m\u001b[0m\u001b[0m\n\u001b[0m\u001b[1;32m      5\u001b[0m     \u001b[0mprint\u001b[0m\u001b[0;34m(\u001b[0m\u001b[0;34mf'{key}: {value}'\u001b[0m\u001b[0;34m)\u001b[0m\u001b[0;34m\u001b[0m\u001b[0;34m\u001b[0m\u001b[0m\n",
      "\u001b[0;31mTypeError\u001b[0m: 'builtin_function_or_method' object is not iterable"
     ]
    }
   ],
   "source": [
    "d = {'a':10, 'b':20, 'c':30}\n",
    "\n",
    "# for loop on the dict -- without the () after d.items... will it work?\n",
    "for key, value in d.items:\n",
    "    print(f'{key}: {value}')"
   ]
  },
  {
   "cell_type": "code",
   "execution_count": 13,
   "id": "e77f1af7",
   "metadata": {},
   "outputs": [],
   "source": [
    "# Defining a function\n",
    "# (1) def\n",
    "# (2) name of the function\n",
    "# (3) parentheses (), with parameter names inside\n",
    "# (4) : at the end of the line\n",
    "# (5) body of the function, indented\n",
    "\n",
    "\n",
    "def hello():\n",
    "    print('Hello!')"
   ]
  },
  {
   "cell_type": "code",
   "execution_count": 14,
   "id": "a72a9ccf",
   "metadata": {},
   "outputs": [
    {
     "data": {
      "text/plain": [
       "function"
      ]
     },
     "execution_count": 14,
     "metadata": {},
     "output_type": "execute_result"
    }
   ],
   "source": [
    "type(hello)   "
   ]
  },
  {
   "cell_type": "code",
   "execution_count": 15,
   "id": "a6568ff1",
   "metadata": {},
   "outputs": [
    {
     "name": "stdout",
     "output_type": "stream",
     "text": [
      "Hello!\n"
     ]
    }
   ],
   "source": [
    "hello()"
   ]
  },
  {
   "cell_type": "code",
   "execution_count": 16,
   "id": "c477b081",
   "metadata": {},
   "outputs": [
    {
     "name": "stdout",
     "output_type": "stream",
     "text": [
      "Hello!\n"
     ]
    }
   ],
   "source": [
    "hello()"
   ]
  },
  {
   "cell_type": "code",
   "execution_count": 17,
   "id": "ffa95e93",
   "metadata": {},
   "outputs": [
    {
     "name": "stdout",
     "output_type": "stream",
     "text": [
      "Hello!\n"
     ]
    }
   ],
   "source": [
    "hello()"
   ]
  },
  {
   "cell_type": "code",
   "execution_count": 18,
   "id": "4a3430cf",
   "metadata": {},
   "outputs": [
    {
     "name": "stdout",
     "output_type": "stream",
     "text": [
      "Hello!\n"
     ]
    }
   ],
   "source": [
    "x = hello()"
   ]
  },
  {
   "cell_type": "code",
   "execution_count": 20,
   "id": "d6562656",
   "metadata": {},
   "outputs": [
    {
     "name": "stdout",
     "output_type": "stream",
     "text": [
      "None\n"
     ]
    }
   ],
   "source": [
    "print(x)  # the function printed, but didn't return anything"
   ]
  },
  {
   "cell_type": "code",
   "execution_count": 26,
   "id": "e05e69f8",
   "metadata": {},
   "outputs": [],
   "source": [
    "# when I define a function, I do two things:\n",
    "# (1) create a function object\n",
    "# (2) assign the function to a variable\n",
    "\n",
    "def hello():\n",
    "    return 'Hello!'  "
   ]
  },
  {
   "cell_type": "code",
   "execution_count": 23,
   "id": "6d0d6de4",
   "metadata": {},
   "outputs": [
    {
     "name": "stdout",
     "output_type": "stream",
     "text": [
      "Hello!\n"
     ]
    }
   ],
   "source": [
    "print(hello())"
   ]
  },
  {
   "cell_type": "code",
   "execution_count": 29,
   "id": "e9f41ae0",
   "metadata": {},
   "outputs": [],
   "source": [
    "# assigning to the same function overwrites the previous function\n",
    "\n",
    "# redefine, with a parameter -- now we need an argument\n",
    "def hello(name):\n",
    "    return f'Hello, {name}!'  "
   ]
  },
  {
   "cell_type": "code",
   "execution_count": 30,
   "id": "66361c7b",
   "metadata": {},
   "outputs": [
    {
     "ename": "TypeError",
     "evalue": "hello() missing 1 required positional argument: 'name'",
     "output_type": "error",
     "traceback": [
      "\u001b[0;31m---------------------------------------------------------------------------\u001b[0m",
      "\u001b[0;31mTypeError\u001b[0m                                 Traceback (most recent call last)",
      "\u001b[0;32m/var/folders/rr/0mnyyv811fs5vyp22gf4fxk00000gn/T/ipykernel_39378/1307764548.py\u001b[0m in \u001b[0;36m<module>\u001b[0;34m\u001b[0m\n\u001b[0;32m----> 1\u001b[0;31m \u001b[0mhello\u001b[0m\u001b[0;34m(\u001b[0m\u001b[0;34m)\u001b[0m   \u001b[0;31m# what happens now?\u001b[0m\u001b[0;34m\u001b[0m\u001b[0;34m\u001b[0m\u001b[0m\n\u001b[0m",
      "\u001b[0;31mTypeError\u001b[0m: hello() missing 1 required positional argument: 'name'"
     ]
    }
   ],
   "source": [
    "hello()   # what happens now?"
   ]
  },
  {
   "cell_type": "code",
   "execution_count": 31,
   "id": "6423e7f7",
   "metadata": {},
   "outputs": [
    {
     "name": "stdout",
     "output_type": "stream",
     "text": [
      "7\n"
     ]
    }
   ],
   "source": [
    "x = 5\n",
    "x = 7\n",
    "\n",
    "print(x)"
   ]
  },
  {
   "cell_type": "code",
   "execution_count": 36,
   "id": "cc48a7ab",
   "metadata": {},
   "outputs": [],
   "source": [
    "# assigning to the same function overwrites the previous function\n",
    "\n",
    "# redefine, with a parameter -- now we need an argument\n",
    "def hello(name):\n",
    "    return f'Hello, {name}!'  "
   ]
  },
  {
   "cell_type": "code",
   "execution_count": 37,
   "id": "4e722dda",
   "metadata": {},
   "outputs": [
    {
     "data": {
      "text/plain": [
       "'Hello, world!'"
      ]
     },
     "execution_count": 37,
     "metadata": {},
     "output_type": "execute_result"
    }
   ],
   "source": [
    "# parameter: name\n",
    "# argument: 'world'\n",
    "\n",
    "hello('world')"
   ]
  },
  {
   "cell_type": "code",
   "execution_count": 38,
   "id": "e3affe6c",
   "metadata": {},
   "outputs": [
    {
     "data": {
      "text/plain": [
       "'Hello, 5!'"
      ]
     },
     "execution_count": 38,
     "metadata": {},
     "output_type": "execute_result"
    }
   ],
   "source": [
    "# parameter: name\n",
    "# argument: 5\n",
    "\n",
    "hello(5)"
   ]
  },
  {
   "cell_type": "code",
   "execution_count": 39,
   "id": "63d58e8b",
   "metadata": {},
   "outputs": [
    {
     "data": {
      "text/plain": [
       "'Hello, [10, 20, 30]!'"
      ]
     },
     "execution_count": 39,
     "metadata": {},
     "output_type": "execute_result"
    }
   ],
   "source": [
    "hello([10, 20, 30])"
   ]
  },
  {
   "cell_type": "code",
   "execution_count": 40,
   "id": "df34705c",
   "metadata": {},
   "outputs": [
    {
     "data": {
      "text/plain": [
       "'Hello, <function hello at 0x10cf84700>!'"
      ]
     },
     "execution_count": 40,
     "metadata": {},
     "output_type": "execute_result"
    }
   ],
   "source": [
    "hello(hello)"
   ]
  },
  {
   "cell_type": "code",
   "execution_count": 41,
   "id": "c181bc77",
   "metadata": {},
   "outputs": [],
   "source": [
    "# type hints / type annotations"
   ]
  },
  {
   "cell_type": "code",
   "execution_count": 42,
   "id": "7966744b",
   "metadata": {},
   "outputs": [],
   "source": [
    "def add(first, second):\n",
    "    return first + second"
   ]
  },
  {
   "cell_type": "code",
   "execution_count": 43,
   "id": "16bf8370",
   "metadata": {},
   "outputs": [
    {
     "ename": "TypeError",
     "evalue": "unsupported operand type(s) for +: 'int' and 'list'",
     "output_type": "error",
     "traceback": [
      "\u001b[0;31m---------------------------------------------------------------------------\u001b[0m",
      "\u001b[0;31mTypeError\u001b[0m                                 Traceback (most recent call last)",
      "\u001b[0;32m/var/folders/rr/0mnyyv811fs5vyp22gf4fxk00000gn/T/ipykernel_39378/2432135608.py\u001b[0m in \u001b[0;36m<module>\u001b[0;34m\u001b[0m\n\u001b[0;32m----> 1\u001b[0;31m \u001b[0madd\u001b[0m\u001b[0;34m(\u001b[0m\u001b[0;36m5\u001b[0m\u001b[0;34m,\u001b[0m \u001b[0;34m[\u001b[0m\u001b[0;36m10\u001b[0m\u001b[0;34m,\u001b[0m \u001b[0;36m20\u001b[0m\u001b[0;34m,\u001b[0m \u001b[0;36m30\u001b[0m\u001b[0;34m]\u001b[0m\u001b[0;34m)\u001b[0m\u001b[0;34m\u001b[0m\u001b[0;34m\u001b[0m\u001b[0m\n\u001b[0m",
      "\u001b[0;32m/var/folders/rr/0mnyyv811fs5vyp22gf4fxk00000gn/T/ipykernel_39378/3027384966.py\u001b[0m in \u001b[0;36madd\u001b[0;34m(first, second)\u001b[0m\n\u001b[1;32m      1\u001b[0m \u001b[0;32mdef\u001b[0m \u001b[0madd\u001b[0m\u001b[0;34m(\u001b[0m\u001b[0mfirst\u001b[0m\u001b[0;34m,\u001b[0m \u001b[0msecond\u001b[0m\u001b[0;34m)\u001b[0m\u001b[0;34m:\u001b[0m\u001b[0;34m\u001b[0m\u001b[0;34m\u001b[0m\u001b[0m\n\u001b[0;32m----> 2\u001b[0;31m     \u001b[0;32mreturn\u001b[0m \u001b[0mfirst\u001b[0m \u001b[0;34m+\u001b[0m \u001b[0msecond\u001b[0m\u001b[0;34m\u001b[0m\u001b[0;34m\u001b[0m\u001b[0m\n\u001b[0m",
      "\u001b[0;31mTypeError\u001b[0m: unsupported operand type(s) for +: 'int' and 'list'"
     ]
    }
   ],
   "source": [
    "add(5, [10, 20, 30])"
   ]
  },
  {
   "cell_type": "code",
   "execution_count": 44,
   "id": "bb9db56f",
   "metadata": {},
   "outputs": [
    {
     "data": {
      "text/plain": [
       "[10, 20, 30, 40, 50, 60]"
      ]
     },
     "execution_count": 44,
     "metadata": {},
     "output_type": "execute_result"
    }
   ],
   "source": [
    "add([10, 20, 30], [40, 50, 60])"
   ]
  },
  {
   "cell_type": "code",
   "execution_count": 45,
   "id": "e138e9b6",
   "metadata": {},
   "outputs": [
    {
     "data": {
      "text/plain": [
       "int"
      ]
     },
     "execution_count": 45,
     "metadata": {},
     "output_type": "execute_result"
    }
   ],
   "source": [
    "x = 5\n",
    "type(x)"
   ]
  },
  {
   "cell_type": "code",
   "execution_count": 46,
   "id": "09a7e1dc",
   "metadata": {},
   "outputs": [
    {
     "data": {
      "text/plain": [
       "str"
      ]
     },
     "execution_count": 46,
     "metadata": {},
     "output_type": "execute_result"
    }
   ],
   "source": [
    "x = 'abcd'\n",
    "type(x)"
   ]
  },
  {
   "cell_type": "code",
   "execution_count": 47,
   "id": "63e63e41",
   "metadata": {},
   "outputs": [
    {
     "data": {
      "text/plain": [
       "13"
      ]
     },
     "execution_count": 47,
     "metadata": {},
     "output_type": "execute_result"
    }
   ],
   "source": [
    "add(10, 3)"
   ]
  },
  {
   "cell_type": "code",
   "execution_count": 48,
   "id": "46a7897e",
   "metadata": {},
   "outputs": [
    {
     "ename": "TypeError",
     "evalue": "add() missing 1 required positional argument: 'second'",
     "output_type": "error",
     "traceback": [
      "\u001b[0;31m---------------------------------------------------------------------------\u001b[0m",
      "\u001b[0;31mTypeError\u001b[0m                                 Traceback (most recent call last)",
      "\u001b[0;32m/var/folders/rr/0mnyyv811fs5vyp22gf4fxk00000gn/T/ipykernel_39378/53490253.py\u001b[0m in \u001b[0;36m<module>\u001b[0;34m\u001b[0m\n\u001b[0;32m----> 1\u001b[0;31m \u001b[0madd\u001b[0m\u001b[0;34m(\u001b[0m\u001b[0;36m10\u001b[0m\u001b[0;34m)\u001b[0m\u001b[0;34m\u001b[0m\u001b[0;34m\u001b[0m\u001b[0m\n\u001b[0m",
      "\u001b[0;31mTypeError\u001b[0m: add() missing 1 required positional argument: 'second'"
     ]
    }
   ],
   "source": [
    "add(10)"
   ]
  },
  {
   "cell_type": "code",
   "execution_count": 51,
   "id": "d19b163b",
   "metadata": {},
   "outputs": [],
   "source": [
    "x = 5\n",
    "\n",
    "def x():\n",
    "    return 'I am x!'\n",
    "\n",
    "x = 7\n",
    "\n",
    "def x():\n",
    "    return 'I am still x!'\n",
    "\n",
    "x = 9"
   ]
  },
  {
   "cell_type": "code",
   "execution_count": 52,
   "id": "6eaa1449",
   "metadata": {},
   "outputs": [
    {
     "data": {
      "text/plain": [
       "int"
      ]
     },
     "execution_count": 52,
     "metadata": {},
     "output_type": "execute_result"
    }
   ],
   "source": [
    "type(x)"
   ]
  },
  {
   "cell_type": "markdown",
   "id": "3c4b82ad",
   "metadata": {},
   "source": [
    "# Exercise: `mysum`\n",
    "\n",
    "1. Python has a `sum` function, which takes any iterable (list, tuple, set) of numbers (ints and floats) and returns the sum.\n",
    "2. Write a function, `mysum`, that does the same thing.  The function should take one argument, and return a number.\n",
    "3. Don't use `sum` to write your `mysum` function!"
   ]
  },
  {
   "cell_type": "code",
   "execution_count": null,
   "id": "72ab9c60",
   "metadata": {},
   "outputs": [],
   "source": [
    "mysum([10, 20, 30])          # 60\n",
    "mysum((100, 200, 300, 400))  # 1000"
   ]
  },
  {
   "cell_type": "code",
   "execution_count": 53,
   "id": "cf3da292",
   "metadata": {},
   "outputs": [
    {
     "data": {
      "text/plain": [
       "True"
      ]
     },
     "execution_count": 53,
     "metadata": {},
     "output_type": "execute_result"
    }
   ],
   "source": [
    "isinstance(5, int)"
   ]
  },
  {
   "cell_type": "code",
   "execution_count": 54,
   "id": "23442f72",
   "metadata": {},
   "outputs": [],
   "source": [
    "def mysum(numbers):\n",
    "    total = 0\n",
    "    \n",
    "    for one_number in numbers:\n",
    "        total += one_number\n",
    "        \n",
    "    return total"
   ]
  },
  {
   "cell_type": "code",
   "execution_count": 55,
   "id": "74a71aac",
   "metadata": {},
   "outputs": [
    {
     "data": {
      "text/plain": [
       "60"
      ]
     },
     "execution_count": 55,
     "metadata": {},
     "output_type": "execute_result"
    }
   ],
   "source": [
    "mysum([10, 20, 30])"
   ]
  },
  {
   "cell_type": "code",
   "execution_count": 56,
   "id": "012a4229",
   "metadata": {},
   "outputs": [
    {
     "data": {
      "text/plain": [
       "1000"
      ]
     },
     "execution_count": 56,
     "metadata": {},
     "output_type": "execute_result"
    }
   ],
   "source": [
    "mysum((100, 200, 300, 400))"
   ]
  },
  {
   "cell_type": "code",
   "execution_count": null,
   "id": "ec609607",
   "metadata": {},
   "outputs": [],
   "source": [
    "def mysum(obj):\n",
    "    s=0\n",
    "    for key in obj:\n",
    "         s += key\n",
    "    return s\n",
    "print(mysum([10, 20, 30]))"
   ]
  },
  {
   "cell_type": "code",
   "execution_count": 57,
   "id": "82417772",
   "metadata": {},
   "outputs": [],
   "source": [
    "def add(first, second):\n",
    "    return first + second"
   ]
  },
  {
   "cell_type": "code",
   "execution_count": 58,
   "id": "a6d2d491",
   "metadata": {},
   "outputs": [
    {
     "data": {
      "text/plain": [
       "13"
      ]
     },
     "execution_count": 58,
     "metadata": {},
     "output_type": "execute_result"
    }
   ],
   "source": [
    "add(10, 3)"
   ]
  },
  {
   "cell_type": "code",
   "execution_count": 59,
   "id": "7f1df86f",
   "metadata": {},
   "outputs": [
    {
     "ename": "TypeError",
     "evalue": "add() missing 1 required positional argument: 'second'",
     "output_type": "error",
     "traceback": [
      "\u001b[0;31m---------------------------------------------------------------------------\u001b[0m",
      "\u001b[0;31mTypeError\u001b[0m                                 Traceback (most recent call last)",
      "\u001b[0;32m/var/folders/rr/0mnyyv811fs5vyp22gf4fxk00000gn/T/ipykernel_39378/53490253.py\u001b[0m in \u001b[0;36m<module>\u001b[0;34m\u001b[0m\n\u001b[0;32m----> 1\u001b[0;31m \u001b[0madd\u001b[0m\u001b[0;34m(\u001b[0m\u001b[0;36m10\u001b[0m\u001b[0;34m)\u001b[0m\u001b[0;34m\u001b[0m\u001b[0;34m\u001b[0m\u001b[0m\n\u001b[0m",
      "\u001b[0;31mTypeError\u001b[0m: add() missing 1 required positional argument: 'second'"
     ]
    }
   ],
   "source": [
    "add(10)"
   ]
  },
  {
   "cell_type": "code",
   "execution_count": 60,
   "id": "a40bda10",
   "metadata": {},
   "outputs": [
    {
     "data": {
      "text/plain": [
       "13"
      ]
     },
     "execution_count": 60,
     "metadata": {},
     "output_type": "execute_result"
    }
   ],
   "source": [
    "def add(first, second):\n",
    "    return first + second\n",
    "\n",
    "# parameters: first  second\n",
    "# arguments:   10      3\n",
    "\n",
    "\n",
    "add(10, 3)"
   ]
  },
  {
   "cell_type": "code",
   "execution_count": 61,
   "id": "40688304",
   "metadata": {},
   "outputs": [
    {
     "ename": "TypeError",
     "evalue": "add() missing 1 required positional argument: 'second'",
     "output_type": "error",
     "traceback": [
      "\u001b[0;31m---------------------------------------------------------------------------\u001b[0m",
      "\u001b[0;31mTypeError\u001b[0m                                 Traceback (most recent call last)",
      "\u001b[0;32m/var/folders/rr/0mnyyv811fs5vyp22gf4fxk00000gn/T/ipykernel_39378/1413858989.py\u001b[0m in \u001b[0;36m<module>\u001b[0;34m\u001b[0m\n\u001b[1;32m      3\u001b[0m \u001b[0;34m\u001b[0m\u001b[0m\n\u001b[1;32m      4\u001b[0m \u001b[0;34m\u001b[0m\u001b[0m\n\u001b[0;32m----> 5\u001b[0;31m \u001b[0madd\u001b[0m\u001b[0;34m(\u001b[0m\u001b[0;36m10\u001b[0m\u001b[0;34m)\u001b[0m\u001b[0;34m\u001b[0m\u001b[0;34m\u001b[0m\u001b[0m\n\u001b[0m",
      "\u001b[0;31mTypeError\u001b[0m: add() missing 1 required positional argument: 'second'"
     ]
    }
   ],
   "source": [
    "# parameters: first  second\n",
    "# arguments:   10     \n",
    "\n",
    "\n",
    "add(10)"
   ]
  },
  {
   "cell_type": "code",
   "execution_count": 62,
   "id": "9742deba",
   "metadata": {},
   "outputs": [],
   "source": [
    "# let's make second an optional parameter\n",
    "# if we don't pass a value to second, it'll still get a value\n",
    "\n",
    "def add(first, second=5):     # this makes __defaults__ == (5,)\n",
    "    return first + second\n"
   ]
  },
  {
   "cell_type": "code",
   "execution_count": 63,
   "id": "5d8e6ca6",
   "metadata": {},
   "outputs": [
    {
     "data": {
      "text/plain": [
       "13"
      ]
     },
     "execution_count": 63,
     "metadata": {},
     "output_type": "execute_result"
    }
   ],
   "source": [
    "# parameters:   first   second\n",
    "# arguments:     10      3\n",
    "\n",
    "add(10, 3)"
   ]
  },
  {
   "cell_type": "code",
   "execution_count": 65,
   "id": "fc50ec92",
   "metadata": {},
   "outputs": [
    {
     "data": {
      "text/plain": [
       "15"
      ]
     },
     "execution_count": 65,
     "metadata": {},
     "output_type": "execute_result"
    }
   ],
   "source": [
    "# parameters:   first   second\n",
    "# arguments:     10       5\n",
    "\n",
    "add(10)"
   ]
  },
  {
   "cell_type": "code",
   "execution_count": 64,
   "id": "a6c6d581",
   "metadata": {},
   "outputs": [
    {
     "data": {
      "text/plain": [
       "(5,)"
      ]
     },
     "execution_count": 64,
     "metadata": {},
     "output_type": "execute_result"
    }
   ],
   "source": [
    "add.__defaults__    # tuple with all of our function's defaults"
   ]
  },
  {
   "cell_type": "code",
   "execution_count": 66,
   "id": "113a3286",
   "metadata": {},
   "outputs": [],
   "source": [
    "def add(first=3, second=5):\n",
    "    return first + second"
   ]
  },
  {
   "cell_type": "code",
   "execution_count": 67,
   "id": "a054051a",
   "metadata": {},
   "outputs": [
    {
     "data": {
      "text/plain": [
       "30"
      ]
     },
     "execution_count": 67,
     "metadata": {},
     "output_type": "execute_result"
    }
   ],
   "source": [
    "# parameters: first  second\n",
    "# arguments:   10      20\n",
    "\n",
    "add(10, 20)"
   ]
  },
  {
   "cell_type": "code",
   "execution_count": 69,
   "id": "2fe8cf07",
   "metadata": {},
   "outputs": [
    {
     "data": {
      "text/plain": [
       "15"
      ]
     },
     "execution_count": 69,
     "metadata": {},
     "output_type": "execute_result"
    }
   ],
   "source": [
    "# parameters: first  second\n",
    "# arguments:   10      5\n",
    "\n",
    "add(10)"
   ]
  },
  {
   "cell_type": "code",
   "execution_count": 68,
   "id": "37f705f2",
   "metadata": {},
   "outputs": [
    {
     "data": {
      "text/plain": [
       "(3, 5)"
      ]
     },
     "execution_count": 68,
     "metadata": {},
     "output_type": "execute_result"
    }
   ],
   "source": [
    "add.__defaults__"
   ]
  },
  {
   "cell_type": "code",
   "execution_count": 70,
   "id": "ad497346",
   "metadata": {},
   "outputs": [
    {
     "data": {
      "text/plain": [
       "8"
      ]
     },
     "execution_count": 70,
     "metadata": {},
     "output_type": "execute_result"
    }
   ],
   "source": [
    "# parameters: first  second\n",
    "# arguments:   3       5\n",
    "\n",
    "add()"
   ]
  },
  {
   "cell_type": "markdown",
   "id": "ba987971",
   "metadata": {},
   "source": [
    "# Two types of arguments\n",
    "\n",
    "The types of arguments determine how arguments are assigned to parameters.\n",
    "\n",
    "- Positional: Based on their order when we call the function, they are assigned to parameters.\n",
    "\n",
    "- Keyword: They always look like `name=value`.  Based on the name, they are assigned to parameters."
   ]
  },
  {
   "cell_type": "code",
   "execution_count": 71,
   "id": "cf16d9ea",
   "metadata": {},
   "outputs": [
    {
     "data": {
      "text/plain": [
       "300"
      ]
     },
     "execution_count": 71,
     "metadata": {},
     "output_type": "execute_result"
    }
   ],
   "source": [
    "def add(first=3, second=5):\n",
    "    return first + second\n",
    "\n",
    "\n",
    "# parameters: first  second\n",
    "# arguments:   100     200\n",
    "\n",
    "add(first=100, second=200)    # keyword arguments"
   ]
  },
  {
   "cell_type": "code",
   "execution_count": 72,
   "id": "81bddbad",
   "metadata": {},
   "outputs": [
    {
     "data": {
      "text/plain": [
       "300"
      ]
     },
     "execution_count": 72,
     "metadata": {},
     "output_type": "execute_result"
    }
   ],
   "source": [
    "\n",
    "\n",
    "# parameters: first  second\n",
    "# arguments:   200    100\n",
    "\n",
    "add(second=100, first=200)    # keyword arguments"
   ]
  },
  {
   "cell_type": "code",
   "execution_count": 73,
   "id": "c712cb3b",
   "metadata": {},
   "outputs": [
    {
     "data": {
      "text/plain": [
       "300"
      ]
     },
     "execution_count": 73,
     "metadata": {},
     "output_type": "execute_result"
    }
   ],
   "source": [
    "# We can mix/combine positional and keyword arguments, so long as the positional come first\n",
    "\n",
    "# parameters: first  second\n",
    "# arguments:   100     200\n",
    "\n",
    "add(100, second=200)  "
   ]
  },
  {
   "cell_type": "code",
   "execution_count": 74,
   "id": "7bca30e0",
   "metadata": {},
   "outputs": [
    {
     "ename": "TypeError",
     "evalue": "add() got multiple values for argument 'first'",
     "output_type": "error",
     "traceback": [
      "\u001b[0;31m---------------------------------------------------------------------------\u001b[0m",
      "\u001b[0;31mTypeError\u001b[0m                                 Traceback (most recent call last)",
      "\u001b[0;32m/var/folders/rr/0mnyyv811fs5vyp22gf4fxk00000gn/T/ipykernel_39378/3944751257.py\u001b[0m in \u001b[0;36m<module>\u001b[0;34m\u001b[0m\n\u001b[0;32m----> 1\u001b[0;31m \u001b[0madd\u001b[0m\u001b[0;34m(\u001b[0m\u001b[0;36m100\u001b[0m\u001b[0;34m,\u001b[0m \u001b[0mfirst\u001b[0m\u001b[0;34m=\u001b[0m\u001b[0;36m200\u001b[0m\u001b[0;34m)\u001b[0m\u001b[0;34m\u001b[0m\u001b[0;34m\u001b[0m\u001b[0m\n\u001b[0m",
      "\u001b[0;31mTypeError\u001b[0m: add() got multiple values for argument 'first'"
     ]
    }
   ],
   "source": [
    "add(100, first=200)  "
   ]
  },
  {
   "cell_type": "code",
   "execution_count": 75,
   "id": "66c00847",
   "metadata": {},
   "outputs": [
    {
     "data": {
      "text/plain": [
       "203"
      ]
     },
     "execution_count": 75,
     "metadata": {},
     "output_type": "execute_result"
    }
   ],
   "source": [
    "# parameters:  first   second\n",
    "# arguments:    3         200\n",
    "\n",
    "add(second=200)     "
   ]
  },
  {
   "cell_type": "code",
   "execution_count": 76,
   "id": "47deb0ec",
   "metadata": {},
   "outputs": [
    {
     "data": {
      "text/plain": [
       "(3, 5)"
      ]
     },
     "execution_count": 76,
     "metadata": {},
     "output_type": "execute_result"
    }
   ],
   "source": [
    "add.__defaults__  # \"dunder\" == \"double underscore\""
   ]
  },
  {
   "cell_type": "code",
   "execution_count": 77,
   "id": "afcb5c50",
   "metadata": {},
   "outputs": [
    {
     "ename": "NameError",
     "evalue": "name '___x___' is not defined",
     "output_type": "error",
     "traceback": [
      "\u001b[0;31m---------------------------------------------------------------------------\u001b[0m",
      "\u001b[0;31mNameError\u001b[0m                                 Traceback (most recent call last)",
      "\u001b[0;32m/var/folders/rr/0mnyyv811fs5vyp22gf4fxk00000gn/T/ipykernel_39378/3352733000.py\u001b[0m in \u001b[0;36m<module>\u001b[0;34m\u001b[0m\n\u001b[0;32m----> 1\u001b[0;31m \u001b[0m___x___\u001b[0m  \u001b[0;31m# \"thunder\"\u001b[0m\u001b[0;34m\u001b[0m\u001b[0;34m\u001b[0m\u001b[0m\n\u001b[0m",
      "\u001b[0;31mNameError\u001b[0m: name '___x___' is not defined"
     ]
    }
   ],
   "source": [
    "___x___  # \"thunder\""
   ]
  },
  {
   "cell_type": "markdown",
   "id": "0eda98dc",
   "metadata": {},
   "source": [
    "# Parameter types\n",
    "\n",
    "1. Regular, mandatory parameters (can be either positional or keyword)\n",
    "2. Optional parameters (also positional or keyword)"
   ]
  },
  {
   "cell_type": "code",
   "execution_count": 79,
   "id": "9a4ec785",
   "metadata": {},
   "outputs": [],
   "source": [
    "x = 100\n",
    "del(x)    # make sure the global x doesn't exit"
   ]
  },
  {
   "cell_type": "code",
   "execution_count": 80,
   "id": "4fe03a2b",
   "metadata": {},
   "outputs": [
    {
     "name": "stdout",
     "output_type": "stream",
     "text": [
      "10\n"
     ]
    }
   ],
   "source": [
    "x = 10\n",
    "\n",
    "def myfunc(y):\n",
    "    y = 20    # this assigns to y, but has *NO* effect on x\n",
    "      \n",
    "myfunc(x)     # this calls myfunc with the value that x refers to (i.e., 10)\n",
    "print(x)"
   ]
  },
  {
   "cell_type": "code",
   "execution_count": 81,
   "id": "55015ea5",
   "metadata": {},
   "outputs": [
    {
     "name": "stdout",
     "output_type": "stream",
     "text": [
      "[10, 20, 30, 1]\n"
     ]
    }
   ],
   "source": [
    "x = [10, 20, 30]\n",
    "\n",
    "def myfunc(y):\n",
    "    y.append(1)  # we change the list that y refers to (which, it turns out, x also refers to)\n",
    "    \n",
    "myfunc(x)    # this calls myfunc with the value that x refers to (i.e., [10, 20, 30])\n",
    "print(x)"
   ]
  },
  {
   "cell_type": "code",
   "execution_count": 86,
   "id": "4fb92c3b",
   "metadata": {},
   "outputs": [
    {
     "data": {
      "text/plain": [
       "[1]"
      ]
     },
     "execution_count": 86,
     "metadata": {},
     "output_type": "execute_result"
    }
   ],
   "source": [
    "# never use mutable defaults\n",
    "\n",
    "def myfunc(y=[]):  # defaults are set at compile time, not run time!\n",
    "    y.append(1)\n",
    "    return y\n",
    "\n",
    "myfunc() "
   ]
  },
  {
   "cell_type": "code",
   "execution_count": 87,
   "id": "39dc3235",
   "metadata": {},
   "outputs": [
    {
     "data": {
      "text/plain": [
       "([1],)"
      ]
     },
     "execution_count": 87,
     "metadata": {},
     "output_type": "execute_result"
    }
   ],
   "source": [
    "myfunc.__defaults__"
   ]
  },
  {
   "cell_type": "code",
   "execution_count": 88,
   "id": "dec99d3c",
   "metadata": {},
   "outputs": [
    {
     "data": {
      "text/plain": [
       "[1, 1]"
      ]
     },
     "execution_count": 88,
     "metadata": {},
     "output_type": "execute_result"
    }
   ],
   "source": [
    "myfunc()"
   ]
  },
  {
   "cell_type": "code",
   "execution_count": 89,
   "id": "4af6f578",
   "metadata": {},
   "outputs": [
    {
     "data": {
      "text/plain": [
       "([1, 1],)"
      ]
     },
     "execution_count": 89,
     "metadata": {},
     "output_type": "execute_result"
    }
   ],
   "source": [
    "myfunc.__defaults__"
   ]
  },
  {
   "cell_type": "code",
   "execution_count": 84,
   "id": "38f5112e",
   "metadata": {},
   "outputs": [
    {
     "data": {
      "text/plain": [
       "[1, 1, 1]"
      ]
     },
     "execution_count": 84,
     "metadata": {},
     "output_type": "execute_result"
    }
   ],
   "source": [
    "myfunc()"
   ]
  },
  {
   "cell_type": "code",
   "execution_count": 85,
   "id": "1ae60758",
   "metadata": {},
   "outputs": [
    {
     "data": {
      "text/plain": [
       "[1, 1, 1, 1]"
      ]
     },
     "execution_count": 85,
     "metadata": {},
     "output_type": "execute_result"
    }
   ],
   "source": [
    "myfunc()"
   ]
  },
  {
   "cell_type": "code",
   "execution_count": 91,
   "id": "8ea15e61",
   "metadata": {},
   "outputs": [
    {
     "data": {
      "text/plain": [
       "[1]"
      ]
     },
     "execution_count": 91,
     "metadata": {},
     "output_type": "execute_result"
    }
   ],
   "source": [
    "def myfunc(y=None):\n",
    "\n",
    "    if y is None:\n",
    "        y = []    # this empty list is created at runtime, thus no problems\n",
    "    \n",
    "    y.append(1)\n",
    "    return y\n",
    "\n",
    "myfunc() "
   ]
  },
  {
   "cell_type": "code",
   "execution_count": 92,
   "id": "007b1f00",
   "metadata": {},
   "outputs": [
    {
     "data": {
      "text/plain": [
       "[1]"
      ]
     },
     "execution_count": 92,
     "metadata": {},
     "output_type": "execute_result"
    }
   ],
   "source": [
    "myfunc()"
   ]
  },
  {
   "cell_type": "code",
   "execution_count": 93,
   "id": "d57eee78",
   "metadata": {},
   "outputs": [
    {
     "data": {
      "text/plain": [
       "[1]"
      ]
     },
     "execution_count": 93,
     "metadata": {},
     "output_type": "execute_result"
    }
   ],
   "source": [
    "myfunc()"
   ]
  },
  {
   "cell_type": "code",
   "execution_count": 96,
   "id": "064898e9",
   "metadata": {},
   "outputs": [],
   "source": [
    "# again: don't use mutable defaults!\n",
    "# further good examples of a bad thing to do\n",
    "\n"
   ]
  },
  {
   "cell_type": "markdown",
   "id": "9166dc02",
   "metadata": {},
   "source": [
    "# Immutable\n",
    "- `None`\n",
    "- `True`\n",
    "- `False`\n",
    "- `int`\n",
    "- `float`\n",
    "- `str`\n",
    "- `tuple`\n",
    "\n",
    "\n",
    "# Mutable\n",
    "- `list`\n",
    "- `dict`\n",
    "- `set`"
   ]
  },
  {
   "cell_type": "code",
   "execution_count": 98,
   "id": "1ff6e1ac",
   "metadata": {},
   "outputs": [],
   "source": [
    "def mysum(numbers):\n",
    "    total = 0\n",
    "    \n",
    "    for one_number in numbers:\n",
    "        total += one_number\n",
    "        \n",
    "    return total"
   ]
  },
  {
   "cell_type": "code",
   "execution_count": 100,
   "id": "3a852845",
   "metadata": {},
   "outputs": [
    {
     "ename": "TypeError",
     "evalue": "mysum() takes 1 positional argument but 3 were given",
     "output_type": "error",
     "traceback": [
      "\u001b[0;31m---------------------------------------------------------------------------\u001b[0m",
      "\u001b[0;31mTypeError\u001b[0m                                 Traceback (most recent call last)",
      "\u001b[0;32m/var/folders/rr/0mnyyv811fs5vyp22gf4fxk00000gn/T/ipykernel_39378/2053177084.py\u001b[0m in \u001b[0;36m<module>\u001b[0;34m\u001b[0m\n\u001b[1;32m      1\u001b[0m \u001b[0;31m# I don't want to pass one argument, but rather any number of arguments\u001b[0m\u001b[0;34m\u001b[0m\u001b[0;34m\u001b[0m\u001b[0m\n\u001b[1;32m      2\u001b[0m \u001b[0;34m\u001b[0m\u001b[0m\n\u001b[0;32m----> 3\u001b[0;31m \u001b[0mmysum\u001b[0m\u001b[0;34m(\u001b[0m\u001b[0;36m10\u001b[0m\u001b[0;34m,\u001b[0m \u001b[0;36m20\u001b[0m\u001b[0;34m,\u001b[0m \u001b[0;36m30\u001b[0m\u001b[0;34m)\u001b[0m\u001b[0;34m\u001b[0m\u001b[0;34m\u001b[0m\u001b[0m\n\u001b[0m",
      "\u001b[0;31mTypeError\u001b[0m: mysum() takes 1 positional argument but 3 were given"
     ]
    }
   ],
   "source": [
    "# I don't want to pass one argument, but rather any number of arguments\n",
    "\n",
    "mysum(10, 20, 30)"
   ]
  },
  {
   "cell_type": "code",
   "execution_count": 101,
   "id": "8068adf3",
   "metadata": {},
   "outputs": [],
   "source": [
    "def mysum(*numbers):    # *args  \"splat args\" -- all positional args that others didn't take go into it\n",
    "    total = 0\n",
    "    \n",
    "    for one_number in numbers:\n",
    "        total += one_number\n",
    "        \n",
    "    return total"
   ]
  },
  {
   "cell_type": "code",
   "execution_count": 103,
   "id": "6ed88403",
   "metadata": {},
   "outputs": [
    {
     "data": {
      "text/plain": [
       "60"
      ]
     },
     "execution_count": 103,
     "metadata": {},
     "output_type": "execute_result"
    }
   ],
   "source": [
    "# Parameters: numbers\n",
    "# Arguments:  (10, 20, 30)  \n",
    "\n",
    "mysum(10, 20, 30)"
   ]
  },
  {
   "cell_type": "code",
   "execution_count": 104,
   "id": "4959152f",
   "metadata": {},
   "outputs": [],
   "source": [
    "def myfunc(a, b, *args):\n",
    "    return f'{a=}, {b=}, {args=}'"
   ]
  },
  {
   "cell_type": "code",
   "execution_count": 105,
   "id": "d0444d15",
   "metadata": {},
   "outputs": [
    {
     "data": {
      "text/plain": [
       "'a=10, b=20, args=(30, 40, 50)'"
      ]
     },
     "execution_count": 105,
     "metadata": {},
     "output_type": "execute_result"
    }
   ],
   "source": [
    "myfunc(10, 20, 30, 40, 50)"
   ]
  },
  {
   "cell_type": "code",
   "execution_count": null,
   "id": "a2796ed2",
   "metadata": {},
   "outputs": [],
   "source": []
  },
  {
   "cell_type": "markdown",
   "id": "21be7622",
   "metadata": {},
   "source": [
    "# Parameter types\n",
    "\n",
    "1. Regular, mandatory parameters (can be either positional or keyword)\n",
    "2. Optional parameters (also positional or keyword)\n",
    "3. `*args` (all remaining positional args)"
   ]
  },
  {
   "cell_type": "markdown",
   "id": "ff05c4b0",
   "metadata": {},
   "source": [
    "# Next up\n",
    "\n",
    "1. Exercise with `*args`\n",
    "2. `**kwargs`\n",
    "3. Scoping (LEGB)\n",
    "\n",
    "Continue at 11:00"
   ]
  },
  {
   "cell_type": "code",
   "execution_count": 106,
   "id": "46076f25",
   "metadata": {},
   "outputs": [
    {
     "ename": "AttributeError",
     "evalue": "'tuple' object has no attribute 'append'",
     "output_type": "error",
     "traceback": [
      "\u001b[0;31m---------------------------------------------------------------------------\u001b[0m",
      "\u001b[0;31mAttributeError\u001b[0m                            Traceback (most recent call last)",
      "\u001b[0;32m/var/folders/rr/0mnyyv811fs5vyp22gf4fxk00000gn/T/ipykernel_39378/2590506533.py\u001b[0m in \u001b[0;36m<module>\u001b[0;34m\u001b[0m\n\u001b[1;32m      1\u001b[0m \u001b[0mt\u001b[0m \u001b[0;34m=\u001b[0m \u001b[0;34m(\u001b[0m\u001b[0;36m10\u001b[0m\u001b[0;34m,\u001b[0m \u001b[0;36m20\u001b[0m\u001b[0;34m,\u001b[0m \u001b[0;36m30\u001b[0m\u001b[0;34m)\u001b[0m\u001b[0;34m\u001b[0m\u001b[0;34m\u001b[0m\u001b[0m\n\u001b[1;32m      2\u001b[0m \u001b[0;34m\u001b[0m\u001b[0m\n\u001b[0;32m----> 3\u001b[0;31m \u001b[0mt\u001b[0m\u001b[0;34m.\u001b[0m\u001b[0mappend\u001b[0m\u001b[0;34m(\u001b[0m\u001b[0;36m40\u001b[0m\u001b[0;34m)\u001b[0m\u001b[0;34m\u001b[0m\u001b[0;34m\u001b[0m\u001b[0m\n\u001b[0m",
      "\u001b[0;31mAttributeError\u001b[0m: 'tuple' object has no attribute 'append'"
     ]
    }
   ],
   "source": [
    "t = (10, 20, 30)\n",
    "\n",
    "t.append(40)"
   ]
  },
  {
   "cell_type": "code",
   "execution_count": 107,
   "id": "261ff43d",
   "metadata": {},
   "outputs": [],
   "source": [
    "# constants means: a name has a value, and that lasts forever\n",
    "\n",
    "BEST_LANGUAGE = 'Python'"
   ]
  },
  {
   "cell_type": "code",
   "execution_count": 108,
   "id": "f62feab6",
   "metadata": {},
   "outputs": [
    {
     "data": {
      "text/plain": [
       "str"
      ]
     },
     "execution_count": 108,
     "metadata": {},
     "output_type": "execute_result"
    }
   ],
   "source": [
    "type(BEST_LANGUAGE)"
   ]
  },
  {
   "cell_type": "code",
   "execution_count": 109,
   "id": "6cd7fb15",
   "metadata": {},
   "outputs": [],
   "source": [
    "BEST_LANGUAGE = 'something else'"
   ]
  },
  {
   "cell_type": "code",
   "execution_count": 110,
   "id": "31b230a9",
   "metadata": {},
   "outputs": [
    {
     "data": {
      "text/plain": [
       "'something else'"
      ]
     },
     "execution_count": 110,
     "metadata": {},
     "output_type": "execute_result"
    }
   ],
   "source": [
    "BEST_LANGUAGE"
   ]
  },
  {
   "cell_type": "code",
   "execution_count": 112,
   "id": "5632feed",
   "metadata": {},
   "outputs": [
    {
     "data": {
      "text/plain": [
       "4511649904"
      ]
     },
     "execution_count": 112,
     "metadata": {},
     "output_type": "execute_result"
    }
   ],
   "source": [
    "x = 'abcd'\n",
    "id(x)"
   ]
  },
  {
   "cell_type": "code",
   "execution_count": 113,
   "id": "c64a15f7",
   "metadata": {},
   "outputs": [
    {
     "data": {
      "text/plain": [
       "4501603056"
      ]
     },
     "execution_count": 113,
     "metadata": {},
     "output_type": "execute_result"
    }
   ],
   "source": [
    "x = x + 'efgh'\n",
    "id(x)"
   ]
  },
  {
   "cell_type": "code",
   "execution_count": 114,
   "id": "30234221",
   "metadata": {},
   "outputs": [],
   "source": [
    "# ECMAScript"
   ]
  },
  {
   "cell_type": "markdown",
   "id": "478810b1",
   "metadata": {},
   "source": [
    "# Exercise: `all_lines`\n",
    "\n",
    "1. Define a function, `all_lines`, that will take the following arguments:\n",
    "    - A mandatory argument, a filename (string), into which we'll write data\n",
    "    - 0 or more strings, also filenames, that we will *read* from\n",
    "2. The function will go through each line, in each input file, and write it to the output file.\n",
    "\n",
    "After running the function, all lines from all input files will be in the single output file.\n",
    "\n",
    "Assumptions:\n",
    "- The input files all exist\n",
    "- The output file can be overwritten\n",
    "- All input files are text\n",
    "\n",
    "```python\n",
    "all_lines('outfile.txt', 'infile1.txt', 'infile2.txt')\n",
    "```"
   ]
  },
  {
   "cell_type": "code",
   "execution_count": null,
   "id": "a0fdfa4f",
   "metadata": {},
   "outputs": [],
   "source": [
    "# raw string -- r"
   ]
  }
 ],
 "metadata": {
  "kernelspec": {
   "display_name": "Python 3 (ipykernel)",
   "language": "python",
   "name": "python3"
  },
  "language_info": {
   "codemirror_mode": {
    "name": "ipython",
    "version": 3
   },
   "file_extension": ".py",
   "mimetype": "text/x-python",
   "name": "python",
   "nbconvert_exporter": "python",
   "pygments_lexer": "ipython3",
   "version": "3.10.5"
  }
 },
 "nbformat": 4,
 "nbformat_minor": 5
}
