{
 "cells": [
  {
   "cell_type": "markdown",
   "id": "7477d286",
   "metadata": {},
   "source": [
    "# Agenda\n",
    "\n",
    "1. List comprehensions\n",
    "2. Sort and custom sort functions\n",
    "3. Modules"
   ]
  },
  {
   "cell_type": "markdown",
   "id": "01a07869",
   "metadata": {},
   "source": [
    "# List comprehensions"
   ]
  },
  {
   "cell_type": "markdown",
   "id": "45d0f4e0",
   "metadata": {},
   "source": [
    "# Functional vs. object\n",
    "\n",
    "Functional programming:\n",
    "1. Treat everything as immutable (as much as possible)\n",
    "2. Don't assign into variables (as much as possible)\n",
    "3. Functions are first-class objects\n",
    "\n",
    "Object-oriented programming:\n",
    "1. Everything has a type (class)\n",
    "2. The type dictates the behavior of the object\n",
    "3. The methods (i.e., functions) are defined on the class\n",
    "4. Inheritance, composition, etc.\n",
    "\n",
    "What is an object? Any value in Python."
   ]
  },
  {
   "cell_type": "code",
   "execution_count": 1,
   "id": "9d40b38a",
   "metadata": {},
   "outputs": [
    {
     "data": {
      "text/plain": [
       "4"
      ]
     },
     "execution_count": 1,
     "metadata": {},
     "output_type": "execute_result"
    }
   ],
   "source": [
    "len('abcd')"
   ]
  },
  {
   "cell_type": "code",
   "execution_count": 2,
   "id": "bf5caae4",
   "metadata": {},
   "outputs": [
    {
     "ename": "TypeError",
     "evalue": "object of type 'int' has no len()",
     "output_type": "error",
     "traceback": [
      "\u001b[0;31m---------------------------------------------------------------------------\u001b[0m",
      "\u001b[0;31mTypeError\u001b[0m                                 Traceback (most recent call last)",
      "\u001b[0;32m/var/folders/rr/0mnyyv811fs5vyp22gf4fxk00000gn/T/ipykernel_86479/4108502181.py\u001b[0m in \u001b[0;36m<module>\u001b[0;34m\u001b[0m\n\u001b[0;32m----> 1\u001b[0;31m \u001b[0mlen\u001b[0m\u001b[0;34m(\u001b[0m\u001b[0;36m5\u001b[0m\u001b[0;34m)\u001b[0m\u001b[0;34m\u001b[0m\u001b[0;34m\u001b[0m\u001b[0m\n\u001b[0m",
      "\u001b[0;31mTypeError\u001b[0m: object of type 'int' has no len()"
     ]
    }
   ],
   "source": [
    "len(5)"
   ]
  },
  {
   "cell_type": "code",
   "execution_count": null,
   "id": "354e83d9",
   "metadata": {},
   "outputs": [],
   "source": []
  }
 ],
 "metadata": {
  "kernelspec": {
   "display_name": "Python 3 (ipykernel)",
   "language": "python",
   "name": "python3"
  },
  "language_info": {
   "codemirror_mode": {
    "name": "ipython",
    "version": 3
   },
   "file_extension": ".py",
   "mimetype": "text/x-python",
   "name": "python",
   "nbconvert_exporter": "python",
   "pygments_lexer": "ipython3",
   "version": "3.10.5"
  }
 },
 "nbformat": 4,
 "nbformat_minor": 5
}
