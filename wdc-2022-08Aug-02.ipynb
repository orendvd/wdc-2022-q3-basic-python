{
 "cells": [
  {
   "cell_type": "markdown",
   "id": "7477d286",
   "metadata": {},
   "source": [
    "# Agenda\n",
    "\n",
    "1. List comprehensions\n",
    "2. Sort and custom sort functions\n",
    "3. Modules"
   ]
  },
  {
   "cell_type": "markdown",
   "id": "87dddc9c",
   "metadata": {},
   "source": [
    "# List comprehensions"
   ]
  },
  {
   "cell_type": "markdown",
   "id": "9d0ebce1",
   "metadata": {},
   "source": [
    "# Functional vs. object\n",
    "\n",
    "Functional programming:\n",
    "1. Treat everything as immutable (as much as possible)\n",
    "2. Don't assign into variables (as much as possible)\n",
    "3. Functions are first-class objects\n",
    "\n",
    "Object-oriented programming:\n",
    "1. Everything has a type (class)\n",
    "2. The type dictates the behavior of the object\n",
    "3. The methods (i.e., functions) are defined on the class\n",
    "4. Inheritance, composition, etc.\n",
    "\n",
    "What is an object? Any value in Python."
   ]
  },
  {
   "cell_type": "code",
   "execution_count": 1,
   "id": "1b56707d",
   "metadata": {},
   "outputs": [
    {
     "data": {
      "text/plain": [
       "4"
      ]
     },
     "execution_count": 1,
     "metadata": {},
     "output_type": "execute_result"
    }
   ],
   "source": [
    "len('abcd')"
   ]
  },
  {
   "cell_type": "code",
   "execution_count": 2,
   "id": "07dc1250",
   "metadata": {},
   "outputs": [
    {
     "ename": "TypeError",
     "evalue": "object of type 'int' has no len()",
     "output_type": "error",
     "traceback": [
      "\u001b[0;31m---------------------------------------------------------------------------\u001b[0m",
      "\u001b[0;31mTypeError\u001b[0m                                 Traceback (most recent call last)",
      "\u001b[0;32m/var/folders/rr/0mnyyv811fs5vyp22gf4fxk00000gn/T/ipykernel_86479/4108502181.py\u001b[0m in \u001b[0;36m<module>\u001b[0;34m\u001b[0m\n\u001b[0;32m----> 1\u001b[0;31m \u001b[0mlen\u001b[0m\u001b[0;34m(\u001b[0m\u001b[0;36m5\u001b[0m\u001b[0;34m)\u001b[0m\u001b[0;34m\u001b[0m\u001b[0;34m\u001b[0m\u001b[0m\n\u001b[0m",
      "\u001b[0;31mTypeError\u001b[0m: object of type 'int' has no len()"
     ]
    }
   ],
   "source": [
    "len(5)"
   ]
  },
  {
   "cell_type": "code",
   "execution_count": 3,
   "id": "fac82dd0",
   "metadata": {},
   "outputs": [
    {
     "data": {
      "text/plain": [
       "[0, 1, 4, 9, 16, 25, 36, 49, 64, 81]"
      ]
     },
     "execution_count": 3,
     "metadata": {},
     "output_type": "execute_result"
    }
   ],
   "source": [
    "# define a list of integers\n",
    "numbers = list(range(10))\n",
    "\n",
    "# I want a list of all these numbers to the 2nd power\n",
    "output = []\n",
    "\n",
    "for one_number in numbers:\n",
    "    output.append(one_number ** 2)\n",
    "    \n",
    "output    "
   ]
  },
  {
   "cell_type": "markdown",
   "id": "e41a51fe",
   "metadata": {},
   "source": [
    "# When to use a list comprehension\n",
    "\n",
    "1. If I have a sequence (iterable) as input\n",
    "2. I want a list as output\n",
    "3. There's a Python expression that can translate each element from the first to the second\n",
    "\n"
   ]
  },
  {
   "cell_type": "code",
   "execution_count": 6,
   "id": "12aeb483",
   "metadata": {},
   "outputs": [],
   "source": [
    "# list comprehension\n",
    "\n",
    "# The output from a list comprehension is a new list\n",
    "\n",
    "output = [one_number ** 2             # output expression, goes into the output list\n",
    "         for one_number in numbers]  # iteration"
   ]
  },
  {
   "cell_type": "code",
   "execution_count": 7,
   "id": "8d41cbef",
   "metadata": {},
   "outputs": [
    {
     "data": {
      "text/plain": [
       "[0, 1, 4, 9, 16, 25, 36, 49, 64, 81]"
      ]
     },
     "execution_count": 7,
     "metadata": {},
     "output_type": "execute_result"
    }
   ],
   "source": [
    "output"
   ]
  },
  {
   "cell_type": "code",
   "execution_count": 13,
   "id": "5394eb30",
   "metadata": {},
   "outputs": [
    {
     "data": {
      "text/plain": [
       "'a!bc!def'"
      ]
     },
     "execution_count": 13,
     "metadata": {},
     "output_type": "execute_result"
    }
   ],
   "source": [
    "mylist = ['a', 'bc', 'def']\n",
    "\n",
    "'!'.join(mylist)  # join is a string method, so we can run it on any string -- including '!'"
   ]
  },
  {
   "cell_type": "code",
   "execution_count": 14,
   "id": "d8c0b951",
   "metadata": {},
   "outputs": [
    {
     "ename": "TypeError",
     "evalue": "sequence item 0: expected str instance, int found",
     "output_type": "error",
     "traceback": [
      "\u001b[0;31m---------------------------------------------------------------------------\u001b[0m",
      "\u001b[0;31mTypeError\u001b[0m                                 Traceback (most recent call last)",
      "\u001b[0;32m/var/folders/rr/0mnyyv811fs5vyp22gf4fxk00000gn/T/ipykernel_86479/2717996547.py\u001b[0m in \u001b[0;36m<module>\u001b[0;34m\u001b[0m\n\u001b[1;32m      1\u001b[0m \u001b[0mmylist\u001b[0m \u001b[0;34m=\u001b[0m \u001b[0;34m[\u001b[0m\u001b[0;36m10\u001b[0m\u001b[0;34m,\u001b[0m \u001b[0;36m20\u001b[0m\u001b[0;34m,\u001b[0m \u001b[0;36m30\u001b[0m\u001b[0;34m]\u001b[0m\u001b[0;34m\u001b[0m\u001b[0;34m\u001b[0m\u001b[0m\n\u001b[1;32m      2\u001b[0m \u001b[0;34m\u001b[0m\u001b[0m\n\u001b[0;32m----> 3\u001b[0;31m \u001b[0;34m'!'\u001b[0m\u001b[0;34m.\u001b[0m\u001b[0mjoin\u001b[0m\u001b[0;34m(\u001b[0m\u001b[0mmylist\u001b[0m\u001b[0;34m)\u001b[0m\u001b[0;34m\u001b[0m\u001b[0;34m\u001b[0m\u001b[0m\n\u001b[0m",
      "\u001b[0;31mTypeError\u001b[0m: sequence item 0: expected str instance, int found"
     ]
    }
   ],
   "source": [
    "mylist = [10, 20, 30]\n",
    "\n",
    "'!'.join(mylist)   # join's argument must be a sequence of strings"
   ]
  },
  {
   "cell_type": "code",
   "execution_count": 15,
   "id": "226995ad",
   "metadata": {},
   "outputs": [
    {
     "data": {
      "text/plain": [
       "['10', '20', '30']"
      ]
     },
     "execution_count": 15,
     "metadata": {},
     "output_type": "execute_result"
    }
   ],
   "source": [
    "# I have: a list of integers\n",
    "# I want: a list of strings\n",
    "# expression that translates one integer to one string: str\n",
    "\n",
    "[str(one_item)            # SELECT expression\n",
    " for one_item in mylist]  # FROM  iteration"
   ]
  },
  {
   "cell_type": "code",
   "execution_count": 16,
   "id": "c9ed6153",
   "metadata": {},
   "outputs": [
    {
     "data": {
      "text/plain": [
       "'10!20!30'"
      ]
     },
     "execution_count": 16,
     "metadata": {},
     "output_type": "execute_result"
    }
   ],
   "source": [
    "'!'.join([str(one_item)                # here, the argument to join is a list of strings -- the new list\n",
    "             for one_item in mylist])"
   ]
  },
  {
   "cell_type": "code",
   "execution_count": 17,
   "id": "5316554a",
   "metadata": {},
   "outputs": [
    {
     "data": {
      "text/plain": [
       "'This Is A Fantastic Example Sentence For My Course'"
      ]
     },
     "execution_count": 17,
     "metadata": {},
     "output_type": "execute_result"
    }
   ],
   "source": [
    "s = 'this is a fantastic example sentence for my course'\n",
    "\n",
    "s.title()   # returns a new string, every word starts with a capital letter"
   ]
  },
  {
   "cell_type": "code",
   "execution_count": 20,
   "id": "2d7257ac",
   "metadata": {},
   "outputs": [
    {
     "data": {
      "text/plain": [
       "'This Is A Fantastic Example Sentence For My Course'"
      ]
     },
     "execution_count": 20,
     "metadata": {},
     "output_type": "execute_result"
    }
   ],
   "source": [
    "# what if I want the same output, but not use title?\n",
    "# I can use str.capitalize -- the first letter is capitalized, the rest are lowercase\n",
    "\n",
    "' '.join([one_word.capitalize()\n",
    "             for one_word in s.split()])"
   ]
  },
  {
   "cell_type": "markdown",
   "id": "ac7fcf32",
   "metadata": {},
   "source": [
    "# Exercises with comprehensions\n",
    "\n",
    "1. Ask the user to enter a sentence. How many non-whitespace characters are there? Use a comprehension to solve this.\n",
    "\n",
    "Example:\n",
    "\n",
    "    Enter a string: this is a test\n",
    "    11\n",
    "\n",
    "2. Ask the user to enter a string with numbers, separated by spaces. Sum these numbers together.\n",
    "\n",
    "Example:\n",
    "\n",
    "    Enter number: 10 20 30\n",
    "    60\n",
    "    "
   ]
  },
  {
   "cell_type": "code",
   "execution_count": 21,
   "id": "75beb075",
   "metadata": {},
   "outputs": [
    {
     "name": "stdout",
     "output_type": "stream",
     "text": [
      "Enter a string: this is a test\n"
     ]
    },
    {
     "data": {
      "text/plain": [
       "14"
      ]
     },
     "execution_count": 21,
     "metadata": {},
     "output_type": "execute_result"
    }
   ],
   "source": [
    "s = input('Enter a string: ').strip()\n",
    "\n",
    "len(s)"
   ]
  },
  {
   "cell_type": "code",
   "execution_count": 26,
   "id": "bd32e990",
   "metadata": {},
   "outputs": [
    {
     "data": {
      "text/plain": [
       "11"
      ]
     },
     "execution_count": 26,
     "metadata": {},
     "output_type": "execute_result"
    }
   ],
   "source": [
    "# go over each word\n",
    "# the expression is len, where we get the length of each word\n",
    "# the output list will be a list of integers\n",
    "# use \"sum\" to add them up\n",
    "\n",
    "sum([len(one_word)\n",
    " for one_word in s.split()])"
   ]
  },
  {
   "cell_type": "code",
   "execution_count": 27,
   "id": "17617f9b",
   "metadata": {},
   "outputs": [
    {
     "name": "stdout",
     "output_type": "stream",
     "text": [
      "Enter numbers: 10 20 30 40 50\n"
     ]
    }
   ],
   "source": [
    "s = input('Enter numbers: ').strip()\n",
    "\n"
   ]
  },
  {
   "cell_type": "code",
   "execution_count": 28,
   "id": "49cd5df5",
   "metadata": {},
   "outputs": [
    {
     "data": {
      "text/plain": [
       "'10 20 30 40 50'"
      ]
     },
     "execution_count": 28,
     "metadata": {},
     "output_type": "execute_result"
    }
   ],
   "source": [
    "s"
   ]
  },
  {
   "cell_type": "code",
   "execution_count": 34,
   "id": "26037f78",
   "metadata": {},
   "outputs": [
    {
     "data": {
      "text/plain": [
       "150"
      ]
     },
     "execution_count": 34,
     "metadata": {},
     "output_type": "execute_result"
    }
   ],
   "source": [
    "# input list: list of strings\n",
    "# output list: list of ints\n",
    "# use int() to turn one string into an int\n",
    "\n",
    "sum([int(one_number)\n",
    " for one_number in s.split()])"
   ]
  },
  {
   "cell_type": "code",
   "execution_count": 35,
   "id": "cb81f891",
   "metadata": {},
   "outputs": [
    {
     "data": {
      "text/plain": [
       "['##\\n',\n",
       " '# User Database\\n',\n",
       " '# \\n',\n",
       " '# Note that this file is consulted directly only when the system is running\\n',\n",
       " '# in single-user mode.  At other times this information is provided by\\n',\n",
       " '# Open Directory.\\n',\n",
       " '#\\n',\n",
       " '# See the opendirectoryd(8) man page for additional information about\\n',\n",
       " '# Open Directory.\\n',\n",
       " '##\\n',\n",
       " 'nobody:*:-2:-2:Unprivileged User:/var/empty:/usr/bin/false\\n',\n",
       " 'root:*:0:0:System Administrator:/var/root:/bin/sh\\n',\n",
       " 'daemon:*:1:1:System Services:/var/root:/usr/bin/false\\n',\n",
       " '_uucp:*:4:4:Unix to Unix Copy Protocol:/var/spool/uucp:/usr/sbin/uucico\\n',\n",
       " '_taskgated:*:13:13:Task Gate Daemon:/var/empty:/usr/bin/false\\n',\n",
       " '_networkd:*:24:24:Network Services:/var/networkd:/usr/bin/false\\n',\n",
       " '_installassistant:*:25:25:Install Assistant:/var/empty:/usr/bin/false\\n',\n",
       " '_lp:*:26:26:Printing Services:/var/spool/cups:/usr/bin/false\\n',\n",
       " '_postfix:*:27:27:Postfix Mail Server:/var/spool/postfix:/usr/bin/false\\n',\n",
       " '_scsd:*:31:31:Service Configuration Service:/var/empty:/usr/bin/false\\n',\n",
       " '_ces:*:32:32:Certificate Enrollment Service:/var/empty:/usr/bin/false\\n',\n",
       " '_appstore:*:33:33:Mac App Store Service:/var/db/appstore:/usr/bin/false\\n',\n",
       " '_mcxalr:*:54:54:MCX AppLaunch:/var/empty:/usr/bin/false\\n',\n",
       " '_appleevents:*:55:55:AppleEvents Daemon:/var/empty:/usr/bin/false\\n',\n",
       " '_geod:*:56:56:Geo Services Daemon:/var/db/geod:/usr/bin/false\\n',\n",
       " '_devdocs:*:59:59:Developer Documentation:/var/empty:/usr/bin/false\\n',\n",
       " '_sandbox:*:60:60:Seatbelt:/var/empty:/usr/bin/false\\n',\n",
       " '_mdnsresponder:*:65:65:mDNSResponder:/var/empty:/usr/bin/false\\n',\n",
       " '_ard:*:67:67:Apple Remote Desktop:/var/empty:/usr/bin/false\\n',\n",
       " '_www:*:70:70:World Wide Web Server:/Library/WebServer:/usr/bin/false\\n',\n",
       " '_eppc:*:71:71:Apple Events User:/var/empty:/usr/bin/false\\n',\n",
       " '_cvs:*:72:72:CVS Server:/var/empty:/usr/bin/false\\n',\n",
       " '_svn:*:73:73:SVN Server:/var/empty:/usr/bin/false\\n',\n",
       " '_mysql:*:74:74:MySQL Server:/var/empty:/usr/bin/false\\n',\n",
       " '_sshd:*:75:75:sshd Privilege separation:/var/empty:/usr/bin/false\\n',\n",
       " '_qtss:*:76:76:QuickTime Streaming Server:/var/empty:/usr/bin/false\\n',\n",
       " '_cyrus:*:77:6:Cyrus Administrator:/var/imap:/usr/bin/false\\n',\n",
       " '_mailman:*:78:78:Mailman List Server:/var/empty:/usr/bin/false\\n',\n",
       " '_appserver:*:79:79:Application Server:/var/empty:/usr/bin/false\\n',\n",
       " '_clamav:*:82:82:ClamAV Daemon:/var/virusmails:/usr/bin/false\\n',\n",
       " '_amavisd:*:83:83:AMaViS Daemon:/var/virusmails:/usr/bin/false\\n',\n",
       " '_jabber:*:84:84:Jabber XMPP Server:/var/empty:/usr/bin/false\\n',\n",
       " '_appowner:*:87:87:Application Owner:/var/empty:/usr/bin/false\\n',\n",
       " '_windowserver:*:88:88:WindowServer:/var/empty:/usr/bin/false\\n',\n",
       " '_spotlight:*:89:89:Spotlight:/var/empty:/usr/bin/false\\n',\n",
       " '_tokend:*:91:91:Token Daemon:/var/empty:/usr/bin/false\\n',\n",
       " '_securityagent:*:92:92:SecurityAgent:/var/db/securityagent:/usr/bin/false\\n',\n",
       " '_calendar:*:93:93:Calendar:/var/empty:/usr/bin/false\\n',\n",
       " '_teamsserver:*:94:94:TeamsServer:/var/teamsserver:/usr/bin/false\\n',\n",
       " '_update_sharing:*:95:-2:Update Sharing:/var/empty:/usr/bin/false\\n',\n",
       " '_installer:*:96:-2:Installer:/var/empty:/usr/bin/false\\n',\n",
       " '_atsserver:*:97:97:ATS Server:/var/empty:/usr/bin/false\\n',\n",
       " '_ftp:*:98:-2:FTP Daemon:/var/empty:/usr/bin/false\\n',\n",
       " '_unknown:*:99:99:Unknown User:/var/empty:/usr/bin/false\\n',\n",
       " '_softwareupdate:*:200:200:Software Update Service:/var/db/softwareupdate:/usr/bin/false\\n',\n",
       " '_coreaudiod:*:202:202:Core Audio Daemon:/var/empty:/usr/bin/false\\n',\n",
       " '_screensaver:*:203:203:Screensaver:/var/empty:/usr/bin/false\\n',\n",
       " '_locationd:*:205:205:Location Daemon:/var/db/locationd:/usr/bin/false\\n',\n",
       " '_trustevaluationagent:*:208:208:Trust Evaluation Agent:/var/empty:/usr/bin/false\\n',\n",
       " '_timezone:*:210:210:AutoTimeZoneDaemon:/var/empty:/usr/bin/false\\n',\n",
       " '_lda:*:211:211:Local Delivery Agent:/var/empty:/usr/bin/false\\n',\n",
       " '_cvmsroot:*:212:212:CVMS Root:/var/empty:/usr/bin/false\\n',\n",
       " '_usbmuxd:*:213:213:iPhone OS Device Helper:/var/db/lockdown:/usr/bin/false\\n',\n",
       " '_dovecot:*:214:6:Dovecot Administrator:/var/empty:/usr/bin/false\\n',\n",
       " '_dpaudio:*:215:215:DP Audio:/var/empty:/usr/bin/false\\n',\n",
       " '_postgres:*:216:216:PostgreSQL Server:/var/empty:/usr/bin/false\\n',\n",
       " '_krbtgt:*:217:-2:Kerberos Ticket Granting Ticket:/var/empty:/usr/bin/false\\n',\n",
       " '_kadmin_admin:*:218:-2:Kerberos Admin Service:/var/empty:/usr/bin/false\\n',\n",
       " '_kadmin_changepw:*:219:-2:Kerberos Change Password Service:/var/empty:/usr/bin/false\\n',\n",
       " '_devicemgr:*:220:220:Device Management Server:/var/empty:/usr/bin/false\\n',\n",
       " '_webauthserver:*:221:221:Web Auth Server:/var/empty:/usr/bin/false\\n',\n",
       " '_netbios:*:222:222:NetBIOS:/var/empty:/usr/bin/false\\n',\n",
       " '_warmd:*:224:224:Warm Daemon:/var/empty:/usr/bin/false\\n',\n",
       " '_dovenull:*:227:227:Dovecot Authentication:/var/empty:/usr/bin/false\\n',\n",
       " '_netstatistics:*:228:228:Network Statistics Daemon:/var/empty:/usr/bin/false\\n',\n",
       " '_avbdeviced:*:229:-2:Ethernet AVB Device Daemon:/var/empty:/usr/bin/false\\n',\n",
       " '_krb_krbtgt:*:230:-2:Open Directory Kerberos Ticket Granting Ticket:/var/empty:/usr/bin/false\\n',\n",
       " '_krb_kadmin:*:231:-2:Open Directory Kerberos Admin Service:/var/empty:/usr/bin/false\\n',\n",
       " '_krb_changepw:*:232:-2:Open Directory Kerberos Change Password Service:/var/empty:/usr/bin/false\\n',\n",
       " '_krb_kerberos:*:233:-2:Open Directory Kerberos:/var/empty:/usr/bin/false\\n',\n",
       " '_krb_anonymous:*:234:-2:Open Directory Kerberos Anonymous:/var/empty:/usr/bin/false\\n',\n",
       " '_assetcache:*:235:235:Asset Cache Service:/var/empty:/usr/bin/false\\n',\n",
       " '_coremediaiod:*:236:236:Core Media IO Daemon:/var/empty:/usr/bin/false\\n',\n",
       " '_launchservicesd:*:239:239:_launchservicesd:/var/empty:/usr/bin/false\\n',\n",
       " '_iconservices:*:240:240:IconServices:/var/empty:/usr/bin/false\\n',\n",
       " '_distnote:*:241:241:DistNote:/var/empty:/usr/bin/false\\n',\n",
       " '_nsurlsessiond:*:242:242:NSURLSession Daemon:/var/db/nsurlsessiond:/usr/bin/false\\n',\n",
       " '_displaypolicyd:*:244:244:Display Policy Daemon:/var/empty:/usr/bin/false\\n',\n",
       " '_astris:*:245:245:Astris Services:/var/db/astris:/usr/bin/false\\n',\n",
       " '_krbfast:*:246:-2:Kerberos FAST Account:/var/empty:/usr/bin/false\\n',\n",
       " '_gamecontrollerd:*:247:247:Game Controller Daemon:/var/empty:/usr/bin/false\\n',\n",
       " '_mbsetupuser:*:248:248:Setup User:/var/setup:/bin/bash\\n',\n",
       " '_ondemand:*:249:249:On Demand Resource Daemon:/var/db/ondemand:/usr/bin/false\\n',\n",
       " '_xserverdocs:*:251:251:macOS Server Documents Service:/var/empty:/usr/bin/false\\n',\n",
       " '_wwwproxy:*:252:252:WWW Proxy:/var/empty:/usr/bin/false\\n',\n",
       " '_mobileasset:*:253:253:MobileAsset User:/var/ma:/usr/bin/false\\n',\n",
       " '_findmydevice:*:254:254:Find My Device Daemon:/var/db/findmydevice:/usr/bin/false\\n',\n",
       " '_datadetectors:*:257:257:DataDetectors:/var/db/datadetectors:/usr/bin/false\\n',\n",
       " '_captiveagent:*:258:258:captiveagent:/var/empty:/usr/bin/false\\n',\n",
       " '_ctkd:*:259:259:ctkd Account:/var/empty:/usr/bin/false\\n',\n",
       " '_applepay:*:260:260:applepay Account:/var/db/applepay:/usr/bin/false\\n',\n",
       " '_hidd:*:261:261:HID Service User:/var/db/hidd:/usr/bin/false\\n',\n",
       " '_cmiodalassistants:*:262:262:CoreMedia IO Assistants User:/var/db/cmiodalassistants:/usr/bin/false\\n',\n",
       " '_analyticsd:*:263:263:Analytics Daemon:/var/db/analyticsd:/usr/bin/false\\n',\n",
       " '_fpsd:*:265:265:FPS Daemon:/var/db/fpsd:/usr/bin/false\\n',\n",
       " '_timed:*:266:266:Time Sync Daemon:/var/db/timed:/usr/bin/false\\n',\n",
       " '_nearbyd:*:268:268:Proximity and Ranging Daemon:/var/db/nearbyd:/usr/bin/false\\n',\n",
       " '_reportmemoryexception:*:269:269:ReportMemoryException:/var/db/reportmemoryexception:/usr/bin/false\\n',\n",
       " '_driverkit:*:270:270:DriverKit:/var/empty:/usr/bin/false\\n',\n",
       " '_diskimagesiod:*:271:271:DiskImages IO Daemon:/var/db/diskimagesiod:/usr/bin/false\\n',\n",
       " '_logd:*:272:272:Log Daemon:/var/db/diagnostics:/usr/bin/false\\n',\n",
       " '_appinstalld:*:273:273:App Install Daemon:/var/db/appinstalld:/usr/bin/false\\n',\n",
       " '_installcoordinationd:*:274:274:Install Coordination Daemon:/var/db/installcoordinationd:/usr/bin/false\\n',\n",
       " '_demod:*:275:275:Demo Daemon:/var/empty:/usr/bin/false\\n',\n",
       " '_rmd:*:277:277:Remote Management Daemon:/var/db/rmd:/usr/bin/false\\n',\n",
       " '_accessoryupdater:*:278:278:Accessory Update Daemon:/var/db/accessoryupdater:/usr/bin/false\\n',\n",
       " '_knowledgegraphd:*:279:279:Knowledge Graph Daemon:/var/db/knowledgegraphd:/usr/bin/false\\n',\n",
       " '_coreml:*:280:280:CoreML Services:/var/empty:/usr/bin/false\\n',\n",
       " '_sntpd:*:281:281:SNTP Server Daemon:/var/empty:/usr/bin/false\\n',\n",
       " '_trustd:*:282:282:trustd:/var/empty:/usr/bin/false\\n',\n",
       " '_darwindaemon:*:284:284:Darwin Daemon:/var/db/darwindaemon:/usr/bin/false\\n',\n",
       " '_notification_proxy:*:285:285:Notification Proxy:/var/empty:/usr/bin/false\\n',\n",
       " '_oahd:*:441:441:OAH Daemon:/var/empty:/usr/bin/false\\n']"
      ]
     },
     "execution_count": 35,
     "metadata": {},
     "output_type": "execute_result"
    }
   ],
   "source": [
    "# use a comprehension on a file, and we get one (string) element for each line in the file\n",
    "\n",
    "[one_line\n",
    " for one_line in open('/etc/passwd')]"
   ]
  },
  {
   "cell_type": "code",
   "execution_count": 39,
   "id": "fa3e2ddb",
   "metadata": {},
   "outputs": [
    {
     "data": {
      "text/plain": [
       "['nobody',\n",
       " 'root',\n",
       " 'daemon',\n",
       " '_uucp',\n",
       " '_taskgated',\n",
       " '_networkd',\n",
       " '_installassistant',\n",
       " '_lp',\n",
       " '_postfix',\n",
       " '_scsd',\n",
       " '_ces',\n",
       " '_appstore',\n",
       " '_mcxalr',\n",
       " '_appleevents',\n",
       " '_geod',\n",
       " '_devdocs',\n",
       " '_sandbox',\n",
       " '_mdnsresponder',\n",
       " '_ard',\n",
       " '_www',\n",
       " '_eppc',\n",
       " '_cvs',\n",
       " '_svn',\n",
       " '_mysql',\n",
       " '_sshd',\n",
       " '_qtss',\n",
       " '_cyrus',\n",
       " '_mailman',\n",
       " '_appserver',\n",
       " '_clamav',\n",
       " '_amavisd',\n",
       " '_jabber',\n",
       " '_appowner',\n",
       " '_windowserver',\n",
       " '_spotlight',\n",
       " '_tokend',\n",
       " '_securityagent',\n",
       " '_calendar',\n",
       " '_teamsserver',\n",
       " '_update_sharing',\n",
       " '_installer',\n",
       " '_atsserver',\n",
       " '_ftp',\n",
       " '_unknown',\n",
       " '_softwareupdate',\n",
       " '_coreaudiod',\n",
       " '_screensaver',\n",
       " '_locationd',\n",
       " '_trustevaluationagent',\n",
       " '_timezone',\n",
       " '_lda',\n",
       " '_cvmsroot',\n",
       " '_usbmuxd',\n",
       " '_dovecot',\n",
       " '_dpaudio',\n",
       " '_postgres',\n",
       " '_krbtgt',\n",
       " '_kadmin_admin',\n",
       " '_kadmin_changepw',\n",
       " '_devicemgr',\n",
       " '_webauthserver',\n",
       " '_netbios',\n",
       " '_warmd',\n",
       " '_dovenull',\n",
       " '_netstatistics',\n",
       " '_avbdeviced',\n",
       " '_krb_krbtgt',\n",
       " '_krb_kadmin',\n",
       " '_krb_changepw',\n",
       " '_krb_kerberos',\n",
       " '_krb_anonymous',\n",
       " '_assetcache',\n",
       " '_coremediaiod',\n",
       " '_launchservicesd',\n",
       " '_iconservices',\n",
       " '_distnote',\n",
       " '_nsurlsessiond',\n",
       " '_displaypolicyd',\n",
       " '_astris',\n",
       " '_krbfast',\n",
       " '_gamecontrollerd',\n",
       " '_mbsetupuser',\n",
       " '_ondemand',\n",
       " '_xserverdocs',\n",
       " '_wwwproxy',\n",
       " '_mobileasset',\n",
       " '_findmydevice',\n",
       " '_datadetectors',\n",
       " '_captiveagent',\n",
       " '_ctkd',\n",
       " '_applepay',\n",
       " '_hidd',\n",
       " '_cmiodalassistants',\n",
       " '_analyticsd',\n",
       " '_fpsd',\n",
       " '_timed',\n",
       " '_nearbyd',\n",
       " '_reportmemoryexception',\n",
       " '_driverkit',\n",
       " '_diskimagesiod',\n",
       " '_logd',\n",
       " '_appinstalld',\n",
       " '_installcoordinationd',\n",
       " '_demod',\n",
       " '_rmd',\n",
       " '_accessoryupdater',\n",
       " '_knowledgegraphd',\n",
       " '_coreml',\n",
       " '_sntpd',\n",
       " '_trustd',\n",
       " '_darwindaemon',\n",
       " '_notification_proxy',\n",
       " '_oahd']"
      ]
     },
     "execution_count": 39,
     "metadata": {},
     "output_type": "execute_result"
    }
   ],
   "source": [
    "# can I get a list of usernames (strings) from /etc/passwd?\n",
    "\n",
    "[one_line.split(':')[0]                 # map - SELECT turn each line into a list, take index 0 from that list -- username!\n",
    " for one_line in open('/etc/passwd')    # FROM go over the file, one line at a time\n",
    " if not one_line.startswith('#')]       # filter - WHERE"
   ]
  },
  {
   "cell_type": "code",
   "execution_count": 40,
   "id": "477b8222",
   "metadata": {},
   "outputs": [
    {
     "name": "stdout",
     "output_type": "stream",
     "text": [
      "5\r\n",
      "\t10     \r\n",
      "\t20\r\n",
      "  \t3\r\n",
      "\t\t   \t20        \r\n",
      "\r\n",
      " 25\r\n"
     ]
    }
   ],
   "source": [
    "!cat nums.txt"
   ]
  },
  {
   "cell_type": "markdown",
   "id": "bdc4afd5",
   "metadata": {},
   "source": [
    "# Exercise: Adding numbers\n",
    "\n",
    "Read from `nums.txt` in a list comprehension, and sum the numbers.\n",
    "\n",
    "The file is in here: https://files.lerner.co.il/exercise-files.zip"
   ]
  },
  {
   "cell_type": "code",
   "execution_count": 41,
   "id": "21bf7980",
   "metadata": {},
   "outputs": [
    {
     "data": {
      "text/plain": [
       "['5\\n',\n",
       " '\\t10     \\n',\n",
       " '\\t20\\n',\n",
       " '  \\t3\\n',\n",
       " '\\t\\t   \\t20        \\n',\n",
       " '\\n',\n",
       " ' 25\\n']"
      ]
     },
     "execution_count": 41,
     "metadata": {},
     "output_type": "execute_result"
    }
   ],
   "source": [
    "[one_line\n",
    " for one_line in open('nums.txt')]"
   ]
  },
  {
   "cell_type": "code",
   "execution_count": 44,
   "id": "63d9f62f",
   "metadata": {},
   "outputs": [
    {
     "data": {
      "text/plain": [
       "[5, 10, 20, 3, 20, 25]"
      ]
     },
     "execution_count": 44,
     "metadata": {},
     "output_type": "execute_result"
    }
   ],
   "source": [
    "# This  only works because we know there's only one number (maximum) on each line\n",
    "\n",
    "[int(one_line)                      # run int() on the line\n",
    " for one_line in open('nums.txt')   # on each line in nums.txt\n",
    " if one_line.strip().isdigit()]     # but only if the line contains digits after removing whitespace"
   ]
  },
  {
   "cell_type": "code",
   "execution_count": 45,
   "id": "7d9ac2bf",
   "metadata": {},
   "outputs": [
    {
     "data": {
      "text/plain": [
       "83"
      ]
     },
     "execution_count": 45,
     "metadata": {},
     "output_type": "execute_result"
    }
   ],
   "source": [
    "sum([int(one_line)                      # run int() on the line\n",
    " for one_line in open('nums.txt')   # on each line in nums.txt\n",
    " if one_line.strip().isdigit()] )    # but only if the line contains digits after removing whitespace"
   ]
  },
  {
   "cell_type": "code",
   "execution_count": 46,
   "id": "175a07a3",
   "metadata": {},
   "outputs": [],
   "source": [
    "# Resume at 15:00"
   ]
  },
  {
   "cell_type": "code",
   "execution_count": 51,
   "id": "e05caa1f",
   "metadata": {},
   "outputs": [],
   "source": [
    "import random\n",
    "random.seed(0)"
   ]
  },
  {
   "cell_type": "code",
   "execution_count": 52,
   "id": "a552fa74",
   "metadata": {},
   "outputs": [],
   "source": [
    "numbers = [random.randint(-50, 50)  # random int from -50 to 50\n",
    "          for i in range(10)]       # do this 10 times"
   ]
  },
  {
   "cell_type": "code",
   "execution_count": 53,
   "id": "75fc9404",
   "metadata": {},
   "outputs": [
    {
     "data": {
      "text/plain": [
       "[-1, 47, 3, -45, -17, 15, 12, 1, 50, -12]"
      ]
     },
     "execution_count": 53,
     "metadata": {},
     "output_type": "execute_result"
    }
   ],
   "source": [
    "numbers"
   ]
  },
  {
   "cell_type": "code",
   "execution_count": 54,
   "id": "98401535",
   "metadata": {},
   "outputs": [
    {
     "data": {
      "text/plain": [
       "[-45, -17, -12, -1, 1, 3, 12, 15, 47, 50]"
      ]
     },
     "execution_count": 54,
     "metadata": {},
     "output_type": "execute_result"
    }
   ],
   "source": [
    "# how can we sort this list?\n",
    "\n",
    "# option 1 (bad)\n",
    "\n",
    "numbers.sort()  \n",
    "numbers"
   ]
  },
  {
   "cell_type": "markdown",
   "id": "05353c76",
   "metadata": {},
   "source": [
    "Why not use `list.sort`?\n",
    "\n",
    "1. We changed the list itself\n",
    "2. We get `None` back (rather than the list)\n",
    "3. We cannot sort anything other than lists (because it's a list method)."
   ]
  },
  {
   "cell_type": "code",
   "execution_count": 55,
   "id": "8c6b8ecb",
   "metadata": {},
   "outputs": [],
   "source": [
    "random.seed(0)\n",
    "numbers = [random.randint(-50, 50)  # random int from -50 to 50\n",
    "          for i in range(10)]       # do this 10 times"
   ]
  },
  {
   "cell_type": "code",
   "execution_count": 56,
   "id": "dd0f517b",
   "metadata": {},
   "outputs": [
    {
     "data": {
      "text/plain": [
       "[-45, -17, -12, -1, 1, 3, 12, 15, 47, 50]"
      ]
     },
     "execution_count": 56,
     "metadata": {},
     "output_type": "execute_result"
    }
   ],
   "source": [
    "# sorted is a builtin function\n",
    "# considered much better\n",
    "\n",
    "# (1) works on any iterable\n",
    "# (2) doesn't change the input value\n",
    "# (3) always returns a list\n",
    "\n",
    "sorted(numbers)"
   ]
  },
  {
   "cell_type": "code",
   "execution_count": 57,
   "id": "e8db1022",
   "metadata": {},
   "outputs": [
    {
     "data": {
      "text/plain": [
       "[-1, 1, 3, 12, -12, 15, -17, -45, 47, 50]"
      ]
     },
     "execution_count": 57,
     "metadata": {},
     "output_type": "execute_result"
    }
   ],
   "source": [
    "# what if I want to sort them by absolute value?\n",
    "\n",
    "# When sorting, Python checks:\n",
    "\n",
    "# A < B\n",
    "\n",
    "# I want to do this:\n",
    "\n",
    "# abs(A) < abs(B)\n",
    "\n",
    "# We can say, more generally, that we want to check:\n",
    "\n",
    "# f(A) < f(B)\n",
    "\n",
    "# I want to sort numbers\n",
    "# I want to run abs() on each element\n",
    "# Per the return value from abs() I want to sort\n",
    "# But I want the output list to use the original values\n",
    "\n",
    "sorted(numbers, key=abs)    # key=abs -- keyword argument, to which I pass a function "
   ]
  },
  {
   "cell_type": "code",
   "execution_count": 59,
   "id": "ea19cf81",
   "metadata": {},
   "outputs": [],
   "source": [
    "# import numpy as np"
   ]
  },
  {
   "cell_type": "code",
   "execution_count": 60,
   "id": "58eeeb4c",
   "metadata": {},
   "outputs": [],
   "source": [
    "# stable sort -- if two items have the same value, then they remain in the original order, after sorting"
   ]
  },
  {
   "cell_type": "code",
   "execution_count": null,
   "id": "5a662229",
   "metadata": {},
   "outputs": [],
   "source": []
  },
  {
   "cell_type": "code",
   "execution_count": 61,
   "id": "52b9e7be",
   "metadata": {},
   "outputs": [
    {
     "name": "stdout",
     "output_type": "stream",
     "text": [
      "Now examining -1\n",
      "Now examining 47\n",
      "Now examining 3\n",
      "Now examining -45\n",
      "Now examining -17\n",
      "Now examining 15\n",
      "Now examining 12\n",
      "Now examining 1\n",
      "Now examining 50\n",
      "Now examining -12\n"
     ]
    },
    {
     "data": {
      "text/plain": [
       "[-1, 1, 3, 12, -12, 15, -17, -45, 47, 50]"
      ]
     },
     "execution_count": 61,
     "metadata": {},
     "output_type": "execute_result"
    }
   ],
   "source": [
    "def by_loud_abs(one_number):\n",
    "    print(f'Now examining {one_number}')\n",
    "    return abs(one_number)\n",
    "\n",
    "sorted(numbers, key=by_loud_abs)"
   ]
  },
  {
   "cell_type": "code",
   "execution_count": 62,
   "id": "c4e06851",
   "metadata": {},
   "outputs": [],
   "source": [
    "words = \"This is a bunch of words for my Python course at Western Digital\".split()"
   ]
  },
  {
   "cell_type": "code",
   "execution_count": 63,
   "id": "201d513b",
   "metadata": {},
   "outputs": [
    {
     "data": {
      "text/plain": [
       "['Digital',\n",
       " 'Python',\n",
       " 'This',\n",
       " 'Western',\n",
       " 'a',\n",
       " 'at',\n",
       " 'bunch',\n",
       " 'course',\n",
       " 'for',\n",
       " 'is',\n",
       " 'my',\n",
       " 'of',\n",
       " 'words']"
      ]
     },
     "execution_count": 63,
     "metadata": {},
     "output_type": "execute_result"
    }
   ],
   "source": [
    "sorted(words)"
   ]
  },
  {
   "cell_type": "code",
   "execution_count": 64,
   "id": "383634ae",
   "metadata": {},
   "outputs": [
    {
     "data": {
      "text/plain": [
       "['a',\n",
       " 'at',\n",
       " 'bunch',\n",
       " 'course',\n",
       " 'Digital',\n",
       " 'for',\n",
       " 'is',\n",
       " 'my',\n",
       " 'of',\n",
       " 'Python',\n",
       " 'This',\n",
       " 'Western',\n",
       " 'words']"
      ]
     },
     "execution_count": 64,
     "metadata": {},
     "output_type": "execute_result"
    }
   ],
   "source": [
    "sorted(words, key=str.lower)"
   ]
  },
  {
   "cell_type": "markdown",
   "id": "a2df1bfd",
   "metadata": {},
   "source": [
    "# Two Exercises with sorting\n",
    "\n",
    "1. Ask the user to enter a sentence.\n",
    "    - Sort the words by their lengths, with shorter words first and then longer words.\n",
    "    - Sort the words by the number of vowels (a, e, i, o, u) in each word"
   ]
  },
  {
   "cell_type": "code",
   "execution_count": 65,
   "id": "9d497e38",
   "metadata": {},
   "outputs": [
    {
     "name": "stdout",
     "output_type": "stream",
     "text": [
      "Enter a sentence: this is a fantastic and wonderful and terrific and supremely long sentence\n"
     ]
    }
   ],
   "source": [
    "s = input('Enter a sentence: ').strip()"
   ]
  },
  {
   "cell_type": "code",
   "execution_count": 66,
   "id": "236020be",
   "metadata": {},
   "outputs": [
    {
     "data": {
      "text/plain": [
       "['a',\n",
       " 'and',\n",
       " 'and',\n",
       " 'and',\n",
       " 'fantastic',\n",
       " 'is',\n",
       " 'long',\n",
       " 'sentence',\n",
       " 'supremely',\n",
       " 'terrific',\n",
       " 'this',\n",
       " 'wonderful']"
      ]
     },
     "execution_count": 66,
     "metadata": {},
     "output_type": "execute_result"
    }
   ],
   "source": [
    "sorted(s.split())"
   ]
  },
  {
   "cell_type": "code",
   "execution_count": 70,
   "id": "7548b9c4",
   "metadata": {},
   "outputs": [
    {
     "data": {
      "text/plain": [
       "['a',\n",
       " 'is',\n",
       " 'and',\n",
       " 'and',\n",
       " 'and',\n",
       " 'this',\n",
       " 'long',\n",
       " 'terrific',\n",
       " 'sentence',\n",
       " 'fantastic',\n",
       " 'wonderful',\n",
       " 'supremely']"
      ]
     },
     "execution_count": 70,
     "metadata": {},
     "output_type": "execute_result"
    }
   ],
   "source": [
    "sorted(s.split(),  # sequence/iterable whose elements we want to sort\n",
    "       key=len)    # what function do we want to invoke on each element?"
   ]
  },
  {
   "cell_type": "code",
   "execution_count": 72,
   "id": "680908f5",
   "metadata": {},
   "outputs": [
    {
     "name": "stdout",
     "output_type": "stream",
     "text": [
      "this: 1\n",
      "is: 1\n",
      "a: 1\n",
      "fantastic: 3\n",
      "and: 1\n",
      "wonderful: 3\n",
      "and: 1\n",
      "terrific: 3\n",
      "and: 1\n",
      "supremely: 3\n",
      "long: 1\n",
      "sentence: 3\n"
     ]
    },
    {
     "data": {
      "text/plain": [
       "['this',\n",
       " 'is',\n",
       " 'a',\n",
       " 'and',\n",
       " 'and',\n",
       " 'and',\n",
       " 'long',\n",
       " 'fantastic',\n",
       " 'wonderful',\n",
       " 'terrific',\n",
       " 'supremely',\n",
       " 'sentence']"
      ]
     },
     "execution_count": 72,
     "metadata": {},
     "output_type": "execute_result"
    }
   ],
   "source": [
    "def by_vowel_count(one_word):\n",
    "    total = 0\n",
    "    \n",
    "    for one_character in one_word:\n",
    "        if one_character in 'aeiou':\n",
    "            total += 1\n",
    "            \n",
    "    print(f'{one_word}: {total}')\n",
    "            \n",
    "    return total\n",
    "\n",
    "sorted(s.split(),\n",
    "      key=by_vowel_count)"
   ]
  },
  {
   "cell_type": "code",
   "execution_count": 74,
   "id": "46f78637",
   "metadata": {},
   "outputs": [
    {
     "data": {
      "text/plain": [
       "['#\\n',\n",
       " '# \\n',\n",
       " '# Note that this file is consulted directly only when the system is running\\n',\n",
       " '# Open Directory.\\n',\n",
       " '# Open Directory.\\n',\n",
       " '# See the opendirectoryd(8) man page for additional information about\\n',\n",
       " '# User Database\\n',\n",
       " '# in single-user mode.  At other times this information is provided by\\n',\n",
       " '##\\n',\n",
       " '##\\n',\n",
       " '_accessoryupdater:*:278:278:Accessory Update Daemon:/var/db/accessoryupdater:/usr/bin/false\\n',\n",
       " '_amavisd:*:83:83:AMaViS Daemon:/var/virusmails:/usr/bin/false\\n',\n",
       " '_analyticsd:*:263:263:Analytics Daemon:/var/db/analyticsd:/usr/bin/false\\n',\n",
       " '_appinstalld:*:273:273:App Install Daemon:/var/db/appinstalld:/usr/bin/false\\n',\n",
       " '_appleevents:*:55:55:AppleEvents Daemon:/var/empty:/usr/bin/false\\n',\n",
       " '_applepay:*:260:260:applepay Account:/var/db/applepay:/usr/bin/false\\n',\n",
       " '_appowner:*:87:87:Application Owner:/var/empty:/usr/bin/false\\n',\n",
       " '_appserver:*:79:79:Application Server:/var/empty:/usr/bin/false\\n',\n",
       " '_appstore:*:33:33:Mac App Store Service:/var/db/appstore:/usr/bin/false\\n',\n",
       " '_ard:*:67:67:Apple Remote Desktop:/var/empty:/usr/bin/false\\n',\n",
       " '_assetcache:*:235:235:Asset Cache Service:/var/empty:/usr/bin/false\\n',\n",
       " '_astris:*:245:245:Astris Services:/var/db/astris:/usr/bin/false\\n',\n",
       " '_atsserver:*:97:97:ATS Server:/var/empty:/usr/bin/false\\n',\n",
       " '_avbdeviced:*:229:-2:Ethernet AVB Device Daemon:/var/empty:/usr/bin/false\\n',\n",
       " '_calendar:*:93:93:Calendar:/var/empty:/usr/bin/false\\n',\n",
       " '_captiveagent:*:258:258:captiveagent:/var/empty:/usr/bin/false\\n',\n",
       " '_ces:*:32:32:Certificate Enrollment Service:/var/empty:/usr/bin/false\\n',\n",
       " '_clamav:*:82:82:ClamAV Daemon:/var/virusmails:/usr/bin/false\\n',\n",
       " '_cmiodalassistants:*:262:262:CoreMedia IO Assistants User:/var/db/cmiodalassistants:/usr/bin/false\\n',\n",
       " '_coreaudiod:*:202:202:Core Audio Daemon:/var/empty:/usr/bin/false\\n',\n",
       " '_coremediaiod:*:236:236:Core Media IO Daemon:/var/empty:/usr/bin/false\\n',\n",
       " '_coreml:*:280:280:CoreML Services:/var/empty:/usr/bin/false\\n',\n",
       " '_ctkd:*:259:259:ctkd Account:/var/empty:/usr/bin/false\\n',\n",
       " '_cvmsroot:*:212:212:CVMS Root:/var/empty:/usr/bin/false\\n',\n",
       " '_cvs:*:72:72:CVS Server:/var/empty:/usr/bin/false\\n',\n",
       " '_cyrus:*:77:6:Cyrus Administrator:/var/imap:/usr/bin/false\\n',\n",
       " '_darwindaemon:*:284:284:Darwin Daemon:/var/db/darwindaemon:/usr/bin/false\\n',\n",
       " '_datadetectors:*:257:257:DataDetectors:/var/db/datadetectors:/usr/bin/false\\n',\n",
       " '_demod:*:275:275:Demo Daemon:/var/empty:/usr/bin/false\\n',\n",
       " '_devdocs:*:59:59:Developer Documentation:/var/empty:/usr/bin/false\\n',\n",
       " '_devicemgr:*:220:220:Device Management Server:/var/empty:/usr/bin/false\\n',\n",
       " '_diskimagesiod:*:271:271:DiskImages IO Daemon:/var/db/diskimagesiod:/usr/bin/false\\n',\n",
       " '_displaypolicyd:*:244:244:Display Policy Daemon:/var/empty:/usr/bin/false\\n',\n",
       " '_distnote:*:241:241:DistNote:/var/empty:/usr/bin/false\\n',\n",
       " '_dovecot:*:214:6:Dovecot Administrator:/var/empty:/usr/bin/false\\n',\n",
       " '_dovenull:*:227:227:Dovecot Authentication:/var/empty:/usr/bin/false\\n',\n",
       " '_dpaudio:*:215:215:DP Audio:/var/empty:/usr/bin/false\\n',\n",
       " '_driverkit:*:270:270:DriverKit:/var/empty:/usr/bin/false\\n',\n",
       " '_eppc:*:71:71:Apple Events User:/var/empty:/usr/bin/false\\n',\n",
       " '_findmydevice:*:254:254:Find My Device Daemon:/var/db/findmydevice:/usr/bin/false\\n',\n",
       " '_fpsd:*:265:265:FPS Daemon:/var/db/fpsd:/usr/bin/false\\n',\n",
       " '_ftp:*:98:-2:FTP Daemon:/var/empty:/usr/bin/false\\n',\n",
       " '_gamecontrollerd:*:247:247:Game Controller Daemon:/var/empty:/usr/bin/false\\n',\n",
       " '_geod:*:56:56:Geo Services Daemon:/var/db/geod:/usr/bin/false\\n',\n",
       " '_hidd:*:261:261:HID Service User:/var/db/hidd:/usr/bin/false\\n',\n",
       " '_iconservices:*:240:240:IconServices:/var/empty:/usr/bin/false\\n',\n",
       " '_installassistant:*:25:25:Install Assistant:/var/empty:/usr/bin/false\\n',\n",
       " '_installcoordinationd:*:274:274:Install Coordination Daemon:/var/db/installcoordinationd:/usr/bin/false\\n',\n",
       " '_installer:*:96:-2:Installer:/var/empty:/usr/bin/false\\n',\n",
       " '_jabber:*:84:84:Jabber XMPP Server:/var/empty:/usr/bin/false\\n',\n",
       " '_kadmin_admin:*:218:-2:Kerberos Admin Service:/var/empty:/usr/bin/false\\n',\n",
       " '_kadmin_changepw:*:219:-2:Kerberos Change Password Service:/var/empty:/usr/bin/false\\n',\n",
       " '_knowledgegraphd:*:279:279:Knowledge Graph Daemon:/var/db/knowledgegraphd:/usr/bin/false\\n',\n",
       " '_krb_anonymous:*:234:-2:Open Directory Kerberos Anonymous:/var/empty:/usr/bin/false\\n',\n",
       " '_krb_changepw:*:232:-2:Open Directory Kerberos Change Password Service:/var/empty:/usr/bin/false\\n',\n",
       " '_krb_kadmin:*:231:-2:Open Directory Kerberos Admin Service:/var/empty:/usr/bin/false\\n',\n",
       " '_krb_kerberos:*:233:-2:Open Directory Kerberos:/var/empty:/usr/bin/false\\n',\n",
       " '_krb_krbtgt:*:230:-2:Open Directory Kerberos Ticket Granting Ticket:/var/empty:/usr/bin/false\\n',\n",
       " '_krbfast:*:246:-2:Kerberos FAST Account:/var/empty:/usr/bin/false\\n',\n",
       " '_krbtgt:*:217:-2:Kerberos Ticket Granting Ticket:/var/empty:/usr/bin/false\\n',\n",
       " '_launchservicesd:*:239:239:_launchservicesd:/var/empty:/usr/bin/false\\n',\n",
       " '_lda:*:211:211:Local Delivery Agent:/var/empty:/usr/bin/false\\n',\n",
       " '_locationd:*:205:205:Location Daemon:/var/db/locationd:/usr/bin/false\\n',\n",
       " '_logd:*:272:272:Log Daemon:/var/db/diagnostics:/usr/bin/false\\n',\n",
       " '_lp:*:26:26:Printing Services:/var/spool/cups:/usr/bin/false\\n',\n",
       " '_mailman:*:78:78:Mailman List Server:/var/empty:/usr/bin/false\\n',\n",
       " '_mbsetupuser:*:248:248:Setup User:/var/setup:/bin/bash\\n',\n",
       " '_mcxalr:*:54:54:MCX AppLaunch:/var/empty:/usr/bin/false\\n',\n",
       " '_mdnsresponder:*:65:65:mDNSResponder:/var/empty:/usr/bin/false\\n',\n",
       " '_mobileasset:*:253:253:MobileAsset User:/var/ma:/usr/bin/false\\n',\n",
       " '_mysql:*:74:74:MySQL Server:/var/empty:/usr/bin/false\\n',\n",
       " '_nearbyd:*:268:268:Proximity and Ranging Daemon:/var/db/nearbyd:/usr/bin/false\\n',\n",
       " '_netbios:*:222:222:NetBIOS:/var/empty:/usr/bin/false\\n',\n",
       " '_netstatistics:*:228:228:Network Statistics Daemon:/var/empty:/usr/bin/false\\n',\n",
       " '_networkd:*:24:24:Network Services:/var/networkd:/usr/bin/false\\n',\n",
       " '_notification_proxy:*:285:285:Notification Proxy:/var/empty:/usr/bin/false\\n',\n",
       " '_nsurlsessiond:*:242:242:NSURLSession Daemon:/var/db/nsurlsessiond:/usr/bin/false\\n',\n",
       " '_oahd:*:441:441:OAH Daemon:/var/empty:/usr/bin/false\\n',\n",
       " '_ondemand:*:249:249:On Demand Resource Daemon:/var/db/ondemand:/usr/bin/false\\n',\n",
       " '_postfix:*:27:27:Postfix Mail Server:/var/spool/postfix:/usr/bin/false\\n',\n",
       " '_postgres:*:216:216:PostgreSQL Server:/var/empty:/usr/bin/false\\n',\n",
       " '_qtss:*:76:76:QuickTime Streaming Server:/var/empty:/usr/bin/false\\n',\n",
       " '_reportmemoryexception:*:269:269:ReportMemoryException:/var/db/reportmemoryexception:/usr/bin/false\\n',\n",
       " '_rmd:*:277:277:Remote Management Daemon:/var/db/rmd:/usr/bin/false\\n',\n",
       " '_sandbox:*:60:60:Seatbelt:/var/empty:/usr/bin/false\\n',\n",
       " '_screensaver:*:203:203:Screensaver:/var/empty:/usr/bin/false\\n',\n",
       " '_scsd:*:31:31:Service Configuration Service:/var/empty:/usr/bin/false\\n',\n",
       " '_securityagent:*:92:92:SecurityAgent:/var/db/securityagent:/usr/bin/false\\n',\n",
       " '_sntpd:*:281:281:SNTP Server Daemon:/var/empty:/usr/bin/false\\n',\n",
       " '_softwareupdate:*:200:200:Software Update Service:/var/db/softwareupdate:/usr/bin/false\\n',\n",
       " '_spotlight:*:89:89:Spotlight:/var/empty:/usr/bin/false\\n',\n",
       " '_sshd:*:75:75:sshd Privilege separation:/var/empty:/usr/bin/false\\n',\n",
       " '_svn:*:73:73:SVN Server:/var/empty:/usr/bin/false\\n',\n",
       " '_taskgated:*:13:13:Task Gate Daemon:/var/empty:/usr/bin/false\\n',\n",
       " '_teamsserver:*:94:94:TeamsServer:/var/teamsserver:/usr/bin/false\\n',\n",
       " '_timed:*:266:266:Time Sync Daemon:/var/db/timed:/usr/bin/false\\n',\n",
       " '_timezone:*:210:210:AutoTimeZoneDaemon:/var/empty:/usr/bin/false\\n',\n",
       " '_tokend:*:91:91:Token Daemon:/var/empty:/usr/bin/false\\n',\n",
       " '_trustd:*:282:282:trustd:/var/empty:/usr/bin/false\\n',\n",
       " '_trustevaluationagent:*:208:208:Trust Evaluation Agent:/var/empty:/usr/bin/false\\n',\n",
       " '_unknown:*:99:99:Unknown User:/var/empty:/usr/bin/false\\n',\n",
       " '_update_sharing:*:95:-2:Update Sharing:/var/empty:/usr/bin/false\\n',\n",
       " '_usbmuxd:*:213:213:iPhone OS Device Helper:/var/db/lockdown:/usr/bin/false\\n',\n",
       " '_uucp:*:4:4:Unix to Unix Copy Protocol:/var/spool/uucp:/usr/sbin/uucico\\n',\n",
       " '_warmd:*:224:224:Warm Daemon:/var/empty:/usr/bin/false\\n',\n",
       " '_webauthserver:*:221:221:Web Auth Server:/var/empty:/usr/bin/false\\n',\n",
       " '_windowserver:*:88:88:WindowServer:/var/empty:/usr/bin/false\\n',\n",
       " '_www:*:70:70:World Wide Web Server:/Library/WebServer:/usr/bin/false\\n',\n",
       " '_wwwproxy:*:252:252:WWW Proxy:/var/empty:/usr/bin/false\\n',\n",
       " '_xserverdocs:*:251:251:macOS Server Documents Service:/var/empty:/usr/bin/false\\n',\n",
       " 'daemon:*:1:1:System Services:/var/root:/usr/bin/false\\n',\n",
       " 'nobody:*:-2:-2:Unprivileged User:/var/empty:/usr/bin/false\\n',\n",
       " 'root:*:0:0:System Administrator:/var/root:/bin/sh\\n']"
      ]
     },
     "execution_count": 74,
     "metadata": {},
     "output_type": "execute_result"
    }
   ],
   "source": [
    "sorted(open('/etc/passwd'))"
   ]
  },
  {
   "cell_type": "code",
   "execution_count": 86,
   "id": "d3175358",
   "metadata": {},
   "outputs": [],
   "source": [
    "mylist = [[random.randint(0, 10) for i in range(5)],\n",
    "          [random.randint(0, 10) for i in range(5)],\n",
    "          [random.randint(0, 10) for i in range(5)],\n",
    "          [random.randint(0, 10) for i in range(5)],\n",
    "          [random.randint(0, 10) for i in range(5)],\n",
    "          [random.randint(0, 10) for i in range(5)],\n",
    "          [random.randint(0, 10) for i in range(5)],\n",
    "          [random.randint(0, 10) for i in range(5)],\n",
    "          [random.randint(0, 10) for i in range(5)],\n",
    "          ]"
   ]
  },
  {
   "cell_type": "code",
   "execution_count": 87,
   "id": "03301d1e",
   "metadata": {},
   "outputs": [
    {
     "data": {
      "text/plain": [
       "[[3, 9, 3, 3, 2],\n",
       " [8, 7, 1, 1, 5],\n",
       " [8, 7, 1, 4, 8],\n",
       " [4, 1, 8, 5, 8],\n",
       " [3, 9, 8, 9, 4],\n",
       " [7, 1, 9, 6, 5],\n",
       " [9, 3, 4, 2, 3],\n",
       " [2, 0, 9, 10, 4],\n",
       " [7, 1, 1, 10, 2]]"
      ]
     },
     "execution_count": 87,
     "metadata": {},
     "output_type": "execute_result"
    }
   ],
   "source": [
    "mylist"
   ]
  },
  {
   "cell_type": "code",
   "execution_count": 88,
   "id": "f3ae3c8a",
   "metadata": {},
   "outputs": [
    {
     "data": {
      "text/plain": [
       "[[2, 0, 9, 10, 4],\n",
       " [3, 9, 3, 3, 2],\n",
       " [3, 9, 8, 9, 4],\n",
       " [4, 1, 8, 5, 8],\n",
       " [7, 1, 1, 10, 2],\n",
       " [7, 1, 9, 6, 5],\n",
       " [8, 7, 1, 1, 5],\n",
       " [8, 7, 1, 4, 8],\n",
       " [9, 3, 4, 2, 3]]"
      ]
     },
     "execution_count": 88,
     "metadata": {},
     "output_type": "execute_result"
    }
   ],
   "source": [
    "sorted(mylist)"
   ]
  },
  {
   "cell_type": "code",
   "execution_count": 89,
   "id": "735a1e54",
   "metadata": {},
   "outputs": [
    {
     "data": {
      "text/plain": [
       "[[3, 9, 3, 3, 2],\n",
       " [9, 3, 4, 2, 3],\n",
       " [7, 1, 1, 10, 2],\n",
       " [8, 7, 1, 1, 5],\n",
       " [2, 0, 9, 10, 4],\n",
       " [4, 1, 8, 5, 8],\n",
       " [8, 7, 1, 4, 8],\n",
       " [7, 1, 9, 6, 5],\n",
       " [3, 9, 8, 9, 4]]"
      ]
     },
     "execution_count": 89,
     "metadata": {},
     "output_type": "execute_result"
    }
   ],
   "source": [
    "sorted(mylist, key=sum)"
   ]
  },
  {
   "cell_type": "code",
   "execution_count": 92,
   "id": "9a9825f7",
   "metadata": {},
   "outputs": [],
   "source": [
    "movies =[ {'name': 'Spotlight', 'min':129, 'dir':'Tom McCarthy'},\n",
    "         {'name': 'The Big Short', 'min':130, 'dir':'Adam McKay'},\n",
    "        {'name': 'The Martian', 'min':141, 'dir': 'Ridley Scott'}]\n"
   ]
  },
  {
   "cell_type": "code",
   "execution_count": 93,
   "id": "564e889d",
   "metadata": {},
   "outputs": [
    {
     "ename": "TypeError",
     "evalue": "'<' not supported between instances of 'dict' and 'dict'",
     "output_type": "error",
     "traceback": [
      "\u001b[0;31m---------------------------------------------------------------------------\u001b[0m",
      "\u001b[0;31mTypeError\u001b[0m                                 Traceback (most recent call last)",
      "\u001b[0;32m/var/folders/rr/0mnyyv811fs5vyp22gf4fxk00000gn/T/ipykernel_86479/2102557793.py\u001b[0m in \u001b[0;36m<module>\u001b[0;34m\u001b[0m\n\u001b[0;32m----> 1\u001b[0;31m \u001b[0msorted\u001b[0m\u001b[0;34m(\u001b[0m\u001b[0mmovies\u001b[0m\u001b[0;34m)\u001b[0m\u001b[0;34m\u001b[0m\u001b[0;34m\u001b[0m\u001b[0m\n\u001b[0m",
      "\u001b[0;31mTypeError\u001b[0m: '<' not supported between instances of 'dict' and 'dict'"
     ]
    }
   ],
   "source": [
    "sorted(movies)"
   ]
  },
  {
   "cell_type": "code",
   "execution_count": 94,
   "id": "f3f915f6",
   "metadata": {},
   "outputs": [
    {
     "data": {
      "text/plain": [
       "[{'name': 'Spotlight', 'min': 129, 'dir': 'Tom McCarthy'},\n",
       " {'name': 'The Big Short', 'min': 130, 'dir': 'Adam McKay'},\n",
       " {'name': 'The Martian', 'min': 141, 'dir': 'Ridley Scott'}]"
      ]
     },
     "execution_count": 94,
     "metadata": {},
     "output_type": "execute_result"
    }
   ],
   "source": [
    "def by_name(one_movie):\n",
    "    return one_movie['name']\n",
    "\n",
    "sorted(movies, key=by_name)"
   ]
  },
  {
   "cell_type": "code",
   "execution_count": 96,
   "id": "5e3d9cbe",
   "metadata": {},
   "outputs": [
    {
     "data": {
      "text/plain": [
       "[{'name': 'The Big Short', 'min': 130, 'dir': 'Adam McKay'},\n",
       " {'name': 'The Martian', 'min': 141, 'dir': 'Ridley Scott'},\n",
       " {'name': 'Spotlight', 'min': 129, 'dir': 'Tom McCarthy'}]"
      ]
     },
     "execution_count": 96,
     "metadata": {},
     "output_type": "execute_result"
    }
   ],
   "source": [
    "def by_director(one_movie):\n",
    "    return one_movie['dir']\n",
    "\n",
    "sorted(movies, key=by_director)"
   ]
  },
  {
   "cell_type": "code",
   "execution_count": 97,
   "id": "bb1d2cd9",
   "metadata": {},
   "outputs": [
    {
     "data": {
      "text/plain": [
       "[{'name': 'Spotlight', 'min': 129, 'dir': 'Tom McCarthy'},\n",
       " {'name': 'The Big Short', 'min': 130, 'dir': 'Adam McKay'},\n",
       " {'name': 'The Martian', 'min': 141, 'dir': 'Ridley Scott'}]"
      ]
     },
     "execution_count": 97,
     "metadata": {},
     "output_type": "execute_result"
    }
   ],
   "source": [
    "def by_director(one_movie):\n",
    "    return one_movie['dir'].split()[::-1]   # turn the director's name into a list, and reverse it\n",
    "\n",
    "sorted(movies, key=by_director)"
   ]
  },
  {
   "cell_type": "code",
   "execution_count": 98,
   "id": "925d0ed8",
   "metadata": {},
   "outputs": [],
   "source": [
    "import random"
   ]
  },
  {
   "cell_type": "markdown",
   "id": "e5a774c3",
   "metadata": {},
   "source": [
    "# Modules\n",
    "\n",
    "Modules have two purposes in Python:\n",
    "\n",
    "1. Libraries of reusable code\n",
    "2. Namespaces"
   ]
  },
  {
   "cell_type": "code",
   "execution_count": 99,
   "id": "e72def9c",
   "metadata": {},
   "outputs": [
    {
     "data": {
      "text/plain": [
       "19"
      ]
     },
     "execution_count": 99,
     "metadata": {},
     "output_type": "execute_result"
    }
   ],
   "source": [
    "random.randint(0, 100)"
   ]
  },
  {
   "cell_type": "markdown",
   "id": "3bc175ab",
   "metadata": {},
   "source": [
    "# What does `import` do?\n",
    "\n",
    "1. Creates a module object (based on a file)\n",
    "2. Assigns the module object to the named variable"
   ]
  },
  {
   "cell_type": "code",
   "execution_count": 100,
   "id": "ba906a72",
   "metadata": {},
   "outputs": [],
   "source": [
    "import random"
   ]
  },
  {
   "cell_type": "code",
   "execution_count": 101,
   "id": "0ae30188",
   "metadata": {},
   "outputs": [
    {
     "data": {
      "text/plain": [
       "module"
      ]
     },
     "execution_count": 101,
     "metadata": {},
     "output_type": "execute_result"
    }
   ],
   "source": [
    "type(random)"
   ]
  },
  {
   "cell_type": "code",
   "execution_count": 102,
   "id": "0242233c",
   "metadata": {},
   "outputs": [
    {
     "data": {
      "text/plain": [
       "4"
      ]
     },
     "execution_count": 102,
     "metadata": {},
     "output_type": "execute_result"
    }
   ],
   "source": [
    "random.randint(0, 100)"
   ]
  },
  {
   "cell_type": "code",
   "execution_count": 103,
   "id": "8068d153",
   "metadata": {},
   "outputs": [
    {
     "data": {
      "text/plain": [
       "<module 'random' from '/usr/local/Cellar/python@3.10/3.10.5/Frameworks/Python.framework/Versions/3.10/lib/python3.10/random.py'>"
      ]
     },
     "execution_count": 103,
     "metadata": {},
     "output_type": "execute_result"
    }
   ],
   "source": [
    "random  "
   ]
  },
  {
   "cell_type": "code",
   "execution_count": 104,
   "id": "1ac07288",
   "metadata": {},
   "outputs": [
    {
     "data": {
      "text/plain": [
       "['/Users/reuven/Courses/Current/WDC-2022-q3-basic-python',\n",
       " '/usr/local/Cellar/python@3.10/3.10.5/Frameworks/Python.framework/Versions/3.10/lib/python310.zip',\n",
       " '/usr/local/Cellar/python@3.10/3.10.5/Frameworks/Python.framework/Versions/3.10/lib/python3.10',\n",
       " '/usr/local/Cellar/python@3.10/3.10.5/Frameworks/Python.framework/Versions/3.10/lib/python3.10/lib-dynload',\n",
       " '',\n",
       " '/usr/local/lib/python3.10/site-packages',\n",
       " '/usr/local/lib/python3.10/site-packages/IPython/extensions',\n",
       " '/Users/reuven/.ipython']"
      ]
     },
     "execution_count": 104,
     "metadata": {},
     "output_type": "execute_result"
    }
   ],
   "source": [
    "import sys   # Python runtime info\n",
    "sys.path"
   ]
  },
  {
   "cell_type": "code",
   "execution_count": null,
   "id": "b393a224",
   "metadata": {},
   "outputs": [],
   "source": []
  }
 ],
 "metadata": {
  "kernelspec": {
   "display_name": "Python 3 (ipykernel)",
   "language": "python",
   "name": "python3"
  },
  "language_info": {
   "codemirror_mode": {
    "name": "ipython",
    "version": 3
   },
   "file_extension": ".py",
   "mimetype": "text/x-python",
   "name": "python",
   "nbconvert_exporter": "python",
   "pygments_lexer": "ipython3",
   "version": "3.10.5"
  }
 },
 "nbformat": 4,
 "nbformat_minor": 5
}
