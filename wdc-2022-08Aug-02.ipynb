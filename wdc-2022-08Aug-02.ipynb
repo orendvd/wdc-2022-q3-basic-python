{
 "cells": [
  {
   "cell_type": "markdown",
   "id": "7477d286",
   "metadata": {},
   "source": [
    "# Agenda\n",
    "\n",
    "1. List comprehensions\n",
    "2. Sort and custom sort functions\n",
    "3. Modules"
   ]
  },
  {
   "cell_type": "markdown",
   "id": "71279450",
   "metadata": {},
   "source": [
    "# List comprehensions"
   ]
  },
  {
   "cell_type": "markdown",
   "id": "874b0daa",
   "metadata": {},
   "source": [
    "# Functional vs. object\n",
    "\n",
    "Functional programming:\n",
    "1. Treat everything as immutable (as much as possible)\n",
    "2. Don't assign into variables (as much as possible)\n",
    "3. Functions are first-class objects\n",
    "\n",
    "Object-oriented programming:\n",
    "1. Everything has a type (class)\n",
    "2. The type dictates the behavior of the object\n",
    "3. The methods (i.e., functions) are defined on the class\n",
    "4. Inheritance, composition, etc.\n",
    "\n",
    "What is an object? Any value in Python."
   ]
  },
  {
   "cell_type": "code",
   "execution_count": 1,
   "id": "3a8f8414",
   "metadata": {},
   "outputs": [
    {
     "data": {
      "text/plain": [
       "4"
      ]
     },
     "execution_count": 1,
     "metadata": {},
     "output_type": "execute_result"
    }
   ],
   "source": [
    "len('abcd')"
   ]
  },
  {
   "cell_type": "code",
   "execution_count": 2,
   "id": "3ce6308e",
   "metadata": {},
   "outputs": [
    {
     "ename": "TypeError",
     "evalue": "object of type 'int' has no len()",
     "output_type": "error",
     "traceback": [
      "\u001b[0;31m---------------------------------------------------------------------------\u001b[0m",
      "\u001b[0;31mTypeError\u001b[0m                                 Traceback (most recent call last)",
      "\u001b[0;32m/var/folders/rr/0mnyyv811fs5vyp22gf4fxk00000gn/T/ipykernel_86479/4108502181.py\u001b[0m in \u001b[0;36m<module>\u001b[0;34m\u001b[0m\n\u001b[0;32m----> 1\u001b[0;31m \u001b[0mlen\u001b[0m\u001b[0;34m(\u001b[0m\u001b[0;36m5\u001b[0m\u001b[0;34m)\u001b[0m\u001b[0;34m\u001b[0m\u001b[0;34m\u001b[0m\u001b[0m\n\u001b[0m",
      "\u001b[0;31mTypeError\u001b[0m: object of type 'int' has no len()"
     ]
    }
   ],
   "source": [
    "len(5)"
   ]
  },
  {
   "cell_type": "code",
   "execution_count": 3,
   "id": "a8352389",
   "metadata": {},
   "outputs": [
    {
     "data": {
      "text/plain": [
       "[0, 1, 4, 9, 16, 25, 36, 49, 64, 81]"
      ]
     },
     "execution_count": 3,
     "metadata": {},
     "output_type": "execute_result"
    }
   ],
   "source": [
    "# define a list of integers\n",
    "numbers = list(range(10))\n",
    "\n",
    "# I want a list of all these numbers to the 2nd power\n",
    "output = []\n",
    "\n",
    "for one_number in numbers:\n",
    "    output.append(one_number ** 2)\n",
    "    \n",
    "output    "
   ]
  },
  {
   "cell_type": "markdown",
   "id": "f4cdd7a6",
   "metadata": {},
   "source": [
    "# When to use a list comprehension\n",
    "\n",
    "1. If I have a sequence (iterable) as input\n",
    "2. I want a list as output\n",
    "3. There's a Python expression that can translate each element from the first to the second\n",
    "\n"
   ]
  },
  {
   "cell_type": "code",
   "execution_count": 6,
   "id": "3e10af5d",
   "metadata": {},
   "outputs": [],
   "source": [
    "# list comprehension\n",
    "\n",
    "# The output from a list comprehension is a new list\n",
    "\n",
    "output = [one_number ** 2             # output expression, goes into the output list\n",
    "         for one_number in numbers]  # iteration"
   ]
  },
  {
   "cell_type": "code",
   "execution_count": 7,
   "id": "2778f0e4",
   "metadata": {},
   "outputs": [
    {
     "data": {
      "text/plain": [
       "[0, 1, 4, 9, 16, 25, 36, 49, 64, 81]"
      ]
     },
     "execution_count": 7,
     "metadata": {},
     "output_type": "execute_result"
    }
   ],
   "source": [
    "output"
   ]
  },
  {
   "cell_type": "code",
   "execution_count": 13,
   "id": "9d94ec9f",
   "metadata": {},
   "outputs": [
    {
     "data": {
      "text/plain": [
       "'a!bc!def'"
      ]
     },
     "execution_count": 13,
     "metadata": {},
     "output_type": "execute_result"
    }
   ],
   "source": [
    "mylist = ['a', 'bc', 'def']\n",
    "\n",
    "'!'.join(mylist)  # join is a string method, so we can run it on any string -- including '!'"
   ]
  },
  {
   "cell_type": "code",
   "execution_count": 14,
   "id": "3442bf8b",
   "metadata": {},
   "outputs": [
    {
     "ename": "TypeError",
     "evalue": "sequence item 0: expected str instance, int found",
     "output_type": "error",
     "traceback": [
      "\u001b[0;31m---------------------------------------------------------------------------\u001b[0m",
      "\u001b[0;31mTypeError\u001b[0m                                 Traceback (most recent call last)",
      "\u001b[0;32m/var/folders/rr/0mnyyv811fs5vyp22gf4fxk00000gn/T/ipykernel_86479/2717996547.py\u001b[0m in \u001b[0;36m<module>\u001b[0;34m\u001b[0m\n\u001b[1;32m      1\u001b[0m \u001b[0mmylist\u001b[0m \u001b[0;34m=\u001b[0m \u001b[0;34m[\u001b[0m\u001b[0;36m10\u001b[0m\u001b[0;34m,\u001b[0m \u001b[0;36m20\u001b[0m\u001b[0;34m,\u001b[0m \u001b[0;36m30\u001b[0m\u001b[0;34m]\u001b[0m\u001b[0;34m\u001b[0m\u001b[0;34m\u001b[0m\u001b[0m\n\u001b[1;32m      2\u001b[0m \u001b[0;34m\u001b[0m\u001b[0m\n\u001b[0;32m----> 3\u001b[0;31m \u001b[0;34m'!'\u001b[0m\u001b[0;34m.\u001b[0m\u001b[0mjoin\u001b[0m\u001b[0;34m(\u001b[0m\u001b[0mmylist\u001b[0m\u001b[0;34m)\u001b[0m\u001b[0;34m\u001b[0m\u001b[0;34m\u001b[0m\u001b[0m\n\u001b[0m",
      "\u001b[0;31mTypeError\u001b[0m: sequence item 0: expected str instance, int found"
     ]
    }
   ],
   "source": [
    "mylist = [10, 20, 30]\n",
    "\n",
    "'!'.join(mylist)   # join's argument must be a sequence of strings"
   ]
  },
  {
   "cell_type": "code",
   "execution_count": 15,
   "id": "105ed58c",
   "metadata": {},
   "outputs": [
    {
     "data": {
      "text/plain": [
       "['10', '20', '30']"
      ]
     },
     "execution_count": 15,
     "metadata": {},
     "output_type": "execute_result"
    }
   ],
   "source": [
    "# I have: a list of integers\n",
    "# I want: a list of strings\n",
    "# expression that translates one integer to one string: str\n",
    "\n",
    "[str(one_item)            # SELECT expression\n",
    " for one_item in mylist]  # FROM  iteration"
   ]
  },
  {
   "cell_type": "code",
   "execution_count": 16,
   "id": "65bed5f8",
   "metadata": {},
   "outputs": [
    {
     "data": {
      "text/plain": [
       "'10!20!30'"
      ]
     },
     "execution_count": 16,
     "metadata": {},
     "output_type": "execute_result"
    }
   ],
   "source": [
    "'!'.join([str(one_item)                # here, the argument to join is a list of strings -- the new list\n",
    "             for one_item in mylist])"
   ]
  },
  {
   "cell_type": "code",
   "execution_count": 17,
   "id": "07ca55da",
   "metadata": {},
   "outputs": [
    {
     "data": {
      "text/plain": [
       "'This Is A Fantastic Example Sentence For My Course'"
      ]
     },
     "execution_count": 17,
     "metadata": {},
     "output_type": "execute_result"
    }
   ],
   "source": [
    "s = 'this is a fantastic example sentence for my course'\n",
    "\n",
    "s.title()   # returns a new string, every word starts with a capital letter"
   ]
  },
  {
   "cell_type": "code",
   "execution_count": 19,
   "id": "ab8d5f8d",
   "metadata": {},
   "outputs": [
    {
     "data": {
      "text/plain": [
       "['This', 'Is', 'A', 'Fantastic', 'Example', 'Sentence', 'For', 'My', 'Course']"
      ]
     },
     "execution_count": 19,
     "metadata": {},
     "output_type": "execute_result"
    }
   ],
   "source": [
    "# what if I want the same output, but not use title?\n",
    "# I can use str.capitalize -- the first letter is capitalized, the rest are lowercase\n",
    "\n",
    "[one_word.capitalize()\n",
    " for one_word in s.split()]"
   ]
  },
  {
   "cell_type": "code",
   "execution_count": null,
   "id": "b5e2ec28",
   "metadata": {},
   "outputs": [],
   "source": []
  }
 ],
 "metadata": {
  "kernelspec": {
   "display_name": "Python 3 (ipykernel)",
   "language": "python",
   "name": "python3"
  },
  "language_info": {
   "codemirror_mode": {
    "name": "ipython",
    "version": 3
   },
   "file_extension": ".py",
   "mimetype": "text/x-python",
   "name": "python",
   "nbconvert_exporter": "python",
   "pygments_lexer": "ipython3",
   "version": "3.10.5"
  }
 },
 "nbformat": 4,
 "nbformat_minor": 5
}
