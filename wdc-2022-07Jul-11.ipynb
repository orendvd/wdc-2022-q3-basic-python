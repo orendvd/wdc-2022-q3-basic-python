{
 "cells": [
  {
   "cell_type": "markdown",
   "id": "4ece973c",
   "metadata": {},
   "source": [
    "# Agenda\n",
    "\n",
    "1. String methods\n",
    "2. Loops\n",
    "    - `for`\n",
    "    - `while`\n",
    "3. Lists  \n",
    "    - Lists to strings, and back"
   ]
  },
  {
   "cell_type": "code",
   "execution_count": 3,
   "id": "49c4c97b",
   "metadata": {},
   "outputs": [
    {
     "name": "stdout",
     "output_type": "stream",
     "text": [
      "Enter first number: 2\n",
      "Enter second number: 5\n",
      "2 + 5 = 7\n"
     ]
    }
   ],
   "source": [
    "first = input('Enter first number: ')\n",
    "second = input('Enter second number: ')\n",
    "\n",
    "first = int(first)\n",
    "second = int(second)\n",
    "\n",
    "print(f'{first} + {second} = {first+second}')"
   ]
  },
  {
   "cell_type": "code",
   "execution_count": null,
   "id": "cee18aed",
   "metadata": {},
   "outputs": [],
   "source": []
  },
  {
   "cell_type": "code",
   "execution_count": 4,
   "id": "f03a97b9",
   "metadata": {},
   "outputs": [
    {
     "name": "stdout",
     "output_type": "stream",
     "text": [
      "Enter your name: Reuven\n",
      "Hello, Reuven!\n"
     ]
    }
   ],
   "source": [
    "name = input('Enter your name: ')\n",
    "\n",
    "print(f'Hello, {name}!')"
   ]
  },
  {
   "cell_type": "code",
   "execution_count": 5,
   "id": "77862227",
   "metadata": {},
   "outputs": [
    {
     "name": "stdout",
     "output_type": "stream",
     "text": [
      "Enter your name:            Reuven            \n",
      "Hello,            Reuven            !\n"
     ]
    }
   ],
   "source": [
    "name = input('Enter your name: ')\n",
    "\n",
    "print(f'Hello, {name}!')"
   ]
  },
  {
   "cell_type": "code",
   "execution_count": 6,
   "id": "2b36d394",
   "metadata": {},
   "outputs": [
    {
     "data": {
      "text/plain": [
       "'           Reuven            '"
      ]
     },
     "execution_count": 6,
     "metadata": {},
     "output_type": "execute_result"
    }
   ],
   "source": [
    "name"
   ]
  },
  {
   "cell_type": "code",
   "execution_count": 8,
   "id": "93f7b258",
   "metadata": {},
   "outputs": [
    {
     "data": {
      "text/plain": [
       "29"
      ]
     },
     "execution_count": 8,
     "metadata": {},
     "output_type": "execute_result"
    }
   ],
   "source": [
    "len(name)     #  FUNCTION(ARG)"
   ]
  },
  {
   "cell_type": "code",
   "execution_count": 9,
   "id": "8eab8bab",
   "metadata": {},
   "outputs": [
    {
     "data": {
      "text/plain": [
       "'Reuven'"
      ]
     },
     "execution_count": 9,
     "metadata": {},
     "output_type": "execute_result"
    }
   ],
   "source": [
    "# DATA.METHOD()    DATA.METHOD(ARG1, ARG2)\n",
    "\n",
    "name.strip()"
   ]
  },
  {
   "cell_type": "code",
   "execution_count": 10,
   "id": "432f6089",
   "metadata": {},
   "outputs": [
    {
     "data": {
      "text/plain": [
       "'           Reuven            '"
      ]
     },
     "execution_count": 10,
     "metadata": {},
     "output_type": "execute_result"
    }
   ],
   "source": [
    "# strings are immutable -- they cannot be changed!\n",
    "name"
   ]
  },
  {
   "cell_type": "code",
   "execution_count": 11,
   "id": "2f21a6f4",
   "metadata": {},
   "outputs": [],
   "source": [
    "name = name.strip()"
   ]
  },
  {
   "cell_type": "code",
   "execution_count": 12,
   "id": "9da33c68",
   "metadata": {},
   "outputs": [
    {
     "name": "stdout",
     "output_type": "stream",
     "text": [
      "Hello, Reuven!\n"
     ]
    }
   ],
   "source": [
    "print(f'Hello, {name}!')"
   ]
  },
  {
   "cell_type": "code",
   "execution_count": 13,
   "id": "8d2f3e6f",
   "metadata": {},
   "outputs": [
    {
     "name": "stdout",
     "output_type": "stream",
     "text": [
      "Enter your name:     Reuven   \n",
      "Hello, Reuven!\n"
     ]
    }
   ],
   "source": [
    "# option 1: assign back to the variable\n",
    "\n",
    "name = input('Enter your name: ')\n",
    "name = name.strip()\n",
    "\n",
    "print(f'Hello, {name}!')"
   ]
  },
  {
   "cell_type": "code",
   "execution_count": 14,
   "id": "e322d763",
   "metadata": {},
   "outputs": [
    {
     "name": "stdout",
     "output_type": "stream",
     "text": [
      "Enter your name:     Reuven   \n",
      "Hello, Reuven!\n"
     ]
    }
   ],
   "source": [
    "# option 2: run the method inside of the f-string\n",
    "\n",
    "name = input('Enter your name: ')\n",
    "\n",
    "print(f'Hello, {name.strip()}!')"
   ]
  },
  {
   "cell_type": "code",
   "execution_count": 15,
   "id": "547f4155",
   "metadata": {},
   "outputs": [
    {
     "data": {
      "text/plain": [
       "'    Reuven   '"
      ]
     },
     "execution_count": 15,
     "metadata": {},
     "output_type": "execute_result"
    }
   ],
   "source": [
    "name"
   ]
  },
  {
   "cell_type": "code",
   "execution_count": 18,
   "id": "74103059",
   "metadata": {},
   "outputs": [
    {
     "name": "stdout",
     "output_type": "stream",
     "text": [
      "Enter your name: adfgafa\n",
      "Hello, adfgafa!\n"
     ]
    }
   ],
   "source": [
    "name = input('Enter your name: ').strip()\n",
    "\n",
    "print(f'Hello, {name}!')"
   ]
  },
  {
   "cell_type": "code",
   "execution_count": 17,
   "id": "050f5398",
   "metadata": {},
   "outputs": [
    {
     "data": {
      "text/plain": [
       "'Reuven'"
      ]
     },
     "execution_count": 17,
     "metadata": {},
     "output_type": "execute_result"
    }
   ],
   "source": [
    "name"
   ]
  },
  {
   "cell_type": "code",
   "execution_count": 19,
   "id": "4b5fd80e",
   "metadata": {},
   "outputs": [
    {
     "data": {
      "text/plain": [
       "'abcd'"
      ]
     },
     "execution_count": 19,
     "metadata": {},
     "output_type": "execute_result"
    }
   ],
   "source": [
    "s = '   abcd   '\n",
    "s.strip()"
   ]
  },
  {
   "cell_type": "code",
   "execution_count": 25,
   "id": "f06a46ca",
   "metadata": {},
   "outputs": [
    {
     "data": {
      "text/plain": [
       "'Hello'"
      ]
     },
     "execution_count": 25,
     "metadata": {},
     "output_type": "execute_result"
    }
   ],
   "source": [
    "s = '\"Hello?\"'\n",
    "\n",
    "s.strip('\"?.!')"
   ]
  },
  {
   "cell_type": "code",
   "execution_count": 21,
   "id": "3800514c",
   "metadata": {},
   "outputs": [
    {
     "data": {
      "text/plain": [
       "'a    b    c'"
      ]
     },
     "execution_count": 21,
     "metadata": {},
     "output_type": "execute_result"
    }
   ],
   "source": [
    "s = '   a    b    c   '\n",
    "\n",
    "s.strip()"
   ]
  },
  {
   "cell_type": "code",
   "execution_count": 22,
   "id": "d0dbf915",
   "metadata": {},
   "outputs": [
    {
     "ename": "AttributeError",
     "evalue": "'int' object has no attribute 'strip'",
     "output_type": "error",
     "traceback": [
      "\u001b[0;31m---------------------------------------------------------------------------\u001b[0m",
      "\u001b[0;31mAttributeError\u001b[0m                            Traceback (most recent call last)",
      "\u001b[0;32m/var/folders/rr/0mnyyv811fs5vyp22gf4fxk00000gn/T/ipykernel_13035/2829395959.py\u001b[0m in \u001b[0;36m<module>\u001b[0;34m\u001b[0m\n\u001b[1;32m      1\u001b[0m \u001b[0ms\u001b[0m \u001b[0;34m=\u001b[0m \u001b[0;36m123\u001b[0m    \u001b[0;31m# integer\u001b[0m\u001b[0;34m\u001b[0m\u001b[0;34m\u001b[0m\u001b[0m\n\u001b[0;32m----> 2\u001b[0;31m \u001b[0ms\u001b[0m\u001b[0;34m.\u001b[0m\u001b[0mstrip\u001b[0m\u001b[0;34m(\u001b[0m\u001b[0;34m)\u001b[0m\u001b[0;34m\u001b[0m\u001b[0;34m\u001b[0m\u001b[0m\n\u001b[0m",
      "\u001b[0;31mAttributeError\u001b[0m: 'int' object has no attribute 'strip'"
     ]
    }
   ],
   "source": [
    "s = 123    # integer\n",
    "s.strip()"
   ]
  },
  {
   "cell_type": "code",
   "execution_count": 26,
   "id": "ab32e924",
   "metadata": {},
   "outputs": [
    {
     "data": {
      "text/plain": [
       "'abcd efgh'"
      ]
     },
     "execution_count": 26,
     "metadata": {},
     "output_type": "execute_result"
    }
   ],
   "source": [
    "s = 'aBcD eFgH'\n",
    "\n",
    "s.lower()   # all lowercase string is returned"
   ]
  },
  {
   "cell_type": "code",
   "execution_count": 27,
   "id": "875ee77b",
   "metadata": {},
   "outputs": [
    {
     "data": {
      "text/plain": [
       "'ABCD EFGH'"
      ]
     },
     "execution_count": 27,
     "metadata": {},
     "output_type": "execute_result"
    }
   ],
   "source": [
    "s.upper()   # all uppercase, based on s"
   ]
  },
  {
   "cell_type": "code",
   "execution_count": 28,
   "id": "fcedd4f6",
   "metadata": {},
   "outputs": [
    {
     "data": {
      "text/plain": [
       "'Abcd Efgh'"
      ]
     },
     "execution_count": 28,
     "metadata": {},
     "output_type": "execute_result"
    }
   ],
   "source": [
    "s.title()    # start of word is capitalized, rest are lowercase"
   ]
  },
  {
   "cell_type": "code",
   "execution_count": 29,
   "id": "5dd6d968",
   "metadata": {},
   "outputs": [
    {
     "data": {
      "text/plain": [
       "'Abcd efgh'"
      ]
     },
     "execution_count": 29,
     "metadata": {},
     "output_type": "execute_result"
    }
   ],
   "source": [
    "s.capitalize()  # only first letter is capitalized"
   ]
  },
  {
   "cell_type": "code",
   "execution_count": 30,
   "id": "100e1644",
   "metadata": {},
   "outputs": [
    {
     "data": {
      "text/plain": [
       "'AbCd EfGh'"
      ]
     },
     "execution_count": 30,
     "metadata": {},
     "output_type": "execute_result"
    }
   ],
   "source": [
    "s.swapcase()   # switch the case "
   ]
  },
  {
   "cell_type": "code",
   "execution_count": 31,
   "id": "c70cfb84",
   "metadata": {},
   "outputs": [
    {
     "name": "stdout",
     "output_type": "stream",
     "text": [
      "Enter number: 10\n",
      "Enter second number: 5\n",
      "10 + 5 = 15\n"
     ]
    }
   ],
   "source": [
    "first = input('Enter number: ')\n",
    "second = input('Enter second number: ')\n",
    "\n",
    "first = int(first)\n",
    "second = int(second)\n",
    "\n",
    "print(f'{first} + {second} = {first+second}')"
   ]
  },
  {
   "cell_type": "code",
   "execution_count": 33,
   "id": "7ff32593",
   "metadata": {},
   "outputs": [
    {
     "name": "stdout",
     "output_type": "stream",
     "text": [
      "Enter number: 123\n",
      "Enter second number: abcd\n",
      "You must enter numbers!\n"
     ]
    }
   ],
   "source": [
    "first = input('Enter number: ')\n",
    "second = input('Enter second number: ')\n",
    "\n",
    "if first.isdigit() and second.isdigit():\n",
    "\n",
    "    first = int(first)\n",
    "    second = int(second)\n",
    "\n",
    "    print(f'{first} + {second} = {first+second}')\n",
    "\n",
    "else:\n",
    "    print(f'You must enter numbers!')"
   ]
  },
  {
   "cell_type": "code",
   "execution_count": 34,
   "id": "21ebf566",
   "metadata": {},
   "outputs": [],
   "source": [
    "x = 123.456"
   ]
  },
  {
   "cell_type": "code",
   "execution_count": 35,
   "id": "6b065e2f",
   "metadata": {},
   "outputs": [
    {
     "data": {
      "text/plain": [
       "(8687443681197687, 70368744177664)"
      ]
     },
     "execution_count": 35,
     "metadata": {},
     "output_type": "execute_result"
    }
   ],
   "source": [
    "x.as_integer_ratio()"
   ]
  },
  {
   "cell_type": "code",
   "execution_count": 36,
   "id": "ec002d1b",
   "metadata": {},
   "outputs": [
    {
     "data": {
      "text/plain": [
       "False"
      ]
     },
     "execution_count": 36,
     "metadata": {},
     "output_type": "execute_result"
    }
   ],
   "source": [
    "x.is_integer()"
   ]
  },
  {
   "cell_type": "code",
   "execution_count": 37,
   "id": "da4d780c",
   "metadata": {},
   "outputs": [
    {
     "data": {
      "text/plain": [
       "True"
      ]
     },
     "execution_count": 37,
     "metadata": {},
     "output_type": "execute_result"
    }
   ],
   "source": [
    "x = 123.0\n",
    "x.is_integer()"
   ]
  },
  {
   "cell_type": "code",
   "execution_count": 41,
   "id": "f35e0a46",
   "metadata": {},
   "outputs": [
    {
     "data": {
      "text/plain": [
       "4779.671096801758"
      ]
     },
     "execution_count": 41,
     "metadata": {},
     "output_type": "execute_result"
    }
   ],
   "source": [
    "float.fromhex('12ab.abcd')"
   ]
  },
  {
   "cell_type": "code",
   "execution_count": 42,
   "id": "90b6d01d",
   "metadata": {},
   "outputs": [
    {
     "data": {
      "text/plain": [
       "0.99609375"
      ]
     },
     "execution_count": 42,
     "metadata": {},
     "output_type": "execute_result"
    }
   ],
   "source": [
    "float.fromhex('0.ff')"
   ]
  },
  {
   "cell_type": "code",
   "execution_count": 44,
   "id": "c0a1a936",
   "metadata": {},
   "outputs": [
    {
     "data": {
      "text/plain": [
       "0.99609375"
      ]
     },
     "execution_count": 44,
     "metadata": {},
     "output_type": "execute_result"
    }
   ],
   "source": [
    "255 / 16 ** 2"
   ]
  },
  {
   "cell_type": "code",
   "execution_count": 45,
   "id": "33865613",
   "metadata": {},
   "outputs": [
    {
     "data": {
      "text/plain": [
       "255"
      ]
     },
     "execution_count": 45,
     "metadata": {},
     "output_type": "execute_result"
    }
   ],
   "source": [
    "0xff"
   ]
  },
  {
   "cell_type": "code",
   "execution_count": 46,
   "id": "9c5fbf54",
   "metadata": {},
   "outputs": [
    {
     "data": {
      "text/plain": [
       "26"
      ]
     },
     "execution_count": 46,
     "metadata": {},
     "output_type": "execute_result"
    }
   ],
   "source": [
    "s = 'abcdefghijklmnopqrstuvwxyz'\n",
    "\n",
    "len(s)"
   ]
  },
  {
   "cell_type": "code",
   "execution_count": 47,
   "id": "641a3810",
   "metadata": {},
   "outputs": [
    {
     "data": {
      "text/plain": [
       "True"
      ]
     },
     "execution_count": 47,
     "metadata": {},
     "output_type": "execute_result"
    }
   ],
   "source": [
    "'j' in s"
   ]
  },
  {
   "cell_type": "code",
   "execution_count": 48,
   "id": "db999a36",
   "metadata": {},
   "outputs": [
    {
     "data": {
      "text/plain": [
       "9"
      ]
     },
     "execution_count": 48,
     "metadata": {},
     "output_type": "execute_result"
    }
   ],
   "source": [
    "# where, though, is 'j' in s?\n",
    "s.index('j')"
   ]
  },
  {
   "cell_type": "code",
   "execution_count": 50,
   "id": "06c17f2c",
   "metadata": {},
   "outputs": [
    {
     "data": {
      "text/plain": [
       "4"
      ]
     },
     "execution_count": 50,
     "metadata": {},
     "output_type": "execute_result"
    }
   ],
   "source": [
    "x = 'abcdefgabcdefg'\n",
    "\n",
    "x.index('e')"
   ]
  },
  {
   "cell_type": "code",
   "execution_count": 51,
   "id": "a03102c3",
   "metadata": {},
   "outputs": [
    {
     "data": {
      "text/plain": [
       "11"
      ]
     },
     "execution_count": 51,
     "metadata": {},
     "output_type": "execute_result"
    }
   ],
   "source": [
    "x = 'abcdefgabcdefg'\n",
    "\n",
    "x.rindex('e')    # right-side index"
   ]
  },
  {
   "cell_type": "code",
   "execution_count": 52,
   "id": "bb2b16e8",
   "metadata": {},
   "outputs": [
    {
     "ename": "ValueError",
     "evalue": "substring not found",
     "output_type": "error",
     "traceback": [
      "\u001b[0;31m---------------------------------------------------------------------------\u001b[0m",
      "\u001b[0;31mValueError\u001b[0m                                Traceback (most recent call last)",
      "\u001b[0;32m/var/folders/rr/0mnyyv811fs5vyp22gf4fxk00000gn/T/ipykernel_13035/1033342529.py\u001b[0m in \u001b[0;36m<module>\u001b[0;34m\u001b[0m\n\u001b[0;32m----> 1\u001b[0;31m \u001b[0ms\u001b[0m\u001b[0;34m.\u001b[0m\u001b[0mindex\u001b[0m\u001b[0;34m(\u001b[0m\u001b[0;34m'!'\u001b[0m\u001b[0;34m)\u001b[0m\u001b[0;34m\u001b[0m\u001b[0;34m\u001b[0m\u001b[0m\n\u001b[0m",
      "\u001b[0;31mValueError\u001b[0m: substring not found"
     ]
    }
   ],
   "source": [
    "s.index('!')"
   ]
  },
  {
   "cell_type": "code",
   "execution_count": 53,
   "id": "680bd85b",
   "metadata": {},
   "outputs": [],
   "source": [
    "# sequence: string, list, tuple"
   ]
  },
  {
   "cell_type": "markdown",
   "id": "3c2a0a70",
   "metadata": {},
   "source": [
    "# Loops\n",
    "\n",
    "Python has just two types of loops:\n",
    "\n",
    "- `for`\n",
    "- `while`"
   ]
  },
  {
   "cell_type": "code",
   "execution_count": 54,
   "id": "8ab3b83d",
   "metadata": {},
   "outputs": [
    {
     "name": "stdout",
     "output_type": "stream",
     "text": [
      "a\n",
      "b\n",
      "c\n",
      "d\n"
     ]
    }
   ],
   "source": [
    "s = 'abcd'\n",
    "\n",
    "for one_character in s:\n",
    "    print(one_character)"
   ]
  },
  {
   "cell_type": "code",
   "execution_count": 55,
   "id": "e7309931",
   "metadata": {},
   "outputs": [
    {
     "name": "stdout",
     "output_type": "stream",
     "text": [
      "a\n",
      "b\n",
      "c\n",
      "d\n"
     ]
    }
   ],
   "source": [
    "s = 'abcd'\n",
    "\n",
    "for avocado in s:\n",
    "    print(avocado)"
   ]
  },
  {
   "cell_type": "markdown",
   "id": "c4f12d58",
   "metadata": {},
   "source": [
    "# Exercise: Sum digits\n",
    "\n",
    "1. Ask the user to enter a string.\n",
    "2. Define the variable `total` to be 0.\n",
    "3. Go through each character in the string. \n",
    "    - If the character is a digit, then add to `total`\n",
    "    - If not, tell the user that this isn't numeric\n",
    "4. Print `total`\n",
    "\n"
   ]
  },
  {
   "cell_type": "code",
   "execution_count": 56,
   "id": "637e98d0",
   "metadata": {},
   "outputs": [
    {
     "name": "stdout",
     "output_type": "stream",
     "text": [
      "10 + 12.34 = 22.34\n"
     ]
    }
   ],
   "source": [
    "x = 10\n",
    "y = 12.34\n",
    "\n",
    "print(f'{x} + {y} = {x+y}')"
   ]
  },
  {
   "cell_type": "code",
   "execution_count": 57,
   "id": "f6d155b1",
   "metadata": {},
   "outputs": [
    {
     "data": {
      "text/plain": [
       "True"
      ]
     },
     "execution_count": 57,
     "metadata": {},
     "output_type": "execute_result"
    }
   ],
   "source": [
    "s = '123'\n",
    "s.isdigit()"
   ]
  },
  {
   "cell_type": "code",
   "execution_count": 58,
   "id": "8cd3f8bc",
   "metadata": {},
   "outputs": [
    {
     "data": {
      "text/plain": [
       "False"
      ]
     },
     "execution_count": 58,
     "metadata": {},
     "output_type": "execute_result"
    }
   ],
   "source": [
    "s = ' 123'\n",
    "s.isdigit()"
   ]
  },
  {
   "cell_type": "code",
   "execution_count": 59,
   "id": "fcce6ae4",
   "metadata": {},
   "outputs": [
    {
     "data": {
      "text/plain": [
       "5"
      ]
     },
     "execution_count": 59,
     "metadata": {},
     "output_type": "execute_result"
    }
   ],
   "source": [
    "int('5')"
   ]
  },
  {
   "cell_type": "code",
   "execution_count": 60,
   "id": "4e20a4d3",
   "metadata": {},
   "outputs": [
    {
     "data": {
      "text/plain": [
       "int"
      ]
     },
     "execution_count": 60,
     "metadata": {},
     "output_type": "execute_result"
    }
   ],
   "source": [
    "type(int('5'))"
   ]
  },
  {
   "cell_type": "code",
   "execution_count": 61,
   "id": "7b423989",
   "metadata": {},
   "outputs": [
    {
     "name": "stdout",
     "output_type": "stream",
     "text": [
      "Enter a string: 123abc45\n",
      "Non-numeric character a\n",
      "Non-numeric character b\n",
      "Non-numeric character c\n",
      "total = 15\n"
     ]
    }
   ],
   "source": [
    "total = 0\n",
    "\n",
    "s = input('Enter a string: ').strip()\n",
    "\n",
    "for one_character in s:\n",
    "    if one_character.isdigit():\n",
    "        total += int(one_character)\n",
    "    else:\n",
    "        print(f'Non-numeric character {one_character}')\n",
    "        \n",
    "print(f'total = {total}')        "
   ]
  },
  {
   "cell_type": "code",
   "execution_count": 63,
   "id": "9e1aefde",
   "metadata": {},
   "outputs": [
    {
     "ename": "TypeError",
     "evalue": "'int' object is not iterable",
     "output_type": "error",
     "traceback": [
      "\u001b[0;31m---------------------------------------------------------------------------\u001b[0m",
      "\u001b[0;31mTypeError\u001b[0m                                 Traceback (most recent call last)",
      "\u001b[0;32m/var/folders/rr/0mnyyv811fs5vyp22gf4fxk00000gn/T/ipykernel_13035/3115839276.py\u001b[0m in \u001b[0;36m<module>\u001b[0;34m\u001b[0m\n\u001b[0;32m----> 1\u001b[0;31m \u001b[0;32mfor\u001b[0m \u001b[0mi\u001b[0m \u001b[0;32min\u001b[0m \u001b[0;36m3\u001b[0m\u001b[0;34m:\u001b[0m\u001b[0;34m\u001b[0m\u001b[0;34m\u001b[0m\u001b[0m\n\u001b[0m\u001b[1;32m      2\u001b[0m     \u001b[0mprint\u001b[0m\u001b[0;34m(\u001b[0m\u001b[0;34m'Yay!'\u001b[0m\u001b[0;34m)\u001b[0m\u001b[0;34m\u001b[0m\u001b[0;34m\u001b[0m\u001b[0m\n",
      "\u001b[0;31mTypeError\u001b[0m: 'int' object is not iterable"
     ]
    }
   ],
   "source": [
    "for i in 3:\n",
    "    print('Yay!')"
   ]
  },
  {
   "cell_type": "code",
   "execution_count": 65,
   "id": "6a236db2",
   "metadata": {},
   "outputs": [
    {
     "name": "stdout",
     "output_type": "stream",
     "text": [
      "0 Yay!\n",
      "1 Yay!\n",
      "2 Yay!\n"
     ]
    }
   ],
   "source": [
    "for i in range(3):    # from 0 until (not including) 3\n",
    "    print(f'{i} Yay!')"
   ]
  },
  {
   "cell_type": "code",
   "execution_count": 67,
   "id": "76de9e97",
   "metadata": {},
   "outputs": [
    {
     "name": "stdout",
     "output_type": "stream",
     "text": [
      "3 Hello\n",
      "4 Hello\n",
      "5 Hello\n",
      "6 Hello\n",
      "7 Hello\n",
      "8 Hello\n",
      "9 Hello\n"
     ]
    }
   ],
   "source": [
    "for i in range(3, 10):   # from 3 until (not including) 10\n",
    "    print(f'{i} Hello')"
   ]
  },
  {
   "cell_type": "code",
   "execution_count": 68,
   "id": "effbc92a",
   "metadata": {},
   "outputs": [
    {
     "name": "stdout",
     "output_type": "stream",
     "text": [
      "3 Hello\n",
      "5 Hello\n",
      "7 Hello\n",
      "9 Hello\n"
     ]
    }
   ],
   "source": [
    "for i in range(3, 10, 2):  # from 3 until (not including) 10, step size 2\n",
    "    print(f'{i} Hello')"
   ]
  },
  {
   "cell_type": "code",
   "execution_count": 69,
   "id": "32fbf07e",
   "metadata": {},
   "outputs": [
    {
     "name": "stdout",
     "output_type": "stream",
     "text": [
      "0: a\n",
      "1: b\n",
      "2: c\n",
      "3: d\n"
     ]
    }
   ],
   "source": [
    "# option 1 for printing indexes\n",
    "# manually\n",
    "\n",
    "s = 'abcd'\n",
    "index = 0\n",
    "\n",
    "for one_character in s:\n",
    "    print(f'{index}: {one_character}')\n",
    "    index += 1\n"
   ]
  },
  {
   "cell_type": "code",
   "execution_count": 70,
   "id": "e9370c84",
   "metadata": {},
   "outputs": [
    {
     "name": "stdout",
     "output_type": "stream",
     "text": [
      "0: a\n",
      "1: b\n",
      "2: c\n",
      "3: d\n"
     ]
    }
   ],
   "source": [
    "# option 2 for printing indexes\n",
    "# enumerate\n",
    "\n",
    "s = 'abcd'\n",
    "\n",
    "for index, one_character in enumerate(s):\n",
    "    print(f'{index}: {one_character}')"
   ]
  },
  {
   "cell_type": "code",
   "execution_count": 71,
   "id": "b90b34b3",
   "metadata": {},
   "outputs": [
    {
     "name": "stdout",
     "output_type": "stream",
     "text": [
      "a\n",
      "b\n",
      "c\n"
     ]
    }
   ],
   "source": [
    "s = 'abcde'\n",
    "look_for = 'd'\n",
    "\n",
    "for one_letter in s:\n",
    "    if look_for == one_letter:\n",
    "        break  # immediately exit from the current loop\n",
    "        \n",
    "    print(one_letter)"
   ]
  },
  {
   "cell_type": "code",
   "execution_count": 72,
   "id": "9309cad5",
   "metadata": {},
   "outputs": [
    {
     "name": "stdout",
     "output_type": "stream",
     "text": [
      "a\n",
      "b\n",
      "c\n",
      "e\n"
     ]
    }
   ],
   "source": [
    "s = 'abcde'\n",
    "look_for = 'd'\n",
    "\n",
    "for one_letter in s:\n",
    "    if look_for == one_letter:\n",
    "        continue  # go onto the next iteration, but stay in the loop\n",
    "        \n",
    "    print(one_letter)"
   ]
  },
  {
   "cell_type": "code",
   "execution_count": null,
   "id": "da5ac1c7",
   "metadata": {},
   "outputs": [],
   "source": [
    "total = 0\n",
    "\n",
    "s = input('Enter a string: ').strip()\n",
    "\n",
    "for one_character in s:\n",
    "    if not one_character.isdigit():\n",
    "        print(f'Non-numeric character {one_character}')\n",
    "        continue\n",
    "        \n",
    "    total += int(one_character)\n",
    "        \n",
    "print(f'total = {total}')        "
   ]
  },
  {
   "cell_type": "code",
   "execution_count": null,
   "id": "e4371513",
   "metadata": {},
   "outputs": [],
   "source": []
  },
  {
   "cell_type": "code",
   "execution_count": 73,
   "id": "633185d8",
   "metadata": {},
   "outputs": [
    {
     "ename": "SyntaxError",
     "evalue": "'break' outside loop (668683560.py, line 1)",
     "output_type": "error",
     "traceback": [
      "\u001b[0;36m  File \u001b[0;32m\"/var/folders/rr/0mnyyv811fs5vyp22gf4fxk00000gn/T/ipykernel_13035/668683560.py\"\u001b[0;36m, line \u001b[0;32m1\u001b[0m\n\u001b[0;31m    break\u001b[0m\n\u001b[0m    ^\u001b[0m\n\u001b[0;31mSyntaxError\u001b[0m\u001b[0;31m:\u001b[0m 'break' outside loop\n"
     ]
    }
   ],
   "source": [
    "break"
   ]
  },
  {
   "cell_type": "code",
   "execution_count": 74,
   "id": "003a95d5",
   "metadata": {},
   "outputs": [
    {
     "ename": "SyntaxError",
     "evalue": "'continue' not properly in loop (414696514.py, line 1)",
     "output_type": "error",
     "traceback": [
      "\u001b[0;36m  File \u001b[0;32m\"/var/folders/rr/0mnyyv811fs5vyp22gf4fxk00000gn/T/ipykernel_13035/414696514.py\"\u001b[0;36m, line \u001b[0;32m1\u001b[0m\n\u001b[0;31m    continue\u001b[0m\n\u001b[0m    ^\u001b[0m\n\u001b[0;31mSyntaxError\u001b[0m\u001b[0;31m:\u001b[0m 'continue' not properly in loop\n"
     ]
    }
   ],
   "source": [
    "continue"
   ]
  },
  {
   "cell_type": "code",
   "execution_count": 75,
   "id": "4c14c68e",
   "metadata": {},
   "outputs": [
    {
     "name": "stdout",
     "output_type": "stream",
     "text": [
      "5\n",
      "4\n",
      "3\n",
      "2\n",
      "1\n"
     ]
    }
   ],
   "source": [
    "x = 5\n",
    "\n",
    "while x > 0:\n",
    "    print(x)\n",
    "    x -= 1"
   ]
  },
  {
   "cell_type": "code",
   "execution_count": 76,
   "id": "05f8b82b",
   "metadata": {},
   "outputs": [
    {
     "name": "stdout",
     "output_type": "stream",
     "text": [
      "Enter your name: Reuven\n",
      "Hello, Reuven!\n",
      "Enter your name: someone else\n",
      "Hello, someone else!\n",
      "Enter your name: whoever\n",
      "Hello, whoever!\n",
      "Enter your name: whatever\n",
      "Hello, whatever!\n",
      "Enter your name: asdfadsfads\n",
      "Hello, asdfadsfads!\n",
      "Enter your name: \n"
     ]
    }
   ],
   "source": [
    "while True:\n",
    "    name = input('Enter your name: ').strip()\n",
    "    \n",
    "    if not name:    # empty string? exit the loop\n",
    "        break\n",
    "        \n",
    "    print(f'Hello, {name}!')"
   ]
  },
  {
   "cell_type": "markdown",
   "id": "92de4847",
   "metadata": {},
   "source": [
    "# Next up\n",
    "\n",
    "1. Lists\n",
    "2. Lists to strings (and back)\n",
    "3. Tuples\n",
    "    - Unpacking\n",
    "    \n",
    "Continue at 15:10"
   ]
  },
  {
   "cell_type": "markdown",
   "id": "7f803b40",
   "metadata": {},
   "source": [
    "# Lists \n",
    "\n",
    "Traditionally, for collections of items of the same type."
   ]
  },
  {
   "cell_type": "code",
   "execution_count": 80,
   "id": "76d65f5d",
   "metadata": {},
   "outputs": [
    {
     "data": {
      "text/plain": [
       "list"
      ]
     },
     "execution_count": 80,
     "metadata": {},
     "output_type": "execute_result"
    }
   ],
   "source": [
    "mylist = [10, 20, 30, 40, 50, 60, 70, 80, 90, 100]   # use [] to define, with commas (,) between elements\n",
    "\n",
    "type(mylist)"
   ]
  },
  {
   "cell_type": "code",
   "execution_count": 81,
   "id": "d33f7016",
   "metadata": {},
   "outputs": [
    {
     "data": {
      "text/plain": [
       "10"
      ]
     },
     "execution_count": 81,
     "metadata": {},
     "output_type": "execute_result"
    }
   ],
   "source": [
    "len(mylist)"
   ]
  },
  {
   "cell_type": "code",
   "execution_count": 82,
   "id": "68fd2367",
   "metadata": {},
   "outputs": [
    {
     "data": {
      "text/plain": [
       "10"
      ]
     },
     "execution_count": 82,
     "metadata": {},
     "output_type": "execute_result"
    }
   ],
   "source": [
    "mylist[0]  # indexing starts with 0"
   ]
  },
  {
   "cell_type": "code",
   "execution_count": 83,
   "id": "d22a5c21",
   "metadata": {},
   "outputs": [
    {
     "data": {
      "text/plain": [
       "20"
      ]
     },
     "execution_count": 83,
     "metadata": {},
     "output_type": "execute_result"
    }
   ],
   "source": [
    "mylist[1]"
   ]
  },
  {
   "cell_type": "code",
   "execution_count": 84,
   "id": "de9eebac",
   "metadata": {},
   "outputs": [
    {
     "data": {
      "text/plain": [
       "100"
      ]
     },
     "execution_count": 84,
     "metadata": {},
     "output_type": "execute_result"
    }
   ],
   "source": [
    "mylist[-1]   # final element in mylist"
   ]
  },
  {
   "cell_type": "code",
   "execution_count": 86,
   "id": "3b36dae3",
   "metadata": {},
   "outputs": [
    {
     "data": {
      "text/plain": [
       "[30, 40, 50, 60]"
      ]
     },
     "execution_count": 86,
     "metadata": {},
     "output_type": "execute_result"
    }
   ],
   "source": [
    "mylist[2:6]  # slice"
   ]
  },
  {
   "cell_type": "code",
   "execution_count": 87,
   "id": "842e0aae",
   "metadata": {},
   "outputs": [
    {
     "data": {
      "text/plain": [
       "[20, 40, 60, 80]"
      ]
     },
     "execution_count": 87,
     "metadata": {},
     "output_type": "execute_result"
    }
   ],
   "source": [
    "mylist[1:8:2]  # slice with step size"
   ]
  },
  {
   "cell_type": "code",
   "execution_count": 88,
   "id": "f48b08d0",
   "metadata": {},
   "outputs": [
    {
     "data": {
      "text/plain": [
       "True"
      ]
     },
     "execution_count": 88,
     "metadata": {},
     "output_type": "execute_result"
    }
   ],
   "source": [
    "70 in mylist"
   ]
  },
  {
   "cell_type": "code",
   "execution_count": 89,
   "id": "f2a26bce",
   "metadata": {},
   "outputs": [
    {
     "name": "stdout",
     "output_type": "stream",
     "text": [
      "10\n",
      "20\n",
      "30\n",
      "40\n",
      "50\n",
      "60\n",
      "70\n",
      "80\n",
      "90\n",
      "100\n"
     ]
    }
   ],
   "source": [
    "for one_item in mylist:\n",
    "    print(one_item)"
   ]
  },
  {
   "cell_type": "code",
   "execution_count": 90,
   "id": "de6705aa",
   "metadata": {},
   "outputs": [],
   "source": [
    "mylist = [10, 20, 30]\n",
    "\n",
    "biglist = [mylist, mylist, mylist]"
   ]
  },
  {
   "cell_type": "code",
   "execution_count": 91,
   "id": "7c62f0de",
   "metadata": {},
   "outputs": [
    {
     "data": {
      "text/plain": [
       "[10, 20, 30]"
      ]
     },
     "execution_count": 91,
     "metadata": {},
     "output_type": "execute_result"
    }
   ],
   "source": [
    "mylist   # list of ints"
   ]
  },
  {
   "cell_type": "code",
   "execution_count": 92,
   "id": "e1acf346",
   "metadata": {},
   "outputs": [
    {
     "data": {
      "text/plain": [
       "[[10, 20, 30], [10, 20, 30], [10, 20, 30]]"
      ]
     },
     "execution_count": 92,
     "metadata": {},
     "output_type": "execute_result"
    }
   ],
   "source": [
    "biglist  # list of lists"
   ]
  },
  {
   "cell_type": "code",
   "execution_count": 93,
   "id": "5dd8aae2",
   "metadata": {},
   "outputs": [
    {
     "data": {
      "text/plain": [
       "[10, 20, 30]"
      ]
     },
     "execution_count": 93,
     "metadata": {},
     "output_type": "execute_result"
    }
   ],
   "source": [
    "biglist[0]"
   ]
  },
  {
   "cell_type": "code",
   "execution_count": 94,
   "id": "c87ff9f9",
   "metadata": {},
   "outputs": [
    {
     "data": {
      "text/plain": [
       "3"
      ]
     },
     "execution_count": 94,
     "metadata": {},
     "output_type": "execute_result"
    }
   ],
   "source": [
    "len(biglist)"
   ]
  },
  {
   "cell_type": "code",
   "execution_count": 95,
   "id": "ebd82ab9",
   "metadata": {},
   "outputs": [
    {
     "data": {
      "text/plain": [
       "30"
      ]
     },
     "execution_count": 95,
     "metadata": {},
     "output_type": "execute_result"
    }
   ],
   "source": [
    "biglist[1][2]"
   ]
  },
  {
   "cell_type": "code",
   "execution_count": null,
   "id": "b48564ab",
   "metadata": {},
   "outputs": [],
   "source": [
    "something = [['a', 'b', 'c'], [100, 200, 30.5], ['hello', 10, [1,2,3]]]"
   ]
  },
  {
   "cell_type": "code",
   "execution_count": null,
   "id": "d23bee3d",
   "metadata": {},
   "outputs": [],
   "source": []
  }
 ],
 "metadata": {
  "kernelspec": {
   "display_name": "Python 3 (ipykernel)",
   "language": "python",
   "name": "python3"
  },
  "language_info": {
   "codemirror_mode": {
    "name": "ipython",
    "version": 3
   },
   "file_extension": ".py",
   "mimetype": "text/x-python",
   "name": "python",
   "nbconvert_exporter": "python",
   "pygments_lexer": "ipython3",
   "version": "3.10.5"
  }
 },
 "nbformat": 4,
 "nbformat_minor": 5
}
