{
 "cells": [
  {
   "cell_type": "markdown",
   "id": "82fcdb35",
   "metadata": {},
   "source": [
    "# Agenda\n",
    "\n",
    "1. String methods\n",
    "2. Loops\n",
    "    - `for`\n",
    "    - `while`\n",
    "3. Lists  \n",
    "    - Lists to strings, and back"
   ]
  },
  {
   "cell_type": "code",
   "execution_count": 3,
   "id": "240c5e2f",
   "metadata": {},
   "outputs": [
    {
     "name": "stdout",
     "output_type": "stream",
     "text": [
      "Enter first number: 2\n",
      "Enter second number: 5\n",
      "2 + 5 = 7\n"
     ]
    }
   ],
   "source": [
    "first = input('Enter first number: ')\n",
    "second = input('Enter second number: ')\n",
    "\n",
    "first = int(first)\n",
    "second = int(second)\n",
    "\n",
    "print(f'{first} + {second} = {first+second}')"
   ]
  },
  {
   "cell_type": "code",
   "execution_count": null,
   "id": "878efc46",
   "metadata": {},
   "outputs": [],
   "source": []
  },
  {
   "cell_type": "code",
   "execution_count": 4,
   "id": "33ffa9d5",
   "metadata": {},
   "outputs": [
    {
     "name": "stdout",
     "output_type": "stream",
     "text": [
      "Enter your name: Reuven\n",
      "Hello, Reuven!\n"
     ]
    }
   ],
   "source": [
    "name = input('Enter your name: ')\n",
    "\n",
    "print(f'Hello, {name}!')"
   ]
  },
  {
   "cell_type": "code",
   "execution_count": 5,
   "id": "3e0961f7",
   "metadata": {},
   "outputs": [
    {
     "name": "stdout",
     "output_type": "stream",
     "text": [
      "Enter your name:            Reuven            \n",
      "Hello,            Reuven            !\n"
     ]
    }
   ],
   "source": [
    "name = input('Enter your name: ')\n",
    "\n",
    "print(f'Hello, {name}!')"
   ]
  },
  {
   "cell_type": "code",
   "execution_count": 6,
   "id": "5173db35",
   "metadata": {},
   "outputs": [
    {
     "data": {
      "text/plain": [
       "'           Reuven            '"
      ]
     },
     "execution_count": 6,
     "metadata": {},
     "output_type": "execute_result"
    }
   ],
   "source": [
    "name"
   ]
  },
  {
   "cell_type": "code",
   "execution_count": 8,
   "id": "248f381f",
   "metadata": {},
   "outputs": [
    {
     "data": {
      "text/plain": [
       "29"
      ]
     },
     "execution_count": 8,
     "metadata": {},
     "output_type": "execute_result"
    }
   ],
   "source": [
    "len(name)     #  FUNCTION(ARG)"
   ]
  },
  {
   "cell_type": "code",
   "execution_count": 9,
   "id": "9c12d604",
   "metadata": {},
   "outputs": [
    {
     "data": {
      "text/plain": [
       "'Reuven'"
      ]
     },
     "execution_count": 9,
     "metadata": {},
     "output_type": "execute_result"
    }
   ],
   "source": [
    "# DATA.METHOD()    DATA.METHOD(ARG1, ARG2)\n",
    "\n",
    "name.strip()"
   ]
  },
  {
   "cell_type": "code",
   "execution_count": 10,
   "id": "0528623a",
   "metadata": {},
   "outputs": [
    {
     "data": {
      "text/plain": [
       "'           Reuven            '"
      ]
     },
     "execution_count": 10,
     "metadata": {},
     "output_type": "execute_result"
    }
   ],
   "source": [
    "# strings are immutable -- they cannot be changed!\n",
    "name"
   ]
  },
  {
   "cell_type": "code",
   "execution_count": 11,
   "id": "243a0569",
   "metadata": {},
   "outputs": [],
   "source": [
    "name = name.strip()"
   ]
  },
  {
   "cell_type": "code",
   "execution_count": 12,
   "id": "dc2f9826",
   "metadata": {},
   "outputs": [
    {
     "name": "stdout",
     "output_type": "stream",
     "text": [
      "Hello, Reuven!\n"
     ]
    }
   ],
   "source": [
    "print(f'Hello, {name}!')"
   ]
  },
  {
   "cell_type": "code",
   "execution_count": 13,
   "id": "ac8121a7",
   "metadata": {},
   "outputs": [
    {
     "name": "stdout",
     "output_type": "stream",
     "text": [
      "Enter your name:     Reuven   \n",
      "Hello, Reuven!\n"
     ]
    }
   ],
   "source": [
    "# option 1: assign back to the variable\n",
    "\n",
    "name = input('Enter your name: ')\n",
    "name = name.strip()\n",
    "\n",
    "print(f'Hello, {name}!')"
   ]
  },
  {
   "cell_type": "code",
   "execution_count": 14,
   "id": "9acfb31c",
   "metadata": {},
   "outputs": [
    {
     "name": "stdout",
     "output_type": "stream",
     "text": [
      "Enter your name:     Reuven   \n",
      "Hello, Reuven!\n"
     ]
    }
   ],
   "source": [
    "# option 2: run the method inside of the f-string\n",
    "\n",
    "name = input('Enter your name: ')\n",
    "\n",
    "print(f'Hello, {name.strip()}!')"
   ]
  },
  {
   "cell_type": "code",
   "execution_count": 15,
   "id": "d3e4015b",
   "metadata": {},
   "outputs": [
    {
     "data": {
      "text/plain": [
       "'    Reuven   '"
      ]
     },
     "execution_count": 15,
     "metadata": {},
     "output_type": "execute_result"
    }
   ],
   "source": [
    "name"
   ]
  },
  {
   "cell_type": "code",
   "execution_count": 18,
   "id": "74963ce9",
   "metadata": {},
   "outputs": [
    {
     "name": "stdout",
     "output_type": "stream",
     "text": [
      "Enter your name: adfgafa\n",
      "Hello, adfgafa!\n"
     ]
    }
   ],
   "source": [
    "name = input('Enter your name: ').strip()\n",
    "\n",
    "print(f'Hello, {name}!')"
   ]
  },
  {
   "cell_type": "code",
   "execution_count": 17,
   "id": "cc33415f",
   "metadata": {},
   "outputs": [
    {
     "data": {
      "text/plain": [
       "'Reuven'"
      ]
     },
     "execution_count": 17,
     "metadata": {},
     "output_type": "execute_result"
    }
   ],
   "source": [
    "name"
   ]
  },
  {
   "cell_type": "code",
   "execution_count": 19,
   "id": "6243338b",
   "metadata": {},
   "outputs": [
    {
     "data": {
      "text/plain": [
       "'abcd'"
      ]
     },
     "execution_count": 19,
     "metadata": {},
     "output_type": "execute_result"
    }
   ],
   "source": [
    "s = '   abcd   '\n",
    "s.strip()"
   ]
  },
  {
   "cell_type": "code",
   "execution_count": 25,
   "id": "b7a55d53",
   "metadata": {},
   "outputs": [
    {
     "data": {
      "text/plain": [
       "'Hello'"
      ]
     },
     "execution_count": 25,
     "metadata": {},
     "output_type": "execute_result"
    }
   ],
   "source": [
    "s = '\"Hello?\"'\n",
    "\n",
    "s.strip('\"?.!')"
   ]
  },
  {
   "cell_type": "code",
   "execution_count": 21,
   "id": "d3631ba2",
   "metadata": {},
   "outputs": [
    {
     "data": {
      "text/plain": [
       "'a    b    c'"
      ]
     },
     "execution_count": 21,
     "metadata": {},
     "output_type": "execute_result"
    }
   ],
   "source": [
    "s = '   a    b    c   '\n",
    "\n",
    "s.strip()"
   ]
  },
  {
   "cell_type": "code",
   "execution_count": 22,
   "id": "3915ba18",
   "metadata": {},
   "outputs": [
    {
     "ename": "AttributeError",
     "evalue": "'int' object has no attribute 'strip'",
     "output_type": "error",
     "traceback": [
      "\u001b[0;31m---------------------------------------------------------------------------\u001b[0m",
      "\u001b[0;31mAttributeError\u001b[0m                            Traceback (most recent call last)",
      "\u001b[0;32m/var/folders/rr/0mnyyv811fs5vyp22gf4fxk00000gn/T/ipykernel_13035/2829395959.py\u001b[0m in \u001b[0;36m<module>\u001b[0;34m\u001b[0m\n\u001b[1;32m      1\u001b[0m \u001b[0ms\u001b[0m \u001b[0;34m=\u001b[0m \u001b[0;36m123\u001b[0m    \u001b[0;31m# integer\u001b[0m\u001b[0;34m\u001b[0m\u001b[0;34m\u001b[0m\u001b[0m\n\u001b[0;32m----> 2\u001b[0;31m \u001b[0ms\u001b[0m\u001b[0;34m.\u001b[0m\u001b[0mstrip\u001b[0m\u001b[0;34m(\u001b[0m\u001b[0;34m)\u001b[0m\u001b[0;34m\u001b[0m\u001b[0;34m\u001b[0m\u001b[0m\n\u001b[0m",
      "\u001b[0;31mAttributeError\u001b[0m: 'int' object has no attribute 'strip'"
     ]
    }
   ],
   "source": [
    "s = 123    # integer\n",
    "s.strip()"
   ]
  },
  {
   "cell_type": "code",
   "execution_count": 26,
   "id": "2aedc35f",
   "metadata": {},
   "outputs": [
    {
     "data": {
      "text/plain": [
       "'abcd efgh'"
      ]
     },
     "execution_count": 26,
     "metadata": {},
     "output_type": "execute_result"
    }
   ],
   "source": [
    "s = 'aBcD eFgH'\n",
    "\n",
    "s.lower()   # all lowercase string is returned"
   ]
  },
  {
   "cell_type": "code",
   "execution_count": 27,
   "id": "fa488c33",
   "metadata": {},
   "outputs": [
    {
     "data": {
      "text/plain": [
       "'ABCD EFGH'"
      ]
     },
     "execution_count": 27,
     "metadata": {},
     "output_type": "execute_result"
    }
   ],
   "source": [
    "s.upper()   # all uppercase, based on s"
   ]
  },
  {
   "cell_type": "code",
   "execution_count": 28,
   "id": "a3a169e1",
   "metadata": {},
   "outputs": [
    {
     "data": {
      "text/plain": [
       "'Abcd Efgh'"
      ]
     },
     "execution_count": 28,
     "metadata": {},
     "output_type": "execute_result"
    }
   ],
   "source": [
    "s.title()    # start of word is capitalized, rest are lowercase"
   ]
  },
  {
   "cell_type": "code",
   "execution_count": 29,
   "id": "ff82c6a7",
   "metadata": {},
   "outputs": [
    {
     "data": {
      "text/plain": [
       "'Abcd efgh'"
      ]
     },
     "execution_count": 29,
     "metadata": {},
     "output_type": "execute_result"
    }
   ],
   "source": [
    "s.capitalize()  # only first letter is capitalized"
   ]
  },
  {
   "cell_type": "code",
   "execution_count": 30,
   "id": "cb103eef",
   "metadata": {},
   "outputs": [
    {
     "data": {
      "text/plain": [
       "'AbCd EfGh'"
      ]
     },
     "execution_count": 30,
     "metadata": {},
     "output_type": "execute_result"
    }
   ],
   "source": [
    "s.swapcase()   # switch the case "
   ]
  },
  {
   "cell_type": "code",
   "execution_count": 31,
   "id": "c826704a",
   "metadata": {},
   "outputs": [
    {
     "name": "stdout",
     "output_type": "stream",
     "text": [
      "Enter number: 10\n",
      "Enter second number: 5\n",
      "10 + 5 = 15\n"
     ]
    }
   ],
   "source": [
    "first = input('Enter number: ')\n",
    "second = input('Enter second number: ')\n",
    "\n",
    "first = int(first)\n",
    "second = int(second)\n",
    "\n",
    "print(f'{first} + {second} = {first+second}')"
   ]
  },
  {
   "cell_type": "code",
   "execution_count": 33,
   "id": "477f0368",
   "metadata": {},
   "outputs": [
    {
     "name": "stdout",
     "output_type": "stream",
     "text": [
      "Enter number: 123\n",
      "Enter second number: abcd\n",
      "You must enter numbers!\n"
     ]
    }
   ],
   "source": [
    "first = input('Enter number: ')\n",
    "second = input('Enter second number: ')\n",
    "\n",
    "if first.isdigit() and second.isdigit():\n",
    "\n",
    "    first = int(first)\n",
    "    second = int(second)\n",
    "\n",
    "    print(f'{first} + {second} = {first+second}')\n",
    "\n",
    "else:\n",
    "    print(f'You must enter numbers!')"
   ]
  },
  {
   "cell_type": "code",
   "execution_count": 34,
   "id": "7dbc70a8",
   "metadata": {},
   "outputs": [],
   "source": [
    "x = 123.456"
   ]
  },
  {
   "cell_type": "code",
   "execution_count": 35,
   "id": "63e9fd7e",
   "metadata": {},
   "outputs": [
    {
     "data": {
      "text/plain": [
       "(8687443681197687, 70368744177664)"
      ]
     },
     "execution_count": 35,
     "metadata": {},
     "output_type": "execute_result"
    }
   ],
   "source": [
    "x.as_integer_ratio()"
   ]
  },
  {
   "cell_type": "code",
   "execution_count": 36,
   "id": "0adfe56b",
   "metadata": {},
   "outputs": [
    {
     "data": {
      "text/plain": [
       "False"
      ]
     },
     "execution_count": 36,
     "metadata": {},
     "output_type": "execute_result"
    }
   ],
   "source": [
    "x.is_integer()"
   ]
  },
  {
   "cell_type": "code",
   "execution_count": 37,
   "id": "08c048bd",
   "metadata": {},
   "outputs": [
    {
     "data": {
      "text/plain": [
       "True"
      ]
     },
     "execution_count": 37,
     "metadata": {},
     "output_type": "execute_result"
    }
   ],
   "source": [
    "x = 123.0\n",
    "x.is_integer()"
   ]
  },
  {
   "cell_type": "code",
   "execution_count": 41,
   "id": "752b36a6",
   "metadata": {},
   "outputs": [
    {
     "data": {
      "text/plain": [
       "4779.671096801758"
      ]
     },
     "execution_count": 41,
     "metadata": {},
     "output_type": "execute_result"
    }
   ],
   "source": [
    "float.fromhex('12ab.abcd')"
   ]
  },
  {
   "cell_type": "code",
   "execution_count": 42,
   "id": "d4af2559",
   "metadata": {},
   "outputs": [
    {
     "data": {
      "text/plain": [
       "0.99609375"
      ]
     },
     "execution_count": 42,
     "metadata": {},
     "output_type": "execute_result"
    }
   ],
   "source": [
    "float.fromhex('0.ff')"
   ]
  },
  {
   "cell_type": "code",
   "execution_count": 44,
   "id": "a044ce90",
   "metadata": {},
   "outputs": [
    {
     "data": {
      "text/plain": [
       "0.99609375"
      ]
     },
     "execution_count": 44,
     "metadata": {},
     "output_type": "execute_result"
    }
   ],
   "source": [
    "255 / 16 ** 2"
   ]
  },
  {
   "cell_type": "code",
   "execution_count": 45,
   "id": "90530cd6",
   "metadata": {},
   "outputs": [
    {
     "data": {
      "text/plain": [
       "255"
      ]
     },
     "execution_count": 45,
     "metadata": {},
     "output_type": "execute_result"
    }
   ],
   "source": [
    "0xff"
   ]
  },
  {
   "cell_type": "code",
   "execution_count": 46,
   "id": "84bb85f6",
   "metadata": {},
   "outputs": [
    {
     "data": {
      "text/plain": [
       "26"
      ]
     },
     "execution_count": 46,
     "metadata": {},
     "output_type": "execute_result"
    }
   ],
   "source": [
    "s = 'abcdefghijklmnopqrstuvwxyz'\n",
    "\n",
    "len(s)"
   ]
  },
  {
   "cell_type": "code",
   "execution_count": 47,
   "id": "5650bc3c",
   "metadata": {},
   "outputs": [
    {
     "data": {
      "text/plain": [
       "True"
      ]
     },
     "execution_count": 47,
     "metadata": {},
     "output_type": "execute_result"
    }
   ],
   "source": [
    "'j' in s"
   ]
  },
  {
   "cell_type": "code",
   "execution_count": 48,
   "id": "05c359d8",
   "metadata": {},
   "outputs": [
    {
     "data": {
      "text/plain": [
       "9"
      ]
     },
     "execution_count": 48,
     "metadata": {},
     "output_type": "execute_result"
    }
   ],
   "source": [
    "# where, though, is 'j' in s?\n",
    "s.index('j')"
   ]
  },
  {
   "cell_type": "code",
   "execution_count": 50,
   "id": "1825b3c5",
   "metadata": {},
   "outputs": [
    {
     "data": {
      "text/plain": [
       "4"
      ]
     },
     "execution_count": 50,
     "metadata": {},
     "output_type": "execute_result"
    }
   ],
   "source": [
    "x = 'abcdefgabcdefg'\n",
    "\n",
    "x.index('e')"
   ]
  },
  {
   "cell_type": "code",
   "execution_count": 51,
   "id": "8cec2395",
   "metadata": {},
   "outputs": [
    {
     "data": {
      "text/plain": [
       "11"
      ]
     },
     "execution_count": 51,
     "metadata": {},
     "output_type": "execute_result"
    }
   ],
   "source": [
    "x = 'abcdefgabcdefg'\n",
    "\n",
    "x.rindex('e')    # right-side index"
   ]
  },
  {
   "cell_type": "code",
   "execution_count": 52,
   "id": "23a35c2a",
   "metadata": {},
   "outputs": [
    {
     "ename": "ValueError",
     "evalue": "substring not found",
     "output_type": "error",
     "traceback": [
      "\u001b[0;31m---------------------------------------------------------------------------\u001b[0m",
      "\u001b[0;31mValueError\u001b[0m                                Traceback (most recent call last)",
      "\u001b[0;32m/var/folders/rr/0mnyyv811fs5vyp22gf4fxk00000gn/T/ipykernel_13035/1033342529.py\u001b[0m in \u001b[0;36m<module>\u001b[0;34m\u001b[0m\n\u001b[0;32m----> 1\u001b[0;31m \u001b[0ms\u001b[0m\u001b[0;34m.\u001b[0m\u001b[0mindex\u001b[0m\u001b[0;34m(\u001b[0m\u001b[0;34m'!'\u001b[0m\u001b[0;34m)\u001b[0m\u001b[0;34m\u001b[0m\u001b[0;34m\u001b[0m\u001b[0m\n\u001b[0m",
      "\u001b[0;31mValueError\u001b[0m: substring not found"
     ]
    }
   ],
   "source": [
    "s.index('!')"
   ]
  },
  {
   "cell_type": "code",
   "execution_count": 53,
   "id": "e9afcc75",
   "metadata": {},
   "outputs": [],
   "source": [
    "# sequence: string, list, tuple"
   ]
  },
  {
   "cell_type": "markdown",
   "id": "52b6e673",
   "metadata": {},
   "source": [
    "# Loops\n",
    "\n",
    "Python has just two types of loops:\n",
    "\n",
    "- `for`\n",
    "- `while`"
   ]
  },
  {
   "cell_type": "code",
   "execution_count": 54,
   "id": "87ec9847",
   "metadata": {},
   "outputs": [
    {
     "name": "stdout",
     "output_type": "stream",
     "text": [
      "a\n",
      "b\n",
      "c\n",
      "d\n"
     ]
    }
   ],
   "source": [
    "s = 'abcd'\n",
    "\n",
    "for one_character in s:\n",
    "    print(one_character)"
   ]
  },
  {
   "cell_type": "code",
   "execution_count": 55,
   "id": "0b43e1d9",
   "metadata": {},
   "outputs": [
    {
     "name": "stdout",
     "output_type": "stream",
     "text": [
      "a\n",
      "b\n",
      "c\n",
      "d\n"
     ]
    }
   ],
   "source": [
    "s = 'abcd'\n",
    "\n",
    "for avocado in s:\n",
    "    print(avocado)"
   ]
  },
  {
   "cell_type": "markdown",
   "id": "1cc84889",
   "metadata": {},
   "source": [
    "# Exercise: Sum digits\n",
    "\n",
    "1. Ask the user to enter a string.\n",
    "2. Define the variable `total` to be 0.\n",
    "3. Go through each character in the string. \n",
    "    - If the character is a digit, then add to `total`\n",
    "    - If not, tell the user that this isn't numeric\n",
    "4. Print `total`\n",
    "\n"
   ]
  },
  {
   "cell_type": "code",
   "execution_count": null,
   "id": "de190e11",
   "metadata": {},
   "outputs": [],
   "source": [
    "s = input('Enter something: ')"
   ]
  }
 ],
 "metadata": {
  "kernelspec": {
   "display_name": "Python 3 (ipykernel)",
   "language": "python",
   "name": "python3"
  },
  "language_info": {
   "codemirror_mode": {
    "name": "ipython",
    "version": 3
   },
   "file_extension": ".py",
   "mimetype": "text/x-python",
   "name": "python",
   "nbconvert_exporter": "python",
   "pygments_lexer": "ipython3",
   "version": "3.10.5"
  }
 },
 "nbformat": 4,
 "nbformat_minor": 5
}
