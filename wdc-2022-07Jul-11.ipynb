{
 "cells": [
  {
   "cell_type": "markdown",
   "id": "54588e33",
   "metadata": {},
   "source": [
    "# Agenda\n",
    "\n",
    "1. String methods\n",
    "2. Loops\n",
    "    - `for`\n",
    "    - `while`\n",
    "3. Lists  \n",
    "    - Lists to strings, and back"
   ]
  },
  {
   "cell_type": "code",
   "execution_count": 3,
   "id": "7aab7c1e",
   "metadata": {},
   "outputs": [
    {
     "name": "stdout",
     "output_type": "stream",
     "text": [
      "Enter first number: 2\n",
      "Enter second number: 5\n",
      "2 + 5 = 7\n"
     ]
    }
   ],
   "source": [
    "first = input('Enter first number: ')\n",
    "second = input('Enter second number: ')\n",
    "\n",
    "first = int(first)\n",
    "second = int(second)\n",
    "\n",
    "print(f'{first} + {second} = {first+second}')"
   ]
  },
  {
   "cell_type": "code",
   "execution_count": null,
   "id": "cf888a39",
   "metadata": {},
   "outputs": [],
   "source": []
  },
  {
   "cell_type": "code",
   "execution_count": 4,
   "id": "da35ad88",
   "metadata": {},
   "outputs": [
    {
     "name": "stdout",
     "output_type": "stream",
     "text": [
      "Enter your name: Reuven\n",
      "Hello, Reuven!\n"
     ]
    }
   ],
   "source": [
    "name = input('Enter your name: ')\n",
    "\n",
    "print(f'Hello, {name}!')"
   ]
  },
  {
   "cell_type": "code",
   "execution_count": 5,
   "id": "76629a83",
   "metadata": {},
   "outputs": [
    {
     "name": "stdout",
     "output_type": "stream",
     "text": [
      "Enter your name:            Reuven            \n",
      "Hello,            Reuven            !\n"
     ]
    }
   ],
   "source": [
    "name = input('Enter your name: ')\n",
    "\n",
    "print(f'Hello, {name}!')"
   ]
  },
  {
   "cell_type": "code",
   "execution_count": 6,
   "id": "db039b82",
   "metadata": {},
   "outputs": [
    {
     "data": {
      "text/plain": [
       "'           Reuven            '"
      ]
     },
     "execution_count": 6,
     "metadata": {},
     "output_type": "execute_result"
    }
   ],
   "source": [
    "name"
   ]
  },
  {
   "cell_type": "code",
   "execution_count": 8,
   "id": "c74876d3",
   "metadata": {},
   "outputs": [
    {
     "data": {
      "text/plain": [
       "29"
      ]
     },
     "execution_count": 8,
     "metadata": {},
     "output_type": "execute_result"
    }
   ],
   "source": [
    "len(name)     #  FUNCTION(ARG)"
   ]
  },
  {
   "cell_type": "code",
   "execution_count": 9,
   "id": "98701a8b",
   "metadata": {},
   "outputs": [
    {
     "data": {
      "text/plain": [
       "'Reuven'"
      ]
     },
     "execution_count": 9,
     "metadata": {},
     "output_type": "execute_result"
    }
   ],
   "source": [
    "# DATA.METHOD()    DATA.METHOD(ARG1, ARG2)\n",
    "\n",
    "name.strip()"
   ]
  },
  {
   "cell_type": "code",
   "execution_count": 10,
   "id": "45426a48",
   "metadata": {},
   "outputs": [
    {
     "data": {
      "text/plain": [
       "'           Reuven            '"
      ]
     },
     "execution_count": 10,
     "metadata": {},
     "output_type": "execute_result"
    }
   ],
   "source": [
    "# strings are immutable -- they cannot be changed!\n",
    "name"
   ]
  },
  {
   "cell_type": "code",
   "execution_count": 11,
   "id": "dbe8a77a",
   "metadata": {},
   "outputs": [],
   "source": [
    "name = name.strip()"
   ]
  },
  {
   "cell_type": "code",
   "execution_count": 12,
   "id": "5f3d3fe0",
   "metadata": {},
   "outputs": [
    {
     "name": "stdout",
     "output_type": "stream",
     "text": [
      "Hello, Reuven!\n"
     ]
    }
   ],
   "source": [
    "print(f'Hello, {name}!')"
   ]
  },
  {
   "cell_type": "code",
   "execution_count": 13,
   "id": "9dea2754",
   "metadata": {},
   "outputs": [
    {
     "name": "stdout",
     "output_type": "stream",
     "text": [
      "Enter your name:     Reuven   \n",
      "Hello, Reuven!\n"
     ]
    }
   ],
   "source": [
    "# option 1: assign back to the variable\n",
    "\n",
    "name = input('Enter your name: ')\n",
    "name = name.strip()\n",
    "\n",
    "print(f'Hello, {name}!')"
   ]
  },
  {
   "cell_type": "code",
   "execution_count": 14,
   "id": "1d8105c7",
   "metadata": {},
   "outputs": [
    {
     "name": "stdout",
     "output_type": "stream",
     "text": [
      "Enter your name:     Reuven   \n",
      "Hello, Reuven!\n"
     ]
    }
   ],
   "source": [
    "# option 2: run the method inside of the f-string\n",
    "\n",
    "name = input('Enter your name: ')\n",
    "\n",
    "print(f'Hello, {name.strip()}!')"
   ]
  },
  {
   "cell_type": "code",
   "execution_count": 15,
   "id": "58a9526f",
   "metadata": {},
   "outputs": [
    {
     "data": {
      "text/plain": [
       "'    Reuven   '"
      ]
     },
     "execution_count": 15,
     "metadata": {},
     "output_type": "execute_result"
    }
   ],
   "source": [
    "name"
   ]
  },
  {
   "cell_type": "code",
   "execution_count": 18,
   "id": "d3580a2c",
   "metadata": {},
   "outputs": [
    {
     "name": "stdout",
     "output_type": "stream",
     "text": [
      "Enter your name: adfgafa\n",
      "Hello, adfgafa!\n"
     ]
    }
   ],
   "source": [
    "name = input('Enter your name: ').strip()\n",
    "\n",
    "print(f'Hello, {name}!')"
   ]
  },
  {
   "cell_type": "code",
   "execution_count": 17,
   "id": "2d97a670",
   "metadata": {},
   "outputs": [
    {
     "data": {
      "text/plain": [
       "'Reuven'"
      ]
     },
     "execution_count": 17,
     "metadata": {},
     "output_type": "execute_result"
    }
   ],
   "source": [
    "name"
   ]
  },
  {
   "cell_type": "code",
   "execution_count": 19,
   "id": "f5d71c3a",
   "metadata": {},
   "outputs": [
    {
     "data": {
      "text/plain": [
       "'abcd'"
      ]
     },
     "execution_count": 19,
     "metadata": {},
     "output_type": "execute_result"
    }
   ],
   "source": [
    "s = '   abcd   '\n",
    "s.strip()"
   ]
  },
  {
   "cell_type": "code",
   "execution_count": 25,
   "id": "1d4c9a46",
   "metadata": {},
   "outputs": [
    {
     "data": {
      "text/plain": [
       "'Hello'"
      ]
     },
     "execution_count": 25,
     "metadata": {},
     "output_type": "execute_result"
    }
   ],
   "source": [
    "s = '\"Hello?\"'\n",
    "\n",
    "s.strip('\"?.!')"
   ]
  },
  {
   "cell_type": "code",
   "execution_count": 21,
   "id": "75f7aa69",
   "metadata": {},
   "outputs": [
    {
     "data": {
      "text/plain": [
       "'a    b    c'"
      ]
     },
     "execution_count": 21,
     "metadata": {},
     "output_type": "execute_result"
    }
   ],
   "source": [
    "s = '   a    b    c   '\n",
    "\n",
    "s.strip()"
   ]
  },
  {
   "cell_type": "code",
   "execution_count": 22,
   "id": "eecdecc5",
   "metadata": {},
   "outputs": [
    {
     "ename": "AttributeError",
     "evalue": "'int' object has no attribute 'strip'",
     "output_type": "error",
     "traceback": [
      "\u001b[0;31m---------------------------------------------------------------------------\u001b[0m",
      "\u001b[0;31mAttributeError\u001b[0m                            Traceback (most recent call last)",
      "\u001b[0;32m/var/folders/rr/0mnyyv811fs5vyp22gf4fxk00000gn/T/ipykernel_13035/2829395959.py\u001b[0m in \u001b[0;36m<module>\u001b[0;34m\u001b[0m\n\u001b[1;32m      1\u001b[0m \u001b[0ms\u001b[0m \u001b[0;34m=\u001b[0m \u001b[0;36m123\u001b[0m    \u001b[0;31m# integer\u001b[0m\u001b[0;34m\u001b[0m\u001b[0;34m\u001b[0m\u001b[0m\n\u001b[0;32m----> 2\u001b[0;31m \u001b[0ms\u001b[0m\u001b[0;34m.\u001b[0m\u001b[0mstrip\u001b[0m\u001b[0;34m(\u001b[0m\u001b[0;34m)\u001b[0m\u001b[0;34m\u001b[0m\u001b[0;34m\u001b[0m\u001b[0m\n\u001b[0m",
      "\u001b[0;31mAttributeError\u001b[0m: 'int' object has no attribute 'strip'"
     ]
    }
   ],
   "source": [
    "s = 123    # integer\n",
    "s.strip()"
   ]
  },
  {
   "cell_type": "code",
   "execution_count": 26,
   "id": "6c6972fb",
   "metadata": {},
   "outputs": [
    {
     "data": {
      "text/plain": [
       "'abcd efgh'"
      ]
     },
     "execution_count": 26,
     "metadata": {},
     "output_type": "execute_result"
    }
   ],
   "source": [
    "s = 'aBcD eFgH'\n",
    "\n",
    "s.lower()   # all lowercase string is returned"
   ]
  },
  {
   "cell_type": "code",
   "execution_count": 27,
   "id": "336a750a",
   "metadata": {},
   "outputs": [
    {
     "data": {
      "text/plain": [
       "'ABCD EFGH'"
      ]
     },
     "execution_count": 27,
     "metadata": {},
     "output_type": "execute_result"
    }
   ],
   "source": [
    "s.upper()   # all uppercase, based on s"
   ]
  },
  {
   "cell_type": "code",
   "execution_count": 28,
   "id": "7803748e",
   "metadata": {},
   "outputs": [
    {
     "data": {
      "text/plain": [
       "'Abcd Efgh'"
      ]
     },
     "execution_count": 28,
     "metadata": {},
     "output_type": "execute_result"
    }
   ],
   "source": [
    "s.title()    # start of word is capitalized, rest are lowercase"
   ]
  },
  {
   "cell_type": "code",
   "execution_count": 29,
   "id": "57570abc",
   "metadata": {},
   "outputs": [
    {
     "data": {
      "text/plain": [
       "'Abcd efgh'"
      ]
     },
     "execution_count": 29,
     "metadata": {},
     "output_type": "execute_result"
    }
   ],
   "source": [
    "s.capitalize()  # only first letter is capitalized"
   ]
  },
  {
   "cell_type": "code",
   "execution_count": 30,
   "id": "86b83695",
   "metadata": {},
   "outputs": [
    {
     "data": {
      "text/plain": [
       "'AbCd EfGh'"
      ]
     },
     "execution_count": 30,
     "metadata": {},
     "output_type": "execute_result"
    }
   ],
   "source": [
    "s.swapcase()   # switch the case "
   ]
  },
  {
   "cell_type": "code",
   "execution_count": 31,
   "id": "bc49d9d5",
   "metadata": {},
   "outputs": [
    {
     "name": "stdout",
     "output_type": "stream",
     "text": [
      "Enter number: 10\n",
      "Enter second number: 5\n",
      "10 + 5 = 15\n"
     ]
    }
   ],
   "source": [
    "first = input('Enter number: ')\n",
    "second = input('Enter second number: ')\n",
    "\n",
    "first = int(first)\n",
    "second = int(second)\n",
    "\n",
    "print(f'{first} + {second} = {first+second}')"
   ]
  },
  {
   "cell_type": "code",
   "execution_count": 33,
   "id": "dd19862a",
   "metadata": {},
   "outputs": [
    {
     "name": "stdout",
     "output_type": "stream",
     "text": [
      "Enter number: 123\n",
      "Enter second number: abcd\n",
      "You must enter numbers!\n"
     ]
    }
   ],
   "source": [
    "first = input('Enter number: ')\n",
    "second = input('Enter second number: ')\n",
    "\n",
    "if first.isdigit() and second.isdigit():\n",
    "\n",
    "    first = int(first)\n",
    "    second = int(second)\n",
    "\n",
    "    print(f'{first} + {second} = {first+second}')\n",
    "\n",
    "else:\n",
    "    print(f'You must enter numbers!')"
   ]
  },
  {
   "cell_type": "code",
   "execution_count": 34,
   "id": "12c643d2",
   "metadata": {},
   "outputs": [],
   "source": [
    "x = 123.456"
   ]
  },
  {
   "cell_type": "code",
   "execution_count": 35,
   "id": "c616c9bb",
   "metadata": {},
   "outputs": [
    {
     "data": {
      "text/plain": [
       "(8687443681197687, 70368744177664)"
      ]
     },
     "execution_count": 35,
     "metadata": {},
     "output_type": "execute_result"
    }
   ],
   "source": [
    "x.as_integer_ratio()"
   ]
  },
  {
   "cell_type": "code",
   "execution_count": 36,
   "id": "d298a9ee",
   "metadata": {},
   "outputs": [
    {
     "data": {
      "text/plain": [
       "False"
      ]
     },
     "execution_count": 36,
     "metadata": {},
     "output_type": "execute_result"
    }
   ],
   "source": [
    "x.is_integer()"
   ]
  },
  {
   "cell_type": "code",
   "execution_count": 37,
   "id": "374ccb6b",
   "metadata": {},
   "outputs": [
    {
     "data": {
      "text/plain": [
       "True"
      ]
     },
     "execution_count": 37,
     "metadata": {},
     "output_type": "execute_result"
    }
   ],
   "source": [
    "x = 123.0\n",
    "x.is_integer()"
   ]
  },
  {
   "cell_type": "code",
   "execution_count": 41,
   "id": "a5b64283",
   "metadata": {},
   "outputs": [
    {
     "data": {
      "text/plain": [
       "4779.671096801758"
      ]
     },
     "execution_count": 41,
     "metadata": {},
     "output_type": "execute_result"
    }
   ],
   "source": [
    "float.fromhex('12ab.abcd')"
   ]
  },
  {
   "cell_type": "code",
   "execution_count": 42,
   "id": "b04daccc",
   "metadata": {},
   "outputs": [
    {
     "data": {
      "text/plain": [
       "0.99609375"
      ]
     },
     "execution_count": 42,
     "metadata": {},
     "output_type": "execute_result"
    }
   ],
   "source": [
    "float.fromhex('0.ff')"
   ]
  },
  {
   "cell_type": "code",
   "execution_count": 44,
   "id": "e2c067d4",
   "metadata": {},
   "outputs": [
    {
     "data": {
      "text/plain": [
       "0.99609375"
      ]
     },
     "execution_count": 44,
     "metadata": {},
     "output_type": "execute_result"
    }
   ],
   "source": [
    "255 / 16 ** 2"
   ]
  },
  {
   "cell_type": "code",
   "execution_count": 45,
   "id": "6709a519",
   "metadata": {},
   "outputs": [
    {
     "data": {
      "text/plain": [
       "255"
      ]
     },
     "execution_count": 45,
     "metadata": {},
     "output_type": "execute_result"
    }
   ],
   "source": [
    "0xff"
   ]
  },
  {
   "cell_type": "code",
   "execution_count": 46,
   "id": "e59d978a",
   "metadata": {},
   "outputs": [
    {
     "data": {
      "text/plain": [
       "26"
      ]
     },
     "execution_count": 46,
     "metadata": {},
     "output_type": "execute_result"
    }
   ],
   "source": [
    "s = 'abcdefghijklmnopqrstuvwxyz'\n",
    "\n",
    "len(s)"
   ]
  },
  {
   "cell_type": "code",
   "execution_count": 47,
   "id": "9c7dab7e",
   "metadata": {},
   "outputs": [
    {
     "data": {
      "text/plain": [
       "True"
      ]
     },
     "execution_count": 47,
     "metadata": {},
     "output_type": "execute_result"
    }
   ],
   "source": [
    "'j' in s"
   ]
  },
  {
   "cell_type": "code",
   "execution_count": 48,
   "id": "2af0996d",
   "metadata": {},
   "outputs": [
    {
     "data": {
      "text/plain": [
       "9"
      ]
     },
     "execution_count": 48,
     "metadata": {},
     "output_type": "execute_result"
    }
   ],
   "source": [
    "# where, though, is 'j' in s?\n",
    "s.index('j')"
   ]
  },
  {
   "cell_type": "code",
   "execution_count": 50,
   "id": "eada786f",
   "metadata": {},
   "outputs": [
    {
     "data": {
      "text/plain": [
       "4"
      ]
     },
     "execution_count": 50,
     "metadata": {},
     "output_type": "execute_result"
    }
   ],
   "source": [
    "x = 'abcdefgabcdefg'\n",
    "\n",
    "x.index('e')"
   ]
  },
  {
   "cell_type": "code",
   "execution_count": 51,
   "id": "f118d070",
   "metadata": {},
   "outputs": [
    {
     "data": {
      "text/plain": [
       "11"
      ]
     },
     "execution_count": 51,
     "metadata": {},
     "output_type": "execute_result"
    }
   ],
   "source": [
    "x = 'abcdefgabcdefg'\n",
    "\n",
    "x.rindex('e')    # right-side index"
   ]
  },
  {
   "cell_type": "code",
   "execution_count": 52,
   "id": "52261fe8",
   "metadata": {},
   "outputs": [
    {
     "ename": "ValueError",
     "evalue": "substring not found",
     "output_type": "error",
     "traceback": [
      "\u001b[0;31m---------------------------------------------------------------------------\u001b[0m",
      "\u001b[0;31mValueError\u001b[0m                                Traceback (most recent call last)",
      "\u001b[0;32m/var/folders/rr/0mnyyv811fs5vyp22gf4fxk00000gn/T/ipykernel_13035/1033342529.py\u001b[0m in \u001b[0;36m<module>\u001b[0;34m\u001b[0m\n\u001b[0;32m----> 1\u001b[0;31m \u001b[0ms\u001b[0m\u001b[0;34m.\u001b[0m\u001b[0mindex\u001b[0m\u001b[0;34m(\u001b[0m\u001b[0;34m'!'\u001b[0m\u001b[0;34m)\u001b[0m\u001b[0;34m\u001b[0m\u001b[0;34m\u001b[0m\u001b[0m\n\u001b[0m",
      "\u001b[0;31mValueError\u001b[0m: substring not found"
     ]
    }
   ],
   "source": [
    "s.index('!')"
   ]
  },
  {
   "cell_type": "code",
   "execution_count": 53,
   "id": "fbe59dc1",
   "metadata": {},
   "outputs": [],
   "source": [
    "# sequence: string, list, tuple"
   ]
  },
  {
   "cell_type": "markdown",
   "id": "b5651397",
   "metadata": {},
   "source": [
    "# Loops\n",
    "\n",
    "Python has just two types of loops:\n",
    "\n",
    "- `for`\n",
    "- `while`"
   ]
  },
  {
   "cell_type": "code",
   "execution_count": 54,
   "id": "c30c4b6d",
   "metadata": {},
   "outputs": [
    {
     "name": "stdout",
     "output_type": "stream",
     "text": [
      "a\n",
      "b\n",
      "c\n",
      "d\n"
     ]
    }
   ],
   "source": [
    "s = 'abcd'\n",
    "\n",
    "for one_character in s:\n",
    "    print(one_character)"
   ]
  },
  {
   "cell_type": "code",
   "execution_count": 55,
   "id": "1d94033e",
   "metadata": {},
   "outputs": [
    {
     "name": "stdout",
     "output_type": "stream",
     "text": [
      "a\n",
      "b\n",
      "c\n",
      "d\n"
     ]
    }
   ],
   "source": [
    "s = 'abcd'\n",
    "\n",
    "for avocado in s:\n",
    "    print(avocado)"
   ]
  },
  {
   "cell_type": "markdown",
   "id": "ab2efda6",
   "metadata": {},
   "source": [
    "# Exercise: Sum digits\n",
    "\n",
    "1. Ask the user to enter a string.\n",
    "2. Define the variable `total` to be 0.\n",
    "3. Go through each character in the string. \n",
    "    - If the character is a digit, then add to `total`\n",
    "    - If not, tell the user that this isn't numeric\n",
    "4. Print `total`\n",
    "\n"
   ]
  },
  {
   "cell_type": "code",
   "execution_count": 56,
   "id": "b8edf211",
   "metadata": {},
   "outputs": [
    {
     "name": "stdout",
     "output_type": "stream",
     "text": [
      "10 + 12.34 = 22.34\n"
     ]
    }
   ],
   "source": [
    "x = 10\n",
    "y = 12.34\n",
    "\n",
    "print(f'{x} + {y} = {x+y}')"
   ]
  },
  {
   "cell_type": "code",
   "execution_count": 57,
   "id": "f31d6374",
   "metadata": {},
   "outputs": [
    {
     "data": {
      "text/plain": [
       "True"
      ]
     },
     "execution_count": 57,
     "metadata": {},
     "output_type": "execute_result"
    }
   ],
   "source": [
    "s = '123'\n",
    "s.isdigit()"
   ]
  },
  {
   "cell_type": "code",
   "execution_count": 58,
   "id": "2fe17998",
   "metadata": {},
   "outputs": [
    {
     "data": {
      "text/plain": [
       "False"
      ]
     },
     "execution_count": 58,
     "metadata": {},
     "output_type": "execute_result"
    }
   ],
   "source": [
    "s = ' 123'\n",
    "s.isdigit()"
   ]
  },
  {
   "cell_type": "code",
   "execution_count": 59,
   "id": "82596b59",
   "metadata": {},
   "outputs": [
    {
     "data": {
      "text/plain": [
       "5"
      ]
     },
     "execution_count": 59,
     "metadata": {},
     "output_type": "execute_result"
    }
   ],
   "source": [
    "int('5')"
   ]
  },
  {
   "cell_type": "code",
   "execution_count": 60,
   "id": "dac43895",
   "metadata": {},
   "outputs": [
    {
     "data": {
      "text/plain": [
       "int"
      ]
     },
     "execution_count": 60,
     "metadata": {},
     "output_type": "execute_result"
    }
   ],
   "source": [
    "type(int('5'))"
   ]
  },
  {
   "cell_type": "code",
   "execution_count": 61,
   "id": "ca3be796",
   "metadata": {},
   "outputs": [
    {
     "name": "stdout",
     "output_type": "stream",
     "text": [
      "Enter a string: 123abc45\n",
      "Non-numeric character a\n",
      "Non-numeric character b\n",
      "Non-numeric character c\n",
      "total = 15\n"
     ]
    }
   ],
   "source": [
    "total = 0\n",
    "\n",
    "s = input('Enter a string: ').strip()\n",
    "\n",
    "for one_character in s:\n",
    "    if one_character.isdigit():\n",
    "        total += int(one_character)\n",
    "    else:\n",
    "        print(f'Non-numeric character {one_character}')\n",
    "        \n",
    "print(f'total = {total}')        "
   ]
  },
  {
   "cell_type": "code",
   "execution_count": 63,
   "id": "353cba4b",
   "metadata": {},
   "outputs": [
    {
     "ename": "TypeError",
     "evalue": "'int' object is not iterable",
     "output_type": "error",
     "traceback": [
      "\u001b[0;31m---------------------------------------------------------------------------\u001b[0m",
      "\u001b[0;31mTypeError\u001b[0m                                 Traceback (most recent call last)",
      "\u001b[0;32m/var/folders/rr/0mnyyv811fs5vyp22gf4fxk00000gn/T/ipykernel_13035/3115839276.py\u001b[0m in \u001b[0;36m<module>\u001b[0;34m\u001b[0m\n\u001b[0;32m----> 1\u001b[0;31m \u001b[0;32mfor\u001b[0m \u001b[0mi\u001b[0m \u001b[0;32min\u001b[0m \u001b[0;36m3\u001b[0m\u001b[0;34m:\u001b[0m\u001b[0;34m\u001b[0m\u001b[0;34m\u001b[0m\u001b[0m\n\u001b[0m\u001b[1;32m      2\u001b[0m     \u001b[0mprint\u001b[0m\u001b[0;34m(\u001b[0m\u001b[0;34m'Yay!'\u001b[0m\u001b[0;34m)\u001b[0m\u001b[0;34m\u001b[0m\u001b[0;34m\u001b[0m\u001b[0m\n",
      "\u001b[0;31mTypeError\u001b[0m: 'int' object is not iterable"
     ]
    }
   ],
   "source": [
    "for i in 3:\n",
    "    print('Yay!')"
   ]
  },
  {
   "cell_type": "code",
   "execution_count": 65,
   "id": "a171c1a9",
   "metadata": {},
   "outputs": [
    {
     "name": "stdout",
     "output_type": "stream",
     "text": [
      "0 Yay!\n",
      "1 Yay!\n",
      "2 Yay!\n"
     ]
    }
   ],
   "source": [
    "for i in range(3):    # from 0 until (not including) 3\n",
    "    print(f'{i} Yay!')"
   ]
  },
  {
   "cell_type": "code",
   "execution_count": 67,
   "id": "9d120c82",
   "metadata": {},
   "outputs": [
    {
     "name": "stdout",
     "output_type": "stream",
     "text": [
      "3 Hello\n",
      "4 Hello\n",
      "5 Hello\n",
      "6 Hello\n",
      "7 Hello\n",
      "8 Hello\n",
      "9 Hello\n"
     ]
    }
   ],
   "source": [
    "for i in range(3, 10):   # from 3 until (not including) 10\n",
    "    print(f'{i} Hello')"
   ]
  },
  {
   "cell_type": "code",
   "execution_count": 68,
   "id": "38c81ed5",
   "metadata": {},
   "outputs": [
    {
     "name": "stdout",
     "output_type": "stream",
     "text": [
      "3 Hello\n",
      "5 Hello\n",
      "7 Hello\n",
      "9 Hello\n"
     ]
    }
   ],
   "source": [
    "for i in range(3, 10, 2):  # from 3 until (not including) 10, step size 2\n",
    "    print(f'{i} Hello')"
   ]
  },
  {
   "cell_type": "code",
   "execution_count": 69,
   "id": "0b77faad",
   "metadata": {},
   "outputs": [
    {
     "name": "stdout",
     "output_type": "stream",
     "text": [
      "0: a\n",
      "1: b\n",
      "2: c\n",
      "3: d\n"
     ]
    }
   ],
   "source": [
    "# option 1 for printing indexes\n",
    "# manually\n",
    "\n",
    "s = 'abcd'\n",
    "index = 0\n",
    "\n",
    "for one_character in s:\n",
    "    print(f'{index}: {one_character}')\n",
    "    index += 1\n"
   ]
  },
  {
   "cell_type": "code",
   "execution_count": 70,
   "id": "640c1700",
   "metadata": {},
   "outputs": [
    {
     "name": "stdout",
     "output_type": "stream",
     "text": [
      "0: a\n",
      "1: b\n",
      "2: c\n",
      "3: d\n"
     ]
    }
   ],
   "source": [
    "# option 2 for printing indexes\n",
    "# enumerate\n",
    "\n",
    "s = 'abcd'\n",
    "\n",
    "for index, one_character in enumerate(s):\n",
    "    print(f'{index}: {one_character}')"
   ]
  },
  {
   "cell_type": "code",
   "execution_count": 71,
   "id": "19149f7d",
   "metadata": {},
   "outputs": [
    {
     "name": "stdout",
     "output_type": "stream",
     "text": [
      "a\n",
      "b\n",
      "c\n"
     ]
    }
   ],
   "source": [
    "s = 'abcde'\n",
    "look_for = 'd'\n",
    "\n",
    "for one_letter in s:\n",
    "    if look_for == one_letter:\n",
    "        break  # immediately exit from the current loop\n",
    "        \n",
    "    print(one_letter)"
   ]
  },
  {
   "cell_type": "code",
   "execution_count": 72,
   "id": "75cbaf35",
   "metadata": {},
   "outputs": [
    {
     "name": "stdout",
     "output_type": "stream",
     "text": [
      "a\n",
      "b\n",
      "c\n",
      "e\n"
     ]
    }
   ],
   "source": [
    "s = 'abcde'\n",
    "look_for = 'd'\n",
    "\n",
    "for one_letter in s:\n",
    "    if look_for == one_letter:\n",
    "        continue  # go onto the next iteration, but stay in the loop\n",
    "        \n",
    "    print(one_letter)"
   ]
  },
  {
   "cell_type": "code",
   "execution_count": null,
   "id": "e8c68244",
   "metadata": {},
   "outputs": [],
   "source": [
    "total = 0\n",
    "\n",
    "s = input('Enter a string: ').strip()\n",
    "\n",
    "for one_character in s:\n",
    "    if not one_character.isdigit():\n",
    "        print(f'Non-numeric character {one_character}')\n",
    "        continue\n",
    "        \n",
    "    total += int(one_character)\n",
    "        \n",
    "print(f'total = {total}')        "
   ]
  },
  {
   "cell_type": "code",
   "execution_count": null,
   "id": "9c61d243",
   "metadata": {},
   "outputs": [],
   "source": []
  },
  {
   "cell_type": "code",
   "execution_count": 73,
   "id": "cf1c6ac6",
   "metadata": {},
   "outputs": [
    {
     "ename": "SyntaxError",
     "evalue": "'break' outside loop (668683560.py, line 1)",
     "output_type": "error",
     "traceback": [
      "\u001b[0;36m  File \u001b[0;32m\"/var/folders/rr/0mnyyv811fs5vyp22gf4fxk00000gn/T/ipykernel_13035/668683560.py\"\u001b[0;36m, line \u001b[0;32m1\u001b[0m\n\u001b[0;31m    break\u001b[0m\n\u001b[0m    ^\u001b[0m\n\u001b[0;31mSyntaxError\u001b[0m\u001b[0;31m:\u001b[0m 'break' outside loop\n"
     ]
    }
   ],
   "source": [
    "break"
   ]
  },
  {
   "cell_type": "code",
   "execution_count": 74,
   "id": "674cd252",
   "metadata": {},
   "outputs": [
    {
     "ename": "SyntaxError",
     "evalue": "'continue' not properly in loop (414696514.py, line 1)",
     "output_type": "error",
     "traceback": [
      "\u001b[0;36m  File \u001b[0;32m\"/var/folders/rr/0mnyyv811fs5vyp22gf4fxk00000gn/T/ipykernel_13035/414696514.py\"\u001b[0;36m, line \u001b[0;32m1\u001b[0m\n\u001b[0;31m    continue\u001b[0m\n\u001b[0m    ^\u001b[0m\n\u001b[0;31mSyntaxError\u001b[0m\u001b[0;31m:\u001b[0m 'continue' not properly in loop\n"
     ]
    }
   ],
   "source": [
    "continue"
   ]
  },
  {
   "cell_type": "code",
   "execution_count": 75,
   "id": "6912cd41",
   "metadata": {},
   "outputs": [
    {
     "name": "stdout",
     "output_type": "stream",
     "text": [
      "5\n",
      "4\n",
      "3\n",
      "2\n",
      "1\n"
     ]
    }
   ],
   "source": [
    "x = 5\n",
    "\n",
    "while x > 0:\n",
    "    print(x)\n",
    "    x -= 1"
   ]
  },
  {
   "cell_type": "code",
   "execution_count": 76,
   "id": "928daa47",
   "metadata": {},
   "outputs": [
    {
     "name": "stdout",
     "output_type": "stream",
     "text": [
      "Enter your name: Reuven\n",
      "Hello, Reuven!\n",
      "Enter your name: someone else\n",
      "Hello, someone else!\n",
      "Enter your name: whoever\n",
      "Hello, whoever!\n",
      "Enter your name: whatever\n",
      "Hello, whatever!\n",
      "Enter your name: asdfadsfads\n",
      "Hello, asdfadsfads!\n",
      "Enter your name: \n"
     ]
    }
   ],
   "source": [
    "while True:\n",
    "    name = input('Enter your name: ').strip()\n",
    "    \n",
    "    if not name:    # empty string? exit the loop\n",
    "        break\n",
    "        \n",
    "    print(f'Hello, {name}!')"
   ]
  },
  {
   "cell_type": "markdown",
   "id": "9c8bd081",
   "metadata": {},
   "source": [
    "# Next up\n",
    "\n",
    "1. Lists\n",
    "2. Lists to strings (and back)\n",
    "3. Tuples\n",
    "    - Unpacking\n",
    "    \n",
    "Continue at 15:10"
   ]
  },
  {
   "cell_type": "markdown",
   "id": "4ea7f013",
   "metadata": {},
   "source": [
    "# Lists \n",
    "\n",
    "Traditionally, for collections of items of the same type."
   ]
  },
  {
   "cell_type": "code",
   "execution_count": 80,
   "id": "d4f514b4",
   "metadata": {},
   "outputs": [
    {
     "data": {
      "text/plain": [
       "list"
      ]
     },
     "execution_count": 80,
     "metadata": {},
     "output_type": "execute_result"
    }
   ],
   "source": [
    "mylist = [10, 20, 30, 40, 50, 60, 70, 80, 90, 100]   # use [] to define, with commas (,) between elements\n",
    "\n",
    "type(mylist)"
   ]
  },
  {
   "cell_type": "code",
   "execution_count": 81,
   "id": "670cfabe",
   "metadata": {},
   "outputs": [
    {
     "data": {
      "text/plain": [
       "10"
      ]
     },
     "execution_count": 81,
     "metadata": {},
     "output_type": "execute_result"
    }
   ],
   "source": [
    "len(mylist)"
   ]
  },
  {
   "cell_type": "code",
   "execution_count": 82,
   "id": "167ec1c2",
   "metadata": {},
   "outputs": [
    {
     "data": {
      "text/plain": [
       "10"
      ]
     },
     "execution_count": 82,
     "metadata": {},
     "output_type": "execute_result"
    }
   ],
   "source": [
    "mylist[0]  # indexing starts with 0"
   ]
  },
  {
   "cell_type": "code",
   "execution_count": 83,
   "id": "6cd21daf",
   "metadata": {},
   "outputs": [
    {
     "data": {
      "text/plain": [
       "20"
      ]
     },
     "execution_count": 83,
     "metadata": {},
     "output_type": "execute_result"
    }
   ],
   "source": [
    "mylist[1]"
   ]
  },
  {
   "cell_type": "code",
   "execution_count": 84,
   "id": "0f22ec11",
   "metadata": {},
   "outputs": [
    {
     "data": {
      "text/plain": [
       "100"
      ]
     },
     "execution_count": 84,
     "metadata": {},
     "output_type": "execute_result"
    }
   ],
   "source": [
    "mylist[-1]   # final element in mylist"
   ]
  },
  {
   "cell_type": "code",
   "execution_count": 86,
   "id": "a0002f07",
   "metadata": {},
   "outputs": [
    {
     "data": {
      "text/plain": [
       "[30, 40, 50, 60]"
      ]
     },
     "execution_count": 86,
     "metadata": {},
     "output_type": "execute_result"
    }
   ],
   "source": [
    "mylist[2:6]  # slice"
   ]
  },
  {
   "cell_type": "code",
   "execution_count": 87,
   "id": "da12a2fe",
   "metadata": {},
   "outputs": [
    {
     "data": {
      "text/plain": [
       "[20, 40, 60, 80]"
      ]
     },
     "execution_count": 87,
     "metadata": {},
     "output_type": "execute_result"
    }
   ],
   "source": [
    "mylist[1:8:2]  # slice with step size"
   ]
  },
  {
   "cell_type": "code",
   "execution_count": 88,
   "id": "f58b4159",
   "metadata": {},
   "outputs": [
    {
     "data": {
      "text/plain": [
       "True"
      ]
     },
     "execution_count": 88,
     "metadata": {},
     "output_type": "execute_result"
    }
   ],
   "source": [
    "70 in mylist"
   ]
  },
  {
   "cell_type": "code",
   "execution_count": 89,
   "id": "05af7397",
   "metadata": {},
   "outputs": [
    {
     "name": "stdout",
     "output_type": "stream",
     "text": [
      "10\n",
      "20\n",
      "30\n",
      "40\n",
      "50\n",
      "60\n",
      "70\n",
      "80\n",
      "90\n",
      "100\n"
     ]
    }
   ],
   "source": [
    "for one_item in mylist:\n",
    "    print(one_item)"
   ]
  },
  {
   "cell_type": "code",
   "execution_count": 90,
   "id": "b0243eb6",
   "metadata": {},
   "outputs": [],
   "source": [
    "mylist = [10, 20, 30]\n",
    "\n",
    "biglist = [mylist, mylist, mylist]"
   ]
  },
  {
   "cell_type": "code",
   "execution_count": 91,
   "id": "82639ddf",
   "metadata": {},
   "outputs": [
    {
     "data": {
      "text/plain": [
       "[10, 20, 30]"
      ]
     },
     "execution_count": 91,
     "metadata": {},
     "output_type": "execute_result"
    }
   ],
   "source": [
    "mylist   # list of ints"
   ]
  },
  {
   "cell_type": "code",
   "execution_count": 92,
   "id": "493742d9",
   "metadata": {},
   "outputs": [
    {
     "data": {
      "text/plain": [
       "[[10, 20, 30], [10, 20, 30], [10, 20, 30]]"
      ]
     },
     "execution_count": 92,
     "metadata": {},
     "output_type": "execute_result"
    }
   ],
   "source": [
    "biglist  # list of lists"
   ]
  },
  {
   "cell_type": "code",
   "execution_count": 93,
   "id": "86bc8422",
   "metadata": {},
   "outputs": [
    {
     "data": {
      "text/plain": [
       "[10, 20, 30]"
      ]
     },
     "execution_count": 93,
     "metadata": {},
     "output_type": "execute_result"
    }
   ],
   "source": [
    "biglist[0]"
   ]
  },
  {
   "cell_type": "code",
   "execution_count": 94,
   "id": "53c54592",
   "metadata": {},
   "outputs": [
    {
     "data": {
      "text/plain": [
       "3"
      ]
     },
     "execution_count": 94,
     "metadata": {},
     "output_type": "execute_result"
    }
   ],
   "source": [
    "len(biglist)"
   ]
  },
  {
   "cell_type": "code",
   "execution_count": 95,
   "id": "e118abce",
   "metadata": {},
   "outputs": [
    {
     "data": {
      "text/plain": [
       "30"
      ]
     },
     "execution_count": 95,
     "metadata": {},
     "output_type": "execute_result"
    }
   ],
   "source": [
    "biglist[1][2]"
   ]
  },
  {
   "cell_type": "code",
   "execution_count": 96,
   "id": "1d9e7821",
   "metadata": {},
   "outputs": [],
   "source": [
    "something = [['a', 'b', 'c'], [100, 200, 30.5], ['hello', 10, [1,2,3]]]"
   ]
  },
  {
   "cell_type": "code",
   "execution_count": 97,
   "id": "708c1321",
   "metadata": {},
   "outputs": [
    {
     "data": {
      "text/plain": [
       "[['a', 'b', 'c'], [100, 200, 30.5], ['hello', 10, [1, 2, 3]]]"
      ]
     },
     "execution_count": 97,
     "metadata": {},
     "output_type": "execute_result"
    }
   ],
   "source": [
    "something"
   ]
  },
  {
   "cell_type": "code",
   "execution_count": 98,
   "id": "88109bbd",
   "metadata": {},
   "outputs": [
    {
     "name": "stdout",
     "output_type": "stream",
     "text": [
      "['a', 'b', 'c']\n",
      "[100, 200, 30.5]\n",
      "['hello', 10, [1, 2, 3]]\n"
     ]
    }
   ],
   "source": [
    "for one_item in something:\n",
    "    print(one_item)"
   ]
  },
  {
   "cell_type": "code",
   "execution_count": 99,
   "id": "c9712d03",
   "metadata": {},
   "outputs": [
    {
     "data": {
      "text/plain": [
       "'a'"
      ]
     },
     "execution_count": 99,
     "metadata": {},
     "output_type": "execute_result"
    }
   ],
   "source": [
    "s = 'abcde'\n",
    "s[0]"
   ]
  },
  {
   "cell_type": "code",
   "execution_count": 100,
   "id": "8ee071a6",
   "metadata": {},
   "outputs": [
    {
     "ename": "TypeError",
     "evalue": "'str' object does not support item assignment",
     "output_type": "error",
     "traceback": [
      "\u001b[0;31m---------------------------------------------------------------------------\u001b[0m",
      "\u001b[0;31mTypeError\u001b[0m                                 Traceback (most recent call last)",
      "\u001b[0;32m/var/folders/rr/0mnyyv811fs5vyp22gf4fxk00000gn/T/ipykernel_13035/1007247520.py\u001b[0m in \u001b[0;36m<module>\u001b[0;34m\u001b[0m\n\u001b[0;32m----> 1\u001b[0;31m \u001b[0ms\u001b[0m\u001b[0;34m[\u001b[0m\u001b[0;36m0\u001b[0m\u001b[0;34m]\u001b[0m \u001b[0;34m=\u001b[0m \u001b[0;34m\"!\"\u001b[0m\u001b[0;34m\u001b[0m\u001b[0;34m\u001b[0m\u001b[0m\n\u001b[0m",
      "\u001b[0;31mTypeError\u001b[0m: 'str' object does not support item assignment"
     ]
    }
   ],
   "source": [
    "s[0] = \"!\""
   ]
  },
  {
   "cell_type": "code",
   "execution_count": 101,
   "id": "759dd31b",
   "metadata": {},
   "outputs": [
    {
     "data": {
      "text/plain": [
       "[10, 20, 30]"
      ]
     },
     "execution_count": 101,
     "metadata": {},
     "output_type": "execute_result"
    }
   ],
   "source": [
    "mylist"
   ]
  },
  {
   "cell_type": "code",
   "execution_count": 102,
   "id": "6139626e",
   "metadata": {},
   "outputs": [
    {
     "data": {
      "text/plain": [
       "10"
      ]
     },
     "execution_count": 102,
     "metadata": {},
     "output_type": "execute_result"
    }
   ],
   "source": [
    "mylist[0]"
   ]
  },
  {
   "cell_type": "code",
   "execution_count": 103,
   "id": "11c889df",
   "metadata": {},
   "outputs": [],
   "source": [
    "mylist[0] = '!'"
   ]
  },
  {
   "cell_type": "code",
   "execution_count": 104,
   "id": "98c3b1f1",
   "metadata": {},
   "outputs": [
    {
     "data": {
      "text/plain": [
       "['!', 20, 30]"
      ]
     },
     "execution_count": 104,
     "metadata": {},
     "output_type": "execute_result"
    }
   ],
   "source": [
    "mylist"
   ]
  },
  {
   "cell_type": "code",
   "execution_count": 105,
   "id": "b5dd689b",
   "metadata": {},
   "outputs": [],
   "source": [
    "mylist.append(40)  # adds the int 40 to the end"
   ]
  },
  {
   "cell_type": "code",
   "execution_count": 106,
   "id": "c8e9ede1",
   "metadata": {},
   "outputs": [
    {
     "data": {
      "text/plain": [
       "['!', 20, 30, 40]"
      ]
     },
     "execution_count": 106,
     "metadata": {},
     "output_type": "execute_result"
    }
   ],
   "source": [
    "mylist"
   ]
  },
  {
   "cell_type": "code",
   "execution_count": 107,
   "id": "071351e3",
   "metadata": {},
   "outputs": [
    {
     "data": {
      "text/plain": [
       "[['!', 20, 30, 40], ['!', 20, 30, 40], ['!', 20, 30, 40]]"
      ]
     },
     "execution_count": 107,
     "metadata": {},
     "output_type": "execute_result"
    }
   ],
   "source": [
    "biglist"
   ]
  },
  {
   "cell_type": "code",
   "execution_count": 108,
   "id": "69d0b3db",
   "metadata": {},
   "outputs": [],
   "source": [
    "mylist = [10, 20, 30]\n",
    "\n",
    "mylist.append(40)"
   ]
  },
  {
   "cell_type": "code",
   "execution_count": 109,
   "id": "9c3f2a12",
   "metadata": {},
   "outputs": [
    {
     "data": {
      "text/plain": [
       "[10, 20, 30, 40]"
      ]
     },
     "execution_count": 109,
     "metadata": {},
     "output_type": "execute_result"
    }
   ],
   "source": [
    "mylist"
   ]
  },
  {
   "cell_type": "code",
   "execution_count": 110,
   "id": "d3d3a48c",
   "metadata": {},
   "outputs": [
    {
     "data": {
      "text/plain": [
       "[10, 20, 30, 40, [100, 200, 300]]"
      ]
     },
     "execution_count": 110,
     "metadata": {},
     "output_type": "execute_result"
    }
   ],
   "source": [
    "mylist.append([100, 200, 300])\n",
    "mylist"
   ]
  },
  {
   "cell_type": "code",
   "execution_count": 111,
   "id": "31cab1c9",
   "metadata": {},
   "outputs": [
    {
     "data": {
      "text/plain": [
       "5"
      ]
     },
     "execution_count": 111,
     "metadata": {},
     "output_type": "execute_result"
    }
   ],
   "source": [
    "len(mylist)"
   ]
  },
  {
   "cell_type": "code",
   "execution_count": 112,
   "id": "4ae69ea7",
   "metadata": {},
   "outputs": [],
   "source": [
    "mylist.append('hello')"
   ]
  },
  {
   "cell_type": "code",
   "execution_count": 113,
   "id": "6bfa3130",
   "metadata": {},
   "outputs": [
    {
     "data": {
      "text/plain": [
       "[10, 20, 30, 40, [100, 200, 300], 'hello']"
      ]
     },
     "execution_count": 113,
     "metadata": {},
     "output_type": "execute_result"
    }
   ],
   "source": [
    "mylist"
   ]
  },
  {
   "cell_type": "code",
   "execution_count": 114,
   "id": "00e275f8",
   "metadata": {},
   "outputs": [
    {
     "data": {
      "text/plain": [
       "[10, 20, 30, 40, [100, 200, 300], 'hello', 100, 200, 300]"
      ]
     },
     "execution_count": 114,
     "metadata": {},
     "output_type": "execute_result"
    }
   ],
   "source": [
    "mylist += [100, 200, 300]  # += looks to the right, runs \"append\" on each element\n",
    "mylist"
   ]
  },
  {
   "cell_type": "code",
   "execution_count": 115,
   "id": "3b17cca5",
   "metadata": {},
   "outputs": [],
   "source": [
    "mylist += 'hello'"
   ]
  },
  {
   "cell_type": "code",
   "execution_count": 116,
   "id": "146221b2",
   "metadata": {},
   "outputs": [
    {
     "data": {
      "text/plain": [
       "[10,\n",
       " 20,\n",
       " 30,\n",
       " 40,\n",
       " [100, 200, 300],\n",
       " 'hello',\n",
       " 100,\n",
       " 200,\n",
       " 300,\n",
       " 'h',\n",
       " 'e',\n",
       " 'l',\n",
       " 'l',\n",
       " 'o']"
      ]
     },
     "execution_count": 116,
     "metadata": {},
     "output_type": "execute_result"
    }
   ],
   "source": [
    "mylist"
   ]
  },
  {
   "cell_type": "code",
   "execution_count": 117,
   "id": "05d44b69",
   "metadata": {},
   "outputs": [
    {
     "data": {
      "text/plain": [
       "'o'"
      ]
     },
     "execution_count": 117,
     "metadata": {},
     "output_type": "execute_result"
    }
   ],
   "source": [
    "mylist.pop()   # removes + returns element at the end"
   ]
  },
  {
   "cell_type": "code",
   "execution_count": 118,
   "id": "8d3e8ace",
   "metadata": {},
   "outputs": [
    {
     "data": {
      "text/plain": [
       "[10, 20, 30, 40, [100, 200, 300], 'hello', 100, 200, 300, 'h', 'e', 'l', 'l']"
      ]
     },
     "execution_count": 118,
     "metadata": {},
     "output_type": "execute_result"
    }
   ],
   "source": [
    "mylist"
   ]
  },
  {
   "cell_type": "code",
   "execution_count": 119,
   "id": "131ed836",
   "metadata": {},
   "outputs": [
    {
     "data": {
      "text/plain": [
       "40"
      ]
     },
     "execution_count": 119,
     "metadata": {},
     "output_type": "execute_result"
    }
   ],
   "source": [
    "mylist.pop(3)   # removes + returns element at index 3"
   ]
  },
  {
   "cell_type": "code",
   "execution_count": 120,
   "id": "86b5dce3",
   "metadata": {},
   "outputs": [
    {
     "data": {
      "text/plain": [
       "[10, 20, 30, [100, 200, 300], 'hello', 100, 200, 300, 'h', 'e', 'l', 'l']"
      ]
     },
     "execution_count": 120,
     "metadata": {},
     "output_type": "execute_result"
    }
   ],
   "source": [
    "mylist"
   ]
  },
  {
   "cell_type": "code",
   "execution_count": 121,
   "id": "c90b0077",
   "metadata": {},
   "outputs": [],
   "source": [
    "# don't do this!\n",
    "\n",
    "mylist = mylist.append(100) "
   ]
  },
  {
   "cell_type": "code",
   "execution_count": 122,
   "id": "a5f30cb0",
   "metadata": {},
   "outputs": [
    {
     "name": "stdout",
     "output_type": "stream",
     "text": [
      "None\n"
     ]
    }
   ],
   "source": [
    "print(mylist)"
   ]
  },
  {
   "cell_type": "code",
   "execution_count": 123,
   "id": "3e7e3d69",
   "metadata": {},
   "outputs": [
    {
     "data": {
      "text/plain": [
       "[10, 20, 30, 100]"
      ]
     },
     "execution_count": 123,
     "metadata": {},
     "output_type": "execute_result"
    }
   ],
   "source": [
    "mylist = [10, 20, 30]\n",
    "mylist.append(100)\n",
    "\n",
    "mylist"
   ]
  },
  {
   "cell_type": "code",
   "execution_count": 124,
   "id": "3506a99a",
   "metadata": {},
   "outputs": [
    {
     "data": {
      "text/plain": [
       "3"
      ]
     },
     "execution_count": 124,
     "metadata": {},
     "output_type": "execute_result"
    }
   ],
   "source": [
    "mylist = [10, 20, 30]\n",
    "len(mylist)"
   ]
  },
  {
   "cell_type": "code",
   "execution_count": 125,
   "id": "b85be34c",
   "metadata": {},
   "outputs": [
    {
     "data": {
      "text/plain": [
       "30"
      ]
     },
     "execution_count": 125,
     "metadata": {},
     "output_type": "execute_result"
    }
   ],
   "source": [
    "mylist.pop()   # returns + removes the final item in the list (at index -1)"
   ]
  },
  {
   "cell_type": "code",
   "execution_count": 126,
   "id": "1f4e66ae",
   "metadata": {},
   "outputs": [
    {
     "data": {
      "text/plain": [
       "2"
      ]
     },
     "execution_count": 126,
     "metadata": {},
     "output_type": "execute_result"
    }
   ],
   "source": [
    "len(mylist)"
   ]
  },
  {
   "cell_type": "code",
   "execution_count": 127,
   "id": "3751928f",
   "metadata": {},
   "outputs": [
    {
     "data": {
      "text/plain": [
       "[10, 20]"
      ]
     },
     "execution_count": 127,
     "metadata": {},
     "output_type": "execute_result"
    }
   ],
   "source": [
    "mylist\n"
   ]
  },
  {
   "cell_type": "code",
   "execution_count": 128,
   "id": "93ddcbb8",
   "metadata": {},
   "outputs": [
    {
     "data": {
      "text/plain": [
       "[10, 20, 'hello', 30, 40, 50]"
      ]
     },
     "execution_count": 128,
     "metadata": {},
     "output_type": "execute_result"
    }
   ],
   "source": [
    "mylist = [10, 20, 30, 40, 50]\n",
    "mylist.insert(2, 'hello')\n",
    "\n",
    "mylist"
   ]
  },
  {
   "cell_type": "code",
   "execution_count": 129,
   "id": "36c0276b",
   "metadata": {},
   "outputs": [],
   "source": [
    "mylist = [10, 20, 30, 40]"
   ]
  },
  {
   "cell_type": "markdown",
   "id": "89f9b254",
   "metadata": {},
   "source": [
    "# Exercise: Odds and evens\n",
    "\n",
    "1. Define two empty lists, `odds` and `evens`.\n",
    "2. Ask the user, repeatedly, to enter numbers.  Each time, one of three things will happen:\n",
    "    - The user gives us an empty string; we exit from the loop.\n",
    "    - The user gives us a string that can be turned into an integer.  We turn it into an int, and add it to `odds` or `evens`, as appropriate.\n",
    "    - The user gives us a non-numeric string.  We scold the user, and continue to the next iteration.\n",
    "3. Print `odds` and `evens`.\n",
    "\n",
    "You can find if a number is odd with `%2`.  If the answer is 1, the number is odd; otherwise, even.\n",
    "\n",
    "Example:\n",
    "\n",
    "    Number: 10\n",
    "    Number: 15\n",
    "    Number: 21\n",
    "    Number: 20\n",
    "    Number: asdfasdfa\n",
    "        Not numeric!\n",
    "    Number: [ENTER]\n",
    "    odds: [15, 21]\n",
    "    evens: [10, 20]"
   ]
  },
  {
   "cell_type": "code",
   "execution_count": null,
   "id": "874b5f61",
   "metadata": {},
   "outputs": [],
   "source": []
  },
  {
   "cell_type": "markdown",
   "id": "e7581ebc",
   "metadata": {},
   "source": [
    "# Jupyter commands\n",
    "\n",
    "In command mode (clicking on the left, or ESC --  you'll see a blue outline), you can write:\n",
    "\n",
    "- `a` -- New cell above the current one\n",
    "- `b` -- New cell below the current one\n",
    "- `x` -- cut current cell\n",
    "- `c` -- copy current cell\n",
    "- `v` -- paste from cut/copy"
   ]
  },
  {
   "cell_type": "code",
   "execution_count": null,
   "id": "be26fe3b",
   "metadata": {},
   "outputs": [],
   "source": []
  },
  {
   "cell_type": "code",
   "execution_count": 131,
   "id": "66e22b21",
   "metadata": {},
   "outputs": [
    {
     "name": "stdout",
     "output_type": "stream",
     "text": [
      "Enter a string:\n",
      "s is an empty string!\n"
     ]
    }
   ],
   "source": [
    "s = input('Enter a string:')\n",
    "\n",
    "if not s:   # only run if s is empty\n",
    "    print('s is an empty string!')"
   ]
  },
  {
   "cell_type": "code",
   "execution_count": null,
   "id": "f7c56be1",
   "metadata": {},
   "outputs": [],
   "source": []
  }
 ],
 "metadata": {
  "kernelspec": {
   "display_name": "Python 3 (ipykernel)",
   "language": "python",
   "name": "python3"
  },
  "language_info": {
   "codemirror_mode": {
    "name": "ipython",
    "version": 3
   },
   "file_extension": ".py",
   "mimetype": "text/x-python",
   "name": "python",
   "nbconvert_exporter": "python",
   "pygments_lexer": "ipython3",
   "version": "3.10.5"
  }
 },
 "nbformat": 4,
 "nbformat_minor": 5
}
