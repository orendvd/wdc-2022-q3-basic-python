{
 "cells": [
  {
   "cell_type": "markdown",
   "id": "1c09177c",
   "metadata": {},
   "source": [
    "# Objects\n",
    "\n",
    "- Classes\n",
    "- Instances\n",
    "- Methods\n",
    "- Attributes\n"
   ]
  },
  {
   "cell_type": "code",
   "execution_count": 1,
   "id": "36d40260",
   "metadata": {},
   "outputs": [
    {
     "data": {
      "text/plain": [
       "str"
      ]
     },
     "execution_count": 1,
     "metadata": {},
     "output_type": "execute_result"
    }
   ],
   "source": [
    "s = 'abcd'\n",
    "type(s)"
   ]
  },
  {
   "cell_type": "code",
   "execution_count": 2,
   "id": "009075d8",
   "metadata": {},
   "outputs": [
    {
     "data": {
      "text/plain": [
       "list"
      ]
     },
     "execution_count": 2,
     "metadata": {},
     "output_type": "execute_result"
    }
   ],
   "source": [
    "mylist = [10, 20, 30]\n",
    "type(mylist)"
   ]
  },
  {
   "cell_type": "code",
   "execution_count": 3,
   "id": "31ca05ac",
   "metadata": {},
   "outputs": [
    {
     "data": {
      "text/plain": [
       "dict"
      ]
     },
     "execution_count": 3,
     "metadata": {},
     "output_type": "execute_result"
    }
   ],
   "source": [
    "d = {'a':1, 'b':2, 'c':3}\n",
    "type(d)"
   ]
  },
  {
   "cell_type": "code",
   "execution_count": 7,
   "id": "bb4bf66e",
   "metadata": {},
   "outputs": [
    {
     "data": {
      "text/plain": [
       "''"
      ]
     },
     "execution_count": 7,
     "metadata": {},
     "output_type": "execute_result"
    }
   ],
   "source": [
    "str()"
   ]
  },
  {
   "cell_type": "code",
   "execution_count": 8,
   "id": "29fa36a3",
   "metadata": {},
   "outputs": [
    {
     "data": {
      "text/plain": [
       "''"
      ]
     },
     "execution_count": 8,
     "metadata": {},
     "output_type": "execute_result"
    }
   ],
   "source": [
    "type(s)()    # exactly the same as saying str()"
   ]
  },
  {
   "cell_type": "code",
   "execution_count": 9,
   "id": "45cd702a",
   "metadata": {},
   "outputs": [
    {
     "data": {
      "text/plain": [
       "list"
      ]
     },
     "execution_count": 9,
     "metadata": {},
     "output_type": "execute_result"
    }
   ],
   "source": [
    "type(mylist)"
   ]
  },
  {
   "cell_type": "code",
   "execution_count": 10,
   "id": "5828ecd4",
   "metadata": {},
   "outputs": [
    {
     "data": {
      "text/plain": [
       "[]"
      ]
     },
     "execution_count": 10,
     "metadata": {},
     "output_type": "execute_result"
    }
   ],
   "source": [
    "list()"
   ]
  },
  {
   "cell_type": "code",
   "execution_count": 11,
   "id": "c5030548",
   "metadata": {},
   "outputs": [
    {
     "data": {
      "text/plain": [
       "[]"
      ]
     },
     "execution_count": 11,
     "metadata": {},
     "output_type": "execute_result"
    }
   ],
   "source": [
    "type(mylist)()   #  exactly the same as saying list()"
   ]
  },
  {
   "cell_type": "code",
   "execution_count": 6,
   "id": "33dd0b16",
   "metadata": {},
   "outputs": [
    {
     "data": {
      "text/plain": [
       "{}"
      ]
     },
     "execution_count": 6,
     "metadata": {},
     "output_type": "execute_result"
    }
   ],
   "source": [
    "type(d)()"
   ]
  },
  {
   "cell_type": "code",
   "execution_count": 12,
   "id": "541fa097",
   "metadata": {},
   "outputs": [
    {
     "data": {
      "text/plain": [
       "type"
      ]
     },
     "execution_count": 12,
     "metadata": {},
     "output_type": "execute_result"
    }
   ],
   "source": [
    "type(str)   # what kind of object is str?"
   ]
  },
  {
   "cell_type": "code",
   "execution_count": 13,
   "id": "76d9630e",
   "metadata": {},
   "outputs": [
    {
     "data": {
      "text/plain": [
       "type"
      ]
     },
     "execution_count": 13,
     "metadata": {},
     "output_type": "execute_result"
    }
   ],
   "source": [
    "type(list)"
   ]
  },
  {
   "cell_type": "code",
   "execution_count": 14,
   "id": "1400a428",
   "metadata": {},
   "outputs": [
    {
     "data": {
      "text/plain": [
       "type"
      ]
     },
     "execution_count": 14,
     "metadata": {},
     "output_type": "execute_result"
    }
   ],
   "source": [
    "type(dict)"
   ]
  },
  {
   "cell_type": "code",
   "execution_count": 15,
   "id": "5a191a05",
   "metadata": {},
   "outputs": [],
   "source": [
    "# all classes in Python are instances of type"
   ]
  },
  {
   "cell_type": "code",
   "execution_count": 16,
   "id": "17a04696",
   "metadata": {},
   "outputs": [
    {
     "data": {
      "text/plain": [
       "type"
      ]
     },
     "execution_count": 16,
     "metadata": {},
     "output_type": "execute_result"
    }
   ],
   "source": [
    "type(type)"
   ]
  },
  {
   "cell_type": "code",
   "execution_count": 18,
   "id": "d285932d",
   "metadata": {},
   "outputs": [],
   "source": [
    "# define a new class\n",
    "class Company:\n",
    "    def __init__(self, name, industry):    # method \"dunder init\"\n",
    "        self.name = name\n",
    "        self.industry = industry\n",
    "        \n",
    "# create a new object of type Company\n",
    "wdc = Company('WDC', 'storage')           # call the class, passing arguments"
   ]
  },
  {
   "cell_type": "markdown",
   "id": "b5d0ad09",
   "metadata": {},
   "source": [
    "# What happens when we create an object?\n",
    "\n",
    "- Call `Company()`\n",
    "    - Constructor method `__new__` runs, and creates a new object.\n",
    "    - Let's say that `o` is where the new object is stored.\n",
    "- `__new__` then runs `__init__`, passing `o` as the first argument\n",
    "    - `__init__` assigns `o` to the local variable (parameter) `self`\n",
    "    "
   ]
  }
 ],
 "metadata": {
  "kernelspec": {
   "display_name": "Python 3 (ipykernel)",
   "language": "python",
   "name": "python3"
  },
  "language_info": {
   "codemirror_mode": {
    "name": "ipython",
    "version": 3
   },
   "file_extension": ".py",
   "mimetype": "text/x-python",
   "name": "python",
   "nbconvert_exporter": "python",
   "pygments_lexer": "ipython3",
   "version": "3.10.5"
  }
 },
 "nbformat": 4,
 "nbformat_minor": 5
}
