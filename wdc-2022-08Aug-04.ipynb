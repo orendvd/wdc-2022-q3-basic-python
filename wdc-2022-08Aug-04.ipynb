{
 "cells": [
  {
   "cell_type": "markdown",
   "id": "472c2209",
   "metadata": {},
   "source": [
    "# Objects\n",
    "\n",
    "- Classes\n",
    "- Instances\n",
    "- Methods\n",
    "- Attributes\n"
   ]
  },
  {
   "cell_type": "code",
   "execution_count": 1,
   "id": "0b159012",
   "metadata": {},
   "outputs": [
    {
     "data": {
      "text/plain": [
       "str"
      ]
     },
     "execution_count": 1,
     "metadata": {},
     "output_type": "execute_result"
    }
   ],
   "source": [
    "s = 'abcd'\n",
    "type(s)"
   ]
  },
  {
   "cell_type": "code",
   "execution_count": 2,
   "id": "f002fef5",
   "metadata": {},
   "outputs": [
    {
     "data": {
      "text/plain": [
       "list"
      ]
     },
     "execution_count": 2,
     "metadata": {},
     "output_type": "execute_result"
    }
   ],
   "source": [
    "mylist = [10, 20, 30]\n",
    "type(mylist)"
   ]
  },
  {
   "cell_type": "code",
   "execution_count": 3,
   "id": "1b0a6570",
   "metadata": {},
   "outputs": [
    {
     "data": {
      "text/plain": [
       "dict"
      ]
     },
     "execution_count": 3,
     "metadata": {},
     "output_type": "execute_result"
    }
   ],
   "source": [
    "d = {'a':1, 'b':2, 'c':3}\n",
    "type(d)"
   ]
  },
  {
   "cell_type": "code",
   "execution_count": 7,
   "id": "fd8e01e0",
   "metadata": {},
   "outputs": [
    {
     "data": {
      "text/plain": [
       "''"
      ]
     },
     "execution_count": 7,
     "metadata": {},
     "output_type": "execute_result"
    }
   ],
   "source": [
    "str()"
   ]
  },
  {
   "cell_type": "code",
   "execution_count": 8,
   "id": "3030d865",
   "metadata": {},
   "outputs": [
    {
     "data": {
      "text/plain": [
       "''"
      ]
     },
     "execution_count": 8,
     "metadata": {},
     "output_type": "execute_result"
    }
   ],
   "source": [
    "type(s)()    # exactly the same as saying str()"
   ]
  },
  {
   "cell_type": "code",
   "execution_count": 9,
   "id": "62e3e7f5",
   "metadata": {},
   "outputs": [
    {
     "data": {
      "text/plain": [
       "list"
      ]
     },
     "execution_count": 9,
     "metadata": {},
     "output_type": "execute_result"
    }
   ],
   "source": [
    "type(mylist)"
   ]
  },
  {
   "cell_type": "code",
   "execution_count": 10,
   "id": "b644d0f7",
   "metadata": {},
   "outputs": [
    {
     "data": {
      "text/plain": [
       "[]"
      ]
     },
     "execution_count": 10,
     "metadata": {},
     "output_type": "execute_result"
    }
   ],
   "source": [
    "list()"
   ]
  },
  {
   "cell_type": "code",
   "execution_count": 11,
   "id": "27bbda2b",
   "metadata": {},
   "outputs": [
    {
     "data": {
      "text/plain": [
       "[]"
      ]
     },
     "execution_count": 11,
     "metadata": {},
     "output_type": "execute_result"
    }
   ],
   "source": [
    "type(mylist)()   #  exactly the same as saying list()"
   ]
  },
  {
   "cell_type": "code",
   "execution_count": 6,
   "id": "9d1ed911",
   "metadata": {},
   "outputs": [
    {
     "data": {
      "text/plain": [
       "{}"
      ]
     },
     "execution_count": 6,
     "metadata": {},
     "output_type": "execute_result"
    }
   ],
   "source": [
    "type(d)()"
   ]
  },
  {
   "cell_type": "code",
   "execution_count": 12,
   "id": "8a13f39c",
   "metadata": {},
   "outputs": [
    {
     "data": {
      "text/plain": [
       "type"
      ]
     },
     "execution_count": 12,
     "metadata": {},
     "output_type": "execute_result"
    }
   ],
   "source": [
    "type(str)   # what kind of object is str?"
   ]
  },
  {
   "cell_type": "code",
   "execution_count": 13,
   "id": "8f3a56e8",
   "metadata": {},
   "outputs": [
    {
     "data": {
      "text/plain": [
       "type"
      ]
     },
     "execution_count": 13,
     "metadata": {},
     "output_type": "execute_result"
    }
   ],
   "source": [
    "type(list)"
   ]
  },
  {
   "cell_type": "code",
   "execution_count": 14,
   "id": "170439fa",
   "metadata": {},
   "outputs": [
    {
     "data": {
      "text/plain": [
       "type"
      ]
     },
     "execution_count": 14,
     "metadata": {},
     "output_type": "execute_result"
    }
   ],
   "source": [
    "type(dict)"
   ]
  },
  {
   "cell_type": "code",
   "execution_count": 15,
   "id": "b5768e3f",
   "metadata": {},
   "outputs": [],
   "source": [
    "# all classes in Python are instances of type"
   ]
  },
  {
   "cell_type": "code",
   "execution_count": 16,
   "id": "977225e8",
   "metadata": {},
   "outputs": [
    {
     "data": {
      "text/plain": [
       "type"
      ]
     },
     "execution_count": 16,
     "metadata": {},
     "output_type": "execute_result"
    }
   ],
   "source": [
    "type(type)"
   ]
  },
  {
   "cell_type": "code",
   "execution_count": 19,
   "id": "4c608f0f",
   "metadata": {},
   "outputs": [],
   "source": [
    "# define a new class\n",
    "class Company:\n",
    "    def __init__(self, name, industry):    # method \"dunder init\"\n",
    "        self.name = name                   # attribute \"name\" is set to name on self (the instance)\n",
    "        self.industry = industry           # attribute \"industry\" is set to industry on self (the instance)\n",
    "        \n",
    "# create a new object of type Company\n",
    "wdc = Company('WDC', 'storage')           # call the class, passing arguments"
   ]
  },
  {
   "cell_type": "markdown",
   "id": "d51232dc",
   "metadata": {},
   "source": [
    "# What happens when we create an object?\n",
    "\n",
    "- Call `Company()`\n",
    "    - Constructor method `__new__` runs, and creates a new object.\n",
    "    - Let's say that `o` is where the new object is stored.\n",
    "- `__new__` then runs `__init__`, passing `o` as the first argument\n",
    "    - `__init__` assigns `o` to the local variable (parameter) `self`\n",
    "    - The role of `__init__` is to add new attributes to the instance\n",
    "    - `__init__` doesn't usually return anything (and if it does, we ignore it)\n",
    "- `__new__` then returns the new instance back to the caller, with all of the attributes that `__init__` added.    "
   ]
  },
  {
   "cell_type": "code",
   "execution_count": 20,
   "id": "b6d7b41e",
   "metadata": {},
   "outputs": [
    {
     "data": {
      "text/plain": [
       "'WDC'"
      ]
     },
     "execution_count": 20,
     "metadata": {},
     "output_type": "execute_result"
    }
   ],
   "source": [
    "wdc.name"
   ]
  },
  {
   "cell_type": "code",
   "execution_count": 21,
   "id": "241818ca",
   "metadata": {},
   "outputs": [
    {
     "data": {
      "text/plain": [
       "'storage'"
      ]
     },
     "execution_count": 21,
     "metadata": {},
     "output_type": "execute_result"
    }
   ],
   "source": [
    "wdc.industry"
   ]
  },
  {
   "cell_type": "code",
   "execution_count": 22,
   "id": "dcddbc78",
   "metadata": {},
   "outputs": [
    {
     "data": {
      "text/plain": [
       "{'name': 'WDC', 'industry': 'storage'}"
      ]
     },
     "execution_count": 22,
     "metadata": {},
     "output_type": "execute_result"
    }
   ],
   "source": [
    "vars(wdc)   # return a dict with all attributes"
   ]
  },
  {
   "cell_type": "code",
   "execution_count": null,
   "id": "124f2b24",
   "metadata": {},
   "outputs": [],
   "source": [
    "# define a new class\n",
    "class Company:\n",
    "    def __init__(self, name, industry):    # method \"dunder init\"\n",
    "        self.name = name                   # attribute \"name\" is set to name on self (the instance)\n",
    "        self.industry = industry           # attribute \"industry\" is set to industry on self (the instance)\n",
    "        \n",
    "    def get_name(self):\n",
    "        return self.name\n",
    "    \n",
    "    def set_name(self, new_name):\n",
    "        self.name = new_name\n",
    "        \n",
    "    def get_\n",
    "        \n",
    "# create a new object of type Company\n",
    "wdc = Company('WDC', 'storage')           # call the class, passing arguments"
   ]
  }
 ],
 "metadata": {
  "kernelspec": {
   "display_name": "Python 3 (ipykernel)",
   "language": "python",
   "name": "python3"
  },
  "language_info": {
   "codemirror_mode": {
    "name": "ipython",
    "version": 3
   },
   "file_extension": ".py",
   "mimetype": "text/x-python",
   "name": "python",
   "nbconvert_exporter": "python",
   "pygments_lexer": "ipython3",
   "version": "3.10.5"
  }
 },
 "nbformat": 4,
 "nbformat_minor": 5
}
