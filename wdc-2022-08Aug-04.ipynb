{
 "cells": [
  {
   "cell_type": "markdown",
   "id": "fd1f0e4f",
   "metadata": {},
   "source": [
    "# Objects\n",
    "\n",
    "- Classes\n",
    "- Instances\n",
    "- Methods\n",
    "- Attributes\n"
   ]
  },
  {
   "cell_type": "code",
   "execution_count": 1,
   "id": "9a6b4df6",
   "metadata": {},
   "outputs": [
    {
     "data": {
      "text/plain": [
       "str"
      ]
     },
     "execution_count": 1,
     "metadata": {},
     "output_type": "execute_result"
    }
   ],
   "source": [
    "s = 'abcd'\n",
    "type(s)"
   ]
  },
  {
   "cell_type": "code",
   "execution_count": 2,
   "id": "dcf6b55c",
   "metadata": {},
   "outputs": [
    {
     "data": {
      "text/plain": [
       "list"
      ]
     },
     "execution_count": 2,
     "metadata": {},
     "output_type": "execute_result"
    }
   ],
   "source": [
    "mylist = [10, 20, 30]\n",
    "type(mylist)"
   ]
  },
  {
   "cell_type": "code",
   "execution_count": 3,
   "id": "0a4a5c79",
   "metadata": {},
   "outputs": [
    {
     "data": {
      "text/plain": [
       "dict"
      ]
     },
     "execution_count": 3,
     "metadata": {},
     "output_type": "execute_result"
    }
   ],
   "source": [
    "d = {'a':1, 'b':2, 'c':3}\n",
    "type(d)"
   ]
  },
  {
   "cell_type": "code",
   "execution_count": 7,
   "id": "8267ecfe",
   "metadata": {},
   "outputs": [
    {
     "data": {
      "text/plain": [
       "''"
      ]
     },
     "execution_count": 7,
     "metadata": {},
     "output_type": "execute_result"
    }
   ],
   "source": [
    "str()"
   ]
  },
  {
   "cell_type": "code",
   "execution_count": 8,
   "id": "896aa6ce",
   "metadata": {},
   "outputs": [
    {
     "data": {
      "text/plain": [
       "''"
      ]
     },
     "execution_count": 8,
     "metadata": {},
     "output_type": "execute_result"
    }
   ],
   "source": [
    "type(s)()    # exactly the same as saying str()"
   ]
  },
  {
   "cell_type": "code",
   "execution_count": 9,
   "id": "8c31c423",
   "metadata": {},
   "outputs": [
    {
     "data": {
      "text/plain": [
       "list"
      ]
     },
     "execution_count": 9,
     "metadata": {},
     "output_type": "execute_result"
    }
   ],
   "source": [
    "type(mylist)"
   ]
  },
  {
   "cell_type": "code",
   "execution_count": 10,
   "id": "43af8b4d",
   "metadata": {},
   "outputs": [
    {
     "data": {
      "text/plain": [
       "[]"
      ]
     },
     "execution_count": 10,
     "metadata": {},
     "output_type": "execute_result"
    }
   ],
   "source": [
    "list()"
   ]
  },
  {
   "cell_type": "code",
   "execution_count": 11,
   "id": "815b0f90",
   "metadata": {},
   "outputs": [
    {
     "data": {
      "text/plain": [
       "[]"
      ]
     },
     "execution_count": 11,
     "metadata": {},
     "output_type": "execute_result"
    }
   ],
   "source": [
    "type(mylist)()   #  exactly the same as saying list()"
   ]
  },
  {
   "cell_type": "code",
   "execution_count": 6,
   "id": "70274a5d",
   "metadata": {},
   "outputs": [
    {
     "data": {
      "text/plain": [
       "{}"
      ]
     },
     "execution_count": 6,
     "metadata": {},
     "output_type": "execute_result"
    }
   ],
   "source": [
    "type(d)()"
   ]
  },
  {
   "cell_type": "code",
   "execution_count": 12,
   "id": "5ec4c066",
   "metadata": {},
   "outputs": [
    {
     "data": {
      "text/plain": [
       "type"
      ]
     },
     "execution_count": 12,
     "metadata": {},
     "output_type": "execute_result"
    }
   ],
   "source": [
    "type(str)   # what kind of object is str?"
   ]
  },
  {
   "cell_type": "code",
   "execution_count": 13,
   "id": "d7a55476",
   "metadata": {},
   "outputs": [
    {
     "data": {
      "text/plain": [
       "type"
      ]
     },
     "execution_count": 13,
     "metadata": {},
     "output_type": "execute_result"
    }
   ],
   "source": [
    "type(list)"
   ]
  },
  {
   "cell_type": "code",
   "execution_count": 14,
   "id": "faba1501",
   "metadata": {},
   "outputs": [
    {
     "data": {
      "text/plain": [
       "type"
      ]
     },
     "execution_count": 14,
     "metadata": {},
     "output_type": "execute_result"
    }
   ],
   "source": [
    "type(dict)"
   ]
  },
  {
   "cell_type": "code",
   "execution_count": 15,
   "id": "ce31bc68",
   "metadata": {},
   "outputs": [],
   "source": [
    "# all classes in Python are instances of type"
   ]
  },
  {
   "cell_type": "code",
   "execution_count": 16,
   "id": "e5401597",
   "metadata": {},
   "outputs": [
    {
     "data": {
      "text/plain": [
       "type"
      ]
     },
     "execution_count": 16,
     "metadata": {},
     "output_type": "execute_result"
    }
   ],
   "source": [
    "type(type)"
   ]
  },
  {
   "cell_type": "code",
   "execution_count": 19,
   "id": "88c0596c",
   "metadata": {},
   "outputs": [],
   "source": [
    "# define a new class\n",
    "class Company:\n",
    "    def __init__(self, name, industry):    # method \"dunder init\"\n",
    "        self.name = name                   # attribute \"name\" is set to name on self (the instance)\n",
    "        self.industry = industry           # attribute \"industry\" is set to industry on self (the instance)\n",
    "        \n",
    "# create a new object of type Company\n",
    "wdc = Company('WDC', 'storage')           # call the class, passing arguments"
   ]
  },
  {
   "cell_type": "markdown",
   "id": "31be82d7",
   "metadata": {},
   "source": [
    "# What happens when we create an object?\n",
    "\n",
    "- Call `Company()`\n",
    "    - Constructor method `__new__` runs, and creates a new object.\n",
    "    - Let's say that `o` is where the new object is stored.\n",
    "- `__new__` then runs `__init__`, passing `o` as the first argument\n",
    "    - `__init__` assigns `o` to the local variable (parameter) `self`\n",
    "    - The role of `__init__` is to add new attributes to the instance\n",
    "    - `__init__` doesn't usually return anything (and if it does, we ignore it)\n",
    "- `__new__` then returns the new instance back to the caller, with all of the attributes that `__init__` added.    "
   ]
  },
  {
   "cell_type": "code",
   "execution_count": 20,
   "id": "9ddc3c02",
   "metadata": {},
   "outputs": [
    {
     "data": {
      "text/plain": [
       "'WDC'"
      ]
     },
     "execution_count": 20,
     "metadata": {},
     "output_type": "execute_result"
    }
   ],
   "source": [
    "wdc.name"
   ]
  },
  {
   "cell_type": "code",
   "execution_count": 21,
   "id": "244e720e",
   "metadata": {},
   "outputs": [
    {
     "data": {
      "text/plain": [
       "'storage'"
      ]
     },
     "execution_count": 21,
     "metadata": {},
     "output_type": "execute_result"
    }
   ],
   "source": [
    "wdc.industry"
   ]
  },
  {
   "cell_type": "code",
   "execution_count": 22,
   "id": "5e96a60f",
   "metadata": {},
   "outputs": [
    {
     "data": {
      "text/plain": [
       "{'name': 'WDC', 'industry': 'storage'}"
      ]
     },
     "execution_count": 22,
     "metadata": {},
     "output_type": "execute_result"
    }
   ],
   "source": [
    "vars(wdc)   # return a dict with all attributes"
   ]
  },
  {
   "cell_type": "code",
   "execution_count": 23,
   "id": "1628fb68",
   "metadata": {},
   "outputs": [
    {
     "name": "stdout",
     "output_type": "stream",
     "text": [
      "WDC\n",
      "Newer, better WDC\n"
     ]
    }
   ],
   "source": [
    "# define a new class\n",
    "class Company:\n",
    "    def __init__(self, name, industry):    # method \"dunder init\"\n",
    "        self.name = name                   # attribute \"name\" is set to name on self (the instance)\n",
    "        self.industry = industry           # attribute \"industry\" is set to industry on self (the instance)\n",
    "        \n",
    "    def get_name(self):\n",
    "        return self.name\n",
    "    \n",
    "    def set_name(self, new_name):\n",
    "        self.name = new_name\n",
    "        \n",
    "    def get_industry(self):\n",
    "        return self.industry\n",
    "    \n",
    "    def set_industry(self, new_industry):\n",
    "        self.industry = new_industry\n",
    "        \n",
    "# create a new object of type Company\n",
    "wdc = Company('WDC', 'storage')           # call the class, passing arguments\n",
    "\n",
    "print(wdc.get_name())   \n",
    "wdc.set_name('Newer, better WDC')\n",
    "print(wdc.get_name())"
   ]
  },
  {
   "cell_type": "code",
   "execution_count": 24,
   "id": "d6185dab",
   "metadata": {},
   "outputs": [
    {
     "name": "stdout",
     "output_type": "stream",
     "text": [
      "WDC\n",
      "Newer, better WDC\n"
     ]
    }
   ],
   "source": [
    "# define a new class\n",
    "class Company:\n",
    "    def __init__(self, name, industry):    # method \"dunder init\"\n",
    "        self.name = name                   # attribute \"name\" is set to name on self (the instance)\n",
    "        self.industry = industry           # attribute \"industry\" is set to industry on self (the instance)\n",
    "        \n",
    "# we normally don't define setters + getters in Python\n",
    "\n",
    "#     def get_name(self):\n",
    "#         return self.name\n",
    "    \n",
    "#     def set_name(self, new_name):\n",
    "#         self.name = new_name\n",
    "        \n",
    "#     def get_industry(self):\n",
    "#         return self.industry\n",
    "    \n",
    "#     def set_industry(self, new_industry):\n",
    "#         self.industry = new_industry\n",
    "        \n",
    "# create a new object of type Company\n",
    "wdc = Company('WDC', 'storage')           # call the class, passing arguments\n",
    "\n",
    "print(wdc.name)\n",
    "wdc.name = 'Newer, better WDC'\n",
    "print(wdc.name)"
   ]
  },
  {
   "cell_type": "code",
   "execution_count": 25,
   "id": "262b6fb6",
   "metadata": {},
   "outputs": [],
   "source": [
    "import random"
   ]
  },
  {
   "cell_type": "code",
   "execution_count": 26,
   "id": "f92ae856",
   "metadata": {},
   "outputs": [],
   "source": [
    "random.myname = 'Reuven'"
   ]
  },
  {
   "cell_type": "code",
   "execution_count": 27,
   "id": "3e4f0ee4",
   "metadata": {},
   "outputs": [
    {
     "name": "stdout",
     "output_type": "stream",
     "text": [
      "WDC\n",
      "Newer, better WDC\n"
     ]
    }
   ],
   "source": [
    "# define a new class\n",
    "class Company:    # parameters\n",
    "    def __init__(self, name, industry):    # method \"dunder init\"\n",
    "\n",
    "        # after a . we have \"attributes\"\n",
    "\n",
    "        # self.ATTRIBUTE = VARIABLE/PARAMETER\n",
    "        self.name = name                   # attribute \"name\" is set to name on self (the instance)\n",
    "        self.industry = industry           # attribute \"industry\" is set to industry on self (the instance)\n",
    "        \n",
    "\n",
    "    def description(self):\n",
    "        return f'{self.name}, in the {self.industry} industry'\n",
    "    \n",
    "\n",
    "# create a new object of type Company\n",
    "wdc = Company('WDC', 'storage')           # call the class, passing arguments\n",
    "\n",
    "print(wdc.name)\n",
    "wdc.name = 'Newer, better WDC'\n",
    "print(wdc.name)"
   ]
  },
  {
   "cell_type": "code",
   "execution_count": 28,
   "id": "88965584",
   "metadata": {},
   "outputs": [
    {
     "name": "stdout",
     "output_type": "stream",
     "text": [
      "Newer, better WDC, in the storage industry\n"
     ]
    }
   ],
   "source": [
    "print(wdc.description())"
   ]
  },
  {
   "cell_type": "code",
   "execution_count": 29,
   "id": "8c11c5ee",
   "metadata": {},
   "outputs": [
    {
     "data": {
      "text/plain": [
       "'ABCD'"
      ]
     },
     "execution_count": 29,
     "metadata": {},
     "output_type": "execute_result"
    }
   ],
   "source": [
    "s = 'abcd'\n",
    "s.upper()    # Python notices we're running a method on an instance, and rewrites it\n",
    "             # s is replaced by str (its class), and is then made the first argument"
   ]
  },
  {
   "cell_type": "code",
   "execution_count": 30,
   "id": "f27dfac7",
   "metadata": {},
   "outputs": [
    {
     "data": {
      "text/plain": [
       "'ABCD'"
      ]
     },
     "execution_count": 30,
     "metadata": {},
     "output_type": "execute_result"
    }
   ],
   "source": [
    "str.upper(s)"
   ]
  },
  {
   "cell_type": "code",
   "execution_count": 31,
   "id": "a881c6a1",
   "metadata": {},
   "outputs": [
    {
     "data": {
      "text/plain": [
       "'Newer, better WDC, in the storage industry'"
      ]
     },
     "execution_count": 31,
     "metadata": {},
     "output_type": "execute_result"
    }
   ],
   "source": [
    "wdc.description()"
   ]
  },
  {
   "cell_type": "code",
   "execution_count": 32,
   "id": "b00e06f4",
   "metadata": {},
   "outputs": [
    {
     "data": {
      "text/plain": [
       "'Newer, better WDC, in the storage industry'"
      ]
     },
     "execution_count": 32,
     "metadata": {},
     "output_type": "execute_result"
    }
   ],
   "source": [
    "Company.description(wdc)"
   ]
  },
  {
   "cell_type": "code",
   "execution_count": 33,
   "id": "5c8e8e6b",
   "metadata": {},
   "outputs": [
    {
     "ename": "AttributeError",
     "evalue": "'int' object has no attribute 'name'",
     "output_type": "error",
     "traceback": [
      "\u001b[0;31m---------------------------------------------------------------------------\u001b[0m",
      "\u001b[0;31mAttributeError\u001b[0m                            Traceback (most recent call last)",
      "\u001b[0;32m/var/folders/rr/0mnyyv811fs5vyp22gf4fxk00000gn/T/ipykernel_44281/1982554146.py\u001b[0m in \u001b[0;36m<module>\u001b[0;34m\u001b[0m\n\u001b[0;32m----> 1\u001b[0;31m \u001b[0mCompany\u001b[0m\u001b[0;34m.\u001b[0m\u001b[0mdescription\u001b[0m\u001b[0;34m(\u001b[0m\u001b[0;36m5\u001b[0m\u001b[0;34m)\u001b[0m\u001b[0;34m\u001b[0m\u001b[0;34m\u001b[0m\u001b[0m\n\u001b[0m",
      "\u001b[0;32m/var/folders/rr/0mnyyv811fs5vyp22gf4fxk00000gn/T/ipykernel_44281/2314244814.py\u001b[0m in \u001b[0;36mdescription\u001b[0;34m(self)\u001b[0m\n\u001b[1;32m      6\u001b[0m \u001b[0;34m\u001b[0m\u001b[0m\n\u001b[1;32m      7\u001b[0m     \u001b[0;32mdef\u001b[0m \u001b[0mdescription\u001b[0m\u001b[0;34m(\u001b[0m\u001b[0mself\u001b[0m\u001b[0;34m)\u001b[0m\u001b[0;34m:\u001b[0m\u001b[0;34m\u001b[0m\u001b[0;34m\u001b[0m\u001b[0m\n\u001b[0;32m----> 8\u001b[0;31m         \u001b[0;32mreturn\u001b[0m \u001b[0;34mf'{self.name}, in the {self.industry} industry'\u001b[0m\u001b[0;34m\u001b[0m\u001b[0;34m\u001b[0m\u001b[0m\n\u001b[0m\u001b[1;32m      9\u001b[0m \u001b[0;34m\u001b[0m\u001b[0m\n\u001b[1;32m     10\u001b[0m \u001b[0;31m# create a new object of type Company\u001b[0m\u001b[0;34m\u001b[0m\u001b[0;34m\u001b[0m\u001b[0m\n",
      "\u001b[0;31mAttributeError\u001b[0m: 'int' object has no attribute 'name'"
     ]
    }
   ],
   "source": [
    "Company.description(5)"
   ]
  },
  {
   "cell_type": "markdown",
   "id": "88853257",
   "metadata": {},
   "source": [
    "# Exercise: Scoop\n",
    "\n",
    "1. Define a class `Scoop` that takes a single argument, a string, a flavor.\n",
    "2. Assign the passed flavor to the attribute `flavor`.\n",
    "3. Do this in PyCharm, in a new file\n",
    "\n",
    "```python\n",
    "s1 = Scoop('chocolate')\n",
    "s2 = Scoop('vanilla')\n",
    "s3 = Scoop('coffee')\n",
    "\n",
    "print(s1.flavor)  # chocolate\n",
    "\n",
    "for one_scoop in [s1, s2, s3]:\n",
    "    print(one_scoop.flavor)   # chocolate, vanilla, coffee\n",
    "```"
   ]
  },
  {
   "cell_type": "markdown",
   "id": "8a3a1d65",
   "metadata": {},
   "source": [
    "# Exercise: Bowls\n",
    "\n",
    "1. Define a class `Bowl`.  Each instance of `Bowl` will have a list, `scoops`, which will contain the scoops (not flavors) in each bowl.\n",
    "2. A new `Bowl` will have zero scoops.  We can add as many as we want with a method, `add_scoops`, which can take as many `Scoop` objects as we want.\n",
    "3. The `Bowl` class will also have a `flavors` method, which will return a list of strings (flavors).\n",
    "\n",
    "```python\n",
    "b = Bowl()\n",
    "b.add_scoops(s1, s2)\n",
    "b.add_scoops(s3)\n",
    "print(len(b.scoops))  # 3\n",
    "print(b.flavors())   # ['chocolate', 'vanilla', 'coffee']\n",
    "```"
   ]
  },
  {
   "cell_type": "code",
   "execution_count": 34,
   "id": "eafdb5da",
   "metadata": {},
   "outputs": [],
   "source": [
    "class Person:\n",
    "    pass"
   ]
  },
  {
   "cell_type": "code",
   "execution_count": 35,
   "id": "7fec1c38",
   "metadata": {},
   "outputs": [],
   "source": [
    "p = Person()"
   ]
  },
  {
   "cell_type": "code",
   "execution_count": 36,
   "id": "8bdcc751",
   "metadata": {},
   "outputs": [],
   "source": [
    "p.first = 'Reuven'\n",
    "p.last = 'Lerner'"
   ]
  },
  {
   "cell_type": "code",
   "execution_count": 37,
   "id": "be859f41",
   "metadata": {},
   "outputs": [
    {
     "data": {
      "text/plain": [
       "[]"
      ]
     },
     "execution_count": 37,
     "metadata": {},
     "output_type": "execute_result"
    }
   ],
   "source": [
    "list()"
   ]
  },
  {
   "cell_type": "code",
   "execution_count": 38,
   "id": "c981f611",
   "metadata": {},
   "outputs": [
    {
     "data": {
      "text/plain": [
       "''"
      ]
     },
     "execution_count": 38,
     "metadata": {},
     "output_type": "execute_result"
    }
   ],
   "source": [
    "str()"
   ]
  },
  {
   "cell_type": "code",
   "execution_count": 39,
   "id": "3b4d7245",
   "metadata": {},
   "outputs": [
    {
     "data": {
      "text/plain": [
       "0"
      ]
     },
     "execution_count": 39,
     "metadata": {},
     "output_type": "execute_result"
    }
   ],
   "source": [
    "int()"
   ]
  },
  {
   "cell_type": "code",
   "execution_count": 40,
   "id": "7a025446",
   "metadata": {},
   "outputs": [],
   "source": [
    "x = list  # x is an alias to list"
   ]
  },
  {
   "cell_type": "code",
   "execution_count": 41,
   "id": "e956d12a",
   "metadata": {},
   "outputs": [
    {
     "data": {
      "text/plain": [
       "list"
      ]
     },
     "execution_count": 41,
     "metadata": {},
     "output_type": "execute_result"
    }
   ],
   "source": [
    "x"
   ]
  },
  {
   "cell_type": "code",
   "execution_count": 42,
   "id": "561475b3",
   "metadata": {},
   "outputs": [],
   "source": [
    "x = list()  # x is a new, empty list"
   ]
  },
  {
   "cell_type": "code",
   "execution_count": 43,
   "id": "346097db",
   "metadata": {},
   "outputs": [
    {
     "data": {
      "text/plain": [
       "[]"
      ]
     },
     "execution_count": 43,
     "metadata": {},
     "output_type": "execute_result"
    }
   ],
   "source": [
    "x"
   ]
  },
  {
   "cell_type": "code",
   "execution_count": 44,
   "id": "6a22cf60",
   "metadata": {},
   "outputs": [],
   "source": [
    "def hello(name):\n",
    "    return f'Hello, {name}!'"
   ]
  },
  {
   "cell_type": "code",
   "execution_count": 45,
   "id": "9c6bad48",
   "metadata": {},
   "outputs": [
    {
     "data": {
      "text/plain": [
       "'Hello, world!'"
      ]
     },
     "execution_count": 45,
     "metadata": {},
     "output_type": "execute_result"
    }
   ],
   "source": [
    "hello('world')"
   ]
  },
  {
   "cell_type": "code",
   "execution_count": 46,
   "id": "6bac2364",
   "metadata": {},
   "outputs": [
    {
     "name": "stdout",
     "output_type": "stream",
     "text": [
      "chocolate\n",
      "chocolate\n",
      "vanilla\n",
      "coffee\n",
      "3\n",
      "['chocolate', 'vanilla', 'coffee']\n"
     ]
    }
   ],
   "source": [
    "class Scoop:\n",
    "    def __init__(self, flavor):\n",
    "        self.flavor = flavor\n",
    "\n",
    "s1 = Scoop('chocolate')\n",
    "s2 = Scoop('vanilla')\n",
    "s3 = Scoop('coffee')\n",
    "\n",
    "print(s1.flavor)  # chocolate\n",
    "\n",
    "for one_scoop in [s1, s2, s3]:\n",
    "    print(one_scoop.flavor)   # chocolate, vanilla, coffee\n",
    "\n",
    "class Bowl:\n",
    "    def __init__(self):\n",
    "        self.scoops = []\n",
    "\n",
    "    def add_scoops(self, *args):\n",
    "        for one_scoop in args:\n",
    "            self.scoops.append(one_scoop)\n",
    "\n",
    "    def flavors(self):\n",
    "        # output = []\n",
    "        # for one_scoop in self.scoops:\n",
    "        #     output.append(one_scoop.flavor)\n",
    "        # return output\n",
    "        #\n",
    "        # list comprehension!!\n",
    "        return [one_scoop.flavor\n",
    "                for one_scoop in self.scoops]\n",
    "\n",
    "b = Bowl()\n",
    "b.add_scoops(s1, s2)\n",
    "b.add_scoops(s3)\n",
    "print(len(b.scoops))  # 3\n",
    "print(b.flavors())   # ['chocolate', 'vanilla', 'coffee']\n"
   ]
  },
  {
   "cell_type": "markdown",
   "id": "cd5f4f1e",
   "metadata": {},
   "source": [
    "# Next up:\n",
    "\n",
    "1. Attributes (instance + class)\n",
    "2. ICPO rule for attribute lookup\n",
    "3. Inheritance\n",
    "\n",
    "Resume at :35"
   ]
  },
  {
   "cell_type": "code",
   "execution_count": 50,
   "id": "ef3d988f",
   "metadata": {},
   "outputs": [
    {
     "name": "stdout",
     "output_type": "stream",
     "text": [
      "Before, population = 0\n",
      "After, population = 2\n",
      "Hello, name1!\n",
      "Hello, name2!\n"
     ]
    }
   ],
   "source": [
    "population = 0\n",
    "\n",
    "class Person:\n",
    "\n",
    "    def __init__(self, name):\n",
    "        global population\n",
    "        self.name = name\n",
    "        population += 1\n",
    "        \n",
    "    def greet(self):\n",
    "        return f'Hello, {self.name}!'\n",
    "    \n",
    "print(f'Before, population = {population}')\n",
    "p1 = Person('name1')\n",
    "p2 = Person('name2')\n",
    "print(f'After, population = {population}')\n",
    "\n",
    "print(p1.greet())\n",
    "print(p2.greet())"
   ]
  },
  {
   "cell_type": "code",
   "execution_count": 63,
   "id": "30e7376f",
   "metadata": {},
   "outputs": [
    {
     "name": "stdout",
     "output_type": "stream",
     "text": [
      "Before, population = 0\n",
      "After, population = 2\n",
      "Hello, name1!\n",
      "Hello, name2!\n"
     ]
    }
   ],
   "source": [
    "# everything I define inside of a class as a variable\n",
    "# is actually defined as an attribute on that class\n",
    "\n",
    "class Person:\n",
    "    population = 0           # define the attribute Person.population\n",
    "\n",
    "    def __init__(self, name):     # __init__ assigned to Person.__init__\n",
    "        self.name = name\n",
    "        Person.population += 1\n",
    "        \n",
    "    def greet(self):               # greet is assigned to Person.greet\n",
    "        return f'Hello, {self.name}!'\n",
    "    \n",
    "print(f'Before, population = {Person.population}')\n",
    "\n",
    "p1 = Person('name1')   # first instance (object) of type Person\n",
    "p2 = Person('name2')   # second instance (object) of type Person\n",
    "\n",
    "print(f'After, population = {Person.population}')\n",
    "\n",
    "print(p1.greet())\n",
    "print(p2.greet())"
   ]
  },
  {
   "cell_type": "code",
   "execution_count": 55,
   "id": "3912821e",
   "metadata": {},
   "outputs": [
    {
     "data": {
      "text/plain": [
       "'Hello, name1!'"
      ]
     },
     "execution_count": 55,
     "metadata": {},
     "output_type": "execute_result"
    }
   ],
   "source": [
    "p1.greet()"
   ]
  },
  {
   "cell_type": "code",
   "execution_count": 56,
   "id": "0ab9cd8f",
   "metadata": {},
   "outputs": [
    {
     "data": {
      "text/plain": [
       "'Hello, name1!'"
      ]
     },
     "execution_count": 56,
     "metadata": {},
     "output_type": "execute_result"
    }
   ],
   "source": [
    "Person.greet(p1)"
   ]
  },
  {
   "cell_type": "code",
   "execution_count": 57,
   "id": "10f2c6a5",
   "metadata": {},
   "outputs": [],
   "source": [
    "import random\n",
    "random.x = '12345'"
   ]
  },
  {
   "cell_type": "code",
   "execution_count": 58,
   "id": "f367d29a",
   "metadata": {},
   "outputs": [
    {
     "data": {
      "text/plain": [
       "'12345'"
      ]
     },
     "execution_count": 58,
     "metadata": {},
     "output_type": "execute_result"
    }
   ],
   "source": [
    "random.x"
   ]
  },
  {
   "cell_type": "code",
   "execution_count": 59,
   "id": "f8588ad5",
   "metadata": {},
   "outputs": [],
   "source": [
    "def hello(name):\n",
    "    return f'Hello, {name}!'"
   ]
  },
  {
   "cell_type": "code",
   "execution_count": 60,
   "id": "657355c0",
   "metadata": {},
   "outputs": [
    {
     "data": {
      "text/plain": [
       "'Hello, world!'"
      ]
     },
     "execution_count": 60,
     "metadata": {},
     "output_type": "execute_result"
    }
   ],
   "source": [
    "hello('world')"
   ]
  },
  {
   "cell_type": "code",
   "execution_count": 61,
   "id": "2490dd2b",
   "metadata": {},
   "outputs": [],
   "source": [
    "hello.today = 'Thursday'"
   ]
  },
  {
   "cell_type": "markdown",
   "id": "51ebd4a2",
   "metadata": {},
   "source": [
    "# Class attributes\n",
    "\n",
    "Why would we want class attributes?\n",
    "\n",
    "1. Shared state that's stored in a central place (But remember that they aren't shared!)\n",
    "2. Constants (sort of) that the class can use, stored in a central place"
   ]
  },
  {
   "cell_type": "code",
   "execution_count": 65,
   "id": "eaec519d",
   "metadata": {},
   "outputs": [
    {
     "name": "stdout",
     "output_type": "stream",
     "text": [
      "Before, population = 0\n",
      "After, population = 2\n",
      "After, p1.population = 2\n",
      "After, p2.population = 2\n",
      "Hello, name1!\n",
      "Hello, name2!\n"
     ]
    }
   ],
   "source": [
    "class Person:\n",
    "    population = 0           # define the attribute Person.population\n",
    "\n",
    "    def __init__(self, name):     # __init__ assigned to Person.__init__\n",
    "        self.name = name\n",
    "        Person.population += 1\n",
    "        \n",
    "    def greet(self):               # greet is assigned to Person.greet\n",
    "        return f'Hello, {self.name}!'\n",
    "    \n",
    "print(f'Before, population = {Person.population}')\n",
    "\n",
    "p1 = Person('name1')   # first instance (object) of type Person\n",
    "p2 = Person('name2')   # second instance (object) of type Person\n",
    "\n",
    "print(f'After, population = {Person.population}')  # Does Person have population? YES  2\n",
    "print(f'After, p1.population = {p1.population}')   # Does p1 have population? NO... does Person have population? YES, 2\n",
    "print(f'After, p2.population = {p2.population}')   # Does p2 have population? NO... Does Person? YES, 2\n",
    "\n",
    "print(p1.greet())  # does p1 have greet? NO. Does Person have greet? Yes... we run Person.greet()\n",
    "print(p2.greet())"
   ]
  },
  {
   "cell_type": "code",
   "execution_count": null,
   "id": "4299c012",
   "metadata": {},
   "outputs": [],
   "source": []
  }
 ],
 "metadata": {
  "kernelspec": {
   "display_name": "Python 3 (ipykernel)",
   "language": "python",
   "name": "python3"
  },
  "language_info": {
   "codemirror_mode": {
    "name": "ipython",
    "version": 3
   },
   "file_extension": ".py",
   "mimetype": "text/x-python",
   "name": "python",
   "nbconvert_exporter": "python",
   "pygments_lexer": "ipython3",
   "version": "3.10.5"
  }
 },
 "nbformat": 4,
 "nbformat_minor": 5
}
