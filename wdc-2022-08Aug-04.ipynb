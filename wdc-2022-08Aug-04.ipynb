{
 "cells": [
  {
   "cell_type": "markdown",
   "id": "e7e4a046",
   "metadata": {},
   "source": [
    "# Objects\n",
    "\n",
    "- Classes\n",
    "- Instances\n",
    "- Methods\n",
    "- Attributes\n"
   ]
  },
  {
   "cell_type": "code",
   "execution_count": 1,
   "id": "305763e5",
   "metadata": {},
   "outputs": [
    {
     "data": {
      "text/plain": [
       "str"
      ]
     },
     "execution_count": 1,
     "metadata": {},
     "output_type": "execute_result"
    }
   ],
   "source": [
    "s = 'abcd'\n",
    "type(s)"
   ]
  },
  {
   "cell_type": "code",
   "execution_count": 2,
   "id": "c0fe6fc9",
   "metadata": {},
   "outputs": [
    {
     "data": {
      "text/plain": [
       "list"
      ]
     },
     "execution_count": 2,
     "metadata": {},
     "output_type": "execute_result"
    }
   ],
   "source": [
    "mylist = [10, 20, 30]\n",
    "type(mylist)"
   ]
  },
  {
   "cell_type": "code",
   "execution_count": 3,
   "id": "718b16bd",
   "metadata": {},
   "outputs": [
    {
     "data": {
      "text/plain": [
       "dict"
      ]
     },
     "execution_count": 3,
     "metadata": {},
     "output_type": "execute_result"
    }
   ],
   "source": [
    "d = {'a':1, 'b':2, 'c':3}\n",
    "type(d)"
   ]
  },
  {
   "cell_type": "code",
   "execution_count": 7,
   "id": "96c4b4bd",
   "metadata": {},
   "outputs": [
    {
     "data": {
      "text/plain": [
       "''"
      ]
     },
     "execution_count": 7,
     "metadata": {},
     "output_type": "execute_result"
    }
   ],
   "source": [
    "str()"
   ]
  },
  {
   "cell_type": "code",
   "execution_count": 8,
   "id": "861dd0d4",
   "metadata": {},
   "outputs": [
    {
     "data": {
      "text/plain": [
       "''"
      ]
     },
     "execution_count": 8,
     "metadata": {},
     "output_type": "execute_result"
    }
   ],
   "source": [
    "type(s)()    # exactly the same as saying str()"
   ]
  },
  {
   "cell_type": "code",
   "execution_count": 9,
   "id": "c3e9082b",
   "metadata": {},
   "outputs": [
    {
     "data": {
      "text/plain": [
       "list"
      ]
     },
     "execution_count": 9,
     "metadata": {},
     "output_type": "execute_result"
    }
   ],
   "source": [
    "type(mylist)"
   ]
  },
  {
   "cell_type": "code",
   "execution_count": 10,
   "id": "0a48ea0b",
   "metadata": {},
   "outputs": [
    {
     "data": {
      "text/plain": [
       "[]"
      ]
     },
     "execution_count": 10,
     "metadata": {},
     "output_type": "execute_result"
    }
   ],
   "source": [
    "list()"
   ]
  },
  {
   "cell_type": "code",
   "execution_count": 11,
   "id": "f9d71428",
   "metadata": {},
   "outputs": [
    {
     "data": {
      "text/plain": [
       "[]"
      ]
     },
     "execution_count": 11,
     "metadata": {},
     "output_type": "execute_result"
    }
   ],
   "source": [
    "type(mylist)()   #  exactly the same as saying list()"
   ]
  },
  {
   "cell_type": "code",
   "execution_count": 6,
   "id": "fedb0c65",
   "metadata": {},
   "outputs": [
    {
     "data": {
      "text/plain": [
       "{}"
      ]
     },
     "execution_count": 6,
     "metadata": {},
     "output_type": "execute_result"
    }
   ],
   "source": [
    "type(d)()"
   ]
  },
  {
   "cell_type": "code",
   "execution_count": 12,
   "id": "f1e85ac5",
   "metadata": {},
   "outputs": [
    {
     "data": {
      "text/plain": [
       "type"
      ]
     },
     "execution_count": 12,
     "metadata": {},
     "output_type": "execute_result"
    }
   ],
   "source": [
    "type(str)   # what kind of object is str?"
   ]
  },
  {
   "cell_type": "code",
   "execution_count": 13,
   "id": "111c18ae",
   "metadata": {},
   "outputs": [
    {
     "data": {
      "text/plain": [
       "type"
      ]
     },
     "execution_count": 13,
     "metadata": {},
     "output_type": "execute_result"
    }
   ],
   "source": [
    "type(list)"
   ]
  },
  {
   "cell_type": "code",
   "execution_count": 14,
   "id": "6281ed7c",
   "metadata": {},
   "outputs": [
    {
     "data": {
      "text/plain": [
       "type"
      ]
     },
     "execution_count": 14,
     "metadata": {},
     "output_type": "execute_result"
    }
   ],
   "source": [
    "type(dict)"
   ]
  },
  {
   "cell_type": "code",
   "execution_count": 15,
   "id": "f7f06998",
   "metadata": {},
   "outputs": [],
   "source": [
    "# all classes in Python are instances of type"
   ]
  },
  {
   "cell_type": "code",
   "execution_count": 16,
   "id": "385e3d45",
   "metadata": {},
   "outputs": [
    {
     "data": {
      "text/plain": [
       "type"
      ]
     },
     "execution_count": 16,
     "metadata": {},
     "output_type": "execute_result"
    }
   ],
   "source": [
    "type(type)"
   ]
  },
  {
   "cell_type": "code",
   "execution_count": 19,
   "id": "e6348296",
   "metadata": {},
   "outputs": [],
   "source": [
    "# define a new class\n",
    "class Company:\n",
    "    def __init__(self, name, industry):    # method \"dunder init\"\n",
    "        self.name = name                   # attribute \"name\" is set to name on self (the instance)\n",
    "        self.industry = industry           # attribute \"industry\" is set to industry on self (the instance)\n",
    "        \n",
    "# create a new object of type Company\n",
    "wdc = Company('WDC', 'storage')           # call the class, passing arguments"
   ]
  },
  {
   "cell_type": "markdown",
   "id": "ea79371a",
   "metadata": {},
   "source": [
    "# What happens when we create an object?\n",
    "\n",
    "- Call `Company()`\n",
    "    - Constructor method `__new__` runs, and creates a new object.\n",
    "    - Let's say that `o` is where the new object is stored.\n",
    "- `__new__` then runs `__init__`, passing `o` as the first argument\n",
    "    - `__init__` assigns `o` to the local variable (parameter) `self`\n",
    "    - The role of `__init__` is to add new attributes to the instance\n",
    "    - `__init__` doesn't usually return anything (and if it does, we ignore it)\n",
    "- `__new__` then returns the new instance back to the caller, with all of the attributes that `__init__` added.    "
   ]
  },
  {
   "cell_type": "code",
   "execution_count": 20,
   "id": "de0e014b",
   "metadata": {},
   "outputs": [
    {
     "data": {
      "text/plain": [
       "'WDC'"
      ]
     },
     "execution_count": 20,
     "metadata": {},
     "output_type": "execute_result"
    }
   ],
   "source": [
    "wdc.name"
   ]
  },
  {
   "cell_type": "code",
   "execution_count": 21,
   "id": "24df602c",
   "metadata": {},
   "outputs": [
    {
     "data": {
      "text/plain": [
       "'storage'"
      ]
     },
     "execution_count": 21,
     "metadata": {},
     "output_type": "execute_result"
    }
   ],
   "source": [
    "wdc.industry"
   ]
  },
  {
   "cell_type": "code",
   "execution_count": 22,
   "id": "1c9f7c96",
   "metadata": {},
   "outputs": [
    {
     "data": {
      "text/plain": [
       "{'name': 'WDC', 'industry': 'storage'}"
      ]
     },
     "execution_count": 22,
     "metadata": {},
     "output_type": "execute_result"
    }
   ],
   "source": [
    "vars(wdc)   # return a dict with all attributes"
   ]
  },
  {
   "cell_type": "code",
   "execution_count": 23,
   "id": "81d0b5f0",
   "metadata": {},
   "outputs": [
    {
     "name": "stdout",
     "output_type": "stream",
     "text": [
      "WDC\n",
      "Newer, better WDC\n"
     ]
    }
   ],
   "source": [
    "# define a new class\n",
    "class Company:\n",
    "    def __init__(self, name, industry):    # method \"dunder init\"\n",
    "        self.name = name                   # attribute \"name\" is set to name on self (the instance)\n",
    "        self.industry = industry           # attribute \"industry\" is set to industry on self (the instance)\n",
    "        \n",
    "    def get_name(self):\n",
    "        return self.name\n",
    "    \n",
    "    def set_name(self, new_name):\n",
    "        self.name = new_name\n",
    "        \n",
    "    def get_industry(self):\n",
    "        return self.industry\n",
    "    \n",
    "    def set_industry(self, new_industry):\n",
    "        self.industry = new_industry\n",
    "        \n",
    "# create a new object of type Company\n",
    "wdc = Company('WDC', 'storage')           # call the class, passing arguments\n",
    "\n",
    "print(wdc.get_name())   \n",
    "wdc.set_name('Newer, better WDC')\n",
    "print(wdc.get_name())"
   ]
  },
  {
   "cell_type": "code",
   "execution_count": 24,
   "id": "e4c8f6d5",
   "metadata": {},
   "outputs": [
    {
     "name": "stdout",
     "output_type": "stream",
     "text": [
      "WDC\n",
      "Newer, better WDC\n"
     ]
    }
   ],
   "source": [
    "# define a new class\n",
    "class Company:\n",
    "    def __init__(self, name, industry):    # method \"dunder init\"\n",
    "        self.name = name                   # attribute \"name\" is set to name on self (the instance)\n",
    "        self.industry = industry           # attribute \"industry\" is set to industry on self (the instance)\n",
    "        \n",
    "# we normally don't define setters + getters in Python\n",
    "\n",
    "#     def get_name(self):\n",
    "#         return self.name\n",
    "    \n",
    "#     def set_name(self, new_name):\n",
    "#         self.name = new_name\n",
    "        \n",
    "#     def get_industry(self):\n",
    "#         return self.industry\n",
    "    \n",
    "#     def set_industry(self, new_industry):\n",
    "#         self.industry = new_industry\n",
    "        \n",
    "# create a new object of type Company\n",
    "wdc = Company('WDC', 'storage')           # call the class, passing arguments\n",
    "\n",
    "print(wdc.name)\n",
    "wdc.name = 'Newer, better WDC'\n",
    "print(wdc.name)"
   ]
  },
  {
   "cell_type": "code",
   "execution_count": 25,
   "id": "bf3ee128",
   "metadata": {},
   "outputs": [],
   "source": [
    "import random"
   ]
  },
  {
   "cell_type": "code",
   "execution_count": 26,
   "id": "1ca970c8",
   "metadata": {},
   "outputs": [],
   "source": [
    "random.myname = 'Reuven'"
   ]
  },
  {
   "cell_type": "code",
   "execution_count": 27,
   "id": "441ba53a",
   "metadata": {},
   "outputs": [
    {
     "name": "stdout",
     "output_type": "stream",
     "text": [
      "WDC\n",
      "Newer, better WDC\n"
     ]
    }
   ],
   "source": [
    "# define a new class\n",
    "class Company:    # parameters\n",
    "    def __init__(self, name, industry):    # method \"dunder init\"\n",
    "\n",
    "        # after a . we have \"attributes\"\n",
    "\n",
    "        # self.ATTRIBUTE = VARIABLE/PARAMETER\n",
    "        self.name = name                   # attribute \"name\" is set to name on self (the instance)\n",
    "        self.industry = industry           # attribute \"industry\" is set to industry on self (the instance)\n",
    "        \n",
    "\n",
    "    def description(self):\n",
    "        return f'{self.name}, in the {self.industry} industry'\n",
    "    \n",
    "\n",
    "# create a new object of type Company\n",
    "wdc = Company('WDC', 'storage')           # call the class, passing arguments\n",
    "\n",
    "print(wdc.name)\n",
    "wdc.name = 'Newer, better WDC'\n",
    "print(wdc.name)"
   ]
  },
  {
   "cell_type": "code",
   "execution_count": 28,
   "id": "6d8dd6f2",
   "metadata": {},
   "outputs": [
    {
     "name": "stdout",
     "output_type": "stream",
     "text": [
      "Newer, better WDC, in the storage industry\n"
     ]
    }
   ],
   "source": [
    "print(wdc.description())"
   ]
  },
  {
   "cell_type": "code",
   "execution_count": 29,
   "id": "0ec63fe5",
   "metadata": {},
   "outputs": [
    {
     "data": {
      "text/plain": [
       "'ABCD'"
      ]
     },
     "execution_count": 29,
     "metadata": {},
     "output_type": "execute_result"
    }
   ],
   "source": [
    "s = 'abcd'\n",
    "s.upper()    # Python notices we're running a method on an instance, and rewrites it\n",
    "             # s is replaced by str (its class), and is then made the first argument"
   ]
  },
  {
   "cell_type": "code",
   "execution_count": 30,
   "id": "42b628b3",
   "metadata": {},
   "outputs": [
    {
     "data": {
      "text/plain": [
       "'ABCD'"
      ]
     },
     "execution_count": 30,
     "metadata": {},
     "output_type": "execute_result"
    }
   ],
   "source": [
    "str.upper(s)"
   ]
  },
  {
   "cell_type": "code",
   "execution_count": 31,
   "id": "15b711b1",
   "metadata": {},
   "outputs": [
    {
     "data": {
      "text/plain": [
       "'Newer, better WDC, in the storage industry'"
      ]
     },
     "execution_count": 31,
     "metadata": {},
     "output_type": "execute_result"
    }
   ],
   "source": [
    "wdc.description()"
   ]
  },
  {
   "cell_type": "code",
   "execution_count": 32,
   "id": "c4c7172c",
   "metadata": {},
   "outputs": [
    {
     "data": {
      "text/plain": [
       "'Newer, better WDC, in the storage industry'"
      ]
     },
     "execution_count": 32,
     "metadata": {},
     "output_type": "execute_result"
    }
   ],
   "source": [
    "Company.description(wdc)"
   ]
  },
  {
   "cell_type": "code",
   "execution_count": 33,
   "id": "e7256ff2",
   "metadata": {},
   "outputs": [
    {
     "ename": "AttributeError",
     "evalue": "'int' object has no attribute 'name'",
     "output_type": "error",
     "traceback": [
      "\u001b[0;31m---------------------------------------------------------------------------\u001b[0m",
      "\u001b[0;31mAttributeError\u001b[0m                            Traceback (most recent call last)",
      "\u001b[0;32m/var/folders/rr/0mnyyv811fs5vyp22gf4fxk00000gn/T/ipykernel_44281/1982554146.py\u001b[0m in \u001b[0;36m<module>\u001b[0;34m\u001b[0m\n\u001b[0;32m----> 1\u001b[0;31m \u001b[0mCompany\u001b[0m\u001b[0;34m.\u001b[0m\u001b[0mdescription\u001b[0m\u001b[0;34m(\u001b[0m\u001b[0;36m5\u001b[0m\u001b[0;34m)\u001b[0m\u001b[0;34m\u001b[0m\u001b[0;34m\u001b[0m\u001b[0m\n\u001b[0m",
      "\u001b[0;32m/var/folders/rr/0mnyyv811fs5vyp22gf4fxk00000gn/T/ipykernel_44281/2314244814.py\u001b[0m in \u001b[0;36mdescription\u001b[0;34m(self)\u001b[0m\n\u001b[1;32m      6\u001b[0m \u001b[0;34m\u001b[0m\u001b[0m\n\u001b[1;32m      7\u001b[0m     \u001b[0;32mdef\u001b[0m \u001b[0mdescription\u001b[0m\u001b[0;34m(\u001b[0m\u001b[0mself\u001b[0m\u001b[0;34m)\u001b[0m\u001b[0;34m:\u001b[0m\u001b[0;34m\u001b[0m\u001b[0;34m\u001b[0m\u001b[0m\n\u001b[0;32m----> 8\u001b[0;31m         \u001b[0;32mreturn\u001b[0m \u001b[0;34mf'{self.name}, in the {self.industry} industry'\u001b[0m\u001b[0;34m\u001b[0m\u001b[0;34m\u001b[0m\u001b[0m\n\u001b[0m\u001b[1;32m      9\u001b[0m \u001b[0;34m\u001b[0m\u001b[0m\n\u001b[1;32m     10\u001b[0m \u001b[0;31m# create a new object of type Company\u001b[0m\u001b[0;34m\u001b[0m\u001b[0;34m\u001b[0m\u001b[0m\n",
      "\u001b[0;31mAttributeError\u001b[0m: 'int' object has no attribute 'name'"
     ]
    }
   ],
   "source": [
    "Company.description(5)"
   ]
  },
  {
   "cell_type": "markdown",
   "id": "d86a5e67",
   "metadata": {},
   "source": [
    "# Exercise: Scoop\n",
    "\n",
    "1. Define a class `Scoop` that takes a single argument, a string, a flavor.\n",
    "2. Assign the passed flavor to the attribute `flavor`.\n",
    "3. Do this in PyCharm, in a new file\n",
    "\n",
    "```python\n",
    "s1 = Scoop('chocolate')\n",
    "s2 = Scoop('vanilla')\n",
    "s2 = Scoop('coffee')\n",
    "\n",
    "print(s1.flavor)  # chocolate\n",
    "\n",
    "for one_scoop in [s1, s2, s3]:\n",
    "    print(one_scoop.flavor)   # chocolate, vanilla, coffee\n",
    "```"
   ]
  },
  {
   "cell_type": "code",
   "execution_count": null,
   "id": "ab83e450",
   "metadata": {},
   "outputs": [],
   "source": []
  }
 ],
 "metadata": {
  "kernelspec": {
   "display_name": "Python 3 (ipykernel)",
   "language": "python",
   "name": "python3"
  },
  "language_info": {
   "codemirror_mode": {
    "name": "ipython",
    "version": 3
   },
   "file_extension": ".py",
   "mimetype": "text/x-python",
   "name": "python",
   "nbconvert_exporter": "python",
   "pygments_lexer": "ipython3",
   "version": "3.10.5"
  }
 },
 "nbformat": 4,
 "nbformat_minor": 5
}
