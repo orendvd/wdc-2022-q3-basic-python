{
 "cells": [
  {
   "cell_type": "markdown",
   "id": "dcfefe2c",
   "metadata": {},
   "source": [
    "# Agenda\n",
    "\n",
    "1. Files\n",
    "2. Combinations of data structures\n",
    "\n",
    "Exercise: Write a program that asks the user to enter a string. Produce a dict in which the keys are the characters from that string, and the values show how many times each character was in there.\n",
    "\n",
    "Example:\n",
    "\n",
    "    Enter string: hello\n",
    "    {'h':1, 'e':1, 'l':2, 'o':1}"
   ]
  },
  {
   "cell_type": "code",
   "execution_count": null,
   "id": "37841ca8",
   "metadata": {},
   "outputs": [],
   "source": []
  }
 ],
 "metadata": {
  "kernelspec": {
   "display_name": "Python 3 (ipykernel)",
   "language": "python",
   "name": "python3"
  },
  "language_info": {
   "codemirror_mode": {
    "name": "ipython",
    "version": 3
   },
   "file_extension": ".py",
   "mimetype": "text/x-python",
   "name": "python",
   "nbconvert_exporter": "python",
   "pygments_lexer": "ipython3",
   "version": "3.10.5"
  }
 },
 "nbformat": 4,
 "nbformat_minor": 5
}
