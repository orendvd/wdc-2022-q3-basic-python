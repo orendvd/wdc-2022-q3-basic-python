{
 "cells": [
  {
   "cell_type": "markdown",
   "id": "dcfefe2c",
   "metadata": {},
   "source": [
    "# Agenda\n",
    "\n",
    "1. Files\n",
    "2. Combinations of data structures\n",
    "\n",
    "Exercise: Write a program that asks the user to enter a string. Produce a dict in which the keys are the characters from that string, and the values show how many times each character was in there.\n",
    "\n",
    "Example:\n",
    "\n",
    "    Enter string: hello\n",
    "    {'h':1, 'e':1, 'l':2, 'o':1}"
   ]
  },
  {
   "cell_type": "code",
   "execution_count": 3,
   "id": "206bc540",
   "metadata": {},
   "outputs": [
    {
     "name": "stdout",
     "output_type": "stream",
     "text": [
      "Enter a string: Hello! How are you?\n"
     ]
    }
   ],
   "source": [
    "s = input('Enter a string: ').strip()\n",
    "\n",
    "counts = {}\n",
    "\n",
    "for one_character in s:\n",
    "    counts[one_character] = counts.get(one_character, 0) + 1"
   ]
  },
  {
   "cell_type": "code",
   "execution_count": 4,
   "id": "8be07021",
   "metadata": {},
   "outputs": [
    {
     "data": {
      "text/plain": [
       "{'H': 2,\n",
       " 'e': 2,\n",
       " 'l': 2,\n",
       " 'o': 3,\n",
       " '!': 1,\n",
       " ' ': 3,\n",
       " 'w': 1,\n",
       " 'a': 1,\n",
       " 'r': 1,\n",
       " 'y': 1,\n",
       " 'u': 1,\n",
       " '?': 1}"
      ]
     },
     "execution_count": 4,
     "metadata": {},
     "output_type": "execute_result"
    }
   ],
   "source": [
    "counts\n"
   ]
  },
  {
   "cell_type": "code",
   "execution_count": 5,
   "id": "18f239ed",
   "metadata": {},
   "outputs": [
    {
     "name": "stdout",
     "output_type": "stream",
     "text": [
      "H: 2\n",
      "e: 2\n",
      "l: 2\n",
      "o: 3\n",
      "!: 1\n",
      " : 3\n",
      "w: 1\n",
      "a: 1\n",
      "r: 1\n",
      "y: 1\n",
      "u: 1\n",
      "?: 1\n"
     ]
    }
   ],
   "source": [
    "for key, value in counts.items():\n",
    "    print(f'{key}: {value}')"
   ]
  },
  {
   "cell_type": "code",
   "execution_count": 7,
   "id": "50bc0948",
   "metadata": {},
   "outputs": [
    {
     "ename": "TypeError",
     "evalue": "can only concatenate str (not \"int\") to str",
     "output_type": "error",
     "traceback": [
      "\u001b[0;31m---------------------------------------------------------------------------\u001b[0m",
      "\u001b[0;31mTypeError\u001b[0m                                 Traceback (most recent call last)",
      "\u001b[0;32m/var/folders/rr/0mnyyv811fs5vyp22gf4fxk00000gn/T/ipykernel_96105/626596940.py\u001b[0m in \u001b[0;36m<module>\u001b[0;34m\u001b[0m\n\u001b[0;32m----> 1\u001b[0;31m \u001b[0;34m'a'\u001b[0m \u001b[0;34m+\u001b[0m \u001b[0;36m10\u001b[0m\u001b[0;34m\u001b[0m\u001b[0;34m\u001b[0m\u001b[0m\n\u001b[0m",
      "\u001b[0;31mTypeError\u001b[0m: can only concatenate str (not \"int\") to str"
     ]
    }
   ],
   "source": [
    "'a' + 10"
   ]
  },
  {
   "cell_type": "code",
   "execution_count": 8,
   "id": "e2a80fc8",
   "metadata": {},
   "outputs": [
    {
     "data": {
      "text/plain": [
       "'aaaaaaaaaa'"
      ]
     },
     "execution_count": 8,
     "metadata": {},
     "output_type": "execute_result"
    }
   ],
   "source": [
    "'a' * 10"
   ]
  },
  {
   "cell_type": "code",
   "execution_count": 9,
   "id": "fc1c9f21",
   "metadata": {},
   "outputs": [
    {
     "name": "stdout",
     "output_type": "stream",
     "text": [
      "H: XX\n",
      "e: XX\n",
      "l: XX\n",
      "o: XXX\n",
      "!: X\n",
      " : XXX\n",
      "w: X\n",
      "a: X\n",
      "r: X\n",
      "y: X\n",
      "u: X\n",
      "?: X\n"
     ]
    }
   ],
   "source": [
    "for key, value in counts.items():\n",
    "    print(f'{key}: {value * \"X\"}')"
   ]
  },
  {
   "cell_type": "code",
   "execution_count": 10,
   "id": "b80cbbee",
   "metadata": {},
   "outputs": [
    {
     "data": {
      "text/plain": [
       "'XXXXX'"
      ]
     },
     "execution_count": 10,
     "metadata": {},
     "output_type": "execute_result"
    }
   ],
   "source": [
    "'X' * 5"
   ]
  },
  {
   "cell_type": "code",
   "execution_count": null,
   "id": "995fc7dd",
   "metadata": {},
   "outputs": [],
   "source": []
  }
 ],
 "metadata": {
  "kernelspec": {
   "display_name": "Python 3 (ipykernel)",
   "language": "python",
   "name": "python3"
  },
  "language_info": {
   "codemirror_mode": {
    "name": "ipython",
    "version": 3
   },
   "file_extension": ".py",
   "mimetype": "text/x-python",
   "name": "python",
   "nbconvert_exporter": "python",
   "pygments_lexer": "ipython3",
   "version": "3.10.5"
  }
 },
 "nbformat": 4,
 "nbformat_minor": 5
}
