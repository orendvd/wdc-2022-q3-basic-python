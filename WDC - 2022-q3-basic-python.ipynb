{
 "cells": [
  {
   "cell_type": "markdown",
   "metadata": {},
   "source": [
    "# Agenda\n",
    "\n",
    "1. Basic syntax (day 1)\n",
    "2. Data structures (day 1-4)\n",
    "    - Numbers (`int` and `float`)\n",
    "    - Text (`str`)\n",
    "    - Lists and tuples\n",
    "    - Dictionaries (`dict`)\n",
    "    - `set`\n",
    "    - Files\n",
    "    - Combinations of data structures\n",
    "3. Functions (day 4-5)\n",
    "    - Parameters and arguments\n",
    "    - Scoping (locals vs. globals)\n",
    "    - Returning different values\n",
    "4. Functional programming (day 5-6)\n",
    "    - Comprehensions (list comprehensions)\n",
    "    - Functions as arguments (as part of sorting)\n",
    "5. Modules (day 6)\n",
    "    - Using modules (`import`)\n",
    "    - Writing modules\n",
    "    - Installing modules via PyPI and `pip`\n",
    "6. Objects (day 7-8)\n",
    "    - Classes\n",
    "    - Instances\n",
    "    - Methods\n",
    "    - Attributes (ICPO)\n",
    "    - Inheritance\n",
    "    - Magic methods (overloading)\n",
    "7. Exceptions (day 8)\n",
    "    "
   ]
  },
  {
   "cell_type": "code",
   "execution_count": null,
   "metadata": {},
   "outputs": [],
   "source": []
  }
 ],
 "metadata": {
  "kernelspec": {
   "display_name": "Python 3 (ipykernel)",
   "language": "python",
   "name": "python3"
  },
  "language_info": {
   "codemirror_mode": {
    "name": "ipython",
    "version": 3
   },
   "file_extension": ".py",
   "mimetype": "text/x-python",
   "name": "python",
   "nbconvert_exporter": "python",
   "pygments_lexer": "ipython3",
   "version": "3.10.5"
  }
 },
 "nbformat": 4,
 "nbformat_minor": 4
}
