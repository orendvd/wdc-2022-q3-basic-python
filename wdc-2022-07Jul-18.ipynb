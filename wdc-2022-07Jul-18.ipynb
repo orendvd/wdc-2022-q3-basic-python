{
 "cells": [
  {
   "cell_type": "markdown",
   "id": "6441c9c0",
   "metadata": {},
   "source": [
    "# Agenda\n",
    "\n",
    "1. Dictionaries\n",
    "2. Sets\n",
    "3. Files"
   ]
  },
  {
   "cell_type": "code",
   "execution_count": 1,
   "id": "b1ea53bf",
   "metadata": {},
   "outputs": [],
   "source": [
    "# sequence -- string, list, tuple\n",
    "\n"
   ]
  },
  {
   "cell_type": "markdown",
   "id": "65eb30e8",
   "metadata": {},
   "source": [
    "# Dictionary\n",
    "\n",
    "- Hash table\n",
    "- Hash\n",
    "- Name-value pairs\n",
    "- Key-value pairs\n",
    "- Associative array\n",
    "\n",
    "In Python, a dict has keys and values:\n",
    "- Keys must be immutable (numbers or strings, usually), and must be unique in a dict\n",
    "- Values can be absolutely anything\n",
    "\n",
    "Where can we use it?\n",
    "- User ID + user name\n",
    "- Username + user ID\n",
    "- Filename and file properties\n",
    "- IP address and computer/machine properies\n",
    "- Month numbers + month names\n",
    "- Month names + month numbers\n"
   ]
  },
  {
   "cell_type": "code",
   "execution_count": 2,
   "id": "79e94260",
   "metadata": {},
   "outputs": [],
   "source": [
    "# dict is defined with {} and key-value pairs\n",
    "# each key-value pair is written as key:value\n",
    "# each pair is separated by ,\n",
    "\n",
    "person = {'first':'Reuven', 'last':'Lerner', 'shoesize':46}"
   ]
  },
  {
   "cell_type": "code",
   "execution_count": 3,
   "id": "0416c384",
   "metadata": {},
   "outputs": [
    {
     "data": {
      "text/plain": [
       "3"
      ]
     },
     "execution_count": 3,
     "metadata": {},
     "output_type": "execute_result"
    }
   ],
   "source": [
    "len(person)   # tells us how many pairs"
   ]
  },
  {
   "cell_type": "code",
   "execution_count": 4,
   "id": "b4c0dba4",
   "metadata": {},
   "outputs": [
    {
     "data": {
      "text/plain": [
       "'Reuven'"
      ]
     },
     "execution_count": 4,
     "metadata": {},
     "output_type": "execute_result"
    }
   ],
   "source": [
    "person['first']   # retrieve the value via the key"
   ]
  },
  {
   "cell_type": "code",
   "execution_count": 5,
   "id": "acbf290e",
   "metadata": {},
   "outputs": [
    {
     "data": {
      "text/plain": [
       "'Lerner'"
      ]
     },
     "execution_count": 5,
     "metadata": {},
     "output_type": "execute_result"
    }
   ],
   "source": [
    "person['last']"
   ]
  },
  {
   "cell_type": "code",
   "execution_count": 6,
   "id": "f9064fcd",
   "metadata": {},
   "outputs": [
    {
     "data": {
      "text/plain": [
       "46"
      ]
     },
     "execution_count": 6,
     "metadata": {},
     "output_type": "execute_result"
    }
   ],
   "source": [
    "person['shoesize']"
   ]
  },
  {
   "cell_type": "code",
   "execution_count": 7,
   "id": "674297e9",
   "metadata": {},
   "outputs": [
    {
     "ename": "KeyError",
     "evalue": "'asfdafasfa'",
     "output_type": "error",
     "traceback": [
      "\u001b[0;31m---------------------------------------------------------------------------\u001b[0m",
      "\u001b[0;31mKeyError\u001b[0m                                  Traceback (most recent call last)",
      "\u001b[0;32m/var/folders/rr/0mnyyv811fs5vyp22gf4fxk00000gn/T/ipykernel_99281/2834212523.py\u001b[0m in \u001b[0;36m<module>\u001b[0;34m\u001b[0m\n\u001b[0;32m----> 1\u001b[0;31m \u001b[0mperson\u001b[0m\u001b[0;34m[\u001b[0m\u001b[0;34m'asfdafasfa'\u001b[0m\u001b[0;34m]\u001b[0m\u001b[0;34m\u001b[0m\u001b[0;34m\u001b[0m\u001b[0m\n\u001b[0m",
      "\u001b[0;31mKeyError\u001b[0m: 'asfdafasfa'"
     ]
    }
   ],
   "source": [
    "person['asfdafasfa']"
   ]
  },
  {
   "cell_type": "code",
   "execution_count": 8,
   "id": "65304c5a",
   "metadata": {},
   "outputs": [
    {
     "ename": "IndexError",
     "evalue": "string index out of range",
     "output_type": "error",
     "traceback": [
      "\u001b[0;31m---------------------------------------------------------------------------\u001b[0m",
      "\u001b[0;31mIndexError\u001b[0m                                Traceback (most recent call last)",
      "\u001b[0;32m/var/folders/rr/0mnyyv811fs5vyp22gf4fxk00000gn/T/ipykernel_99281/652239824.py\u001b[0m in \u001b[0;36m<module>\u001b[0;34m\u001b[0m\n\u001b[1;32m      1\u001b[0m \u001b[0ms\u001b[0m \u001b[0;34m=\u001b[0m \u001b[0;34m'abcd'\u001b[0m\u001b[0;34m\u001b[0m\u001b[0;34m\u001b[0m\u001b[0m\n\u001b[0;32m----> 2\u001b[0;31m \u001b[0ms\u001b[0m\u001b[0;34m[\u001b[0m\u001b[0;36m100\u001b[0m\u001b[0;34m]\u001b[0m\u001b[0;34m\u001b[0m\u001b[0;34m\u001b[0m\u001b[0m\n\u001b[0m",
      "\u001b[0;31mIndexError\u001b[0m: string index out of range"
     ]
    }
   ],
   "source": [
    "s = 'abcd'\n",
    "s[100]"
   ]
  },
  {
   "cell_type": "code",
   "execution_count": 9,
   "id": "ff1a4600",
   "metadata": {},
   "outputs": [
    {
     "ename": "KeyError",
     "evalue": "'first '",
     "output_type": "error",
     "traceback": [
      "\u001b[0;31m---------------------------------------------------------------------------\u001b[0m",
      "\u001b[0;31mKeyError\u001b[0m                                  Traceback (most recent call last)",
      "\u001b[0;32m/var/folders/rr/0mnyyv811fs5vyp22gf4fxk00000gn/T/ipykernel_99281/1529809810.py\u001b[0m in \u001b[0;36m<module>\u001b[0;34m\u001b[0m\n\u001b[0;32m----> 1\u001b[0;31m \u001b[0mperson\u001b[0m\u001b[0;34m[\u001b[0m\u001b[0;34m'first '\u001b[0m\u001b[0;34m]\u001b[0m\u001b[0;34m\u001b[0m\u001b[0;34m\u001b[0m\u001b[0m\n\u001b[0m",
      "\u001b[0;31mKeyError\u001b[0m: 'first '"
     ]
    }
   ],
   "source": [
    "person['first ']  # note: 'first ' not 'first'"
   ]
  },
  {
   "cell_type": "code",
   "execution_count": 10,
   "id": "9e7d9678",
   "metadata": {},
   "outputs": [
    {
     "data": {
      "text/plain": [
       "True"
      ]
     },
     "execution_count": 10,
     "metadata": {},
     "output_type": "execute_result"
    }
   ],
   "source": [
    "# check that a key is in the dict with \"in\"\n",
    "\n",
    "'first' in person"
   ]
  },
  {
   "cell_type": "code",
   "execution_count": 11,
   "id": "f280a0ae",
   "metadata": {},
   "outputs": [
    {
     "data": {
      "text/plain": [
       "False"
      ]
     },
     "execution_count": 11,
     "metadata": {},
     "output_type": "execute_result"
    }
   ],
   "source": [
    "'Reuven' in person"
   ]
  },
  {
   "cell_type": "markdown",
   "id": "10cac06c",
   "metadata": {},
   "source": [
    "# Exercise: Restaurant\n",
    "\n",
    "1. Define a dict, `menu`, in which keys are the items for sale at a restaurant, and the values are the prices.\n",
    "2. Define `total` to be 0.\n",
    "3. Ask the user, repeatedly, to order.\n",
    "    - If we get an empty string, stop asking and exit the loop.\n",
    "    - If we get something on the menu, then add the price to `total` and print the item + price + new total.\n",
    "    - If we get something *not* on the menu, then scold them\n",
    "4. In the end, after the loop, print `total`.\n",
    "\n",
    "Example:\n",
    "\n",
    "    Order: sandwich\n",
    "    sandwich is 25, total is 25\n",
    "    Order: tea\n",
    "    tea is 10, total is 35\n",
    "    Order: elephant\n",
    "    we are out of elephant today!\n",
    "    Order: [ENTER]\n",
    "    total is 35\n",
    "    \n",
    "   "
   ]
  },
  {
   "cell_type": "code",
   "execution_count": 12,
   "id": "08a033f7",
   "metadata": {},
   "outputs": [],
   "source": [
    "menu = {'sandwich':25, 'tea':10, 'apple':5, 'cake':12}\n",
    "\n"
   ]
  },
  {
   "cell_type": "code",
   "execution_count": 13,
   "id": "489d98eb",
   "metadata": {},
   "outputs": [
    {
     "data": {
      "text/plain": [
       "dict"
      ]
     },
     "execution_count": 13,
     "metadata": {},
     "output_type": "execute_result"
    }
   ],
   "source": [
    "type(menu)"
   ]
  },
  {
   "cell_type": "code",
   "execution_count": 14,
   "id": "c4429def",
   "metadata": {},
   "outputs": [
    {
     "data": {
      "text/plain": [
       "25"
      ]
     },
     "execution_count": 14,
     "metadata": {},
     "output_type": "execute_result"
    }
   ],
   "source": [
    "menu['sandwich']"
   ]
  },
  {
   "cell_type": "code",
   "execution_count": 15,
   "id": "85926653",
   "metadata": {},
   "outputs": [
    {
     "data": {
      "text/plain": [
       "25"
      ]
     },
     "execution_count": 15,
     "metadata": {},
     "output_type": "execute_result"
    }
   ],
   "source": [
    "x = 'sandwich'\n",
    "menu[x]"
   ]
  },
  {
   "cell_type": "code",
   "execution_count": 16,
   "id": "07e9a4fd",
   "metadata": {},
   "outputs": [
    {
     "name": "stdout",
     "output_type": "stream",
     "text": [
      "Order: sandwich\n",
      "sandwich costs 25; total is now 25\n",
      "Order: apple\n",
      "apple costs 5; total is now 30\n",
      "Order: tea\n",
      "tea costs 10; total is now 40\n",
      "Order: cake\n",
      "cake costs 12; total is now 52\n",
      "Order: asdfafa\n",
      "Sorry, we are out of asdfafa today.\n",
      "Order: \n",
      "Total is 52.\n"
     ]
    }
   ],
   "source": [
    "menu = {'sandwich':25, 'tea':10, 'apple':5, 'cake':12}\n",
    "total = 0\n",
    "\n",
    "while True:\n",
    "    order = input('Order: ').strip()\n",
    "    \n",
    "    if not order:   # did we get an empty string? exit from the loop\n",
    "        break\n",
    "        \n",
    "    if order in menu:   # if order is a key in menu\n",
    "        price = menu[order]\n",
    "        total += price\n",
    "        print(f'{order} costs {price}; total is now {total}')\n",
    "    else:\n",
    "        print(f'Sorry, we are out of {order} today.')\n",
    "        \n",
    "print(f'Total is {total}.')"
   ]
  },
  {
   "cell_type": "code",
   "execution_count": 17,
   "id": "319aa21a",
   "metadata": {},
   "outputs": [],
   "source": [
    "d = {'a':10, 'b':20, 'c':30}\n",
    "\n",
    "d['x'] = 100     # assign to a dict to add a key-value pair"
   ]
  },
  {
   "cell_type": "code",
   "execution_count": 18,
   "id": "95763d73",
   "metadata": {},
   "outputs": [
    {
     "data": {
      "text/plain": [
       "{'a': 10, 'b': 20, 'c': 30, 'x': 100}"
      ]
     },
     "execution_count": 18,
     "metadata": {},
     "output_type": "execute_result"
    }
   ],
   "source": [
    "d"
   ]
  },
  {
   "cell_type": "code",
   "execution_count": 20,
   "id": "3f9fd043",
   "metadata": {},
   "outputs": [
    {
     "data": {
      "text/plain": [
       "{'a': 10, 'b': 20, 'c': 30, 'x': 234}"
      ]
     },
     "execution_count": 20,
     "metadata": {},
     "output_type": "execute_result"
    }
   ],
   "source": [
    "d['x'] = 234     # update the value associated with 'x'\n",
    "d "
   ]
  },
  {
   "cell_type": "code",
   "execution_count": 21,
   "id": "18cdc664",
   "metadata": {},
   "outputs": [
    {
     "data": {
      "text/plain": [
       "{'a': 10, 'b': 20, 'c': 30, 'x': 244}"
      ]
     },
     "execution_count": 21,
     "metadata": {},
     "output_type": "execute_result"
    }
   ],
   "source": [
    "d['x'] += 10  # add 10 to the current value of d['x']\n",
    "d"
   ]
  },
  {
   "cell_type": "code",
   "execution_count": 22,
   "id": "9b6952e3",
   "metadata": {},
   "outputs": [
    {
     "ename": "KeyError",
     "evalue": "'y'",
     "output_type": "error",
     "traceback": [
      "\u001b[0;31m---------------------------------------------------------------------------\u001b[0m",
      "\u001b[0;31mKeyError\u001b[0m                                  Traceback (most recent call last)",
      "\u001b[0;32m/var/folders/rr/0mnyyv811fs5vyp22gf4fxk00000gn/T/ipykernel_99281/1240264420.py\u001b[0m in \u001b[0;36m<module>\u001b[0;34m\u001b[0m\n\u001b[0;32m----> 1\u001b[0;31m \u001b[0md\u001b[0m\u001b[0;34m[\u001b[0m\u001b[0;34m'y'\u001b[0m\u001b[0;34m]\u001b[0m \u001b[0;34m+=\u001b[0m \u001b[0;36m10\u001b[0m\u001b[0;34m\u001b[0m\u001b[0;34m\u001b[0m\u001b[0m\n\u001b[0m",
      "\u001b[0;31mKeyError\u001b[0m: 'y'"
     ]
    }
   ],
   "source": [
    "d['y'] += 10  # add 10 to the current value of d['y']... which does not exist"
   ]
  },
  {
   "cell_type": "code",
   "execution_count": 23,
   "id": "bf72a035",
   "metadata": {},
   "outputs": [],
   "source": [
    "d = {'a':1, 'b':2, 'c':3, 'a':4, 'b':5}"
   ]
  },
  {
   "cell_type": "code",
   "execution_count": 24,
   "id": "d05144ed",
   "metadata": {},
   "outputs": [
    {
     "data": {
      "text/plain": [
       "{'a': 4, 'b': 5, 'c': 3}"
      ]
     },
     "execution_count": 24,
     "metadata": {},
     "output_type": "execute_result"
    }
   ],
   "source": [
    "d"
   ]
  },
  {
   "cell_type": "code",
   "execution_count": 25,
   "id": "8d20bd08",
   "metadata": {},
   "outputs": [
    {
     "name": "stdout",
     "output_type": "stream",
     "text": [
      "{'odds': 5, 'evens': 5}\n"
     ]
    }
   ],
   "source": [
    "# count the odd/even numbers\n",
    "\n",
    "d = {'odds':0, 'evens':0}\n",
    "\n",
    "for one_number in range(10):\n",
    "    if one_number % 2 == 1:     # if the remainder from /2 is 1, it's odd\n",
    "        d['odds'] += 1\n",
    "    else:                       # if the remainder is 0, it's evens\n",
    "        d['evens'] += 1\n",
    "        \n",
    "print(d)        "
   ]
  },
  {
   "cell_type": "code",
   "execution_count": 26,
   "id": "213937d3",
   "metadata": {},
   "outputs": [
    {
     "name": "stdout",
     "output_type": "stream",
     "text": [
      "{'odds': [1, 3, 5, 7, 9], 'evens': [0, 2, 4, 6, 8]}\n"
     ]
    }
   ],
   "source": [
    "# sort the odd/even numbers\n",
    "\n",
    "d = {'odds':[], 'evens':[]}\n",
    "\n",
    "for one_number in range(10):\n",
    "    if one_number % 2 == 1:     # if the remainder from /2 is 1, it's odd\n",
    "        d['odds'].append(one_number)\n",
    "    else:                       # if the remainder is 0, it's evens\n",
    "        d['evens'].append(one_number)\n",
    "        \n",
    "print(d)        "
   ]
  },
  {
   "cell_type": "markdown",
   "id": "32ae6421",
   "metadata": {},
   "source": [
    "# Exercise: Vowels, digits, and others\n",
    "\n",
    "1. Define a dict (`counts`) with three keys (`vowels`, `digits`, and `others`).  The value for each should be an empty list (`[]`).\n",
    "2. Ask the user, repeatedly, to enter a string.\n",
    "    - If we get an empty string, exit from the loop and print `counts`\n",
    "3. If we got a non-empty string, then go through each character in the string:\n",
    "    - If it's a vowel (a, e, i, o, u) then add it to the `vowels` list.\n",
    "    - If it's a digit (0-9) then add it to the `digits` list.\n",
    "    - Anything else should be added to the `others` list.\n",
    "4. In the end, print the dictionary, `counts`.    \n",
    "    \n",
    "    \n",
    "Example:\n",
    "\n",
    "    Enter string: hello123\n",
    "    Enter string: bye4\n",
    "    Enter string: [ENTER]\n",
    "    {'vowels':['e', 'o', 'e'],\n",
    "     'digits':['1', '2', '3, '4'],\n",
    "     'others':['h', 'l', 'l', 'b', 'y']}\n",
    "    "
   ]
  },
  {
   "cell_type": "code",
   "execution_count": 29,
   "id": "c6526994",
   "metadata": {},
   "outputs": [
    {
     "name": "stdout",
     "output_type": "stream",
     "text": [
      "Enter string: this is a test\n",
      "Enter string: hello 123\n",
      "Enter string: bye456!!\n",
      "Enter string: \n",
      "{'vowels': ['i', 'i', 'a', 'e', 'e', 'o', 'e'], 'digits': ['1', '2', '3', '4', '5', '6'], 'others': ['t', 'h', 's', ' ', 's', ' ', ' ', 't', 's', 't', 'h', 'l', 'l', ' ', 'b', 'y', '!', '!']}\n"
     ]
    }
   ],
   "source": [
    "counts = {'vowels':[],\n",
    "         'digits':[],\n",
    "         'others':[]}\n",
    "\n",
    "while True:\n",
    "    s = input('Enter string: ').strip()\n",
    "    \n",
    "    if not s:   # empty string? exit from the while loop\n",
    "        break\n",
    "        \n",
    "    for one_character in s:                 # go through each character in s\n",
    "        if one_character in 'aeiou':        # is one_character a vowel?\n",
    "            counts['vowels'].append(one_character)   # add one_character to the list counts['vowels']\n",
    "        elif one_character.isdigit():       # is one_character a digit?\n",
    "            counts['digits'].append(one_character)\n",
    "        else:\n",
    "            counts['others'].append(one_character)\n",
    "            \n",
    "print(counts)            "
   ]
  },
  {
   "cell_type": "code",
   "execution_count": 28,
   "id": "bbfce225",
   "metadata": {},
   "outputs": [
    {
     "data": {
      "text/plain": [
       "'a    b    c'"
      ]
     },
     "execution_count": 28,
     "metadata": {},
     "output_type": "execute_result"
    }
   ],
   "source": [
    "s = '   a    b    c    '\n",
    "\n",
    "s.strip()  # returns a new string without whitespace (space, \\n, \\r, \\t, \\v) on the sides"
   ]
  },
  {
   "cell_type": "code",
   "execution_count": 30,
   "id": "7719ef02",
   "metadata": {},
   "outputs": [
    {
     "name": "stdout",
     "output_type": "stream",
     "text": [
      "vowels\n",
      "digits\n",
      "others\n"
     ]
    }
   ],
   "source": [
    "# what happens if we use a for loop on our dict?\n",
    "\n",
    "for one_item in counts:\n",
    "    print(one_item)"
   ]
  },
  {
   "cell_type": "code",
   "execution_count": 31,
   "id": "50e5c577",
   "metadata": {},
   "outputs": [
    {
     "name": "stdout",
     "output_type": "stream",
     "text": [
      "vowels: ['i', 'i', 'a', 'e', 'e', 'o', 'e']\n",
      "digits: ['1', '2', '3', '4', '5', '6']\n",
      "others: ['t', 'h', 's', ' ', 's', ' ', ' ', 't', 's', 't', 'h', 'l', 'l', ' ', 'b', 'y', '!', '!']\n"
     ]
    }
   ],
   "source": [
    "for key in counts:\n",
    "    print(f'{key}: {counts[key]}')"
   ]
  },
  {
   "cell_type": "code",
   "execution_count": 32,
   "id": "86a95636",
   "metadata": {},
   "outputs": [
    {
     "data": {
      "text/plain": [
       "dict_keys(['vowels', 'digits', 'others'])"
      ]
     },
     "execution_count": 32,
     "metadata": {},
     "output_type": "execute_result"
    }
   ],
   "source": [
    "counts.keys()   # get the keys -- we nearly never need this method"
   ]
  },
  {
   "cell_type": "code",
   "execution_count": 33,
   "id": "17236883",
   "metadata": {},
   "outputs": [
    {
     "data": {
      "text/plain": [
       "True"
      ]
     },
     "execution_count": 33,
     "metadata": {},
     "output_type": "execute_result"
    }
   ],
   "source": [
    "'vowels' in counts.keys()"
   ]
  },
  {
   "cell_type": "code",
   "execution_count": 34,
   "id": "fcedd460",
   "metadata": {},
   "outputs": [
    {
     "data": {
      "text/plain": [
       "True"
      ]
     },
     "execution_count": 34,
     "metadata": {},
     "output_type": "execute_result"
    }
   ],
   "source": [
    "'vowels' in counts"
   ]
  },
  {
   "cell_type": "code",
   "execution_count": 35,
   "id": "d17271a0",
   "metadata": {},
   "outputs": [],
   "source": [
    "# \"code smell\""
   ]
  },
  {
   "cell_type": "code",
   "execution_count": 36,
   "id": "c846becc",
   "metadata": {},
   "outputs": [
    {
     "data": {
      "text/plain": [
       "dict_values([['i', 'i', 'a', 'e', 'e', 'o', 'e'], ['1', '2', '3', '4', '5', '6'], ['t', 'h', 's', ' ', 's', ' ', ' ', 't', 's', 't', 'h', 'l', 'l', ' ', 'b', 'y', '!', '!']])"
      ]
     },
     "execution_count": 36,
     "metadata": {},
     "output_type": "execute_result"
    }
   ],
   "source": [
    "counts.values()   # sometimes useful!"
   ]
  },
  {
   "cell_type": "code",
   "execution_count": 38,
   "id": "3c58f172",
   "metadata": {},
   "outputs": [
    {
     "ename": "TypeError",
     "evalue": "'dict_values' object is not subscriptable",
     "output_type": "error",
     "traceback": [
      "\u001b[0;31m---------------------------------------------------------------------------\u001b[0m",
      "\u001b[0;31mTypeError\u001b[0m                                 Traceback (most recent call last)",
      "\u001b[0;32m/var/folders/rr/0mnyyv811fs5vyp22gf4fxk00000gn/T/ipykernel_99281/1848875979.py\u001b[0m in \u001b[0;36m<module>\u001b[0;34m\u001b[0m\n\u001b[0;32m----> 1\u001b[0;31m \u001b[0mcounts\u001b[0m\u001b[0;34m.\u001b[0m\u001b[0mvalues\u001b[0m\u001b[0;34m(\u001b[0m\u001b[0;34m)\u001b[0m\u001b[0;34m[\u001b[0m\u001b[0;36m0\u001b[0m\u001b[0;34m]\u001b[0m     \u001b[0;31m# not exactly a list...\u001b[0m\u001b[0;34m\u001b[0m\u001b[0;34m\u001b[0m\u001b[0m\n\u001b[0m",
      "\u001b[0;31mTypeError\u001b[0m: 'dict_values' object is not subscriptable"
     ]
    }
   ],
   "source": [
    "counts.values()[0]     # not exactly a list... "
   ]
  },
  {
   "cell_type": "code",
   "execution_count": 39,
   "id": "ad171119",
   "metadata": {},
   "outputs": [
    {
     "data": {
      "text/plain": [
       "dict_items([('vowels', ['i', 'i', 'a', 'e', 'e', 'o', 'e']), ('digits', ['1', '2', '3', '4', '5', '6']), ('others', ['t', 'h', 's', ' ', 's', ' ', ' ', 't', 's', 't', 'h', 'l', 'l', ' ', 'b', 'y', '!', '!'])])"
      ]
     },
     "execution_count": 39,
     "metadata": {},
     "output_type": "execute_result"
    }
   ],
   "source": [
    "counts.items()"
   ]
  },
  {
   "cell_type": "code",
   "execution_count": 40,
   "id": "2c557256",
   "metadata": {},
   "outputs": [
    {
     "name": "stdout",
     "output_type": "stream",
     "text": [
      "('vowels', ['i', 'i', 'a', 'e', 'e', 'o', 'e'])\n",
      "('digits', ['1', '2', '3', '4', '5', '6'])\n",
      "('others', ['t', 'h', 's', ' ', 's', ' ', ' ', 't', 's', 't', 'h', 'l', 'l', ' ', 'b', 'y', '!', '!'])\n"
     ]
    }
   ],
   "source": [
    "for x in counts.items():\n",
    "    print(x)"
   ]
  },
  {
   "cell_type": "code",
   "execution_count": 41,
   "id": "b8f3348e",
   "metadata": {},
   "outputs": [
    {
     "name": "stdout",
     "output_type": "stream",
     "text": [
      "vowels: ['i', 'i', 'a', 'e', 'e', 'o', 'e']\n",
      "digits: ['1', '2', '3', '4', '5', '6']\n",
      "others: ['t', 'h', 's', ' ', 's', ' ', ' ', 't', 's', 't', 'h', 'l', 'l', ' ', 'b', 'y', '!', '!']\n"
     ]
    }
   ],
   "source": [
    "for t in counts.items():\n",
    "    key = t[0]\n",
    "    value = t[1]\n",
    "    \n",
    "    print(f'{key}: {value}')"
   ]
  },
  {
   "cell_type": "code",
   "execution_count": 42,
   "id": "4eef151d",
   "metadata": {},
   "outputs": [
    {
     "name": "stdout",
     "output_type": "stream",
     "text": [
      "vowels: ['i', 'i', 'a', 'e', 'e', 'o', 'e']\n",
      "digits: ['1', '2', '3', '4', '5', '6']\n",
      "others: ['t', 'h', 's', ' ', 's', ' ', ' ', 't', 's', 't', 'h', 'l', 'l', ' ', 'b', 'y', '!', '!']\n"
     ]
    }
   ],
   "source": [
    "# unpacking -- counts.items returns, with each iteration, a 2-element tuple\n",
    "for key, value in counts.items():\n",
    "    print(f'{key}: {value}')"
   ]
  },
  {
   "cell_type": "code",
   "execution_count": 43,
   "id": "81d07fbb",
   "metadata": {},
   "outputs": [],
   "source": [
    "mylist = [10, 20, 30]\n",
    "x,y,z = mylist   # unpacking"
   ]
  },
  {
   "cell_type": "code",
   "execution_count": 44,
   "id": "88f777f2",
   "metadata": {},
   "outputs": [
    {
     "data": {
      "text/plain": [
       "10"
      ]
     },
     "execution_count": 44,
     "metadata": {},
     "output_type": "execute_result"
    }
   ],
   "source": [
    "x"
   ]
  },
  {
   "cell_type": "code",
   "execution_count": 45,
   "id": "b397984b",
   "metadata": {},
   "outputs": [
    {
     "data": {
      "text/plain": [
       "20"
      ]
     },
     "execution_count": 45,
     "metadata": {},
     "output_type": "execute_result"
    }
   ],
   "source": [
    "y"
   ]
  },
  {
   "cell_type": "code",
   "execution_count": 46,
   "id": "f88c2c69",
   "metadata": {},
   "outputs": [
    {
     "data": {
      "text/plain": [
       "30"
      ]
     },
     "execution_count": 46,
     "metadata": {},
     "output_type": "execute_result"
    }
   ],
   "source": [
    "z"
   ]
  },
  {
   "cell_type": "code",
   "execution_count": 47,
   "id": "7bc20de4",
   "metadata": {},
   "outputs": [
    {
     "name": "stdout",
     "output_type": "stream",
     "text": [
      "vowels\n",
      "digits\n",
      "others\n"
     ]
    }
   ],
   "source": [
    "for one_key in counts:\n",
    "    print(one_key)"
   ]
  },
  {
   "cell_type": "code",
   "execution_count": 48,
   "id": "48ac18d9",
   "metadata": {},
   "outputs": [
    {
     "name": "stdout",
     "output_type": "stream",
     "text": [
      "Enter key: a\n",
      "d[a] = 10\n",
      "Enter key: b\n",
      "d[b] = 20\n",
      "Enter key: x\n",
      "x is not a key in d\n",
      "Enter key: p\n",
      "p is not a key in d\n",
      "Enter key: q\n",
      "q is not a key in d\n",
      "Enter key: ab\n",
      "ab is not a key in d\n",
      "Enter key: \n"
     ]
    }
   ],
   "source": [
    "d = {'a':10, 'b':20, 'c':30}\n",
    "\n",
    "while True:\n",
    "    k = input('Enter key: ').strip()\n",
    "    \n",
    "    if not k:\n",
    "        break\n",
    "        \n",
    "    if k in d:   # is k a key in d?  print the value!\n",
    "        print(f'd[{k}] = {d[k]}')\n",
    "    else:\n",
    "        print(f'{k} is not a key in d')"
   ]
  },
  {
   "cell_type": "code",
   "execution_count": 49,
   "id": "eeeeaf12",
   "metadata": {},
   "outputs": [
    {
     "data": {
      "text/plain": [
       "10"
      ]
     },
     "execution_count": 49,
     "metadata": {},
     "output_type": "execute_result"
    }
   ],
   "source": [
    "# the \"dict.get\" method works like []\n",
    "\n",
    "d.get('a')  # if 'a' in d, returns d['a']"
   ]
  },
  {
   "cell_type": "code",
   "execution_count": 50,
   "id": "000eb6fd",
   "metadata": {},
   "outputs": [
    {
     "data": {
      "text/plain": [
       "20"
      ]
     },
     "execution_count": 50,
     "metadata": {},
     "output_type": "execute_result"
    }
   ],
   "source": [
    "d.get('b')  # if 'b' in d, return d['b']"
   ]
  },
  {
   "cell_type": "code",
   "execution_count": 52,
   "id": "fb039840",
   "metadata": {},
   "outputs": [
    {
     "name": "stdout",
     "output_type": "stream",
     "text": [
      "None\n"
     ]
    }
   ],
   "source": [
    "print(d.get('x'))  # if 'x' in d, return d['x']... otherwise None"
   ]
  },
  {
   "cell_type": "code",
   "execution_count": 53,
   "id": "8f881d77",
   "metadata": {},
   "outputs": [
    {
     "data": {
      "text/plain": [
       "'No such key'"
      ]
     },
     "execution_count": 53,
     "metadata": {},
     "output_type": "execute_result"
    }
   ],
   "source": [
    "# we can pass a second argument to dict.get -- which will be returned instead of None\n",
    "d.get('x', 'No such key')"
   ]
  },
  {
   "cell_type": "markdown",
   "id": "6a668bdf",
   "metadata": {},
   "source": [
    "# Next up\n",
    "\n",
    "1. Dict implementation\n",
    "2. Paradigm #3\n",
    "3. Sets\n",
    "4. Files\n",
    "\n",
    "resume at 11:00"
   ]
  },
  {
   "cell_type": "code",
   "execution_count": 56,
   "id": "1974040c",
   "metadata": {},
   "outputs": [
    {
     "ename": "SyntaxError",
     "evalue": "invalid syntax (385913230.py, line 1)",
     "output_type": "error",
     "traceback": [
      "\u001b[0;36m  File \u001b[0;32m\"/var/folders/rr/0mnyyv811fs5vyp22gf4fxk00000gn/T/ipykernel_99281/385913230.py\"\u001b[0;36m, line \u001b[0;32m1\u001b[0m\n\u001b[0;31m    print(input '' ='' + {total} )\u001b[0m\n\u001b[0m                ^\u001b[0m\n\u001b[0;31mSyntaxError\u001b[0m\u001b[0;31m:\u001b[0m invalid syntax\n"
     ]
    }
   ],
   "source": [
    "print(input '' ='' + {total} )"
   ]
  },
  {
   "cell_type": "code",
   "execution_count": 57,
   "id": "c1fc79e1",
   "metadata": {},
   "outputs": [
    {
     "data": {
      "text/plain": [
       "{'a': 1, 'b': 2, 'd': 3}"
      ]
     },
     "execution_count": 57,
     "metadata": {},
     "output_type": "execute_result"
    }
   ],
   "source": [
    "d = {'a':1, 'b':2, 'c':3}\n",
    "\n",
    "# I want to change the key 'c' to be 'd'\n",
    "\n",
    "d.pop('c')   # remove + return 'c'\n",
    "d['d'] = 3\n",
    "\n",
    "d"
   ]
  },
  {
   "cell_type": "raw",
   "id": "8b0e0434",
   "metadata": {},
   "source": [
    "When we create a new dict, Python creates *TWO* behind-the-scenes data structures\n",
    "\n",
    "(1) Table with 3 columns and 0 rows (which will grow)\n",
    "\n",
    "   index       key      value\n",
    "     0          'a'       10\n",
    "     1          'b'       20\n",
    "     2          'c'       30\n",
    "   \n",
    "   \n",
    "(2) Array of 8 ints\n",
    "[0,NULL,1,NULL,NULL,NULL,NULL,2]"
   ]
  },
  {
   "cell_type": "code",
   "execution_count": 58,
   "id": "e0ee26ad",
   "metadata": {},
   "outputs": [],
   "source": [
    "d = {}"
   ]
  },
  {
   "cell_type": "code",
   "execution_count": 62,
   "id": "dbbb82f1",
   "metadata": {},
   "outputs": [
    {
     "data": {
      "text/plain": [
       "0"
      ]
     },
     "execution_count": 62,
     "metadata": {},
     "output_type": "execute_result"
    }
   ],
   "source": [
    "d['a'] = 10\n",
    "\n",
    "hash('a') % 8    # put in array's index 0 the location (index 1) in the table"
   ]
  },
  {
   "cell_type": "code",
   "execution_count": null,
   "id": "016ac903",
   "metadata": {},
   "outputs": [],
   "source": [
    "d['a']   # table[hash('a') % 8]"
   ]
  },
  {
   "cell_type": "code",
   "execution_count": 63,
   "id": "14646088",
   "metadata": {},
   "outputs": [
    {
     "data": {
      "text/plain": [
       "2"
      ]
     },
     "execution_count": 63,
     "metadata": {},
     "output_type": "execute_result"
    }
   ],
   "source": [
    "d['b'] = 20\n",
    "\n",
    "hash('b') % 8"
   ]
  },
  {
   "cell_type": "code",
   "execution_count": 64,
   "id": "a815f479",
   "metadata": {},
   "outputs": [],
   "source": [
    "d['c'] = 30"
   ]
  },
  {
   "cell_type": "code",
   "execution_count": 65,
   "id": "639939a4",
   "metadata": {},
   "outputs": [
    {
     "data": {
      "text/plain": [
       "7"
      ]
     },
     "execution_count": 65,
     "metadata": {},
     "output_type": "execute_result"
    }
   ],
   "source": [
    "hash('c') % 8"
   ]
  },
  {
   "cell_type": "code",
   "execution_count": 66,
   "id": "f90fb0e8",
   "metadata": {},
   "outputs": [
    {
     "name": "stdout",
     "output_type": "stream",
     "text": [
      "a: 10\n"
     ]
    }
   ],
   "source": [
    "mylist = [('a', 10), ('b',20), ('c',30)]\n",
    "\n",
    "for key, value in mylist:\n",
    "    if key == 'a':\n",
    "        print(f'{key}: {value}')"
   ]
  },
  {
   "cell_type": "code",
   "execution_count": 67,
   "id": "b5196c0b",
   "metadata": {},
   "outputs": [],
   "source": [
    "x = 100\n",
    "y = [10, 20, 30]"
   ]
  },
  {
   "cell_type": "code",
   "execution_count": 68,
   "id": "81265c8a",
   "metadata": {},
   "outputs": [
    {
     "data": {
      "text/plain": [
       "{'__name__': '__main__',\n",
       " '__doc__': 'Automatically created module for IPython interactive environment',\n",
       " '__package__': None,\n",
       " '__loader__': None,\n",
       " '__spec__': None,\n",
       " '__builtin__': <module 'builtins' (built-in)>,\n",
       " '__builtins__': <module 'builtins' (built-in)>,\n",
       " '_ih': ['',\n",
       "  '# sequence -- string, list, tuple',\n",
       "  \"# dict is defined with {} and key-value pairs\\n# each key-value pair is written as key:value\\n# each pair is separated by ,\\n\\nperson = {'first':'Reuven', 'last':'Lerner', 'shoesize':46}\",\n",
       "  'len(person)   # tells us how many pairs',\n",
       "  \"person['first']   # retrieve the value via the key\",\n",
       "  \"person['last']\",\n",
       "  \"person['shoesize']\",\n",
       "  \"person['asfdafasfa']\",\n",
       "  \"s = 'abcd'\\ns[100]\",\n",
       "  \"person['first ']\",\n",
       "  '# check that a key is in the dict with \"in\"\\n\\n\\'first\\' in person',\n",
       "  \"'Reuven' in person\",\n",
       "  \"menu = {'sandwich':25, 'tea':10, 'apple':5, 'cake':12}\",\n",
       "  'type(menu)',\n",
       "  \"menu['sandwich']\",\n",
       "  \"x = 'sandwich'\\nmenu[x]\",\n",
       "  \"menu = {'sandwich':25, 'tea':10, 'apple':5, 'cake':12}\\ntotal = 0\\n\\nwhile True:\\n    order = input('Order: ').strip()\\n    \\n    if not order:   # did we get an empty string? exit from the loop\\n        break\\n        \\n    if order in menu:   # if order is a key in menu\\n        price = menu[order]\\n        total += price\\n        print(f'{order} costs {price}; total is now {total}')\\n    else:\\n        print(f'Sorry, we are out of {order} today.')\\n        \\nprint(f'Total is {total}.')\",\n",
       "  \"d = {'a':10, 'b':20, 'c':30}\\n\\nd['x'] = 100\",\n",
       "  'd',\n",
       "  \"d['x'] = 234\\nd\",\n",
       "  \"d['x'] = 234     # update the value associated with 'x'\\nd \",\n",
       "  \"d['x'] += 10  \\nd\",\n",
       "  \"d['y'] += 10\",\n",
       "  \"d = {'a':1, 'b':2, 'c':3, 'a':4, 'b':5}\",\n",
       "  'd',\n",
       "  \"d = {'odds':0, 'evens':0}\\n\\nfor one_number in range(10):\\n    if one_number % 2 == 1:     # if the remainder from /2 is 1, it's odd\\n        d['odds'] += 1\\n    else:                       # if the remainder is 0, it's evens\\n        d['evens'] += 1\\n        \\nprint(d)        \",\n",
       "  \"# sort the odd/even numbers\\n\\nd = {'odds':[], 'evens':[]}\\n\\nfor one_number in range(10):\\n    if one_number % 2 == 1:     # if the remainder from /2 is 1, it's odd\\n        d['odds'].append(one_number)\\n    else:                       # if the remainder is 0, it's evens\\n        d['evens'].append(one_number)\\n        \\nprint(d)        \",\n",
       "  \"s = '   a    b    c    '\\n\\ns.strip()\",\n",
       "  \"s = '   a    b    c    '\\n\\ns.strip()  # returns a new string without whitespace (space, \\\\n, \\\\r, \\\\t, \\\\v) on the sides\",\n",
       "  \"counts = {'vowels':[],\\n         'digits':[],\\n         'others':[]}\\n\\nwhile True:\\n    s = input('Enter string: ').strip()\\n    \\n    if not s:   # empty string? exit from the while loop\\n        break\\n        \\n    for one_character in s:                 # go through each character in s\\n        if one_character in 'aeiou':        # is one_character a vowel?\\n            counts['vowels'].append(one_character)   # add one_character to the list counts['vowels']\\n        elif one_character.isdigit():       # is one_character a digit?\\n            counts['digits'].append(one_character)\\n        else:\\n            counts['others'].append(one_character)\\n            \\nprint(counts)            \",\n",
       "  '# what happens if we use a for loop on our dict?\\n\\nfor one_item in counts:\\n    print(one_item)',\n",
       "  \"for key in counts:\\n    print(f'{key}: {counts[key]}')\",\n",
       "  'counts.keys()   # get the keys',\n",
       "  \"'vowels' in counts.keys()\",\n",
       "  \"'vowels' in counts\",\n",
       "  '# \"code smell\"',\n",
       "  'counts.values()   # sometimes useful!',\n",
       "  'counts.values()[0]',\n",
       "  'counts.values()[0]     # not exactly a list... ',\n",
       "  'counts.items()',\n",
       "  'for x in counts.items():\\n    print(x)',\n",
       "  \"for t in counts.items():\\n    key = t[0]\\n    value = t[1]\\n    \\n    print(f'{key}: {value}')\",\n",
       "  \"# unpacking -- counts.items returns, with each iteration, a 2-element tuple\\nfor key, value in counts.items():\\n    \\n    print(f'{key}: {value}')\",\n",
       "  'mylist = [10, 20, 30]\\nx,y,z = mylist   # unpacking',\n",
       "  'x',\n",
       "  'y',\n",
       "  'z',\n",
       "  'for one_key in counts:\\n    print(one_key)',\n",
       "  \"d = {'a':10, 'b':20, 'c':30}\\n\\nwhile True:\\n    k = input('Enter key: ').strip()\\n    \\n    if not k:\\n        break\\n        \\n    if k in d:   # is k a key in d?  print the value!\\n        print(f'd[{k}] = {d[k]}')\\n    else:\\n        print(f'{k} is not a key in d')\",\n",
       "  '# the \"dict.get\" method works like []\\n\\nd.get(\\'a\\')  # if \\'a\\' in d, returns d[\\'a\\']',\n",
       "  \"d.get('b')  # if 'b' in d, return d['b']\",\n",
       "  \"d.get('x')  # if 'x' in d, return d['x']... otherwise None\",\n",
       "  \"print(d.get('x'))  # if 'x' in d, return d['x']... otherwise None\",\n",
       "  \"# we can pass a second argument to dict.get -- which will be returned instead of None\\nd.get('x', 'No such key')\",\n",
       "  \"print(f'order =' + input '' ='' + {total} )\",\n",
       "  \"print('order =' + input '' ='' + {total} )\",\n",
       "  \"print(input '' ='' + {total} )\",\n",
       "  \"d = {'a':1, 'b':2, 'c':3}\\n\\n# I want to change the key 'c' to be 'd'\\n\\nd.pop('c')   # remove + return 'c'\\nd['d'] = 3\\n\\nd\",\n",
       "  'd = {}',\n",
       "  \"d['b'] = 20\",\n",
       "  \"d['a'] = 10\\n\\nhash('a')\",\n",
       "  \"d['b'] = 20\\n\\nhash('b')\",\n",
       "  \"d['a'] = 10\\n\\nhash('a') % 8\",\n",
       "  \"d['b'] = 20\\n\\nhash('b') % 8\",\n",
       "  \"d['c'] = 30\",\n",
       "  \"hash('c') % 8\",\n",
       "  \"mylist = [('a', 10), ('b',20), ('c',30)]\\n\\nfor key, value in mylist:\\n    if key == 'a':\\n        print(f'{key}: {value}')\",\n",
       "  'x = 100\\ny = [10, 20, 30]',\n",
       "  'globals()'],\n",
       " '_oh': {3: 3,\n",
       "  4: 'Reuven',\n",
       "  5: 'Lerner',\n",
       "  6: 46,\n",
       "  10: True,\n",
       "  11: False,\n",
       "  13: dict,\n",
       "  14: 25,\n",
       "  15: 25,\n",
       "  18: {'a': 10, 'b': 20, 'c': 30, 'x': 244},\n",
       "  19: {'a': 10, 'b': 20, 'c': 30, 'x': 244},\n",
       "  20: {'a': 10, 'b': 20, 'c': 30, 'x': 244},\n",
       "  21: {'a': 10, 'b': 20, 'c': 30, 'x': 244},\n",
       "  24: {'a': 4, 'b': 5, 'c': 3},\n",
       "  27: 'a    b    c',\n",
       "  28: 'a    b    c',\n",
       "  32: dict_keys(['vowels', 'digits', 'others']),\n",
       "  33: True,\n",
       "  34: True,\n",
       "  36: dict_values([['i', 'i', 'a', 'e', 'e', 'o', 'e'], ['1', '2', '3', '4', '5', '6'], ['t', 'h', 's', ' ', 's', ' ', ' ', 't', 's', 't', 'h', 'l', 'l', ' ', 'b', 'y', '!', '!']]),\n",
       "  39: dict_items([('vowels', ['i', 'i', 'a', 'e', 'e', 'o', 'e']), ('digits', ['1', '2', '3', '4', '5', '6']), ('others', ['t', 'h', 's', ' ', 's', ' ', ' ', 't', 's', 't', 'h', 'l', 'l', ' ', 'b', 'y', '!', '!'])]),\n",
       "  44: 10,\n",
       "  45: 20,\n",
       "  46: 30,\n",
       "  49: 10,\n",
       "  50: 20,\n",
       "  53: 'No such key',\n",
       "  57: {'a': 1, 'b': 2, 'd': 3},\n",
       "  60: -201554014506651976,\n",
       "  61: -7215918757920026030,\n",
       "  62: 0,\n",
       "  63: 2,\n",
       "  65: 7},\n",
       " '_dh': ['/Users/reuven/Courses/Current/WDC-2022-q3-basic-python'],\n",
       " 'In': ['',\n",
       "  '# sequence -- string, list, tuple',\n",
       "  \"# dict is defined with {} and key-value pairs\\n# each key-value pair is written as key:value\\n# each pair is separated by ,\\n\\nperson = {'first':'Reuven', 'last':'Lerner', 'shoesize':46}\",\n",
       "  'len(person)   # tells us how many pairs',\n",
       "  \"person['first']   # retrieve the value via the key\",\n",
       "  \"person['last']\",\n",
       "  \"person['shoesize']\",\n",
       "  \"person['asfdafasfa']\",\n",
       "  \"s = 'abcd'\\ns[100]\",\n",
       "  \"person['first ']\",\n",
       "  '# check that a key is in the dict with \"in\"\\n\\n\\'first\\' in person',\n",
       "  \"'Reuven' in person\",\n",
       "  \"menu = {'sandwich':25, 'tea':10, 'apple':5, 'cake':12}\",\n",
       "  'type(menu)',\n",
       "  \"menu['sandwich']\",\n",
       "  \"x = 'sandwich'\\nmenu[x]\",\n",
       "  \"menu = {'sandwich':25, 'tea':10, 'apple':5, 'cake':12}\\ntotal = 0\\n\\nwhile True:\\n    order = input('Order: ').strip()\\n    \\n    if not order:   # did we get an empty string? exit from the loop\\n        break\\n        \\n    if order in menu:   # if order is a key in menu\\n        price = menu[order]\\n        total += price\\n        print(f'{order} costs {price}; total is now {total}')\\n    else:\\n        print(f'Sorry, we are out of {order} today.')\\n        \\nprint(f'Total is {total}.')\",\n",
       "  \"d = {'a':10, 'b':20, 'c':30}\\n\\nd['x'] = 100\",\n",
       "  'd',\n",
       "  \"d['x'] = 234\\nd\",\n",
       "  \"d['x'] = 234     # update the value associated with 'x'\\nd \",\n",
       "  \"d['x'] += 10  \\nd\",\n",
       "  \"d['y'] += 10\",\n",
       "  \"d = {'a':1, 'b':2, 'c':3, 'a':4, 'b':5}\",\n",
       "  'd',\n",
       "  \"d = {'odds':0, 'evens':0}\\n\\nfor one_number in range(10):\\n    if one_number % 2 == 1:     # if the remainder from /2 is 1, it's odd\\n        d['odds'] += 1\\n    else:                       # if the remainder is 0, it's evens\\n        d['evens'] += 1\\n        \\nprint(d)        \",\n",
       "  \"# sort the odd/even numbers\\n\\nd = {'odds':[], 'evens':[]}\\n\\nfor one_number in range(10):\\n    if one_number % 2 == 1:     # if the remainder from /2 is 1, it's odd\\n        d['odds'].append(one_number)\\n    else:                       # if the remainder is 0, it's evens\\n        d['evens'].append(one_number)\\n        \\nprint(d)        \",\n",
       "  \"s = '   a    b    c    '\\n\\ns.strip()\",\n",
       "  \"s = '   a    b    c    '\\n\\ns.strip()  # returns a new string without whitespace (space, \\\\n, \\\\r, \\\\t, \\\\v) on the sides\",\n",
       "  \"counts = {'vowels':[],\\n         'digits':[],\\n         'others':[]}\\n\\nwhile True:\\n    s = input('Enter string: ').strip()\\n    \\n    if not s:   # empty string? exit from the while loop\\n        break\\n        \\n    for one_character in s:                 # go through each character in s\\n        if one_character in 'aeiou':        # is one_character a vowel?\\n            counts['vowels'].append(one_character)   # add one_character to the list counts['vowels']\\n        elif one_character.isdigit():       # is one_character a digit?\\n            counts['digits'].append(one_character)\\n        else:\\n            counts['others'].append(one_character)\\n            \\nprint(counts)            \",\n",
       "  '# what happens if we use a for loop on our dict?\\n\\nfor one_item in counts:\\n    print(one_item)',\n",
       "  \"for key in counts:\\n    print(f'{key}: {counts[key]}')\",\n",
       "  'counts.keys()   # get the keys',\n",
       "  \"'vowels' in counts.keys()\",\n",
       "  \"'vowels' in counts\",\n",
       "  '# \"code smell\"',\n",
       "  'counts.values()   # sometimes useful!',\n",
       "  'counts.values()[0]',\n",
       "  'counts.values()[0]     # not exactly a list... ',\n",
       "  'counts.items()',\n",
       "  'for x in counts.items():\\n    print(x)',\n",
       "  \"for t in counts.items():\\n    key = t[0]\\n    value = t[1]\\n    \\n    print(f'{key}: {value}')\",\n",
       "  \"# unpacking -- counts.items returns, with each iteration, a 2-element tuple\\nfor key, value in counts.items():\\n    \\n    print(f'{key}: {value}')\",\n",
       "  'mylist = [10, 20, 30]\\nx,y,z = mylist   # unpacking',\n",
       "  'x',\n",
       "  'y',\n",
       "  'z',\n",
       "  'for one_key in counts:\\n    print(one_key)',\n",
       "  \"d = {'a':10, 'b':20, 'c':30}\\n\\nwhile True:\\n    k = input('Enter key: ').strip()\\n    \\n    if not k:\\n        break\\n        \\n    if k in d:   # is k a key in d?  print the value!\\n        print(f'd[{k}] = {d[k]}')\\n    else:\\n        print(f'{k} is not a key in d')\",\n",
       "  '# the \"dict.get\" method works like []\\n\\nd.get(\\'a\\')  # if \\'a\\' in d, returns d[\\'a\\']',\n",
       "  \"d.get('b')  # if 'b' in d, return d['b']\",\n",
       "  \"d.get('x')  # if 'x' in d, return d['x']... otherwise None\",\n",
       "  \"print(d.get('x'))  # if 'x' in d, return d['x']... otherwise None\",\n",
       "  \"# we can pass a second argument to dict.get -- which will be returned instead of None\\nd.get('x', 'No such key')\",\n",
       "  \"print(f'order =' + input '' ='' + {total} )\",\n",
       "  \"print('order =' + input '' ='' + {total} )\",\n",
       "  \"print(input '' ='' + {total} )\",\n",
       "  \"d = {'a':1, 'b':2, 'c':3}\\n\\n# I want to change the key 'c' to be 'd'\\n\\nd.pop('c')   # remove + return 'c'\\nd['d'] = 3\\n\\nd\",\n",
       "  'd = {}',\n",
       "  \"d['b'] = 20\",\n",
       "  \"d['a'] = 10\\n\\nhash('a')\",\n",
       "  \"d['b'] = 20\\n\\nhash('b')\",\n",
       "  \"d['a'] = 10\\n\\nhash('a') % 8\",\n",
       "  \"d['b'] = 20\\n\\nhash('b') % 8\",\n",
       "  \"d['c'] = 30\",\n",
       "  \"hash('c') % 8\",\n",
       "  \"mylist = [('a', 10), ('b',20), ('c',30)]\\n\\nfor key, value in mylist:\\n    if key == 'a':\\n        print(f'{key}: {value}')\",\n",
       "  'x = 100\\ny = [10, 20, 30]',\n",
       "  'globals()'],\n",
       " 'Out': {3: 3,\n",
       "  4: 'Reuven',\n",
       "  5: 'Lerner',\n",
       "  6: 46,\n",
       "  10: True,\n",
       "  11: False,\n",
       "  13: dict,\n",
       "  14: 25,\n",
       "  15: 25,\n",
       "  18: {'a': 10, 'b': 20, 'c': 30, 'x': 244},\n",
       "  19: {'a': 10, 'b': 20, 'c': 30, 'x': 244},\n",
       "  20: {'a': 10, 'b': 20, 'c': 30, 'x': 244},\n",
       "  21: {'a': 10, 'b': 20, 'c': 30, 'x': 244},\n",
       "  24: {'a': 4, 'b': 5, 'c': 3},\n",
       "  27: 'a    b    c',\n",
       "  28: 'a    b    c',\n",
       "  32: dict_keys(['vowels', 'digits', 'others']),\n",
       "  33: True,\n",
       "  34: True,\n",
       "  36: dict_values([['i', 'i', 'a', 'e', 'e', 'o', 'e'], ['1', '2', '3', '4', '5', '6'], ['t', 'h', 's', ' ', 's', ' ', ' ', 't', 's', 't', 'h', 'l', 'l', ' ', 'b', 'y', '!', '!']]),\n",
       "  39: dict_items([('vowels', ['i', 'i', 'a', 'e', 'e', 'o', 'e']), ('digits', ['1', '2', '3', '4', '5', '6']), ('others', ['t', 'h', 's', ' ', 's', ' ', ' ', 't', 's', 't', 'h', 'l', 'l', ' ', 'b', 'y', '!', '!'])]),\n",
       "  44: 10,\n",
       "  45: 20,\n",
       "  46: 30,\n",
       "  49: 10,\n",
       "  50: 20,\n",
       "  53: 'No such key',\n",
       "  57: {'a': 1, 'b': 2, 'd': 3},\n",
       "  60: -201554014506651976,\n",
       "  61: -7215918757920026030,\n",
       "  62: 0,\n",
       "  63: 2,\n",
       "  65: 7},\n",
       " 'get_ipython': <bound method InteractiveShell.get_ipython of <ipykernel.zmqshell.ZMQInteractiveShell object at 0x107563fa0>>,\n",
       " 'exit': <IPython.core.autocall.ZMQExitAutocall at 0x1075b8a90>,\n",
       " 'quit': <IPython.core.autocall.ZMQExitAutocall at 0x1075b8a90>,\n",
       " '_': 7,\n",
       " '__': 2,\n",
       " '___': 0,\n",
       " '_i': 'x = 100\\ny = [10, 20, 30]',\n",
       " '_ii': \"mylist = [('a', 10), ('b',20), ('c',30)]\\n\\nfor key, value in mylist:\\n    if key == 'a':\\n        print(f'{key}: {value}')\",\n",
       " '_iii': \"hash('c') % 8\",\n",
       " '_i1': '# sequence -- string, list, tuple',\n",
       " '_i2': \"# dict is defined with {} and key-value pairs\\n# each key-value pair is written as key:value\\n# each pair is separated by ,\\n\\nperson = {'first':'Reuven', 'last':'Lerner', 'shoesize':46}\",\n",
       " 'person': {'first': 'Reuven', 'last': 'Lerner', 'shoesize': 46},\n",
       " '_i3': 'len(person)   # tells us how many pairs',\n",
       " '_3': 3,\n",
       " '_i4': \"person['first']   # retrieve the value via the key\",\n",
       " '_4': 'Reuven',\n",
       " '_i5': \"person['last']\",\n",
       " '_5': 'Lerner',\n",
       " '_i6': \"person['shoesize']\",\n",
       " '_6': 46,\n",
       " '_i7': \"person['asfdafasfa']\",\n",
       " '_i8': \"s = 'abcd'\\ns[100]\",\n",
       " 's': '',\n",
       " '_i9': \"person['first ']\",\n",
       " '_i10': '# check that a key is in the dict with \"in\"\\n\\n\\'first\\' in person',\n",
       " '_10': True,\n",
       " '_i11': \"'Reuven' in person\",\n",
       " '_11': False,\n",
       " '_i12': \"menu = {'sandwich':25, 'tea':10, 'apple':5, 'cake':12}\",\n",
       " 'menu': {'sandwich': 25, 'tea': 10, 'apple': 5, 'cake': 12},\n",
       " '_i13': 'type(menu)',\n",
       " '_13': dict,\n",
       " '_i14': \"menu['sandwich']\",\n",
       " '_14': 25,\n",
       " '_i15': \"x = 'sandwich'\\nmenu[x]\",\n",
       " 'x': 100,\n",
       " '_15': 25,\n",
       " '_i16': \"menu = {'sandwich':25, 'tea':10, 'apple':5, 'cake':12}\\ntotal = 0\\n\\nwhile True:\\n    order = input('Order: ').strip()\\n    \\n    if not order:   # did we get an empty string? exit from the loop\\n        break\\n        \\n    if order in menu:   # if order is a key in menu\\n        price = menu[order]\\n        total += price\\n        print(f'{order} costs {price}; total is now {total}')\\n    else:\\n        print(f'Sorry, we are out of {order} today.')\\n        \\nprint(f'Total is {total}.')\",\n",
       " 'total': 52,\n",
       " 'order': '',\n",
       " 'price': 12,\n",
       " '_i17': \"d = {'a':10, 'b':20, 'c':30}\\n\\nd['x'] = 100\",\n",
       " 'd': {'b': 20, 'a': 10, 'c': 30},\n",
       " '_i18': 'd',\n",
       " '_18': {'a': 10, 'b': 20, 'c': 30, 'x': 244},\n",
       " '_i19': \"d['x'] = 234\\nd\",\n",
       " '_19': {'a': 10, 'b': 20, 'c': 30, 'x': 244},\n",
       " '_i20': \"d['x'] = 234     # update the value associated with 'x'\\nd \",\n",
       " '_20': {'a': 10, 'b': 20, 'c': 30, 'x': 244},\n",
       " '_i21': \"d['x'] += 10  \\nd\",\n",
       " '_21': {'a': 10, 'b': 20, 'c': 30, 'x': 244},\n",
       " '_i22': \"d['y'] += 10\",\n",
       " '_i23': \"d = {'a':1, 'b':2, 'c':3, 'a':4, 'b':5}\",\n",
       " '_i24': 'd',\n",
       " '_24': {'a': 4, 'b': 5, 'c': 3},\n",
       " '_i25': \"d = {'odds':0, 'evens':0}\\n\\nfor one_number in range(10):\\n    if one_number % 2 == 1:     # if the remainder from /2 is 1, it's odd\\n        d['odds'] += 1\\n    else:                       # if the remainder is 0, it's evens\\n        d['evens'] += 1\\n        \\nprint(d)        \",\n",
       " 'one_number': 9,\n",
       " '_i26': \"# sort the odd/even numbers\\n\\nd = {'odds':[], 'evens':[]}\\n\\nfor one_number in range(10):\\n    if one_number % 2 == 1:     # if the remainder from /2 is 1, it's odd\\n        d['odds'].append(one_number)\\n    else:                       # if the remainder is 0, it's evens\\n        d['evens'].append(one_number)\\n        \\nprint(d)        \",\n",
       " '_i27': \"s = '   a    b    c    '\\n\\ns.strip()\",\n",
       " '_27': 'a    b    c',\n",
       " '_i28': \"s = '   a    b    c    '\\n\\ns.strip()  # returns a new string without whitespace (space, \\\\n, \\\\r, \\\\t, \\\\v) on the sides\",\n",
       " '_28': 'a    b    c',\n",
       " '_i29': \"counts = {'vowels':[],\\n         'digits':[],\\n         'others':[]}\\n\\nwhile True:\\n    s = input('Enter string: ').strip()\\n    \\n    if not s:   # empty string? exit from the while loop\\n        break\\n        \\n    for one_character in s:                 # go through each character in s\\n        if one_character in 'aeiou':        # is one_character a vowel?\\n            counts['vowels'].append(one_character)   # add one_character to the list counts['vowels']\\n        elif one_character.isdigit():       # is one_character a digit?\\n            counts['digits'].append(one_character)\\n        else:\\n            counts['others'].append(one_character)\\n            \\nprint(counts)            \",\n",
       " 'counts': {'vowels': ['i', 'i', 'a', 'e', 'e', 'o', 'e'],\n",
       "  'digits': ['1', '2', '3', '4', '5', '6'],\n",
       "  'others': ['t',\n",
       "   'h',\n",
       "   's',\n",
       "   ' ',\n",
       "   's',\n",
       "   ' ',\n",
       "   ' ',\n",
       "   't',\n",
       "   's',\n",
       "   't',\n",
       "   'h',\n",
       "   'l',\n",
       "   'l',\n",
       "   ' ',\n",
       "   'b',\n",
       "   'y',\n",
       "   '!',\n",
       "   '!']},\n",
       " 'one_character': '!',\n",
       " '_i30': '# what happens if we use a for loop on our dict?\\n\\nfor one_item in counts:\\n    print(one_item)',\n",
       " 'one_item': 'others',\n",
       " '_i31': \"for key in counts:\\n    print(f'{key}: {counts[key]}')\",\n",
       " 'key': 'c',\n",
       " '_i32': 'counts.keys()   # get the keys',\n",
       " '_32': dict_keys(['vowels', 'digits', 'others']),\n",
       " '_i33': \"'vowels' in counts.keys()\",\n",
       " '_33': True,\n",
       " '_i34': \"'vowels' in counts\",\n",
       " '_34': True,\n",
       " '_i35': '# \"code smell\"',\n",
       " '_i36': 'counts.values()   # sometimes useful!',\n",
       " '_36': dict_values([['i', 'i', 'a', 'e', 'e', 'o', 'e'], ['1', '2', '3', '4', '5', '6'], ['t', 'h', 's', ' ', 's', ' ', ' ', 't', 's', 't', 'h', 'l', 'l', ' ', 'b', 'y', '!', '!']]),\n",
       " '_i37': 'counts.values()[0]',\n",
       " '_i38': 'counts.values()[0]     # not exactly a list... ',\n",
       " '_i39': 'counts.items()',\n",
       " '_39': dict_items([('vowels', ['i', 'i', 'a', 'e', 'e', 'o', 'e']), ('digits', ['1', '2', '3', '4', '5', '6']), ('others', ['t', 'h', 's', ' ', 's', ' ', ' ', 't', 's', 't', 'h', 'l', 'l', ' ', 'b', 'y', '!', '!'])]),\n",
       " '_i40': 'for x in counts.items():\\n    print(x)',\n",
       " '_i41': \"for t in counts.items():\\n    key = t[0]\\n    value = t[1]\\n    \\n    print(f'{key}: {value}')\",\n",
       " 't': ('others',\n",
       "  ['t',\n",
       "   'h',\n",
       "   's',\n",
       "   ' ',\n",
       "   's',\n",
       "   ' ',\n",
       "   ' ',\n",
       "   't',\n",
       "   's',\n",
       "   't',\n",
       "   'h',\n",
       "   'l',\n",
       "   'l',\n",
       "   ' ',\n",
       "   'b',\n",
       "   'y',\n",
       "   '!',\n",
       "   '!']),\n",
       " 'value': 30,\n",
       " '_i42': \"# unpacking -- counts.items returns, with each iteration, a 2-element tuple\\nfor key, value in counts.items():\\n    \\n    print(f'{key}: {value}')\",\n",
       " '_i43': 'mylist = [10, 20, 30]\\nx,y,z = mylist   # unpacking',\n",
       " 'mylist': [('a', 10), ('b', 20), ('c', 30)],\n",
       " 'y': [10, 20, 30],\n",
       " 'z': 30,\n",
       " '_i44': 'x',\n",
       " '_44': 10,\n",
       " '_i45': 'y',\n",
       " '_45': 20,\n",
       " '_i46': 'z',\n",
       " '_46': 30,\n",
       " '_i47': 'for one_key in counts:\\n    print(one_key)',\n",
       " 'one_key': 'others',\n",
       " '_i48': \"d = {'a':10, 'b':20, 'c':30}\\n\\nwhile True:\\n    k = input('Enter key: ').strip()\\n    \\n    if not k:\\n        break\\n        \\n    if k in d:   # is k a key in d?  print the value!\\n        print(f'd[{k}] = {d[k]}')\\n    else:\\n        print(f'{k} is not a key in d')\",\n",
       " 'k': '',\n",
       " '_i49': '# the \"dict.get\" method works like []\\n\\nd.get(\\'a\\')  # if \\'a\\' in d, returns d[\\'a\\']',\n",
       " '_49': 10,\n",
       " '_i50': \"d.get('b')  # if 'b' in d, return d['b']\",\n",
       " '_50': 20,\n",
       " '_i51': \"d.get('x')  # if 'x' in d, return d['x']... otherwise None\",\n",
       " '_i52': \"print(d.get('x'))  # if 'x' in d, return d['x']... otherwise None\",\n",
       " '_i53': \"# we can pass a second argument to dict.get -- which will be returned instead of None\\nd.get('x', 'No such key')\",\n",
       " '_53': 'No such key',\n",
       " '_i54': \"print(f'order =' + input '' ='' + {total} )\",\n",
       " '_i55': \"print('order =' + input '' ='' + {total} )\",\n",
       " '_i56': \"print(input '' ='' + {total} )\",\n",
       " '_i57': \"d = {'a':1, 'b':2, 'c':3}\\n\\n# I want to change the key 'c' to be 'd'\\n\\nd.pop('c')   # remove + return 'c'\\nd['d'] = 3\\n\\nd\",\n",
       " '_57': {'a': 1, 'b': 2, 'd': 3},\n",
       " '_i58': 'd = {}',\n",
       " '_i59': \"d['b'] = 20\",\n",
       " '_i60': \"d['a'] = 10\\n\\nhash('a')\",\n",
       " '_60': -201554014506651976,\n",
       " '_i61': \"d['b'] = 20\\n\\nhash('b')\",\n",
       " '_61': -7215918757920026030,\n",
       " '_i62': \"d['a'] = 10\\n\\nhash('a') % 8\",\n",
       " '_62': 0,\n",
       " '_i63': \"d['b'] = 20\\n\\nhash('b') % 8\",\n",
       " '_63': 2,\n",
       " '_i64': \"d['c'] = 30\",\n",
       " '_i65': \"hash('c') % 8\",\n",
       " '_65': 7,\n",
       " '_i66': \"mylist = [('a', 10), ('b',20), ('c',30)]\\n\\nfor key, value in mylist:\\n    if key == 'a':\\n        print(f'{key}: {value}')\",\n",
       " '_i67': 'x = 100\\ny = [10, 20, 30]',\n",
       " '_i68': 'globals()'}"
      ]
     },
     "execution_count": 68,
     "metadata": {},
     "output_type": "execute_result"
    }
   ],
   "source": [
    "globals()"
   ]
  },
  {
   "cell_type": "code",
   "execution_count": 69,
   "id": "ac21ac78",
   "metadata": {},
   "outputs": [],
   "source": [
    "s = 'abcde'"
   ]
  },
  {
   "cell_type": "code",
   "execution_count": 70,
   "id": "5d0daa4e",
   "metadata": {},
   "outputs": [
    {
     "data": {
      "text/plain": [
       "'0x1076dfab0'"
      ]
     },
     "execution_count": 70,
     "metadata": {},
     "output_type": "execute_result"
    }
   ],
   "source": [
    "hex(id(s))"
   ]
  },
  {
   "cell_type": "code",
   "execution_count": null,
   "id": "f99dac46",
   "metadata": {},
   "outputs": [],
   "source": []
  },
  {
   "cell_type": "code",
   "execution_count": 71,
   "id": "86d604e8",
   "metadata": {},
   "outputs": [],
   "source": [
    "d = {}"
   ]
  },
  {
   "cell_type": "code",
   "execution_count": 72,
   "id": "728badf0",
   "metadata": {},
   "outputs": [
    {
     "ename": "KeyError",
     "evalue": "'a'",
     "output_type": "error",
     "traceback": [
      "\u001b[0;31m---------------------------------------------------------------------------\u001b[0m",
      "\u001b[0;31mKeyError\u001b[0m                                  Traceback (most recent call last)",
      "\u001b[0;32m/var/folders/rr/0mnyyv811fs5vyp22gf4fxk00000gn/T/ipykernel_99281/2407156854.py\u001b[0m in \u001b[0;36m<module>\u001b[0;34m\u001b[0m\n\u001b[0;32m----> 1\u001b[0;31m \u001b[0md\u001b[0m\u001b[0;34m[\u001b[0m\u001b[0;34m'a'\u001b[0m\u001b[0;34m]\u001b[0m\u001b[0;34m\u001b[0m\u001b[0;34m\u001b[0m\u001b[0m\n\u001b[0m",
      "\u001b[0;31mKeyError\u001b[0m: 'a'"
     ]
    }
   ],
   "source": [
    "d['a']"
   ]
  },
  {
   "cell_type": "code",
   "execution_count": 73,
   "id": "cc33af94",
   "metadata": {},
   "outputs": [
    {
     "ename": "KeyError",
     "evalue": "'a'",
     "output_type": "error",
     "traceback": [
      "\u001b[0;31m---------------------------------------------------------------------------\u001b[0m",
      "\u001b[0;31mKeyError\u001b[0m                                  Traceback (most recent call last)",
      "\u001b[0;32m/var/folders/rr/0mnyyv811fs5vyp22gf4fxk00000gn/T/ipykernel_99281/2613222158.py\u001b[0m in \u001b[0;36m<module>\u001b[0;34m\u001b[0m\n\u001b[0;32m----> 1\u001b[0;31m \u001b[0md\u001b[0m\u001b[0;34m[\u001b[0m\u001b[0;34m'a'\u001b[0m\u001b[0;34m]\u001b[0m \u001b[0;34m+=\u001b[0m \u001b[0;36m10\u001b[0m\u001b[0;34m\u001b[0m\u001b[0;34m\u001b[0m\u001b[0m\n\u001b[0m",
      "\u001b[0;31mKeyError\u001b[0m: 'a'"
     ]
    }
   ],
   "source": [
    "d['a'] += 10"
   ]
  },
  {
   "cell_type": "code",
   "execution_count": 74,
   "id": "8007bf60",
   "metadata": {},
   "outputs": [
    {
     "name": "stdout",
     "output_type": "stream",
     "text": [
      "30.5 ns ± 0.722 ns per loop (mean ± std. dev. of 7 runs, 10000000 loops each)\n"
     ]
    }
   ],
   "source": [
    "%timeit d['a'] = 5"
   ]
  },
  {
   "cell_type": "code",
   "execution_count": 75,
   "id": "f0e517b6",
   "metadata": {},
   "outputs": [
    {
     "ename": "NameError",
     "evalue": "name 'input' is not defined",
     "output_type": "error",
     "traceback": [
      "\u001b[0;31m---------------------------------------------------------------------------\u001b[0m",
      "\u001b[0;31mNameError\u001b[0m                                 Traceback (most recent call last)",
      "\u001b[0;32m/var/folders/rr/0mnyyv811fs5vyp22gf4fxk00000gn/T/ipykernel_99281/2819456531.py\u001b[0m in \u001b[0;36m<module>\u001b[0;34m\u001b[0m\n\u001b[0;32m----> 1\u001b[0;31m \u001b[0;32mdel\u001b[0m\u001b[0;34m(\u001b[0m\u001b[0minput\u001b[0m\u001b[0;34m)\u001b[0m   \u001b[0;31m# removes the new global that you created named \"input\"\u001b[0m\u001b[0;34m\u001b[0m\u001b[0;34m\u001b[0m\u001b[0m\n\u001b[0m",
      "\u001b[0;31mNameError\u001b[0m: name 'input' is not defined"
     ]
    }
   ],
   "source": [
    "del(input)   # removes the new global that you created named \"input\""
   ]
  },
  {
   "cell_type": "code",
   "execution_count": null,
   "id": "b391e0a5",
   "metadata": {},
   "outputs": [],
   "source": []
  },
  {
   "cell_type": "markdown",
   "id": "95131987",
   "metadata": {},
   "source": [
    "# Exercise: Rainfall\n",
    "\n",
    "1. Define `rainfall`, an empty dict.  It will contain names of cities (keys) and amounts of rain (values).\n",
    "2. Ask the user to enter a city.\n",
    "    - If the user gives us an empty city name, exit from the loop\n",
    "3. Ask the user to enter the amount of rain (mm) that fell in that city.\n",
    "    - Have we seen this city before? Add the current rain to the previous value.\n",
    "    - New city? Add the city and value to the dict.\n",
    "4. After exiting from the loop, print all cities and values.\n",
    "\n",
    "Example:\n",
    "\n",
    "    City: Jerusalem\n",
    "    Rain: 5\n",
    "    City: Tel Aviv\n",
    "    Rain: 4\n",
    "    City: Jerusalem\n",
    "    Rain: 3\n",
    "    City: [ENTER]\n",
    "    Jerusalem: 8\n",
    "    Tel Aviv: 4\n",
    "    \n",
    "    "
   ]
  },
  {
   "cell_type": "code",
   "execution_count": 79,
   "id": "be62a69c",
   "metadata": {},
   "outputs": [
    {
     "name": "stdout",
     "output_type": "stream",
     "text": [
      "City name: Jerusalem\n",
      "Rain: 5\n",
      "City name: Tel Aviv\n",
      "Rain: 4\n",
      "City name: Jerusalem\n",
      "Rain: 3\n",
      "City name: \n",
      "Jerusalem: 8\n",
      "Tel Aviv: 4\n"
     ]
    }
   ],
   "source": [
    "rainfall = {}\n",
    "\n",
    "while True:\n",
    "    city_name = input('City name: ').strip()\n",
    "    \n",
    "    if not city_name:   # if city_name is an empty string, exit the loop\n",
    "        break\n",
    "        \n",
    "    mm_rain = input('Rain: ').strip()\n",
    "    mm_rain = int(mm_rain)\n",
    "    \n",
    "#     if city_name in rainfall:\n",
    "#         rainfall[city_name] += mm_rain  # add to existing\n",
    "#     else:\n",
    "#         rainfall[city_name] = mm_rain   # new city -- add key-value to dict\n",
    "    \n",
    "\n",
    "\n",
    "    # rainfall.get(city_name, 0) means:\n",
    "    # - if city_name is already a key in rainfall, then return rainfall[city_name]\n",
    "    # - if city_name is *not* already a key in rainfall, then return 0\n",
    "\n",
    "    rainfall[city_name] = rainfall.get(city_name, 0) + mm_rain\n",
    "\n",
    "# rainfall.items() returns (key,value) tuples with each iteration\n",
    "for key, value in rainfall.items():\n",
    "    print(f'{key}: {value}')"
   ]
  },
  {
   "cell_type": "code",
   "execution_count": 80,
   "id": "a28048c8",
   "metadata": {},
   "outputs": [
    {
     "name": "stdout",
     "output_type": "stream",
     "text": [
      "abcd\n",
      "efgh\n",
      "ijkl\n"
     ]
    }
   ],
   "source": [
    "print('abcd')\n",
    "print('efgh')\n",
    "print('ijkl')"
   ]
  },
  {
   "cell_type": "code",
   "execution_count": 82,
   "id": "3e0eb8c6",
   "metadata": {},
   "outputs": [
    {
     "name": "stdout",
     "output_type": "stream",
     "text": [
      "abcd*efgh\n",
      "**\n",
      "**\n",
      "ijklmnopqr\n"
     ]
    }
   ],
   "source": [
    "print('abcd', end='*')\n",
    "print('efgh', end='\\n**\\n**\\n')\n",
    "print('ijkl', end='')\n",
    "print('mnopqr')\n"
   ]
  },
  {
   "cell_type": "markdown",
   "id": "4ab48733",
   "metadata": {},
   "source": [
    "# Set\n",
    "\n",
    "Basically, a dictionary's keys"
   ]
  },
  {
   "cell_type": "code",
   "execution_count": 112,
   "id": "b9854249",
   "metadata": {},
   "outputs": [],
   "source": [
    "s = {10, 20, 30, 10, 20, 30, 20, 30, 40, 50, 20, 30, 40}"
   ]
  },
  {
   "cell_type": "code",
   "execution_count": 113,
   "id": "226db4d8",
   "metadata": {},
   "outputs": [
    {
     "data": {
      "text/plain": [
       "{10, 20, 30, 40, 50}"
      ]
     },
     "execution_count": 113,
     "metadata": {},
     "output_type": "execute_result"
    }
   ],
   "source": [
    "s"
   ]
  },
  {
   "cell_type": "code",
   "execution_count": 114,
   "id": "6e6af94a",
   "metadata": {},
   "outputs": [],
   "source": [
    "s2 = {40, 50, 60}"
   ]
  },
  {
   "cell_type": "code",
   "execution_count": 115,
   "id": "ffe06c91",
   "metadata": {},
   "outputs": [
    {
     "data": {
      "text/plain": [
       "{10, 20, 30, 40, 50, 60}"
      ]
     },
     "execution_count": 115,
     "metadata": {},
     "output_type": "execute_result"
    }
   ],
   "source": [
    "s | s2    # union"
   ]
  },
  {
   "cell_type": "code",
   "execution_count": 116,
   "id": "adb1e415",
   "metadata": {},
   "outputs": [
    {
     "data": {
      "text/plain": [
       "{40, 50}"
      ]
     },
     "execution_count": 116,
     "metadata": {},
     "output_type": "execute_result"
    }
   ],
   "source": [
    "s & s2   # intersection"
   ]
  },
  {
   "cell_type": "code",
   "execution_count": 117,
   "id": "5d861902",
   "metadata": {},
   "outputs": [
    {
     "data": {
      "text/plain": [
       "False"
      ]
     },
     "execution_count": 117,
     "metadata": {},
     "output_type": "execute_result"
    }
   ],
   "source": [
    "s < s2   # are all element of s in s2?"
   ]
  },
  {
   "cell_type": "code",
   "execution_count": 118,
   "id": "0d1eb91e",
   "metadata": {},
   "outputs": [
    {
     "data": {
      "text/plain": [
       "{10, 20, 30}"
      ]
     },
     "execution_count": 118,
     "metadata": {},
     "output_type": "execute_result"
    }
   ],
   "source": [
    "s - s2   # what's in s, but not in s2?"
   ]
  },
  {
   "cell_type": "code",
   "execution_count": 119,
   "id": "c15bce1f",
   "metadata": {},
   "outputs": [
    {
     "data": {
      "text/plain": [
       "{60}"
      ]
     },
     "execution_count": 119,
     "metadata": {},
     "output_type": "execute_result"
    }
   ],
   "source": [
    "s2 - s   # what's in s2, but not in s?"
   ]
  },
  {
   "cell_type": "code",
   "execution_count": 120,
   "id": "948516c6",
   "metadata": {},
   "outputs": [
    {
     "data": {
      "text/plain": [
       "{10, 20, 30, 60}"
      ]
     },
     "execution_count": 120,
     "metadata": {},
     "output_type": "execute_result"
    }
   ],
   "source": [
    "s.symmetric_difference(s2)  # xor"
   ]
  },
  {
   "cell_type": "code",
   "execution_count": 121,
   "id": "630db277",
   "metadata": {},
   "outputs": [
    {
     "data": {
      "text/plain": [
       "{10, 20, 30, 60}"
      ]
     },
     "execution_count": 121,
     "metadata": {},
     "output_type": "execute_result"
    }
   ],
   "source": [
    "s ^ s2  # same thing, but shorter  -- xor -- what elements are in s or s2, but not both"
   ]
  },
  {
   "cell_type": "code",
   "execution_count": 122,
   "id": "13e91889",
   "metadata": {},
   "outputs": [],
   "source": [
    "s3 = {20, 30}"
   ]
  },
  {
   "cell_type": "code",
   "execution_count": 123,
   "id": "42bca17c",
   "metadata": {},
   "outputs": [
    {
     "data": {
      "text/plain": [
       "True"
      ]
     },
     "execution_count": 123,
     "metadata": {},
     "output_type": "execute_result"
    }
   ],
   "source": [
    "s3 < s   # yes, all elements of s3 are in s"
   ]
  },
  {
   "cell_type": "code",
   "execution_count": 124,
   "id": "13565d8e",
   "metadata": {},
   "outputs": [],
   "source": [
    "s = set('abcde')"
   ]
  },
  {
   "cell_type": "code",
   "execution_count": 125,
   "id": "3b96ccd8",
   "metadata": {},
   "outputs": [
    {
     "data": {
      "text/plain": [
       "{'a', 'b', 'c', 'd', 'e'}"
      ]
     },
     "execution_count": 125,
     "metadata": {},
     "output_type": "execute_result"
    }
   ],
   "source": [
    "s"
   ]
  },
  {
   "cell_type": "code",
   "execution_count": 126,
   "id": "476e14d7",
   "metadata": {},
   "outputs": [
    {
     "data": {
      "text/plain": [
       "True"
      ]
     },
     "execution_count": 126,
     "metadata": {},
     "output_type": "execute_result"
    }
   ],
   "source": [
    "word = 'cab'\n",
    "\n",
    "set(word) < s   # all letters in word are in s!"
   ]
  },
  {
   "cell_type": "code",
   "execution_count": 127,
   "id": "ba645235",
   "metadata": {},
   "outputs": [],
   "source": [
    "s = set()   # empty set"
   ]
  },
  {
   "cell_type": "code",
   "execution_count": 128,
   "id": "5eb32acb",
   "metadata": {},
   "outputs": [],
   "source": [
    "s = {}    # not an empty set!  a dict!"
   ]
  },
  {
   "cell_type": "code",
   "execution_count": 129,
   "id": "a613880c",
   "metadata": {},
   "outputs": [
    {
     "data": {
      "text/plain": [
       "{10, 20, 30}"
      ]
     },
     "execution_count": 129,
     "metadata": {},
     "output_type": "execute_result"
    }
   ],
   "source": [
    "s = set()\n",
    "s.add(10)\n",
    "s.add(20)\n",
    "s.add(30)\n",
    "s.add(20)\n",
    "s.add(30)\n",
    "\n",
    "s"
   ]
  },
  {
   "cell_type": "code",
   "execution_count": null,
   "id": "8ed2de58",
   "metadata": {},
   "outputs": [],
   "source": []
  }
 ],
 "metadata": {
  "kernelspec": {
   "display_name": "Python 3 (ipykernel)",
   "language": "python",
   "name": "python3"
  },
  "language_info": {
   "codemirror_mode": {
    "name": "ipython",
    "version": 3
   },
   "file_extension": ".py",
   "mimetype": "text/x-python",
   "name": "python",
   "nbconvert_exporter": "python",
   "pygments_lexer": "ipython3",
   "version": "3.10.5"
  }
 },
 "nbformat": 4,
 "nbformat_minor": 5
}
