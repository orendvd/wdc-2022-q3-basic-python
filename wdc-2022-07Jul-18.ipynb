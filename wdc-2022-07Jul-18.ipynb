{
 "cells": [
  {
   "cell_type": "markdown",
   "id": "6441c9c0",
   "metadata": {},
   "source": [
    "# Agenda\n",
    "\n",
    "1. Dictionaries\n",
    "2. Sets\n",
    "3. Files"
   ]
  },
  {
   "cell_type": "code",
   "execution_count": 1,
   "id": "86cb64cd",
   "metadata": {},
   "outputs": [],
   "source": [
    "# sequence -- string, list, tuple\n",
    "\n"
   ]
  },
  {
   "cell_type": "markdown",
   "id": "b943786c",
   "metadata": {},
   "source": [
    "# Dictionary\n",
    "\n",
    "- Hash table\n",
    "- Hash\n",
    "- Name-value pairs\n",
    "- Key-value pairs\n",
    "- Associative array\n",
    "\n",
    "In Python, a dict has keys and values:\n",
    "- Keys must be immutable (numbers or strings, usually), and must be unique in a dict\n",
    "- Values can be absolutely anything\n",
    "\n",
    "Where can we use it?\n",
    "- User ID + user name\n",
    "- Username + user ID\n",
    "- Filename and file properties\n",
    "- IP address and computer/machine properies\n",
    "- Month numbers + month names\n",
    "- Month names + month numbers\n"
   ]
  },
  {
   "cell_type": "code",
   "execution_count": 2,
   "id": "96f0926b",
   "metadata": {},
   "outputs": [],
   "source": [
    "# dict is defined with {} and key-value pairs\n",
    "# each key-value pair is written as key:value\n",
    "# each pair is separated by ,\n",
    "\n",
    "person = {'first':'Reuven', 'last':'Lerner', 'shoesize':46}"
   ]
  },
  {
   "cell_type": "code",
   "execution_count": 3,
   "id": "de84dd58",
   "metadata": {},
   "outputs": [
    {
     "data": {
      "text/plain": [
       "3"
      ]
     },
     "execution_count": 3,
     "metadata": {},
     "output_type": "execute_result"
    }
   ],
   "source": [
    "len(person)   # tells us how many pairs"
   ]
  },
  {
   "cell_type": "code",
   "execution_count": 4,
   "id": "fd2a82ea",
   "metadata": {},
   "outputs": [
    {
     "data": {
      "text/plain": [
       "'Reuven'"
      ]
     },
     "execution_count": 4,
     "metadata": {},
     "output_type": "execute_result"
    }
   ],
   "source": [
    "person['first']   # retrieve the value via the key"
   ]
  },
  {
   "cell_type": "code",
   "execution_count": 5,
   "id": "7c053422",
   "metadata": {},
   "outputs": [
    {
     "data": {
      "text/plain": [
       "'Lerner'"
      ]
     },
     "execution_count": 5,
     "metadata": {},
     "output_type": "execute_result"
    }
   ],
   "source": [
    "person['last']"
   ]
  },
  {
   "cell_type": "code",
   "execution_count": 6,
   "id": "d8bb3865",
   "metadata": {},
   "outputs": [
    {
     "data": {
      "text/plain": [
       "46"
      ]
     },
     "execution_count": 6,
     "metadata": {},
     "output_type": "execute_result"
    }
   ],
   "source": [
    "person['shoesize']"
   ]
  },
  {
   "cell_type": "code",
   "execution_count": 7,
   "id": "dd0fae4c",
   "metadata": {},
   "outputs": [
    {
     "ename": "KeyError",
     "evalue": "'asfdafasfa'",
     "output_type": "error",
     "traceback": [
      "\u001b[0;31m---------------------------------------------------------------------------\u001b[0m",
      "\u001b[0;31mKeyError\u001b[0m                                  Traceback (most recent call last)",
      "\u001b[0;32m/var/folders/rr/0mnyyv811fs5vyp22gf4fxk00000gn/T/ipykernel_99281/2834212523.py\u001b[0m in \u001b[0;36m<module>\u001b[0;34m\u001b[0m\n\u001b[0;32m----> 1\u001b[0;31m \u001b[0mperson\u001b[0m\u001b[0;34m[\u001b[0m\u001b[0;34m'asfdafasfa'\u001b[0m\u001b[0;34m]\u001b[0m\u001b[0;34m\u001b[0m\u001b[0;34m\u001b[0m\u001b[0m\n\u001b[0m",
      "\u001b[0;31mKeyError\u001b[0m: 'asfdafasfa'"
     ]
    }
   ],
   "source": [
    "person['asfdafasfa']"
   ]
  },
  {
   "cell_type": "code",
   "execution_count": 8,
   "id": "c79326c3",
   "metadata": {},
   "outputs": [
    {
     "ename": "IndexError",
     "evalue": "string index out of range",
     "output_type": "error",
     "traceback": [
      "\u001b[0;31m---------------------------------------------------------------------------\u001b[0m",
      "\u001b[0;31mIndexError\u001b[0m                                Traceback (most recent call last)",
      "\u001b[0;32m/var/folders/rr/0mnyyv811fs5vyp22gf4fxk00000gn/T/ipykernel_99281/652239824.py\u001b[0m in \u001b[0;36m<module>\u001b[0;34m\u001b[0m\n\u001b[1;32m      1\u001b[0m \u001b[0ms\u001b[0m \u001b[0;34m=\u001b[0m \u001b[0;34m'abcd'\u001b[0m\u001b[0;34m\u001b[0m\u001b[0;34m\u001b[0m\u001b[0m\n\u001b[0;32m----> 2\u001b[0;31m \u001b[0ms\u001b[0m\u001b[0;34m[\u001b[0m\u001b[0;36m100\u001b[0m\u001b[0;34m]\u001b[0m\u001b[0;34m\u001b[0m\u001b[0;34m\u001b[0m\u001b[0m\n\u001b[0m",
      "\u001b[0;31mIndexError\u001b[0m: string index out of range"
     ]
    }
   ],
   "source": [
    "s = 'abcd'\n",
    "s[100]"
   ]
  },
  {
   "cell_type": "code",
   "execution_count": 9,
   "id": "9be72aad",
   "metadata": {},
   "outputs": [
    {
     "ename": "KeyError",
     "evalue": "'first '",
     "output_type": "error",
     "traceback": [
      "\u001b[0;31m---------------------------------------------------------------------------\u001b[0m",
      "\u001b[0;31mKeyError\u001b[0m                                  Traceback (most recent call last)",
      "\u001b[0;32m/var/folders/rr/0mnyyv811fs5vyp22gf4fxk00000gn/T/ipykernel_99281/1529809810.py\u001b[0m in \u001b[0;36m<module>\u001b[0;34m\u001b[0m\n\u001b[0;32m----> 1\u001b[0;31m \u001b[0mperson\u001b[0m\u001b[0;34m[\u001b[0m\u001b[0;34m'first '\u001b[0m\u001b[0;34m]\u001b[0m\u001b[0;34m\u001b[0m\u001b[0;34m\u001b[0m\u001b[0m\n\u001b[0m",
      "\u001b[0;31mKeyError\u001b[0m: 'first '"
     ]
    }
   ],
   "source": [
    "person['first ']  # note: 'first ' not 'first'"
   ]
  },
  {
   "cell_type": "code",
   "execution_count": 10,
   "id": "b64e2ce5",
   "metadata": {},
   "outputs": [
    {
     "data": {
      "text/plain": [
       "True"
      ]
     },
     "execution_count": 10,
     "metadata": {},
     "output_type": "execute_result"
    }
   ],
   "source": [
    "# check that a key is in the dict with \"in\"\n",
    "\n",
    "'first' in person"
   ]
  },
  {
   "cell_type": "code",
   "execution_count": 11,
   "id": "22db5ab7",
   "metadata": {},
   "outputs": [
    {
     "data": {
      "text/plain": [
       "False"
      ]
     },
     "execution_count": 11,
     "metadata": {},
     "output_type": "execute_result"
    }
   ],
   "source": [
    "'Reuven' in person"
   ]
  },
  {
   "cell_type": "markdown",
   "id": "f4d5bd2b",
   "metadata": {},
   "source": [
    "# Exercise: Restaurant\n",
    "\n",
    "1. Define a dict, `menu`, in which keys are the items for sale at a restaurant, and the values are the prices.\n",
    "2. Define `total` to be 0.\n",
    "3. Ask the user, repeatedly, to order.\n",
    "    - If we get an empty string, stop asking and exit the loop.\n",
    "    - If we get something on the menu, then add the price to `total` and print the item + price + new total.\n",
    "    - If we get something *not* on the menu, then scold them\n",
    "4. In the end, after the loop, print `total`.\n",
    "\n",
    "Example:\n",
    "\n",
    "    Order: sandwich\n",
    "    sandwich is 25, total is 25\n",
    "    Order: tea\n",
    "    tea is 10, total is 35\n",
    "    Order: elephant\n",
    "    we are out of elephant today!\n",
    "    Order: [ENTER]\n",
    "    total is 35\n",
    "    \n",
    "   "
   ]
  },
  {
   "cell_type": "code",
   "execution_count": 12,
   "id": "12d2f826",
   "metadata": {},
   "outputs": [],
   "source": [
    "menu = {'sandwich':25, 'tea':10, 'apple':5, 'cake':12}\n",
    "\n"
   ]
  },
  {
   "cell_type": "code",
   "execution_count": 13,
   "id": "24c669af",
   "metadata": {},
   "outputs": [
    {
     "data": {
      "text/plain": [
       "dict"
      ]
     },
     "execution_count": 13,
     "metadata": {},
     "output_type": "execute_result"
    }
   ],
   "source": [
    "type(menu)"
   ]
  },
  {
   "cell_type": "code",
   "execution_count": 14,
   "id": "7782e8ef",
   "metadata": {},
   "outputs": [
    {
     "data": {
      "text/plain": [
       "25"
      ]
     },
     "execution_count": 14,
     "metadata": {},
     "output_type": "execute_result"
    }
   ],
   "source": [
    "menu['sandwich']"
   ]
  },
  {
   "cell_type": "code",
   "execution_count": 15,
   "id": "64479a84",
   "metadata": {},
   "outputs": [
    {
     "data": {
      "text/plain": [
       "25"
      ]
     },
     "execution_count": 15,
     "metadata": {},
     "output_type": "execute_result"
    }
   ],
   "source": [
    "x = 'sandwich'\n",
    "menu[x]"
   ]
  },
  {
   "cell_type": "code",
   "execution_count": 16,
   "id": "a5e1a1b9",
   "metadata": {},
   "outputs": [
    {
     "name": "stdout",
     "output_type": "stream",
     "text": [
      "Order: sandwich\n",
      "sandwich costs 25; total is now 25\n",
      "Order: apple\n",
      "apple costs 5; total is now 30\n",
      "Order: tea\n",
      "tea costs 10; total is now 40\n",
      "Order: cake\n",
      "cake costs 12; total is now 52\n",
      "Order: asdfafa\n",
      "Sorry, we are out of asdfafa today.\n",
      "Order: \n",
      "Total is 52.\n"
     ]
    }
   ],
   "source": [
    "menu = {'sandwich':25, 'tea':10, 'apple':5, 'cake':12}\n",
    "total = 0\n",
    "\n",
    "while True:\n",
    "    order = input('Order: ').strip()\n",
    "    \n",
    "    if not order:   # did we get an empty string? exit from the loop\n",
    "        break\n",
    "        \n",
    "    if order in menu:   # if order is a key in menu\n",
    "        price = menu[order]\n",
    "        total += price\n",
    "        print(f'{order} costs {price}; total is now {total}')\n",
    "    else:\n",
    "        print(f'Sorry, we are out of {order} today.')\n",
    "        \n",
    "print(f'Total is {total}.')"
   ]
  },
  {
   "cell_type": "code",
   "execution_count": 17,
   "id": "960bad58",
   "metadata": {},
   "outputs": [],
   "source": [
    "d = {'a':10, 'b':20, 'c':30}\n",
    "\n",
    "d['x'] = 100     # assign to a dict to add a key-value pair"
   ]
  },
  {
   "cell_type": "code",
   "execution_count": 18,
   "id": "c90081d3",
   "metadata": {},
   "outputs": [
    {
     "data": {
      "text/plain": [
       "{'a': 10, 'b': 20, 'c': 30, 'x': 100}"
      ]
     },
     "execution_count": 18,
     "metadata": {},
     "output_type": "execute_result"
    }
   ],
   "source": [
    "d"
   ]
  },
  {
   "cell_type": "code",
   "execution_count": 20,
   "id": "496f1219",
   "metadata": {},
   "outputs": [
    {
     "data": {
      "text/plain": [
       "{'a': 10, 'b': 20, 'c': 30, 'x': 234}"
      ]
     },
     "execution_count": 20,
     "metadata": {},
     "output_type": "execute_result"
    }
   ],
   "source": [
    "d['x'] = 234     # update the value associated with 'x'\n",
    "d "
   ]
  },
  {
   "cell_type": "code",
   "execution_count": 21,
   "id": "c98ba1ea",
   "metadata": {},
   "outputs": [
    {
     "data": {
      "text/plain": [
       "{'a': 10, 'b': 20, 'c': 30, 'x': 244}"
      ]
     },
     "execution_count": 21,
     "metadata": {},
     "output_type": "execute_result"
    }
   ],
   "source": [
    "d['x'] += 10  # add 10 to the current value of d['x']\n",
    "d"
   ]
  },
  {
   "cell_type": "code",
   "execution_count": 22,
   "id": "69e03f1f",
   "metadata": {},
   "outputs": [
    {
     "ename": "KeyError",
     "evalue": "'y'",
     "output_type": "error",
     "traceback": [
      "\u001b[0;31m---------------------------------------------------------------------------\u001b[0m",
      "\u001b[0;31mKeyError\u001b[0m                                  Traceback (most recent call last)",
      "\u001b[0;32m/var/folders/rr/0mnyyv811fs5vyp22gf4fxk00000gn/T/ipykernel_99281/1240264420.py\u001b[0m in \u001b[0;36m<module>\u001b[0;34m\u001b[0m\n\u001b[0;32m----> 1\u001b[0;31m \u001b[0md\u001b[0m\u001b[0;34m[\u001b[0m\u001b[0;34m'y'\u001b[0m\u001b[0;34m]\u001b[0m \u001b[0;34m+=\u001b[0m \u001b[0;36m10\u001b[0m\u001b[0;34m\u001b[0m\u001b[0;34m\u001b[0m\u001b[0m\n\u001b[0m",
      "\u001b[0;31mKeyError\u001b[0m: 'y'"
     ]
    }
   ],
   "source": [
    "d['y'] += 10  # add 10 to the current value of d['y']... which does not exist"
   ]
  },
  {
   "cell_type": "code",
   "execution_count": 23,
   "id": "08ded54c",
   "metadata": {},
   "outputs": [],
   "source": [
    "d = {'a':1, 'b':2, 'c':3, 'a':4, 'b':5}"
   ]
  },
  {
   "cell_type": "code",
   "execution_count": 24,
   "id": "2f08525a",
   "metadata": {},
   "outputs": [
    {
     "data": {
      "text/plain": [
       "{'a': 4, 'b': 5, 'c': 3}"
      ]
     },
     "execution_count": 24,
     "metadata": {},
     "output_type": "execute_result"
    }
   ],
   "source": [
    "d"
   ]
  },
  {
   "cell_type": "code",
   "execution_count": 25,
   "id": "9c4a9c9f",
   "metadata": {},
   "outputs": [
    {
     "name": "stdout",
     "output_type": "stream",
     "text": [
      "{'odds': 5, 'evens': 5}\n"
     ]
    }
   ],
   "source": [
    "# count the odd/even numbers\n",
    "\n",
    "d = {'odds':0, 'evens':0}\n",
    "\n",
    "for one_number in range(10):\n",
    "    if one_number % 2 == 1:     # if the remainder from /2 is 1, it's odd\n",
    "        d['odds'] += 1\n",
    "    else:                       # if the remainder is 0, it's evens\n",
    "        d['evens'] += 1\n",
    "        \n",
    "print(d)        "
   ]
  },
  {
   "cell_type": "code",
   "execution_count": 26,
   "id": "6140cb59",
   "metadata": {},
   "outputs": [
    {
     "name": "stdout",
     "output_type": "stream",
     "text": [
      "{'odds': [1, 3, 5, 7, 9], 'evens': [0, 2, 4, 6, 8]}\n"
     ]
    }
   ],
   "source": [
    "# sort the odd/even numbers\n",
    "\n",
    "d = {'odds':[], 'evens':[]}\n",
    "\n",
    "for one_number in range(10):\n",
    "    if one_number % 2 == 1:     # if the remainder from /2 is 1, it's odd\n",
    "        d['odds'].append(one_number)\n",
    "    else:                       # if the remainder is 0, it's evens\n",
    "        d['evens'].append(one_number)\n",
    "        \n",
    "print(d)        "
   ]
  },
  {
   "cell_type": "markdown",
   "id": "c30413d9",
   "metadata": {},
   "source": [
    "# Exercise: Vowels, digits, and others\n",
    "\n",
    "1. Define a dict (`counts`) with three keys (`vowels`, `digits`, and `others`).  The value for each should be an empty list (`[]`).\n",
    "2. Ask the user, repeatedly, to enter a string.\n",
    "    - If we get an empty string, exit from the loop and print `counts`\n",
    "3. If we got a non-empty string, then go through each character in the string:\n",
    "    - If it's a vowel (a, e, i, o, u) then add it to the `vowels` list.\n",
    "    - If it's a digit (0-9) then add it to the `digits` list.\n",
    "    - Anything else should be added to the `others` list.\n",
    "4. In the end, print the dictionary, `counts`.    \n",
    "    \n",
    "    \n",
    "Example:\n",
    "\n",
    "    Enter string: hello123\n",
    "    Enter string: bye4\n",
    "    Enter string: [ENTER]\n",
    "    {'vowels':['e', 'o', 'e'],\n",
    "     'digits':['1', '2', '3, '4'],\n",
    "     'others':['h', 'l', 'l', 'b', 'y']}\n",
    "    "
   ]
  },
  {
   "cell_type": "code",
   "execution_count": 29,
   "id": "df98567e",
   "metadata": {},
   "outputs": [
    {
     "name": "stdout",
     "output_type": "stream",
     "text": [
      "Enter string: this is a test\n",
      "Enter string: hello 123\n",
      "Enter string: bye456!!\n",
      "Enter string: \n",
      "{'vowels': ['i', 'i', 'a', 'e', 'e', 'o', 'e'], 'digits': ['1', '2', '3', '4', '5', '6'], 'others': ['t', 'h', 's', ' ', 's', ' ', ' ', 't', 's', 't', 'h', 'l', 'l', ' ', 'b', 'y', '!', '!']}\n"
     ]
    }
   ],
   "source": [
    "counts = {'vowels':[],\n",
    "         'digits':[],\n",
    "         'others':[]}\n",
    "\n",
    "while True:\n",
    "    s = input('Enter string: ').strip()\n",
    "    \n",
    "    if not s:   # empty string? exit from the while loop\n",
    "        break\n",
    "        \n",
    "    for one_character in s:                 # go through each character in s\n",
    "        if one_character in 'aeiou':        # is one_character a vowel?\n",
    "            counts['vowels'].append(one_character)   # add one_character to the list counts['vowels']\n",
    "        elif one_character.isdigit():       # is one_character a digit?\n",
    "            counts['digits'].append(one_character)\n",
    "        else:\n",
    "            counts['others'].append(one_character)\n",
    "            \n",
    "print(counts)            "
   ]
  },
  {
   "cell_type": "code",
   "execution_count": 28,
   "id": "84218b86",
   "metadata": {},
   "outputs": [
    {
     "data": {
      "text/plain": [
       "'a    b    c'"
      ]
     },
     "execution_count": 28,
     "metadata": {},
     "output_type": "execute_result"
    }
   ],
   "source": [
    "s = '   a    b    c    '\n",
    "\n",
    "s.strip()  # returns a new string without whitespace (space, \\n, \\r, \\t, \\v) on the sides"
   ]
  },
  {
   "cell_type": "code",
   "execution_count": 30,
   "id": "15167d97",
   "metadata": {},
   "outputs": [
    {
     "name": "stdout",
     "output_type": "stream",
     "text": [
      "vowels\n",
      "digits\n",
      "others\n"
     ]
    }
   ],
   "source": [
    "# what happens if we use a for loop on our dict?\n",
    "\n",
    "for one_item in counts:\n",
    "    print(one_item)"
   ]
  },
  {
   "cell_type": "code",
   "execution_count": 31,
   "id": "0ae1b908",
   "metadata": {},
   "outputs": [
    {
     "name": "stdout",
     "output_type": "stream",
     "text": [
      "vowels: ['i', 'i', 'a', 'e', 'e', 'o', 'e']\n",
      "digits: ['1', '2', '3', '4', '5', '6']\n",
      "others: ['t', 'h', 's', ' ', 's', ' ', ' ', 't', 's', 't', 'h', 'l', 'l', ' ', 'b', 'y', '!', '!']\n"
     ]
    }
   ],
   "source": [
    "for key in counts:\n",
    "    print(f'{key}: {counts[key]}')"
   ]
  },
  {
   "cell_type": "code",
   "execution_count": 32,
   "id": "0e902a65",
   "metadata": {},
   "outputs": [
    {
     "data": {
      "text/plain": [
       "dict_keys(['vowels', 'digits', 'others'])"
      ]
     },
     "execution_count": 32,
     "metadata": {},
     "output_type": "execute_result"
    }
   ],
   "source": [
    "counts.keys()   # get the keys -- we nearly never need this method"
   ]
  },
  {
   "cell_type": "code",
   "execution_count": 33,
   "id": "0313198f",
   "metadata": {},
   "outputs": [
    {
     "data": {
      "text/plain": [
       "True"
      ]
     },
     "execution_count": 33,
     "metadata": {},
     "output_type": "execute_result"
    }
   ],
   "source": [
    "'vowels' in counts.keys()"
   ]
  },
  {
   "cell_type": "code",
   "execution_count": 34,
   "id": "f7afc8ea",
   "metadata": {},
   "outputs": [
    {
     "data": {
      "text/plain": [
       "True"
      ]
     },
     "execution_count": 34,
     "metadata": {},
     "output_type": "execute_result"
    }
   ],
   "source": [
    "'vowels' in counts"
   ]
  },
  {
   "cell_type": "code",
   "execution_count": 35,
   "id": "cdaa5711",
   "metadata": {},
   "outputs": [],
   "source": [
    "# \"code smell\""
   ]
  },
  {
   "cell_type": "code",
   "execution_count": 36,
   "id": "df58a685",
   "metadata": {},
   "outputs": [
    {
     "data": {
      "text/plain": [
       "dict_values([['i', 'i', 'a', 'e', 'e', 'o', 'e'], ['1', '2', '3', '4', '5', '6'], ['t', 'h', 's', ' ', 's', ' ', ' ', 't', 's', 't', 'h', 'l', 'l', ' ', 'b', 'y', '!', '!']])"
      ]
     },
     "execution_count": 36,
     "metadata": {},
     "output_type": "execute_result"
    }
   ],
   "source": [
    "counts.values()   # sometimes useful!"
   ]
  },
  {
   "cell_type": "code",
   "execution_count": 38,
   "id": "54ea9671",
   "metadata": {},
   "outputs": [
    {
     "ename": "TypeError",
     "evalue": "'dict_values' object is not subscriptable",
     "output_type": "error",
     "traceback": [
      "\u001b[0;31m---------------------------------------------------------------------------\u001b[0m",
      "\u001b[0;31mTypeError\u001b[0m                                 Traceback (most recent call last)",
      "\u001b[0;32m/var/folders/rr/0mnyyv811fs5vyp22gf4fxk00000gn/T/ipykernel_99281/1848875979.py\u001b[0m in \u001b[0;36m<module>\u001b[0;34m\u001b[0m\n\u001b[0;32m----> 1\u001b[0;31m \u001b[0mcounts\u001b[0m\u001b[0;34m.\u001b[0m\u001b[0mvalues\u001b[0m\u001b[0;34m(\u001b[0m\u001b[0;34m)\u001b[0m\u001b[0;34m[\u001b[0m\u001b[0;36m0\u001b[0m\u001b[0;34m]\u001b[0m     \u001b[0;31m# not exactly a list...\u001b[0m\u001b[0;34m\u001b[0m\u001b[0;34m\u001b[0m\u001b[0m\n\u001b[0m",
      "\u001b[0;31mTypeError\u001b[0m: 'dict_values' object is not subscriptable"
     ]
    }
   ],
   "source": [
    "counts.values()[0]     # not exactly a list... "
   ]
  },
  {
   "cell_type": "code",
   "execution_count": 39,
   "id": "91e3363a",
   "metadata": {},
   "outputs": [
    {
     "data": {
      "text/plain": [
       "dict_items([('vowels', ['i', 'i', 'a', 'e', 'e', 'o', 'e']), ('digits', ['1', '2', '3', '4', '5', '6']), ('others', ['t', 'h', 's', ' ', 's', ' ', ' ', 't', 's', 't', 'h', 'l', 'l', ' ', 'b', 'y', '!', '!'])])"
      ]
     },
     "execution_count": 39,
     "metadata": {},
     "output_type": "execute_result"
    }
   ],
   "source": [
    "counts.items()"
   ]
  },
  {
   "cell_type": "code",
   "execution_count": 40,
   "id": "92fc104c",
   "metadata": {},
   "outputs": [
    {
     "name": "stdout",
     "output_type": "stream",
     "text": [
      "('vowels', ['i', 'i', 'a', 'e', 'e', 'o', 'e'])\n",
      "('digits', ['1', '2', '3', '4', '5', '6'])\n",
      "('others', ['t', 'h', 's', ' ', 's', ' ', ' ', 't', 's', 't', 'h', 'l', 'l', ' ', 'b', 'y', '!', '!'])\n"
     ]
    }
   ],
   "source": [
    "for x in counts.items():\n",
    "    print(x)"
   ]
  },
  {
   "cell_type": "code",
   "execution_count": 41,
   "id": "659003a4",
   "metadata": {},
   "outputs": [
    {
     "name": "stdout",
     "output_type": "stream",
     "text": [
      "vowels: ['i', 'i', 'a', 'e', 'e', 'o', 'e']\n",
      "digits: ['1', '2', '3', '4', '5', '6']\n",
      "others: ['t', 'h', 's', ' ', 's', ' ', ' ', 't', 's', 't', 'h', 'l', 'l', ' ', 'b', 'y', '!', '!']\n"
     ]
    }
   ],
   "source": [
    "for t in counts.items():\n",
    "    key = t[0]\n",
    "    value = t[1]\n",
    "    \n",
    "    print(f'{key}: {value}')"
   ]
  },
  {
   "cell_type": "code",
   "execution_count": 42,
   "id": "7f037268",
   "metadata": {},
   "outputs": [
    {
     "name": "stdout",
     "output_type": "stream",
     "text": [
      "vowels: ['i', 'i', 'a', 'e', 'e', 'o', 'e']\n",
      "digits: ['1', '2', '3', '4', '5', '6']\n",
      "others: ['t', 'h', 's', ' ', 's', ' ', ' ', 't', 's', 't', 'h', 'l', 'l', ' ', 'b', 'y', '!', '!']\n"
     ]
    }
   ],
   "source": [
    "# unpacking -- counts.items returns, with each iteration, a 2-element tuple\n",
    "for key, value in counts.items():\n",
    "    print(f'{key}: {value}')"
   ]
  },
  {
   "cell_type": "code",
   "execution_count": 43,
   "id": "774d19e9",
   "metadata": {},
   "outputs": [],
   "source": [
    "mylist = [10, 20, 30]\n",
    "x,y,z = mylist   # unpacking"
   ]
  },
  {
   "cell_type": "code",
   "execution_count": 44,
   "id": "f050690b",
   "metadata": {},
   "outputs": [
    {
     "data": {
      "text/plain": [
       "10"
      ]
     },
     "execution_count": 44,
     "metadata": {},
     "output_type": "execute_result"
    }
   ],
   "source": [
    "x"
   ]
  },
  {
   "cell_type": "code",
   "execution_count": 45,
   "id": "3eac4c4e",
   "metadata": {},
   "outputs": [
    {
     "data": {
      "text/plain": [
       "20"
      ]
     },
     "execution_count": 45,
     "metadata": {},
     "output_type": "execute_result"
    }
   ],
   "source": [
    "y"
   ]
  },
  {
   "cell_type": "code",
   "execution_count": 46,
   "id": "4e528c7c",
   "metadata": {},
   "outputs": [
    {
     "data": {
      "text/plain": [
       "30"
      ]
     },
     "execution_count": 46,
     "metadata": {},
     "output_type": "execute_result"
    }
   ],
   "source": [
    "z"
   ]
  },
  {
   "cell_type": "code",
   "execution_count": 47,
   "id": "20a45c12",
   "metadata": {},
   "outputs": [
    {
     "name": "stdout",
     "output_type": "stream",
     "text": [
      "vowels\n",
      "digits\n",
      "others\n"
     ]
    }
   ],
   "source": [
    "for one_key in counts:\n",
    "    print(one_key)"
   ]
  },
  {
   "cell_type": "code",
   "execution_count": 48,
   "id": "b0d4c5bd",
   "metadata": {},
   "outputs": [
    {
     "name": "stdout",
     "output_type": "stream",
     "text": [
      "Enter key: a\n",
      "d[a] = 10\n",
      "Enter key: b\n",
      "d[b] = 20\n",
      "Enter key: x\n",
      "x is not a key in d\n",
      "Enter key: p\n",
      "p is not a key in d\n",
      "Enter key: q\n",
      "q is not a key in d\n",
      "Enter key: ab\n",
      "ab is not a key in d\n",
      "Enter key: \n"
     ]
    }
   ],
   "source": [
    "d = {'a':10, 'b':20, 'c':30}\n",
    "\n",
    "while True:\n",
    "    k = input('Enter key: ').strip()\n",
    "    \n",
    "    if not k:\n",
    "        break\n",
    "        \n",
    "    if k in d:   # is k a key in d?  print the value!\n",
    "        print(f'd[{k}] = {d[k]}')\n",
    "    else:\n",
    "        print(f'{k} is not a key in d')"
   ]
  },
  {
   "cell_type": "code",
   "execution_count": 49,
   "id": "c5f4e8b7",
   "metadata": {},
   "outputs": [
    {
     "data": {
      "text/plain": [
       "10"
      ]
     },
     "execution_count": 49,
     "metadata": {},
     "output_type": "execute_result"
    }
   ],
   "source": [
    "# the \"dict.get\" method works like []\n",
    "\n",
    "d.get('a')  # if 'a' in d, returns d['a']"
   ]
  },
  {
   "cell_type": "code",
   "execution_count": 50,
   "id": "4383a12d",
   "metadata": {},
   "outputs": [
    {
     "data": {
      "text/plain": [
       "20"
      ]
     },
     "execution_count": 50,
     "metadata": {},
     "output_type": "execute_result"
    }
   ],
   "source": [
    "d.get('b')  # if 'b' in d, return d['b']"
   ]
  },
  {
   "cell_type": "code",
   "execution_count": 52,
   "id": "b43ba634",
   "metadata": {},
   "outputs": [
    {
     "name": "stdout",
     "output_type": "stream",
     "text": [
      "None\n"
     ]
    }
   ],
   "source": [
    "print(d.get('x'))  # if 'x' in d, return d['x']... otherwise None"
   ]
  },
  {
   "cell_type": "code",
   "execution_count": 53,
   "id": "5fb37345",
   "metadata": {},
   "outputs": [
    {
     "data": {
      "text/plain": [
       "'No such key'"
      ]
     },
     "execution_count": 53,
     "metadata": {},
     "output_type": "execute_result"
    }
   ],
   "source": [
    "# we can pass a second argument to dict.get -- which will be returned instead of None\n",
    "d.get('x', 'No such key')"
   ]
  },
  {
   "cell_type": "markdown",
   "id": "4b700ac0",
   "metadata": {},
   "source": [
    "# Next up\n",
    "\n",
    "1. Dict implementation\n",
    "2. Paradigm #3\n",
    "3. Sets\n",
    "4. Files\n",
    "\n",
    "resume at 11:00"
   ]
  },
  {
   "cell_type": "code",
   "execution_count": 56,
   "id": "821346a4",
   "metadata": {},
   "outputs": [
    {
     "ename": "SyntaxError",
     "evalue": "invalid syntax (385913230.py, line 1)",
     "output_type": "error",
     "traceback": [
      "\u001b[0;36m  File \u001b[0;32m\"/var/folders/rr/0mnyyv811fs5vyp22gf4fxk00000gn/T/ipykernel_99281/385913230.py\"\u001b[0;36m, line \u001b[0;32m1\u001b[0m\n\u001b[0;31m    print(input '' ='' + {total} )\u001b[0m\n\u001b[0m                ^\u001b[0m\n\u001b[0;31mSyntaxError\u001b[0m\u001b[0;31m:\u001b[0m invalid syntax\n"
     ]
    }
   ],
   "source": [
    "print(input '' ='' + {total} )"
   ]
  },
  {
   "cell_type": "code",
   "execution_count": 57,
   "id": "b4952d86",
   "metadata": {},
   "outputs": [
    {
     "data": {
      "text/plain": [
       "{'a': 1, 'b': 2, 'd': 3}"
      ]
     },
     "execution_count": 57,
     "metadata": {},
     "output_type": "execute_result"
    }
   ],
   "source": [
    "d = {'a':1, 'b':2, 'c':3}\n",
    "\n",
    "# I want to change the key 'c' to be 'd'\n",
    "\n",
    "d.pop('c')   # remove + return 'c'\n",
    "d['d'] = 3\n",
    "\n",
    "d"
   ]
  },
  {
   "cell_type": "raw",
   "id": "dc5e12cf",
   "metadata": {},
   "source": [
    "When we create a new dict, Python creates *TWO* behind-the-scenes data structures\n",
    "\n",
    "(1) Table with 3 columns and 0 rows (which will grow)\n",
    "\n",
    "   index       key      value\n",
    "     0          'a'       10\n",
    "     1          'b'       20\n",
    "     2          'c'       30\n",
    "   \n",
    "   \n",
    "(2) Array of 8 ints\n",
    "[0,NULL,1,NULL,NULL,NULL,NULL,2]"
   ]
  },
  {
   "cell_type": "code",
   "execution_count": 58,
   "id": "e3302261",
   "metadata": {},
   "outputs": [],
   "source": [
    "d = {}"
   ]
  },
  {
   "cell_type": "code",
   "execution_count": 62,
   "id": "e3f50726",
   "metadata": {},
   "outputs": [
    {
     "data": {
      "text/plain": [
       "0"
      ]
     },
     "execution_count": 62,
     "metadata": {},
     "output_type": "execute_result"
    }
   ],
   "source": [
    "d['a'] = 10\n",
    "\n",
    "hash('a') % 8    # put in array's index 0 the location (index 1) in the table"
   ]
  },
  {
   "cell_type": "code",
   "execution_count": null,
   "id": "ff2b026d",
   "metadata": {},
   "outputs": [],
   "source": [
    "d['a']   # table[hash('a') % 8]"
   ]
  },
  {
   "cell_type": "code",
   "execution_count": 63,
   "id": "92ed8123",
   "metadata": {},
   "outputs": [
    {
     "data": {
      "text/plain": [
       "2"
      ]
     },
     "execution_count": 63,
     "metadata": {},
     "output_type": "execute_result"
    }
   ],
   "source": [
    "d['b'] = 20\n",
    "\n",
    "hash('b') % 8"
   ]
  },
  {
   "cell_type": "code",
   "execution_count": 64,
   "id": "fafa6cbf",
   "metadata": {},
   "outputs": [],
   "source": [
    "d['c'] = 30"
   ]
  },
  {
   "cell_type": "code",
   "execution_count": 65,
   "id": "3b3573b2",
   "metadata": {},
   "outputs": [
    {
     "data": {
      "text/plain": [
       "7"
      ]
     },
     "execution_count": 65,
     "metadata": {},
     "output_type": "execute_result"
    }
   ],
   "source": [
    "hash('c') % 8"
   ]
  },
  {
   "cell_type": "code",
   "execution_count": 66,
   "id": "bb743ed5",
   "metadata": {},
   "outputs": [
    {
     "name": "stdout",
     "output_type": "stream",
     "text": [
      "a: 10\n"
     ]
    }
   ],
   "source": [
    "mylist = [('a', 10), ('b',20), ('c',30)]\n",
    "\n",
    "for key, value in mylist:\n",
    "    if key == 'a':\n",
    "        print(f'{key}: {value}')"
   ]
  },
  {
   "cell_type": "code",
   "execution_count": 67,
   "id": "70719c01",
   "metadata": {},
   "outputs": [],
   "source": [
    "x = 100\n",
    "y = [10, 20, 30]"
   ]
  },
  {
   "cell_type": "code",
   "execution_count": 68,
   "id": "ad02e790",
   "metadata": {},
   "outputs": [
    {
     "data": {
      "text/plain": [
       "{'__name__': '__main__',\n",
       " '__doc__': 'Automatically created module for IPython interactive environment',\n",
       " '__package__': None,\n",
       " '__loader__': None,\n",
       " '__spec__': None,\n",
       " '__builtin__': <module 'builtins' (built-in)>,\n",
       " '__builtins__': <module 'builtins' (built-in)>,\n",
       " '_ih': ['',\n",
       "  '# sequence -- string, list, tuple',\n",
       "  \"# dict is defined with {} and key-value pairs\\n# each key-value pair is written as key:value\\n# each pair is separated by ,\\n\\nperson = {'first':'Reuven', 'last':'Lerner', 'shoesize':46}\",\n",
       "  'len(person)   # tells us how many pairs',\n",
       "  \"person['first']   # retrieve the value via the key\",\n",
       "  \"person['last']\",\n",
       "  \"person['shoesize']\",\n",
       "  \"person['asfdafasfa']\",\n",
       "  \"s = 'abcd'\\ns[100]\",\n",
       "  \"person['first ']\",\n",
       "  '# check that a key is in the dict with \"in\"\\n\\n\\'first\\' in person',\n",
       "  \"'Reuven' in person\",\n",
       "  \"menu = {'sandwich':25, 'tea':10, 'apple':5, 'cake':12}\",\n",
       "  'type(menu)',\n",
       "  \"menu['sandwich']\",\n",
       "  \"x = 'sandwich'\\nmenu[x]\",\n",
       "  \"menu = {'sandwich':25, 'tea':10, 'apple':5, 'cake':12}\\ntotal = 0\\n\\nwhile True:\\n    order = input('Order: ').strip()\\n    \\n    if not order:   # did we get an empty string? exit from the loop\\n        break\\n        \\n    if order in menu:   # if order is a key in menu\\n        price = menu[order]\\n        total += price\\n        print(f'{order} costs {price}; total is now {total}')\\n    else:\\n        print(f'Sorry, we are out of {order} today.')\\n        \\nprint(f'Total is {total}.')\",\n",
       "  \"d = {'a':10, 'b':20, 'c':30}\\n\\nd['x'] = 100\",\n",
       "  'd',\n",
       "  \"d['x'] = 234\\nd\",\n",
       "  \"d['x'] = 234     # update the value associated with 'x'\\nd \",\n",
       "  \"d['x'] += 10  \\nd\",\n",
       "  \"d['y'] += 10\",\n",
       "  \"d = {'a':1, 'b':2, 'c':3, 'a':4, 'b':5}\",\n",
       "  'd',\n",
       "  \"d = {'odds':0, 'evens':0}\\n\\nfor one_number in range(10):\\n    if one_number % 2 == 1:     # if the remainder from /2 is 1, it's odd\\n        d['odds'] += 1\\n    else:                       # if the remainder is 0, it's evens\\n        d['evens'] += 1\\n        \\nprint(d)        \",\n",
       "  \"# sort the odd/even numbers\\n\\nd = {'odds':[], 'evens':[]}\\n\\nfor one_number in range(10):\\n    if one_number % 2 == 1:     # if the remainder from /2 is 1, it's odd\\n        d['odds'].append(one_number)\\n    else:                       # if the remainder is 0, it's evens\\n        d['evens'].append(one_number)\\n        \\nprint(d)        \",\n",
       "  \"s = '   a    b    c    '\\n\\ns.strip()\",\n",
       "  \"s = '   a    b    c    '\\n\\ns.strip()  # returns a new string without whitespace (space, \\\\n, \\\\r, \\\\t, \\\\v) on the sides\",\n",
       "  \"counts = {'vowels':[],\\n         'digits':[],\\n         'others':[]}\\n\\nwhile True:\\n    s = input('Enter string: ').strip()\\n    \\n    if not s:   # empty string? exit from the while loop\\n        break\\n        \\n    for one_character in s:                 # go through each character in s\\n        if one_character in 'aeiou':        # is one_character a vowel?\\n            counts['vowels'].append(one_character)   # add one_character to the list counts['vowels']\\n        elif one_character.isdigit():       # is one_character a digit?\\n            counts['digits'].append(one_character)\\n        else:\\n            counts['others'].append(one_character)\\n            \\nprint(counts)            \",\n",
       "  '# what happens if we use a for loop on our dict?\\n\\nfor one_item in counts:\\n    print(one_item)',\n",
       "  \"for key in counts:\\n    print(f'{key}: {counts[key]}')\",\n",
       "  'counts.keys()   # get the keys',\n",
       "  \"'vowels' in counts.keys()\",\n",
       "  \"'vowels' in counts\",\n",
       "  '# \"code smell\"',\n",
       "  'counts.values()   # sometimes useful!',\n",
       "  'counts.values()[0]',\n",
       "  'counts.values()[0]     # not exactly a list... ',\n",
       "  'counts.items()',\n",
       "  'for x in counts.items():\\n    print(x)',\n",
       "  \"for t in counts.items():\\n    key = t[0]\\n    value = t[1]\\n    \\n    print(f'{key}: {value}')\",\n",
       "  \"# unpacking -- counts.items returns, with each iteration, a 2-element tuple\\nfor key, value in counts.items():\\n    \\n    print(f'{key}: {value}')\",\n",
       "  'mylist = [10, 20, 30]\\nx,y,z = mylist   # unpacking',\n",
       "  'x',\n",
       "  'y',\n",
       "  'z',\n",
       "  'for one_key in counts:\\n    print(one_key)',\n",
       "  \"d = {'a':10, 'b':20, 'c':30}\\n\\nwhile True:\\n    k = input('Enter key: ').strip()\\n    \\n    if not k:\\n        break\\n        \\n    if k in d:   # is k a key in d?  print the value!\\n        print(f'd[{k}] = {d[k]}')\\n    else:\\n        print(f'{k} is not a key in d')\",\n",
       "  '# the \"dict.get\" method works like []\\n\\nd.get(\\'a\\')  # if \\'a\\' in d, returns d[\\'a\\']',\n",
       "  \"d.get('b')  # if 'b' in d, return d['b']\",\n",
       "  \"d.get('x')  # if 'x' in d, return d['x']... otherwise None\",\n",
       "  \"print(d.get('x'))  # if 'x' in d, return d['x']... otherwise None\",\n",
       "  \"# we can pass a second argument to dict.get -- which will be returned instead of None\\nd.get('x', 'No such key')\",\n",
       "  \"print(f'order =' + input '' ='' + {total} )\",\n",
       "  \"print('order =' + input '' ='' + {total} )\",\n",
       "  \"print(input '' ='' + {total} )\",\n",
       "  \"d = {'a':1, 'b':2, 'c':3}\\n\\n# I want to change the key 'c' to be 'd'\\n\\nd.pop('c')   # remove + return 'c'\\nd['d'] = 3\\n\\nd\",\n",
       "  'd = {}',\n",
       "  \"d['b'] = 20\",\n",
       "  \"d['a'] = 10\\n\\nhash('a')\",\n",
       "  \"d['b'] = 20\\n\\nhash('b')\",\n",
       "  \"d['a'] = 10\\n\\nhash('a') % 8\",\n",
       "  \"d['b'] = 20\\n\\nhash('b') % 8\",\n",
       "  \"d['c'] = 30\",\n",
       "  \"hash('c') % 8\",\n",
       "  \"mylist = [('a', 10), ('b',20), ('c',30)]\\n\\nfor key, value in mylist:\\n    if key == 'a':\\n        print(f'{key}: {value}')\",\n",
       "  'x = 100\\ny = [10, 20, 30]',\n",
       "  'globals()'],\n",
       " '_oh': {3: 3,\n",
       "  4: 'Reuven',\n",
       "  5: 'Lerner',\n",
       "  6: 46,\n",
       "  10: True,\n",
       "  11: False,\n",
       "  13: dict,\n",
       "  14: 25,\n",
       "  15: 25,\n",
       "  18: {'a': 10, 'b': 20, 'c': 30, 'x': 244},\n",
       "  19: {'a': 10, 'b': 20, 'c': 30, 'x': 244},\n",
       "  20: {'a': 10, 'b': 20, 'c': 30, 'x': 244},\n",
       "  21: {'a': 10, 'b': 20, 'c': 30, 'x': 244},\n",
       "  24: {'a': 4, 'b': 5, 'c': 3},\n",
       "  27: 'a    b    c',\n",
       "  28: 'a    b    c',\n",
       "  32: dict_keys(['vowels', 'digits', 'others']),\n",
       "  33: True,\n",
       "  34: True,\n",
       "  36: dict_values([['i', 'i', 'a', 'e', 'e', 'o', 'e'], ['1', '2', '3', '4', '5', '6'], ['t', 'h', 's', ' ', 's', ' ', ' ', 't', 's', 't', 'h', 'l', 'l', ' ', 'b', 'y', '!', '!']]),\n",
       "  39: dict_items([('vowels', ['i', 'i', 'a', 'e', 'e', 'o', 'e']), ('digits', ['1', '2', '3', '4', '5', '6']), ('others', ['t', 'h', 's', ' ', 's', ' ', ' ', 't', 's', 't', 'h', 'l', 'l', ' ', 'b', 'y', '!', '!'])]),\n",
       "  44: 10,\n",
       "  45: 20,\n",
       "  46: 30,\n",
       "  49: 10,\n",
       "  50: 20,\n",
       "  53: 'No such key',\n",
       "  57: {'a': 1, 'b': 2, 'd': 3},\n",
       "  60: -201554014506651976,\n",
       "  61: -7215918757920026030,\n",
       "  62: 0,\n",
       "  63: 2,\n",
       "  65: 7},\n",
       " '_dh': ['/Users/reuven/Courses/Current/WDC-2022-q3-basic-python'],\n",
       " 'In': ['',\n",
       "  '# sequence -- string, list, tuple',\n",
       "  \"# dict is defined with {} and key-value pairs\\n# each key-value pair is written as key:value\\n# each pair is separated by ,\\n\\nperson = {'first':'Reuven', 'last':'Lerner', 'shoesize':46}\",\n",
       "  'len(person)   # tells us how many pairs',\n",
       "  \"person['first']   # retrieve the value via the key\",\n",
       "  \"person['last']\",\n",
       "  \"person['shoesize']\",\n",
       "  \"person['asfdafasfa']\",\n",
       "  \"s = 'abcd'\\ns[100]\",\n",
       "  \"person['first ']\",\n",
       "  '# check that a key is in the dict with \"in\"\\n\\n\\'first\\' in person',\n",
       "  \"'Reuven' in person\",\n",
       "  \"menu = {'sandwich':25, 'tea':10, 'apple':5, 'cake':12}\",\n",
       "  'type(menu)',\n",
       "  \"menu['sandwich']\",\n",
       "  \"x = 'sandwich'\\nmenu[x]\",\n",
       "  \"menu = {'sandwich':25, 'tea':10, 'apple':5, 'cake':12}\\ntotal = 0\\n\\nwhile True:\\n    order = input('Order: ').strip()\\n    \\n    if not order:   # did we get an empty string? exit from the loop\\n        break\\n        \\n    if order in menu:   # if order is a key in menu\\n        price = menu[order]\\n        total += price\\n        print(f'{order} costs {price}; total is now {total}')\\n    else:\\n        print(f'Sorry, we are out of {order} today.')\\n        \\nprint(f'Total is {total}.')\",\n",
       "  \"d = {'a':10, 'b':20, 'c':30}\\n\\nd['x'] = 100\",\n",
       "  'd',\n",
       "  \"d['x'] = 234\\nd\",\n",
       "  \"d['x'] = 234     # update the value associated with 'x'\\nd \",\n",
       "  \"d['x'] += 10  \\nd\",\n",
       "  \"d['y'] += 10\",\n",
       "  \"d = {'a':1, 'b':2, 'c':3, 'a':4, 'b':5}\",\n",
       "  'd',\n",
       "  \"d = {'odds':0, 'evens':0}\\n\\nfor one_number in range(10):\\n    if one_number % 2 == 1:     # if the remainder from /2 is 1, it's odd\\n        d['odds'] += 1\\n    else:                       # if the remainder is 0, it's evens\\n        d['evens'] += 1\\n        \\nprint(d)        \",\n",
       "  \"# sort the odd/even numbers\\n\\nd = {'odds':[], 'evens':[]}\\n\\nfor one_number in range(10):\\n    if one_number % 2 == 1:     # if the remainder from /2 is 1, it's odd\\n        d['odds'].append(one_number)\\n    else:                       # if the remainder is 0, it's evens\\n        d['evens'].append(one_number)\\n        \\nprint(d)        \",\n",
       "  \"s = '   a    b    c    '\\n\\ns.strip()\",\n",
       "  \"s = '   a    b    c    '\\n\\ns.strip()  # returns a new string without whitespace (space, \\\\n, \\\\r, \\\\t, \\\\v) on the sides\",\n",
       "  \"counts = {'vowels':[],\\n         'digits':[],\\n         'others':[]}\\n\\nwhile True:\\n    s = input('Enter string: ').strip()\\n    \\n    if not s:   # empty string? exit from the while loop\\n        break\\n        \\n    for one_character in s:                 # go through each character in s\\n        if one_character in 'aeiou':        # is one_character a vowel?\\n            counts['vowels'].append(one_character)   # add one_character to the list counts['vowels']\\n        elif one_character.isdigit():       # is one_character a digit?\\n            counts['digits'].append(one_character)\\n        else:\\n            counts['others'].append(one_character)\\n            \\nprint(counts)            \",\n",
       "  '# what happens if we use a for loop on our dict?\\n\\nfor one_item in counts:\\n    print(one_item)',\n",
       "  \"for key in counts:\\n    print(f'{key}: {counts[key]}')\",\n",
       "  'counts.keys()   # get the keys',\n",
       "  \"'vowels' in counts.keys()\",\n",
       "  \"'vowels' in counts\",\n",
       "  '# \"code smell\"',\n",
       "  'counts.values()   # sometimes useful!',\n",
       "  'counts.values()[0]',\n",
       "  'counts.values()[0]     # not exactly a list... ',\n",
       "  'counts.items()',\n",
       "  'for x in counts.items():\\n    print(x)',\n",
       "  \"for t in counts.items():\\n    key = t[0]\\n    value = t[1]\\n    \\n    print(f'{key}: {value}')\",\n",
       "  \"# unpacking -- counts.items returns, with each iteration, a 2-element tuple\\nfor key, value in counts.items():\\n    \\n    print(f'{key}: {value}')\",\n",
       "  'mylist = [10, 20, 30]\\nx,y,z = mylist   # unpacking',\n",
       "  'x',\n",
       "  'y',\n",
       "  'z',\n",
       "  'for one_key in counts:\\n    print(one_key)',\n",
       "  \"d = {'a':10, 'b':20, 'c':30}\\n\\nwhile True:\\n    k = input('Enter key: ').strip()\\n    \\n    if not k:\\n        break\\n        \\n    if k in d:   # is k a key in d?  print the value!\\n        print(f'd[{k}] = {d[k]}')\\n    else:\\n        print(f'{k} is not a key in d')\",\n",
       "  '# the \"dict.get\" method works like []\\n\\nd.get(\\'a\\')  # if \\'a\\' in d, returns d[\\'a\\']',\n",
       "  \"d.get('b')  # if 'b' in d, return d['b']\",\n",
       "  \"d.get('x')  # if 'x' in d, return d['x']... otherwise None\",\n",
       "  \"print(d.get('x'))  # if 'x' in d, return d['x']... otherwise None\",\n",
       "  \"# we can pass a second argument to dict.get -- which will be returned instead of None\\nd.get('x', 'No such key')\",\n",
       "  \"print(f'order =' + input '' ='' + {total} )\",\n",
       "  \"print('order =' + input '' ='' + {total} )\",\n",
       "  \"print(input '' ='' + {total} )\",\n",
       "  \"d = {'a':1, 'b':2, 'c':3}\\n\\n# I want to change the key 'c' to be 'd'\\n\\nd.pop('c')   # remove + return 'c'\\nd['d'] = 3\\n\\nd\",\n",
       "  'd = {}',\n",
       "  \"d['b'] = 20\",\n",
       "  \"d['a'] = 10\\n\\nhash('a')\",\n",
       "  \"d['b'] = 20\\n\\nhash('b')\",\n",
       "  \"d['a'] = 10\\n\\nhash('a') % 8\",\n",
       "  \"d['b'] = 20\\n\\nhash('b') % 8\",\n",
       "  \"d['c'] = 30\",\n",
       "  \"hash('c') % 8\",\n",
       "  \"mylist = [('a', 10), ('b',20), ('c',30)]\\n\\nfor key, value in mylist:\\n    if key == 'a':\\n        print(f'{key}: {value}')\",\n",
       "  'x = 100\\ny = [10, 20, 30]',\n",
       "  'globals()'],\n",
       " 'Out': {3: 3,\n",
       "  4: 'Reuven',\n",
       "  5: 'Lerner',\n",
       "  6: 46,\n",
       "  10: True,\n",
       "  11: False,\n",
       "  13: dict,\n",
       "  14: 25,\n",
       "  15: 25,\n",
       "  18: {'a': 10, 'b': 20, 'c': 30, 'x': 244},\n",
       "  19: {'a': 10, 'b': 20, 'c': 30, 'x': 244},\n",
       "  20: {'a': 10, 'b': 20, 'c': 30, 'x': 244},\n",
       "  21: {'a': 10, 'b': 20, 'c': 30, 'x': 244},\n",
       "  24: {'a': 4, 'b': 5, 'c': 3},\n",
       "  27: 'a    b    c',\n",
       "  28: 'a    b    c',\n",
       "  32: dict_keys(['vowels', 'digits', 'others']),\n",
       "  33: True,\n",
       "  34: True,\n",
       "  36: dict_values([['i', 'i', 'a', 'e', 'e', 'o', 'e'], ['1', '2', '3', '4', '5', '6'], ['t', 'h', 's', ' ', 's', ' ', ' ', 't', 's', 't', 'h', 'l', 'l', ' ', 'b', 'y', '!', '!']]),\n",
       "  39: dict_items([('vowels', ['i', 'i', 'a', 'e', 'e', 'o', 'e']), ('digits', ['1', '2', '3', '4', '5', '6']), ('others', ['t', 'h', 's', ' ', 's', ' ', ' ', 't', 's', 't', 'h', 'l', 'l', ' ', 'b', 'y', '!', '!'])]),\n",
       "  44: 10,\n",
       "  45: 20,\n",
       "  46: 30,\n",
       "  49: 10,\n",
       "  50: 20,\n",
       "  53: 'No such key',\n",
       "  57: {'a': 1, 'b': 2, 'd': 3},\n",
       "  60: -201554014506651976,\n",
       "  61: -7215918757920026030,\n",
       "  62: 0,\n",
       "  63: 2,\n",
       "  65: 7},\n",
       " 'get_ipython': <bound method InteractiveShell.get_ipython of <ipykernel.zmqshell.ZMQInteractiveShell object at 0x107563fa0>>,\n",
       " 'exit': <IPython.core.autocall.ZMQExitAutocall at 0x1075b8a90>,\n",
       " 'quit': <IPython.core.autocall.ZMQExitAutocall at 0x1075b8a90>,\n",
       " '_': 7,\n",
       " '__': 2,\n",
       " '___': 0,\n",
       " '_i': 'x = 100\\ny = [10, 20, 30]',\n",
       " '_ii': \"mylist = [('a', 10), ('b',20), ('c',30)]\\n\\nfor key, value in mylist:\\n    if key == 'a':\\n        print(f'{key}: {value}')\",\n",
       " '_iii': \"hash('c') % 8\",\n",
       " '_i1': '# sequence -- string, list, tuple',\n",
       " '_i2': \"# dict is defined with {} and key-value pairs\\n# each key-value pair is written as key:value\\n# each pair is separated by ,\\n\\nperson = {'first':'Reuven', 'last':'Lerner', 'shoesize':46}\",\n",
       " 'person': {'first': 'Reuven', 'last': 'Lerner', 'shoesize': 46},\n",
       " '_i3': 'len(person)   # tells us how many pairs',\n",
       " '_3': 3,\n",
       " '_i4': \"person['first']   # retrieve the value via the key\",\n",
       " '_4': 'Reuven',\n",
       " '_i5': \"person['last']\",\n",
       " '_5': 'Lerner',\n",
       " '_i6': \"person['shoesize']\",\n",
       " '_6': 46,\n",
       " '_i7': \"person['asfdafasfa']\",\n",
       " '_i8': \"s = 'abcd'\\ns[100]\",\n",
       " 's': '',\n",
       " '_i9': \"person['first ']\",\n",
       " '_i10': '# check that a key is in the dict with \"in\"\\n\\n\\'first\\' in person',\n",
       " '_10': True,\n",
       " '_i11': \"'Reuven' in person\",\n",
       " '_11': False,\n",
       " '_i12': \"menu = {'sandwich':25, 'tea':10, 'apple':5, 'cake':12}\",\n",
       " 'menu': {'sandwich': 25, 'tea': 10, 'apple': 5, 'cake': 12},\n",
       " '_i13': 'type(menu)',\n",
       " '_13': dict,\n",
       " '_i14': \"menu['sandwich']\",\n",
       " '_14': 25,\n",
       " '_i15': \"x = 'sandwich'\\nmenu[x]\",\n",
       " 'x': 100,\n",
       " '_15': 25,\n",
       " '_i16': \"menu = {'sandwich':25, 'tea':10, 'apple':5, 'cake':12}\\ntotal = 0\\n\\nwhile True:\\n    order = input('Order: ').strip()\\n    \\n    if not order:   # did we get an empty string? exit from the loop\\n        break\\n        \\n    if order in menu:   # if order is a key in menu\\n        price = menu[order]\\n        total += price\\n        print(f'{order} costs {price}; total is now {total}')\\n    else:\\n        print(f'Sorry, we are out of {order} today.')\\n        \\nprint(f'Total is {total}.')\",\n",
       " 'total': 52,\n",
       " 'order': '',\n",
       " 'price': 12,\n",
       " '_i17': \"d = {'a':10, 'b':20, 'c':30}\\n\\nd['x'] = 100\",\n",
       " 'd': {'b': 20, 'a': 10, 'c': 30},\n",
       " '_i18': 'd',\n",
       " '_18': {'a': 10, 'b': 20, 'c': 30, 'x': 244},\n",
       " '_i19': \"d['x'] = 234\\nd\",\n",
       " '_19': {'a': 10, 'b': 20, 'c': 30, 'x': 244},\n",
       " '_i20': \"d['x'] = 234     # update the value associated with 'x'\\nd \",\n",
       " '_20': {'a': 10, 'b': 20, 'c': 30, 'x': 244},\n",
       " '_i21': \"d['x'] += 10  \\nd\",\n",
       " '_21': {'a': 10, 'b': 20, 'c': 30, 'x': 244},\n",
       " '_i22': \"d['y'] += 10\",\n",
       " '_i23': \"d = {'a':1, 'b':2, 'c':3, 'a':4, 'b':5}\",\n",
       " '_i24': 'd',\n",
       " '_24': {'a': 4, 'b': 5, 'c': 3},\n",
       " '_i25': \"d = {'odds':0, 'evens':0}\\n\\nfor one_number in range(10):\\n    if one_number % 2 == 1:     # if the remainder from /2 is 1, it's odd\\n        d['odds'] += 1\\n    else:                       # if the remainder is 0, it's evens\\n        d['evens'] += 1\\n        \\nprint(d)        \",\n",
       " 'one_number': 9,\n",
       " '_i26': \"# sort the odd/even numbers\\n\\nd = {'odds':[], 'evens':[]}\\n\\nfor one_number in range(10):\\n    if one_number % 2 == 1:     # if the remainder from /2 is 1, it's odd\\n        d['odds'].append(one_number)\\n    else:                       # if the remainder is 0, it's evens\\n        d['evens'].append(one_number)\\n        \\nprint(d)        \",\n",
       " '_i27': \"s = '   a    b    c    '\\n\\ns.strip()\",\n",
       " '_27': 'a    b    c',\n",
       " '_i28': \"s = '   a    b    c    '\\n\\ns.strip()  # returns a new string without whitespace (space, \\\\n, \\\\r, \\\\t, \\\\v) on the sides\",\n",
       " '_28': 'a    b    c',\n",
       " '_i29': \"counts = {'vowels':[],\\n         'digits':[],\\n         'others':[]}\\n\\nwhile True:\\n    s = input('Enter string: ').strip()\\n    \\n    if not s:   # empty string? exit from the while loop\\n        break\\n        \\n    for one_character in s:                 # go through each character in s\\n        if one_character in 'aeiou':        # is one_character a vowel?\\n            counts['vowels'].append(one_character)   # add one_character to the list counts['vowels']\\n        elif one_character.isdigit():       # is one_character a digit?\\n            counts['digits'].append(one_character)\\n        else:\\n            counts['others'].append(one_character)\\n            \\nprint(counts)            \",\n",
       " 'counts': {'vowels': ['i', 'i', 'a', 'e', 'e', 'o', 'e'],\n",
       "  'digits': ['1', '2', '3', '4', '5', '6'],\n",
       "  'others': ['t',\n",
       "   'h',\n",
       "   's',\n",
       "   ' ',\n",
       "   's',\n",
       "   ' ',\n",
       "   ' ',\n",
       "   't',\n",
       "   's',\n",
       "   't',\n",
       "   'h',\n",
       "   'l',\n",
       "   'l',\n",
       "   ' ',\n",
       "   'b',\n",
       "   'y',\n",
       "   '!',\n",
       "   '!']},\n",
       " 'one_character': '!',\n",
       " '_i30': '# what happens if we use a for loop on our dict?\\n\\nfor one_item in counts:\\n    print(one_item)',\n",
       " 'one_item': 'others',\n",
       " '_i31': \"for key in counts:\\n    print(f'{key}: {counts[key]}')\",\n",
       " 'key': 'c',\n",
       " '_i32': 'counts.keys()   # get the keys',\n",
       " '_32': dict_keys(['vowels', 'digits', 'others']),\n",
       " '_i33': \"'vowels' in counts.keys()\",\n",
       " '_33': True,\n",
       " '_i34': \"'vowels' in counts\",\n",
       " '_34': True,\n",
       " '_i35': '# \"code smell\"',\n",
       " '_i36': 'counts.values()   # sometimes useful!',\n",
       " '_36': dict_values([['i', 'i', 'a', 'e', 'e', 'o', 'e'], ['1', '2', '3', '4', '5', '6'], ['t', 'h', 's', ' ', 's', ' ', ' ', 't', 's', 't', 'h', 'l', 'l', ' ', 'b', 'y', '!', '!']]),\n",
       " '_i37': 'counts.values()[0]',\n",
       " '_i38': 'counts.values()[0]     # not exactly a list... ',\n",
       " '_i39': 'counts.items()',\n",
       " '_39': dict_items([('vowels', ['i', 'i', 'a', 'e', 'e', 'o', 'e']), ('digits', ['1', '2', '3', '4', '5', '6']), ('others', ['t', 'h', 's', ' ', 's', ' ', ' ', 't', 's', 't', 'h', 'l', 'l', ' ', 'b', 'y', '!', '!'])]),\n",
       " '_i40': 'for x in counts.items():\\n    print(x)',\n",
       " '_i41': \"for t in counts.items():\\n    key = t[0]\\n    value = t[1]\\n    \\n    print(f'{key}: {value}')\",\n",
       " 't': ('others',\n",
       "  ['t',\n",
       "   'h',\n",
       "   's',\n",
       "   ' ',\n",
       "   's',\n",
       "   ' ',\n",
       "   ' ',\n",
       "   't',\n",
       "   's',\n",
       "   't',\n",
       "   'h',\n",
       "   'l',\n",
       "   'l',\n",
       "   ' ',\n",
       "   'b',\n",
       "   'y',\n",
       "   '!',\n",
       "   '!']),\n",
       " 'value': 30,\n",
       " '_i42': \"# unpacking -- counts.items returns, with each iteration, a 2-element tuple\\nfor key, value in counts.items():\\n    \\n    print(f'{key}: {value}')\",\n",
       " '_i43': 'mylist = [10, 20, 30]\\nx,y,z = mylist   # unpacking',\n",
       " 'mylist': [('a', 10), ('b', 20), ('c', 30)],\n",
       " 'y': [10, 20, 30],\n",
       " 'z': 30,\n",
       " '_i44': 'x',\n",
       " '_44': 10,\n",
       " '_i45': 'y',\n",
       " '_45': 20,\n",
       " '_i46': 'z',\n",
       " '_46': 30,\n",
       " '_i47': 'for one_key in counts:\\n    print(one_key)',\n",
       " 'one_key': 'others',\n",
       " '_i48': \"d = {'a':10, 'b':20, 'c':30}\\n\\nwhile True:\\n    k = input('Enter key: ').strip()\\n    \\n    if not k:\\n        break\\n        \\n    if k in d:   # is k a key in d?  print the value!\\n        print(f'd[{k}] = {d[k]}')\\n    else:\\n        print(f'{k} is not a key in d')\",\n",
       " 'k': '',\n",
       " '_i49': '# the \"dict.get\" method works like []\\n\\nd.get(\\'a\\')  # if \\'a\\' in d, returns d[\\'a\\']',\n",
       " '_49': 10,\n",
       " '_i50': \"d.get('b')  # if 'b' in d, return d['b']\",\n",
       " '_50': 20,\n",
       " '_i51': \"d.get('x')  # if 'x' in d, return d['x']... otherwise None\",\n",
       " '_i52': \"print(d.get('x'))  # if 'x' in d, return d['x']... otherwise None\",\n",
       " '_i53': \"# we can pass a second argument to dict.get -- which will be returned instead of None\\nd.get('x', 'No such key')\",\n",
       " '_53': 'No such key',\n",
       " '_i54': \"print(f'order =' + input '' ='' + {total} )\",\n",
       " '_i55': \"print('order =' + input '' ='' + {total} )\",\n",
       " '_i56': \"print(input '' ='' + {total} )\",\n",
       " '_i57': \"d = {'a':1, 'b':2, 'c':3}\\n\\n# I want to change the key 'c' to be 'd'\\n\\nd.pop('c')   # remove + return 'c'\\nd['d'] = 3\\n\\nd\",\n",
       " '_57': {'a': 1, 'b': 2, 'd': 3},\n",
       " '_i58': 'd = {}',\n",
       " '_i59': \"d['b'] = 20\",\n",
       " '_i60': \"d['a'] = 10\\n\\nhash('a')\",\n",
       " '_60': -201554014506651976,\n",
       " '_i61': \"d['b'] = 20\\n\\nhash('b')\",\n",
       " '_61': -7215918757920026030,\n",
       " '_i62': \"d['a'] = 10\\n\\nhash('a') % 8\",\n",
       " '_62': 0,\n",
       " '_i63': \"d['b'] = 20\\n\\nhash('b') % 8\",\n",
       " '_63': 2,\n",
       " '_i64': \"d['c'] = 30\",\n",
       " '_i65': \"hash('c') % 8\",\n",
       " '_65': 7,\n",
       " '_i66': \"mylist = [('a', 10), ('b',20), ('c',30)]\\n\\nfor key, value in mylist:\\n    if key == 'a':\\n        print(f'{key}: {value}')\",\n",
       " '_i67': 'x = 100\\ny = [10, 20, 30]',\n",
       " '_i68': 'globals()'}"
      ]
     },
     "execution_count": 68,
     "metadata": {},
     "output_type": "execute_result"
    }
   ],
   "source": [
    "globals()"
   ]
  },
  {
   "cell_type": "code",
   "execution_count": 69,
   "id": "e6eb895a",
   "metadata": {},
   "outputs": [],
   "source": [
    "s = 'abcde'"
   ]
  },
  {
   "cell_type": "code",
   "execution_count": 70,
   "id": "bcecd794",
   "metadata": {},
   "outputs": [
    {
     "data": {
      "text/plain": [
       "'0x1076dfab0'"
      ]
     },
     "execution_count": 70,
     "metadata": {},
     "output_type": "execute_result"
    }
   ],
   "source": [
    "hex(id(s))"
   ]
  },
  {
   "cell_type": "code",
   "execution_count": null,
   "id": "0dfc900e",
   "metadata": {},
   "outputs": [],
   "source": []
  },
  {
   "cell_type": "code",
   "execution_count": 71,
   "id": "639138a7",
   "metadata": {},
   "outputs": [],
   "source": [
    "d = {}"
   ]
  },
  {
   "cell_type": "code",
   "execution_count": 72,
   "id": "5ffd0672",
   "metadata": {},
   "outputs": [
    {
     "ename": "KeyError",
     "evalue": "'a'",
     "output_type": "error",
     "traceback": [
      "\u001b[0;31m---------------------------------------------------------------------------\u001b[0m",
      "\u001b[0;31mKeyError\u001b[0m                                  Traceback (most recent call last)",
      "\u001b[0;32m/var/folders/rr/0mnyyv811fs5vyp22gf4fxk00000gn/T/ipykernel_99281/2407156854.py\u001b[0m in \u001b[0;36m<module>\u001b[0;34m\u001b[0m\n\u001b[0;32m----> 1\u001b[0;31m \u001b[0md\u001b[0m\u001b[0;34m[\u001b[0m\u001b[0;34m'a'\u001b[0m\u001b[0;34m]\u001b[0m\u001b[0;34m\u001b[0m\u001b[0;34m\u001b[0m\u001b[0m\n\u001b[0m",
      "\u001b[0;31mKeyError\u001b[0m: 'a'"
     ]
    }
   ],
   "source": [
    "d['a']"
   ]
  },
  {
   "cell_type": "code",
   "execution_count": 73,
   "id": "81eac981",
   "metadata": {},
   "outputs": [
    {
     "ename": "KeyError",
     "evalue": "'a'",
     "output_type": "error",
     "traceback": [
      "\u001b[0;31m---------------------------------------------------------------------------\u001b[0m",
      "\u001b[0;31mKeyError\u001b[0m                                  Traceback (most recent call last)",
      "\u001b[0;32m/var/folders/rr/0mnyyv811fs5vyp22gf4fxk00000gn/T/ipykernel_99281/2613222158.py\u001b[0m in \u001b[0;36m<module>\u001b[0;34m\u001b[0m\n\u001b[0;32m----> 1\u001b[0;31m \u001b[0md\u001b[0m\u001b[0;34m[\u001b[0m\u001b[0;34m'a'\u001b[0m\u001b[0;34m]\u001b[0m \u001b[0;34m+=\u001b[0m \u001b[0;36m10\u001b[0m\u001b[0;34m\u001b[0m\u001b[0;34m\u001b[0m\u001b[0m\n\u001b[0m",
      "\u001b[0;31mKeyError\u001b[0m: 'a'"
     ]
    }
   ],
   "source": [
    "d['a'] += 10"
   ]
  },
  {
   "cell_type": "code",
   "execution_count": 74,
   "id": "ebbe660f",
   "metadata": {},
   "outputs": [
    {
     "name": "stdout",
     "output_type": "stream",
     "text": [
      "30.5 ns ± 0.722 ns per loop (mean ± std. dev. of 7 runs, 10000000 loops each)\n"
     ]
    }
   ],
   "source": [
    "%timeit d['a'] = 5"
   ]
  },
  {
   "cell_type": "code",
   "execution_count": 75,
   "id": "3f80bb8f",
   "metadata": {},
   "outputs": [
    {
     "ename": "NameError",
     "evalue": "name 'input' is not defined",
     "output_type": "error",
     "traceback": [
      "\u001b[0;31m---------------------------------------------------------------------------\u001b[0m",
      "\u001b[0;31mNameError\u001b[0m                                 Traceback (most recent call last)",
      "\u001b[0;32m/var/folders/rr/0mnyyv811fs5vyp22gf4fxk00000gn/T/ipykernel_99281/2819456531.py\u001b[0m in \u001b[0;36m<module>\u001b[0;34m\u001b[0m\n\u001b[0;32m----> 1\u001b[0;31m \u001b[0;32mdel\u001b[0m\u001b[0;34m(\u001b[0m\u001b[0minput\u001b[0m\u001b[0;34m)\u001b[0m   \u001b[0;31m# removes the new global that you created named \"input\"\u001b[0m\u001b[0;34m\u001b[0m\u001b[0;34m\u001b[0m\u001b[0m\n\u001b[0m",
      "\u001b[0;31mNameError\u001b[0m: name 'input' is not defined"
     ]
    }
   ],
   "source": [
    "del(input)   # removes the new global that you created named \"input\""
   ]
  },
  {
   "cell_type": "code",
   "execution_count": null,
   "id": "b93dac04",
   "metadata": {},
   "outputs": [],
   "source": []
  },
  {
   "cell_type": "markdown",
   "id": "998a8990",
   "metadata": {},
   "source": [
    "# Exercise: Rainfall\n",
    "\n",
    "1. Define `rainfall`, an empty dict.  It will contain names of cities (keys) and amounts of rain (values).\n",
    "2. Ask the user to enter a city.\n",
    "    - If the user gives us an empty city name, exit from the loop\n",
    "3. Ask the user to enter the amount of rain (mm) that fell in that city.\n",
    "    - Have we seen this city before? Add the current rain to the previous value.\n",
    "    - New city? Add the city and value to the dict.\n",
    "4. After exiting from the loop, print all cities and values.\n",
    "\n",
    "Example:\n",
    "\n",
    "    City: Jerusalem\n",
    "    Rain: 5\n",
    "    City: Tel Aviv\n",
    "    Rain: 4\n",
    "    City: Jerusalem\n",
    "    Rain: 3\n",
    "    City: [ENTER]\n",
    "    Jerusalem: 8\n",
    "    Tel Aviv: 4\n",
    "    \n",
    "    "
   ]
  },
  {
   "cell_type": "code",
   "execution_count": null,
   "id": "cc0dfd45",
   "metadata": {},
   "outputs": [],
   "source": [
    "rainfall = {}\n",
    "\n"
   ]
  }
 ],
 "metadata": {
  "kernelspec": {
   "display_name": "Python 3 (ipykernel)",
   "language": "python",
   "name": "python3"
  },
  "language_info": {
   "codemirror_mode": {
    "name": "ipython",
    "version": 3
   },
   "file_extension": ".py",
   "mimetype": "text/x-python",
   "name": "python",
   "nbconvert_exporter": "python",
   "pygments_lexer": "ipython3",
   "version": "3.10.5"
  }
 },
 "nbformat": 4,
 "nbformat_minor": 5
}
