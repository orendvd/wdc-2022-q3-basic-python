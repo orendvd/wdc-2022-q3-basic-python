{
 "cells": [
  {
   "cell_type": "markdown",
   "id": "6441c9c0",
   "metadata": {},
   "source": [
    "# Agenda\n",
    "\n",
    "1. Dictionaries\n",
    "2. Sets\n",
    "3. Files"
   ]
  },
  {
   "cell_type": "code",
   "execution_count": 1,
   "id": "6f0ccf61",
   "metadata": {},
   "outputs": [],
   "source": [
    "# sequence -- string, list, tuple\n",
    "\n"
   ]
  },
  {
   "cell_type": "markdown",
   "id": "831cfca2",
   "metadata": {},
   "source": [
    "# Dictionary\n",
    "\n",
    "- Hash table\n",
    "- Hash\n",
    "- Name-value pairs\n",
    "- Key-value pairs\n",
    "- Associative array\n",
    "\n",
    "In Python, a dict has keys and values:\n",
    "- Keys must be immutable (numbers or strings, usually), and must be unique in a dict\n",
    "- Values can be absolutely anything\n",
    "\n",
    "Where can we use it?\n",
    "- User ID + user name\n",
    "- Username + user ID\n",
    "- Filename and file properties\n",
    "- IP address and computer/machine properies\n",
    "- Month numbers + month names\n",
    "- Month names + month numbers\n"
   ]
  },
  {
   "cell_type": "code",
   "execution_count": 2,
   "id": "e63e36a1",
   "metadata": {},
   "outputs": [],
   "source": [
    "# dict is defined with {} and key-value pairs\n",
    "# each key-value pair is written as key:value\n",
    "# each pair is separated by ,\n",
    "\n",
    "person = {'first':'Reuven', 'last':'Lerner', 'shoesize':46}"
   ]
  },
  {
   "cell_type": "code",
   "execution_count": 3,
   "id": "c3647812",
   "metadata": {},
   "outputs": [
    {
     "data": {
      "text/plain": [
       "3"
      ]
     },
     "execution_count": 3,
     "metadata": {},
     "output_type": "execute_result"
    }
   ],
   "source": [
    "len(person)   # tells us how many pairs"
   ]
  },
  {
   "cell_type": "code",
   "execution_count": 4,
   "id": "fba17955",
   "metadata": {},
   "outputs": [
    {
     "data": {
      "text/plain": [
       "'Reuven'"
      ]
     },
     "execution_count": 4,
     "metadata": {},
     "output_type": "execute_result"
    }
   ],
   "source": [
    "person['first']   # retrieve the value via the key"
   ]
  },
  {
   "cell_type": "code",
   "execution_count": 5,
   "id": "041f3d1e",
   "metadata": {},
   "outputs": [
    {
     "data": {
      "text/plain": [
       "'Lerner'"
      ]
     },
     "execution_count": 5,
     "metadata": {},
     "output_type": "execute_result"
    }
   ],
   "source": [
    "person['last']"
   ]
  },
  {
   "cell_type": "code",
   "execution_count": 6,
   "id": "d5fe4932",
   "metadata": {},
   "outputs": [
    {
     "data": {
      "text/plain": [
       "46"
      ]
     },
     "execution_count": 6,
     "metadata": {},
     "output_type": "execute_result"
    }
   ],
   "source": [
    "person['shoesize']"
   ]
  },
  {
   "cell_type": "code",
   "execution_count": 7,
   "id": "82f4bd14",
   "metadata": {},
   "outputs": [
    {
     "ename": "KeyError",
     "evalue": "'asfdafasfa'",
     "output_type": "error",
     "traceback": [
      "\u001b[0;31m---------------------------------------------------------------------------\u001b[0m",
      "\u001b[0;31mKeyError\u001b[0m                                  Traceback (most recent call last)",
      "\u001b[0;32m/var/folders/rr/0mnyyv811fs5vyp22gf4fxk00000gn/T/ipykernel_99281/2834212523.py\u001b[0m in \u001b[0;36m<module>\u001b[0;34m\u001b[0m\n\u001b[0;32m----> 1\u001b[0;31m \u001b[0mperson\u001b[0m\u001b[0;34m[\u001b[0m\u001b[0;34m'asfdafasfa'\u001b[0m\u001b[0;34m]\u001b[0m\u001b[0;34m\u001b[0m\u001b[0;34m\u001b[0m\u001b[0m\n\u001b[0m",
      "\u001b[0;31mKeyError\u001b[0m: 'asfdafasfa'"
     ]
    }
   ],
   "source": [
    "person['asfdafasfa']"
   ]
  },
  {
   "cell_type": "code",
   "execution_count": 8,
   "id": "2d0dc148",
   "metadata": {},
   "outputs": [
    {
     "ename": "IndexError",
     "evalue": "string index out of range",
     "output_type": "error",
     "traceback": [
      "\u001b[0;31m---------------------------------------------------------------------------\u001b[0m",
      "\u001b[0;31mIndexError\u001b[0m                                Traceback (most recent call last)",
      "\u001b[0;32m/var/folders/rr/0mnyyv811fs5vyp22gf4fxk00000gn/T/ipykernel_99281/652239824.py\u001b[0m in \u001b[0;36m<module>\u001b[0;34m\u001b[0m\n\u001b[1;32m      1\u001b[0m \u001b[0ms\u001b[0m \u001b[0;34m=\u001b[0m \u001b[0;34m'abcd'\u001b[0m\u001b[0;34m\u001b[0m\u001b[0;34m\u001b[0m\u001b[0m\n\u001b[0;32m----> 2\u001b[0;31m \u001b[0ms\u001b[0m\u001b[0;34m[\u001b[0m\u001b[0;36m100\u001b[0m\u001b[0;34m]\u001b[0m\u001b[0;34m\u001b[0m\u001b[0;34m\u001b[0m\u001b[0m\n\u001b[0m",
      "\u001b[0;31mIndexError\u001b[0m: string index out of range"
     ]
    }
   ],
   "source": [
    "s = 'abcd'\n",
    "s[100]"
   ]
  },
  {
   "cell_type": "code",
   "execution_count": 9,
   "id": "db5535a0",
   "metadata": {},
   "outputs": [
    {
     "ename": "KeyError",
     "evalue": "'first '",
     "output_type": "error",
     "traceback": [
      "\u001b[0;31m---------------------------------------------------------------------------\u001b[0m",
      "\u001b[0;31mKeyError\u001b[0m                                  Traceback (most recent call last)",
      "\u001b[0;32m/var/folders/rr/0mnyyv811fs5vyp22gf4fxk00000gn/T/ipykernel_99281/1529809810.py\u001b[0m in \u001b[0;36m<module>\u001b[0;34m\u001b[0m\n\u001b[0;32m----> 1\u001b[0;31m \u001b[0mperson\u001b[0m\u001b[0;34m[\u001b[0m\u001b[0;34m'first '\u001b[0m\u001b[0;34m]\u001b[0m\u001b[0;34m\u001b[0m\u001b[0;34m\u001b[0m\u001b[0m\n\u001b[0m",
      "\u001b[0;31mKeyError\u001b[0m: 'first '"
     ]
    }
   ],
   "source": [
    "person['first ']  # note: 'first ' not 'first'"
   ]
  },
  {
   "cell_type": "code",
   "execution_count": 10,
   "id": "c4c63054",
   "metadata": {},
   "outputs": [
    {
     "data": {
      "text/plain": [
       "True"
      ]
     },
     "execution_count": 10,
     "metadata": {},
     "output_type": "execute_result"
    }
   ],
   "source": [
    "# check that a key is in the dict with \"in\"\n",
    "\n",
    "'first' in person"
   ]
  },
  {
   "cell_type": "code",
   "execution_count": 11,
   "id": "879ec97d",
   "metadata": {},
   "outputs": [
    {
     "data": {
      "text/plain": [
       "False"
      ]
     },
     "execution_count": 11,
     "metadata": {},
     "output_type": "execute_result"
    }
   ],
   "source": [
    "'Reuven' in person"
   ]
  },
  {
   "cell_type": "markdown",
   "id": "df8248d9",
   "metadata": {},
   "source": [
    "# Exercise: Restaurant\n",
    "\n",
    "1. Define a dict, `menu`, in which keys are the items for sale at a restaurant, and the values are the prices.\n",
    "2. Define `total` to be 0.\n",
    "3. Ask the user, repeatedly, to order.\n",
    "    - If we get an empty string, stop asking and exit the loop.\n",
    "    - If we get something on the menu, then add the price to `total` and print the item + price + new total.\n",
    "    - If we get something *not* on the menu, then scold them\n",
    "4. In the end, after the loop, print `total`.\n",
    "\n",
    "Example:\n",
    "\n",
    "    Order: sandwich\n",
    "    sandwich is 25, total is 25\n",
    "    Order: tea\n",
    "    tea is 10, total is 35\n",
    "    Order: elephant\n",
    "    we are out of elephant today!\n",
    "    Order: [ENTER]\n",
    "    total is 35\n",
    "    \n",
    "   "
   ]
  },
  {
   "cell_type": "code",
   "execution_count": 12,
   "id": "b5f5a7b1",
   "metadata": {},
   "outputs": [],
   "source": [
    "menu = {'sandwich':25, 'tea':10, 'apple':5, 'cake':12}\n",
    "\n"
   ]
  },
  {
   "cell_type": "code",
   "execution_count": 13,
   "id": "7d143b76",
   "metadata": {},
   "outputs": [
    {
     "data": {
      "text/plain": [
       "dict"
      ]
     },
     "execution_count": 13,
     "metadata": {},
     "output_type": "execute_result"
    }
   ],
   "source": [
    "type(menu)"
   ]
  },
  {
   "cell_type": "code",
   "execution_count": 14,
   "id": "72df0392",
   "metadata": {},
   "outputs": [
    {
     "data": {
      "text/plain": [
       "25"
      ]
     },
     "execution_count": 14,
     "metadata": {},
     "output_type": "execute_result"
    }
   ],
   "source": [
    "menu['sandwich']"
   ]
  },
  {
   "cell_type": "code",
   "execution_count": 15,
   "id": "be330a58",
   "metadata": {},
   "outputs": [
    {
     "data": {
      "text/plain": [
       "25"
      ]
     },
     "execution_count": 15,
     "metadata": {},
     "output_type": "execute_result"
    }
   ],
   "source": [
    "x = 'sandwich'\n",
    "menu[x]"
   ]
  },
  {
   "cell_type": "code",
   "execution_count": 16,
   "id": "98c894eb",
   "metadata": {},
   "outputs": [
    {
     "name": "stdout",
     "output_type": "stream",
     "text": [
      "Order: sandwich\n",
      "sandwich costs 25; total is now 25\n",
      "Order: apple\n",
      "apple costs 5; total is now 30\n",
      "Order: tea\n",
      "tea costs 10; total is now 40\n",
      "Order: cake\n",
      "cake costs 12; total is now 52\n",
      "Order: asdfafa\n",
      "Sorry, we are out of asdfafa today.\n",
      "Order: \n",
      "Total is 52.\n"
     ]
    }
   ],
   "source": [
    "menu = {'sandwich':25, 'tea':10, 'apple':5, 'cake':12}\n",
    "total = 0\n",
    "\n",
    "while True:\n",
    "    order = input('Order: ').strip()\n",
    "    \n",
    "    if not order:   # did we get an empty string? exit from the loop\n",
    "        break\n",
    "        \n",
    "    if order in menu:   # if order is a key in menu\n",
    "        price = menu[order]\n",
    "        total += price\n",
    "        print(f'{order} costs {price}; total is now {total}')\n",
    "    else:\n",
    "        print(f'Sorry, we are out of {order} today.')\n",
    "        \n",
    "print(f'Total is {total}.')"
   ]
  },
  {
   "cell_type": "code",
   "execution_count": 17,
   "id": "8a9b08c1",
   "metadata": {},
   "outputs": [],
   "source": [
    "d = {'a':10, 'b':20, 'c':30}\n",
    "\n",
    "d['x'] = 100     # assign to a dict to add a key-value pair"
   ]
  },
  {
   "cell_type": "code",
   "execution_count": 18,
   "id": "586bc17e",
   "metadata": {},
   "outputs": [
    {
     "data": {
      "text/plain": [
       "{'a': 10, 'b': 20, 'c': 30, 'x': 100}"
      ]
     },
     "execution_count": 18,
     "metadata": {},
     "output_type": "execute_result"
    }
   ],
   "source": [
    "d"
   ]
  },
  {
   "cell_type": "code",
   "execution_count": 20,
   "id": "1baab411",
   "metadata": {},
   "outputs": [
    {
     "data": {
      "text/plain": [
       "{'a': 10, 'b': 20, 'c': 30, 'x': 234}"
      ]
     },
     "execution_count": 20,
     "metadata": {},
     "output_type": "execute_result"
    }
   ],
   "source": [
    "d['x'] = 234     # update the value associated with 'x'\n",
    "d "
   ]
  },
  {
   "cell_type": "code",
   "execution_count": 21,
   "id": "855b0395",
   "metadata": {},
   "outputs": [
    {
     "data": {
      "text/plain": [
       "{'a': 10, 'b': 20, 'c': 30, 'x': 244}"
      ]
     },
     "execution_count": 21,
     "metadata": {},
     "output_type": "execute_result"
    }
   ],
   "source": [
    "d['x'] += 10  # add 10 to the current value of d['x']\n",
    "d"
   ]
  },
  {
   "cell_type": "code",
   "execution_count": 22,
   "id": "280ffc55",
   "metadata": {},
   "outputs": [
    {
     "ename": "KeyError",
     "evalue": "'y'",
     "output_type": "error",
     "traceback": [
      "\u001b[0;31m---------------------------------------------------------------------------\u001b[0m",
      "\u001b[0;31mKeyError\u001b[0m                                  Traceback (most recent call last)",
      "\u001b[0;32m/var/folders/rr/0mnyyv811fs5vyp22gf4fxk00000gn/T/ipykernel_99281/1240264420.py\u001b[0m in \u001b[0;36m<module>\u001b[0;34m\u001b[0m\n\u001b[0;32m----> 1\u001b[0;31m \u001b[0md\u001b[0m\u001b[0;34m[\u001b[0m\u001b[0;34m'y'\u001b[0m\u001b[0;34m]\u001b[0m \u001b[0;34m+=\u001b[0m \u001b[0;36m10\u001b[0m\u001b[0;34m\u001b[0m\u001b[0;34m\u001b[0m\u001b[0m\n\u001b[0m",
      "\u001b[0;31mKeyError\u001b[0m: 'y'"
     ]
    }
   ],
   "source": [
    "d['y'] += 10  # add 10 to the current value of d['y']... which does not exist"
   ]
  },
  {
   "cell_type": "code",
   "execution_count": 23,
   "id": "4ce0df5a",
   "metadata": {},
   "outputs": [],
   "source": [
    "d = {'a':1, 'b':2, 'c':3, 'a':4, 'b':5}"
   ]
  },
  {
   "cell_type": "code",
   "execution_count": 24,
   "id": "ccb7e1dc",
   "metadata": {},
   "outputs": [
    {
     "data": {
      "text/plain": [
       "{'a': 4, 'b': 5, 'c': 3}"
      ]
     },
     "execution_count": 24,
     "metadata": {},
     "output_type": "execute_result"
    }
   ],
   "source": [
    "d"
   ]
  },
  {
   "cell_type": "code",
   "execution_count": 25,
   "id": "0f11b5d3",
   "metadata": {},
   "outputs": [
    {
     "name": "stdout",
     "output_type": "stream",
     "text": [
      "{'odds': 5, 'evens': 5}\n"
     ]
    }
   ],
   "source": [
    "# count the odd/even numbers\n",
    "\n",
    "d = {'odds':0, 'evens':0}\n",
    "\n",
    "for one_number in range(10):\n",
    "    if one_number % 2 == 1:     # if the remainder from /2 is 1, it's odd\n",
    "        d['odds'] += 1\n",
    "    else:                       # if the remainder is 0, it's evens\n",
    "        d['evens'] += 1\n",
    "        \n",
    "print(d)        "
   ]
  },
  {
   "cell_type": "code",
   "execution_count": 26,
   "id": "70d93fd4",
   "metadata": {},
   "outputs": [
    {
     "name": "stdout",
     "output_type": "stream",
     "text": [
      "{'odds': [1, 3, 5, 7, 9], 'evens': [0, 2, 4, 6, 8]}\n"
     ]
    }
   ],
   "source": [
    "# sort the odd/even numbers\n",
    "\n",
    "d = {'odds':[], 'evens':[]}\n",
    "\n",
    "for one_number in range(10):\n",
    "    if one_number % 2 == 1:     # if the remainder from /2 is 1, it's odd\n",
    "        d['odds'].append(one_number)\n",
    "    else:                       # if the remainder is 0, it's evens\n",
    "        d['evens'].append(one_number)\n",
    "        \n",
    "print(d)        "
   ]
  },
  {
   "cell_type": "markdown",
   "id": "50221e6a",
   "metadata": {},
   "source": [
    "# Exercise: Vowels, digits, and others\n",
    "\n",
    "1. Define a dict (`counts`) with three keys (`vowels`, `digits`, and `others`).  The value for each should be an empty list (`[]`).\n",
    "2. Ask the user, repeatedly, to enter a string.\n",
    "    - If we get an empty string, exit from the loop and print `counts`\n",
    "3. If we got a non-empty string, then go through each character in the string:\n",
    "    - If it's a vowel (a, e, i, o, u) then add it to the `vowels` list.\n",
    "    - If it's a digit (0-9) then add it to the `digits` list.\n",
    "    - Anything else should be added to the `others` list.\n",
    "4. In the end, print the dictionary, `counts`.    \n",
    "    \n",
    "    \n",
    "Example:\n",
    "\n",
    "    Enter string: hello123\n",
    "    Enter string: bye4\n",
    "    Enter string: [ENTER]\n",
    "    {'vowels':['e', 'o', 'e'],\n",
    "     'digits':['1', '2', '3, '4'],\n",
    "     'others':['h', 'l', 'l', 'b', 'y']}\n",
    "    "
   ]
  },
  {
   "cell_type": "code",
   "execution_count": 29,
   "id": "76bc0c73",
   "metadata": {},
   "outputs": [
    {
     "name": "stdout",
     "output_type": "stream",
     "text": [
      "Enter string: this is a test\n",
      "Enter string: hello 123\n",
      "Enter string: bye456!!\n",
      "Enter string: \n",
      "{'vowels': ['i', 'i', 'a', 'e', 'e', 'o', 'e'], 'digits': ['1', '2', '3', '4', '5', '6'], 'others': ['t', 'h', 's', ' ', 's', ' ', ' ', 't', 's', 't', 'h', 'l', 'l', ' ', 'b', 'y', '!', '!']}\n"
     ]
    }
   ],
   "source": [
    "counts = {'vowels':[],\n",
    "         'digits':[],\n",
    "         'others':[]}\n",
    "\n",
    "while True:\n",
    "    s = input('Enter string: ').strip()\n",
    "    \n",
    "    if not s:   # empty string? exit from the while loop\n",
    "        break\n",
    "        \n",
    "    for one_character in s:                 # go through each character in s\n",
    "        if one_character in 'aeiou':        # is one_character a vowel?\n",
    "            counts['vowels'].append(one_character)   # add one_character to the list counts['vowels']\n",
    "        elif one_character.isdigit():       # is one_character a digit?\n",
    "            counts['digits'].append(one_character)\n",
    "        else:\n",
    "            counts['others'].append(one_character)\n",
    "            \n",
    "print(counts)            "
   ]
  },
  {
   "cell_type": "code",
   "execution_count": 28,
   "id": "e2888168",
   "metadata": {},
   "outputs": [
    {
     "data": {
      "text/plain": [
       "'a    b    c'"
      ]
     },
     "execution_count": 28,
     "metadata": {},
     "output_type": "execute_result"
    }
   ],
   "source": [
    "s = '   a    b    c    '\n",
    "\n",
    "s.strip()  # returns a new string without whitespace (space, \\n, \\r, \\t, \\v) on the sides"
   ]
  },
  {
   "cell_type": "code",
   "execution_count": 30,
   "id": "354c8a67",
   "metadata": {},
   "outputs": [
    {
     "name": "stdout",
     "output_type": "stream",
     "text": [
      "vowels\n",
      "digits\n",
      "others\n"
     ]
    }
   ],
   "source": [
    "# what happens if we use a for loop on our dict?\n",
    "\n",
    "for one_item in counts:\n",
    "    print(one_item)"
   ]
  },
  {
   "cell_type": "code",
   "execution_count": 31,
   "id": "bb7e55ea",
   "metadata": {},
   "outputs": [
    {
     "name": "stdout",
     "output_type": "stream",
     "text": [
      "vowels: ['i', 'i', 'a', 'e', 'e', 'o', 'e']\n",
      "digits: ['1', '2', '3', '4', '5', '6']\n",
      "others: ['t', 'h', 's', ' ', 's', ' ', ' ', 't', 's', 't', 'h', 'l', 'l', ' ', 'b', 'y', '!', '!']\n"
     ]
    }
   ],
   "source": [
    "for key in counts:\n",
    "    print(f'{key}: {counts[key]}')"
   ]
  },
  {
   "cell_type": "code",
   "execution_count": 32,
   "id": "070d117e",
   "metadata": {},
   "outputs": [
    {
     "data": {
      "text/plain": [
       "dict_keys(['vowels', 'digits', 'others'])"
      ]
     },
     "execution_count": 32,
     "metadata": {},
     "output_type": "execute_result"
    }
   ],
   "source": [
    "counts.keys()   # get the keys -- we nearly never need this "
   ]
  },
  {
   "cell_type": "code",
   "execution_count": null,
   "id": "1e63879c",
   "metadata": {},
   "outputs": [],
   "source": []
  }
 ],
 "metadata": {
  "kernelspec": {
   "display_name": "Python 3 (ipykernel)",
   "language": "python",
   "name": "python3"
  },
  "language_info": {
   "codemirror_mode": {
    "name": "ipython",
    "version": 3
   },
   "file_extension": ".py",
   "mimetype": "text/x-python",
   "name": "python",
   "nbconvert_exporter": "python",
   "pygments_lexer": "ipython3",
   "version": "3.10.5"
  }
 },
 "nbformat": 4,
 "nbformat_minor": 5
}
