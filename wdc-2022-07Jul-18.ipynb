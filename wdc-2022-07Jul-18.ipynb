{
 "cells": [
  {
   "cell_type": "markdown",
   "id": "6441c9c0",
   "metadata": {},
   "source": [
    "# Agenda\n",
    "\n",
    "1. Dictionaries\n",
    "2. Sets\n",
    "3. Files"
   ]
  },
  {
   "cell_type": "code",
   "execution_count": 1,
   "id": "ff8d5c79",
   "metadata": {},
   "outputs": [],
   "source": [
    "# sequence -- string, list, tuple\n",
    "\n"
   ]
  },
  {
   "cell_type": "markdown",
   "id": "4ccecbce",
   "metadata": {},
   "source": [
    "# Dictionary\n",
    "\n",
    "- Hash table\n",
    "- Hash\n",
    "- Name-value pairs\n",
    "- Key-value pairs\n",
    "- Associative array\n",
    "\n",
    "In Python, a dict has keys and values:\n",
    "- Keys must be immutable (numbers or strings, usually), and must be unique in a dict\n",
    "- Values can be absolutely anything\n",
    "\n",
    "Where can we use it?\n",
    "- User ID + user name\n",
    "- Username + user ID\n",
    "- "
   ]
  },
  {
   "cell_type": "code",
   "execution_count": null,
   "id": "a6362910",
   "metadata": {},
   "outputs": [],
   "source": []
  }
 ],
 "metadata": {
  "kernelspec": {
   "display_name": "Python 3 (ipykernel)",
   "language": "python",
   "name": "python3"
  },
  "language_info": {
   "codemirror_mode": {
    "name": "ipython",
    "version": 3
   },
   "file_extension": ".py",
   "mimetype": "text/x-python",
   "name": "python",
   "nbconvert_exporter": "python",
   "pygments_lexer": "ipython3",
   "version": "3.10.5"
  }
 },
 "nbformat": 4,
 "nbformat_minor": 5
}
