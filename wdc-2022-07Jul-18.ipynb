{
 "cells": [
  {
   "cell_type": "markdown",
   "id": "6441c9c0",
   "metadata": {},
   "source": [
    "# Agenda\n",
    "\n",
    "1. Dictionaries\n",
    "2. Sets\n",
    "3. Files"
   ]
  },
  {
   "cell_type": "code",
   "execution_count": 1,
   "id": "c95faacd",
   "metadata": {},
   "outputs": [],
   "source": [
    "# sequence -- string, list, tuple\n",
    "\n"
   ]
  },
  {
   "cell_type": "markdown",
   "id": "5dcae4d8",
   "metadata": {},
   "source": [
    "# Dictionary\n",
    "\n",
    "- Hash table\n",
    "- Hash\n",
    "- Name-value pairs\n",
    "- Key-value pairs\n",
    "- Associative array\n",
    "\n",
    "In Python, a dict has keys and values:\n",
    "- Keys must be immutable (numbers or strings, usually), and must be unique in a dict\n",
    "- Values can be absolutely anything\n",
    "\n",
    "Where can we use it?\n",
    "- User ID + user name\n",
    "- Username + user ID\n",
    "- Filename and file properties\n",
    "- IP address and computer/machine properies\n",
    "- Month numbers + month names\n",
    "- Month names + month numbers\n"
   ]
  },
  {
   "cell_type": "code",
   "execution_count": 2,
   "id": "d005e11c",
   "metadata": {},
   "outputs": [],
   "source": [
    "# dict is defined with {} and key-value pairs\n",
    "# each key-value pair is written as key:value\n",
    "# each pair is separated by ,\n",
    "\n",
    "person = {'first':'Reuven', 'last':'Lerner', 'shoesize':46}"
   ]
  },
  {
   "cell_type": "code",
   "execution_count": 3,
   "id": "369ad40c",
   "metadata": {},
   "outputs": [
    {
     "data": {
      "text/plain": [
       "3"
      ]
     },
     "execution_count": 3,
     "metadata": {},
     "output_type": "execute_result"
    }
   ],
   "source": [
    "len(person)   # tells us how many pairs"
   ]
  },
  {
   "cell_type": "code",
   "execution_count": 4,
   "id": "a1d994ca",
   "metadata": {},
   "outputs": [
    {
     "data": {
      "text/plain": [
       "'Reuven'"
      ]
     },
     "execution_count": 4,
     "metadata": {},
     "output_type": "execute_result"
    }
   ],
   "source": [
    "person['first']   # retrieve the value via the key"
   ]
  },
  {
   "cell_type": "code",
   "execution_count": 5,
   "id": "70c77bbe",
   "metadata": {},
   "outputs": [
    {
     "data": {
      "text/plain": [
       "'Lerner'"
      ]
     },
     "execution_count": 5,
     "metadata": {},
     "output_type": "execute_result"
    }
   ],
   "source": [
    "person['last']"
   ]
  },
  {
   "cell_type": "code",
   "execution_count": 6,
   "id": "d319a42c",
   "metadata": {},
   "outputs": [
    {
     "data": {
      "text/plain": [
       "46"
      ]
     },
     "execution_count": 6,
     "metadata": {},
     "output_type": "execute_result"
    }
   ],
   "source": [
    "person['shoesize']"
   ]
  },
  {
   "cell_type": "code",
   "execution_count": 7,
   "id": "e5d3eac5",
   "metadata": {},
   "outputs": [
    {
     "ename": "KeyError",
     "evalue": "'asfdafasfa'",
     "output_type": "error",
     "traceback": [
      "\u001b[0;31m---------------------------------------------------------------------------\u001b[0m",
      "\u001b[0;31mKeyError\u001b[0m                                  Traceback (most recent call last)",
      "\u001b[0;32m/var/folders/rr/0mnyyv811fs5vyp22gf4fxk00000gn/T/ipykernel_99281/2834212523.py\u001b[0m in \u001b[0;36m<module>\u001b[0;34m\u001b[0m\n\u001b[0;32m----> 1\u001b[0;31m \u001b[0mperson\u001b[0m\u001b[0;34m[\u001b[0m\u001b[0;34m'asfdafasfa'\u001b[0m\u001b[0;34m]\u001b[0m\u001b[0;34m\u001b[0m\u001b[0;34m\u001b[0m\u001b[0m\n\u001b[0m",
      "\u001b[0;31mKeyError\u001b[0m: 'asfdafasfa'"
     ]
    }
   ],
   "source": [
    "person['asfdafasfa']"
   ]
  },
  {
   "cell_type": "code",
   "execution_count": 8,
   "id": "24bb4109",
   "metadata": {},
   "outputs": [
    {
     "ename": "IndexError",
     "evalue": "string index out of range",
     "output_type": "error",
     "traceback": [
      "\u001b[0;31m---------------------------------------------------------------------------\u001b[0m",
      "\u001b[0;31mIndexError\u001b[0m                                Traceback (most recent call last)",
      "\u001b[0;32m/var/folders/rr/0mnyyv811fs5vyp22gf4fxk00000gn/T/ipykernel_99281/652239824.py\u001b[0m in \u001b[0;36m<module>\u001b[0;34m\u001b[0m\n\u001b[1;32m      1\u001b[0m \u001b[0ms\u001b[0m \u001b[0;34m=\u001b[0m \u001b[0;34m'abcd'\u001b[0m\u001b[0;34m\u001b[0m\u001b[0;34m\u001b[0m\u001b[0m\n\u001b[0;32m----> 2\u001b[0;31m \u001b[0ms\u001b[0m\u001b[0;34m[\u001b[0m\u001b[0;36m100\u001b[0m\u001b[0;34m]\u001b[0m\u001b[0;34m\u001b[0m\u001b[0;34m\u001b[0m\u001b[0m\n\u001b[0m",
      "\u001b[0;31mIndexError\u001b[0m: string index out of range"
     ]
    }
   ],
   "source": [
    "s = 'abcd'\n",
    "s[100]"
   ]
  },
  {
   "cell_type": "code",
   "execution_count": 9,
   "id": "fd820e37",
   "metadata": {},
   "outputs": [
    {
     "ename": "KeyError",
     "evalue": "'first '",
     "output_type": "error",
     "traceback": [
      "\u001b[0;31m---------------------------------------------------------------------------\u001b[0m",
      "\u001b[0;31mKeyError\u001b[0m                                  Traceback (most recent call last)",
      "\u001b[0;32m/var/folders/rr/0mnyyv811fs5vyp22gf4fxk00000gn/T/ipykernel_99281/1529809810.py\u001b[0m in \u001b[0;36m<module>\u001b[0;34m\u001b[0m\n\u001b[0;32m----> 1\u001b[0;31m \u001b[0mperson\u001b[0m\u001b[0;34m[\u001b[0m\u001b[0;34m'first '\u001b[0m\u001b[0;34m]\u001b[0m\u001b[0;34m\u001b[0m\u001b[0;34m\u001b[0m\u001b[0m\n\u001b[0m",
      "\u001b[0;31mKeyError\u001b[0m: 'first '"
     ]
    }
   ],
   "source": [
    "person['first ']  # note: 'first ' not 'first'"
   ]
  },
  {
   "cell_type": "code",
   "execution_count": 10,
   "id": "ed6c285f",
   "metadata": {},
   "outputs": [
    {
     "data": {
      "text/plain": [
       "True"
      ]
     },
     "execution_count": 10,
     "metadata": {},
     "output_type": "execute_result"
    }
   ],
   "source": [
    "# check that a key is in the dict with \"in\"\n",
    "\n",
    "'first' in person"
   ]
  },
  {
   "cell_type": "code",
   "execution_count": 11,
   "id": "bed03c8e",
   "metadata": {},
   "outputs": [
    {
     "data": {
      "text/plain": [
       "False"
      ]
     },
     "execution_count": 11,
     "metadata": {},
     "output_type": "execute_result"
    }
   ],
   "source": [
    "'Reuven' in person"
   ]
  },
  {
   "cell_type": "markdown",
   "id": "15edd1ec",
   "metadata": {},
   "source": [
    "# Exercise: Restaurant\n",
    "\n",
    "1. Define a dict, `menu`, in which keys are the items for sale at a restaurant, and the values are the prices.\n",
    "2. Define `total` to be 0.\n",
    "3. Ask the user, repeatedly, to order.\n",
    "    - If we get an empty string, stop asking and exit the loop.\n",
    "    - If we get something on the menu, then add the price to `total` and print the item + price + new total.\n",
    "    - If we get something *not* on the menu, then scold them\n",
    "4. In the end, after the loop, print `total`.\n",
    "\n",
    "Example:\n",
    "\n",
    "    Order: sandwich\n",
    "    sandwich is 25, total is 25\n",
    "    Order: tea\n",
    "    tea is 10, total is 35\n",
    "    Order: elephant\n",
    "    we are out of elephant today!\n",
    "    Order: [ENTER]\n",
    "    total is 35\n",
    "    \n",
    "   "
   ]
  },
  {
   "cell_type": "code",
   "execution_count": 12,
   "id": "ed0184c1",
   "metadata": {},
   "outputs": [],
   "source": [
    "menu = {'sandwich':25, 'tea':10, 'apple':5, 'cake':12}\n",
    "\n"
   ]
  },
  {
   "cell_type": "code",
   "execution_count": 13,
   "id": "7a54b47e",
   "metadata": {},
   "outputs": [
    {
     "data": {
      "text/plain": [
       "dict"
      ]
     },
     "execution_count": 13,
     "metadata": {},
     "output_type": "execute_result"
    }
   ],
   "source": [
    "type(menu)"
   ]
  },
  {
   "cell_type": "code",
   "execution_count": 14,
   "id": "4f0338c4",
   "metadata": {},
   "outputs": [
    {
     "data": {
      "text/plain": [
       "25"
      ]
     },
     "execution_count": 14,
     "metadata": {},
     "output_type": "execute_result"
    }
   ],
   "source": [
    "menu['sandwich']"
   ]
  },
  {
   "cell_type": "code",
   "execution_count": 15,
   "id": "59aeda52",
   "metadata": {},
   "outputs": [
    {
     "data": {
      "text/plain": [
       "25"
      ]
     },
     "execution_count": 15,
     "metadata": {},
     "output_type": "execute_result"
    }
   ],
   "source": [
    "x = 'sandwich'\n",
    "menu[x]"
   ]
  },
  {
   "cell_type": "code",
   "execution_count": 16,
   "id": "b088cd18",
   "metadata": {},
   "outputs": [
    {
     "name": "stdout",
     "output_type": "stream",
     "text": [
      "Order: sandwich\n",
      "sandwich costs 25; total is now 25\n",
      "Order: apple\n",
      "apple costs 5; total is now 30\n",
      "Order: tea\n",
      "tea costs 10; total is now 40\n",
      "Order: cake\n",
      "cake costs 12; total is now 52\n",
      "Order: asdfafa\n",
      "Sorry, we are out of asdfafa today.\n",
      "Order: \n",
      "Total is 52.\n"
     ]
    }
   ],
   "source": [
    "menu = {'sandwich':25, 'tea':10, 'apple':5, 'cake':12}\n",
    "total = 0\n",
    "\n",
    "while True:\n",
    "    order = input('Order: ').strip()\n",
    "    \n",
    "    if not order:   # did we get an empty string? exit from the loop\n",
    "        break\n",
    "        \n",
    "    if order in menu:   # if order is a key in menu\n",
    "        price = menu[order]\n",
    "        total += price\n",
    "        print(f'{order} costs {price}; total is now {total}')\n",
    "    else:\n",
    "        print(f'Sorry, we are out of {order} today.')\n",
    "        \n",
    "print(f'Total is {total}.')"
   ]
  },
  {
   "cell_type": "code",
   "execution_count": 17,
   "id": "71a31e89",
   "metadata": {},
   "outputs": [],
   "source": [
    "d = {'a':10, 'b':20, 'c':30}\n",
    "\n",
    "d['x'] = 100     # assign to a dict to add a key-value pair"
   ]
  },
  {
   "cell_type": "code",
   "execution_count": 18,
   "id": "0fbdbca8",
   "metadata": {},
   "outputs": [
    {
     "data": {
      "text/plain": [
       "{'a': 10, 'b': 20, 'c': 30, 'x': 100}"
      ]
     },
     "execution_count": 18,
     "metadata": {},
     "output_type": "execute_result"
    }
   ],
   "source": [
    "d"
   ]
  },
  {
   "cell_type": "code",
   "execution_count": 20,
   "id": "e10338ba",
   "metadata": {},
   "outputs": [
    {
     "data": {
      "text/plain": [
       "{'a': 10, 'b': 20, 'c': 30, 'x': 234}"
      ]
     },
     "execution_count": 20,
     "metadata": {},
     "output_type": "execute_result"
    }
   ],
   "source": [
    "d['x'] = 234     # update the value associated with 'x'\n",
    "d "
   ]
  },
  {
   "cell_type": "code",
   "execution_count": 21,
   "id": "62fccf64",
   "metadata": {},
   "outputs": [
    {
     "data": {
      "text/plain": [
       "{'a': 10, 'b': 20, 'c': 30, 'x': 244}"
      ]
     },
     "execution_count": 21,
     "metadata": {},
     "output_type": "execute_result"
    }
   ],
   "source": [
    "d['x'] += 10  # add 10 to the current value of d['x']\n",
    "d"
   ]
  },
  {
   "cell_type": "code",
   "execution_count": 22,
   "id": "ae454b93",
   "metadata": {},
   "outputs": [
    {
     "ename": "KeyError",
     "evalue": "'y'",
     "output_type": "error",
     "traceback": [
      "\u001b[0;31m---------------------------------------------------------------------------\u001b[0m",
      "\u001b[0;31mKeyError\u001b[0m                                  Traceback (most recent call last)",
      "\u001b[0;32m/var/folders/rr/0mnyyv811fs5vyp22gf4fxk00000gn/T/ipykernel_99281/1240264420.py\u001b[0m in \u001b[0;36m<module>\u001b[0;34m\u001b[0m\n\u001b[0;32m----> 1\u001b[0;31m \u001b[0md\u001b[0m\u001b[0;34m[\u001b[0m\u001b[0;34m'y'\u001b[0m\u001b[0;34m]\u001b[0m \u001b[0;34m+=\u001b[0m \u001b[0;36m10\u001b[0m\u001b[0;34m\u001b[0m\u001b[0;34m\u001b[0m\u001b[0m\n\u001b[0m",
      "\u001b[0;31mKeyError\u001b[0m: 'y'"
     ]
    }
   ],
   "source": [
    "d['y'] += 10  # add 10 to the current value of d['y']... which does not exist"
   ]
  },
  {
   "cell_type": "code",
   "execution_count": 23,
   "id": "f12e5c9f",
   "metadata": {},
   "outputs": [],
   "source": [
    "d = {'a':1, 'b':2, 'c':3, 'a':4, 'b':5}"
   ]
  },
  {
   "cell_type": "code",
   "execution_count": 24,
   "id": "bb141cb1",
   "metadata": {},
   "outputs": [
    {
     "data": {
      "text/plain": [
       "{'a': 4, 'b': 5, 'c': 3}"
      ]
     },
     "execution_count": 24,
     "metadata": {},
     "output_type": "execute_result"
    }
   ],
   "source": [
    "d"
   ]
  },
  {
   "cell_type": "code",
   "execution_count": 25,
   "id": "836f5118",
   "metadata": {},
   "outputs": [
    {
     "name": "stdout",
     "output_type": "stream",
     "text": [
      "{'odds': 5, 'evens': 5}\n"
     ]
    }
   ],
   "source": [
    "# coun\n",
    "\n",
    "d = {'odds':0, 'evens':0}\n",
    "\n",
    "for one_number in range(10):\n",
    "    if one_number % 2 == 1:     # if the remainder from /2 is 1, it's odd\n",
    "        d['odds'] += 1\n",
    "    else:                       # if the remainder is 0, it's evens\n",
    "        d['evens'] += 1\n",
    "        \n",
    "print(d)        "
   ]
  },
  {
   "cell_type": "code",
   "execution_count": null,
   "id": "530e3d70",
   "metadata": {},
   "outputs": [],
   "source": []
  }
 ],
 "metadata": {
  "kernelspec": {
   "display_name": "Python 3 (ipykernel)",
   "language": "python",
   "name": "python3"
  },
  "language_info": {
   "codemirror_mode": {
    "name": "ipython",
    "version": 3
   },
   "file_extension": ".py",
   "mimetype": "text/x-python",
   "name": "python",
   "nbconvert_exporter": "python",
   "pygments_lexer": "ipython3",
   "version": "3.10.5"
  }
 },
 "nbformat": 4,
 "nbformat_minor": 5
}
