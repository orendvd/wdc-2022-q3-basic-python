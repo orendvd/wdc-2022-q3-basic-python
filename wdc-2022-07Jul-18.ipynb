{
 "cells": [
  {
   "cell_type": "markdown",
   "id": "6441c9c0",
   "metadata": {},
   "source": [
    "# Agenda\n",
    "\n",
    "1. Dictionaries\n",
    "2. Sets\n",
    "3. Files"
   ]
  },
  {
   "cell_type": "code",
   "execution_count": 1,
   "id": "caef0cdd",
   "metadata": {},
   "outputs": [],
   "source": [
    "# sequence -- string, list, tuple\n",
    "\n"
   ]
  },
  {
   "cell_type": "markdown",
   "id": "e44d1876",
   "metadata": {},
   "source": [
    "# Dictionary\n",
    "\n",
    "- Hash table\n",
    "- Hash\n",
    "- Name-value pairs\n",
    "- Key-value pairs\n",
    "- Associative array\n",
    "\n",
    "In Python, a dict has keys and values:\n",
    "- Keys must be immutable (numbers or strings, usually), and must be unique in a dict\n",
    "- Values can be absolutely anything\n",
    "\n",
    "Where can we use it?\n",
    "- User ID + user name\n",
    "- Username + user ID\n",
    "- Filename and file properties\n",
    "- IP address and computer/machine properies\n",
    "- Month numbers + month names\n",
    "- Month names + month numbers\n"
   ]
  },
  {
   "cell_type": "code",
   "execution_count": 2,
   "id": "b64eb580",
   "metadata": {},
   "outputs": [],
   "source": [
    "# dict is defined with {} and key-value pairs\n",
    "# each key-value pair is written as key:value\n",
    "# each pair is separated by ,\n",
    "\n",
    "person = {'first':'Reuven', 'last':'Lerner', 'shoesize':46}"
   ]
  },
  {
   "cell_type": "code",
   "execution_count": 3,
   "id": "b11e32de",
   "metadata": {},
   "outputs": [
    {
     "data": {
      "text/plain": [
       "3"
      ]
     },
     "execution_count": 3,
     "metadata": {},
     "output_type": "execute_result"
    }
   ],
   "source": [
    "len(person)   # tells us how many pairs"
   ]
  },
  {
   "cell_type": "code",
   "execution_count": 4,
   "id": "5abaead5",
   "metadata": {},
   "outputs": [
    {
     "data": {
      "text/plain": [
       "'Reuven'"
      ]
     },
     "execution_count": 4,
     "metadata": {},
     "output_type": "execute_result"
    }
   ],
   "source": [
    "person['first']   # retrieve the value via the key"
   ]
  },
  {
   "cell_type": "code",
   "execution_count": 5,
   "id": "c53e59b8",
   "metadata": {},
   "outputs": [
    {
     "data": {
      "text/plain": [
       "'Lerner'"
      ]
     },
     "execution_count": 5,
     "metadata": {},
     "output_type": "execute_result"
    }
   ],
   "source": [
    "person['last']"
   ]
  },
  {
   "cell_type": "code",
   "execution_count": 6,
   "id": "dceca2a1",
   "metadata": {},
   "outputs": [
    {
     "data": {
      "text/plain": [
       "46"
      ]
     },
     "execution_count": 6,
     "metadata": {},
     "output_type": "execute_result"
    }
   ],
   "source": [
    "person['shoesize']"
   ]
  },
  {
   "cell_type": "code",
   "execution_count": 7,
   "id": "eb50ba11",
   "metadata": {},
   "outputs": [
    {
     "ename": "KeyError",
     "evalue": "'asfdafasfa'",
     "output_type": "error",
     "traceback": [
      "\u001b[0;31m---------------------------------------------------------------------------\u001b[0m",
      "\u001b[0;31mKeyError\u001b[0m                                  Traceback (most recent call last)",
      "\u001b[0;32m/var/folders/rr/0mnyyv811fs5vyp22gf4fxk00000gn/T/ipykernel_99281/2834212523.py\u001b[0m in \u001b[0;36m<module>\u001b[0;34m\u001b[0m\n\u001b[0;32m----> 1\u001b[0;31m \u001b[0mperson\u001b[0m\u001b[0;34m[\u001b[0m\u001b[0;34m'asfdafasfa'\u001b[0m\u001b[0;34m]\u001b[0m\u001b[0;34m\u001b[0m\u001b[0;34m\u001b[0m\u001b[0m\n\u001b[0m",
      "\u001b[0;31mKeyError\u001b[0m: 'asfdafasfa'"
     ]
    }
   ],
   "source": [
    "person['asfdafasfa']"
   ]
  },
  {
   "cell_type": "code",
   "execution_count": 8,
   "id": "e759f86c",
   "metadata": {},
   "outputs": [
    {
     "ename": "IndexError",
     "evalue": "string index out of range",
     "output_type": "error",
     "traceback": [
      "\u001b[0;31m---------------------------------------------------------------------------\u001b[0m",
      "\u001b[0;31mIndexError\u001b[0m                                Traceback (most recent call last)",
      "\u001b[0;32m/var/folders/rr/0mnyyv811fs5vyp22gf4fxk00000gn/T/ipykernel_99281/652239824.py\u001b[0m in \u001b[0;36m<module>\u001b[0;34m\u001b[0m\n\u001b[1;32m      1\u001b[0m \u001b[0ms\u001b[0m \u001b[0;34m=\u001b[0m \u001b[0;34m'abcd'\u001b[0m\u001b[0;34m\u001b[0m\u001b[0;34m\u001b[0m\u001b[0m\n\u001b[0;32m----> 2\u001b[0;31m \u001b[0ms\u001b[0m\u001b[0;34m[\u001b[0m\u001b[0;36m100\u001b[0m\u001b[0;34m]\u001b[0m\u001b[0;34m\u001b[0m\u001b[0;34m\u001b[0m\u001b[0m\n\u001b[0m",
      "\u001b[0;31mIndexError\u001b[0m: string index out of range"
     ]
    }
   ],
   "source": [
    "s = 'abcd'\n",
    "s[100]"
   ]
  },
  {
   "cell_type": "code",
   "execution_count": 9,
   "id": "a07b2d58",
   "metadata": {},
   "outputs": [
    {
     "ename": "KeyError",
     "evalue": "'first '",
     "output_type": "error",
     "traceback": [
      "\u001b[0;31m---------------------------------------------------------------------------\u001b[0m",
      "\u001b[0;31mKeyError\u001b[0m                                  Traceback (most recent call last)",
      "\u001b[0;32m/var/folders/rr/0mnyyv811fs5vyp22gf4fxk00000gn/T/ipykernel_99281/1529809810.py\u001b[0m in \u001b[0;36m<module>\u001b[0;34m\u001b[0m\n\u001b[0;32m----> 1\u001b[0;31m \u001b[0mperson\u001b[0m\u001b[0;34m[\u001b[0m\u001b[0;34m'first '\u001b[0m\u001b[0;34m]\u001b[0m\u001b[0;34m\u001b[0m\u001b[0;34m\u001b[0m\u001b[0m\n\u001b[0m",
      "\u001b[0;31mKeyError\u001b[0m: 'first '"
     ]
    }
   ],
   "source": [
    "person['first ']  # note: 'first ' not 'first'"
   ]
  },
  {
   "cell_type": "code",
   "execution_count": 10,
   "id": "212f48b2",
   "metadata": {},
   "outputs": [
    {
     "data": {
      "text/plain": [
       "True"
      ]
     },
     "execution_count": 10,
     "metadata": {},
     "output_type": "execute_result"
    }
   ],
   "source": [
    "# check that a key is in the dict with \"in\"\n",
    "\n",
    "'first' in person"
   ]
  },
  {
   "cell_type": "code",
   "execution_count": 11,
   "id": "fba385cd",
   "metadata": {},
   "outputs": [
    {
     "data": {
      "text/plain": [
       "False"
      ]
     },
     "execution_count": 11,
     "metadata": {},
     "output_type": "execute_result"
    }
   ],
   "source": [
    "'Reuven' in person"
   ]
  },
  {
   "cell_type": "markdown",
   "id": "f1e610e5",
   "metadata": {},
   "source": [
    "# Exercise: Restaurant\n",
    "\n",
    "1. Define a dict, `menu`, in which keys are the items for sale at a restaurant, and the values are the prices.\n",
    "2. Define `total` to be 0.\n",
    "3. Ask the user, repeatedly, to order.\n",
    "    - If we get an empty string, stop asking and exit the loop.\n",
    "    - If we get something on the menu, then add the price to `total` and print the item + price + new total.\n",
    "    - If we get something *not* on the menu, then scold them\n",
    "4. In the end, after the loop, print `total`.\n",
    "\n",
    "Example:\n",
    "\n",
    "    Order: sandwich\n",
    "    sandwich is 25, total is 25\n",
    "    Order: tea\n",
    "    tea is 10, total is 35\n",
    "    Order: elephant\n",
    "    we are out of elephant today!\n",
    "    Order: [ENTER]\n",
    "    total is 35\n",
    "    \n",
    "   "
   ]
  },
  {
   "cell_type": "code",
   "execution_count": 12,
   "id": "1bd955d5",
   "metadata": {},
   "outputs": [],
   "source": [
    "menu = {'sandwich':25, 'tea':10, 'apple':5, 'cake':12}\n",
    "\n"
   ]
  },
  {
   "cell_type": "code",
   "execution_count": 13,
   "id": "e48be731",
   "metadata": {},
   "outputs": [
    {
     "data": {
      "text/plain": [
       "dict"
      ]
     },
     "execution_count": 13,
     "metadata": {},
     "output_type": "execute_result"
    }
   ],
   "source": [
    "type(menu)"
   ]
  },
  {
   "cell_type": "code",
   "execution_count": 14,
   "id": "3c4144f7",
   "metadata": {},
   "outputs": [
    {
     "data": {
      "text/plain": [
       "25"
      ]
     },
     "execution_count": 14,
     "metadata": {},
     "output_type": "execute_result"
    }
   ],
   "source": [
    "menu['sandwich']"
   ]
  },
  {
   "cell_type": "code",
   "execution_count": 15,
   "id": "6d69c54b",
   "metadata": {},
   "outputs": [
    {
     "data": {
      "text/plain": [
       "25"
      ]
     },
     "execution_count": 15,
     "metadata": {},
     "output_type": "execute_result"
    }
   ],
   "source": [
    "x = 'sandwich'\n",
    "menu[x]"
   ]
  },
  {
   "cell_type": "code",
   "execution_count": 16,
   "id": "5e0aeaea",
   "metadata": {},
   "outputs": [
    {
     "name": "stdout",
     "output_type": "stream",
     "text": [
      "Order: sandwich\n",
      "sandwich costs 25; total is now 25\n",
      "Order: apple\n",
      "apple costs 5; total is now 30\n",
      "Order: tea\n",
      "tea costs 10; total is now 40\n",
      "Order: cake\n",
      "cake costs 12; total is now 52\n",
      "Order: asdfafa\n",
      "Sorry, we are out of asdfafa today.\n",
      "Order: \n",
      "Total is 52.\n"
     ]
    }
   ],
   "source": [
    "menu = {'sandwich':25, 'tea':10, 'apple':5, 'cake':12}\n",
    "total = 0\n",
    "\n",
    "while True:\n",
    "    order = input('Order: ').strip()\n",
    "    \n",
    "    if not order:   # did we get an empty string? exit from the loop\n",
    "        break\n",
    "        \n",
    "    if order in menu:   # if order is a key in menu\n",
    "        price = menu[order]\n",
    "        total += price\n",
    "        print(f'{order} costs {price}; total is now {total}')\n",
    "    else:\n",
    "        print(f'Sorry, we are out of {order} today.')\n",
    "        \n",
    "print(f'Total is {total}.')"
   ]
  },
  {
   "cell_type": "code",
   "execution_count": 17,
   "id": "ac902088",
   "metadata": {},
   "outputs": [],
   "source": [
    "d = {'a':10, 'b':20, 'c':30}\n",
    "\n",
    "d['x'] = 100     # assign to a dict to add a key-value pair"
   ]
  },
  {
   "cell_type": "code",
   "execution_count": 18,
   "id": "de957cdf",
   "metadata": {},
   "outputs": [
    {
     "data": {
      "text/plain": [
       "{'a': 10, 'b': 20, 'c': 30, 'x': 100}"
      ]
     },
     "execution_count": 18,
     "metadata": {},
     "output_type": "execute_result"
    }
   ],
   "source": [
    "d"
   ]
  },
  {
   "cell_type": "code",
   "execution_count": 20,
   "id": "dc36abf3",
   "metadata": {},
   "outputs": [
    {
     "data": {
      "text/plain": [
       "{'a': 10, 'b': 20, 'c': 30, 'x': 234}"
      ]
     },
     "execution_count": 20,
     "metadata": {},
     "output_type": "execute_result"
    }
   ],
   "source": [
    "d['x'] = 234     # update the value associated with 'x'\n",
    "d "
   ]
  },
  {
   "cell_type": "code",
   "execution_count": 21,
   "id": "f0ee60e0",
   "metadata": {},
   "outputs": [
    {
     "data": {
      "text/plain": [
       "{'a': 10, 'b': 20, 'c': 30, 'x': 244}"
      ]
     },
     "execution_count": 21,
     "metadata": {},
     "output_type": "execute_result"
    }
   ],
   "source": [
    "d['x'] += 10  # add 10 to the current value of d['x']\n",
    "d"
   ]
  },
  {
   "cell_type": "code",
   "execution_count": 22,
   "id": "6cca45e4",
   "metadata": {},
   "outputs": [
    {
     "ename": "KeyError",
     "evalue": "'y'",
     "output_type": "error",
     "traceback": [
      "\u001b[0;31m---------------------------------------------------------------------------\u001b[0m",
      "\u001b[0;31mKeyError\u001b[0m                                  Traceback (most recent call last)",
      "\u001b[0;32m/var/folders/rr/0mnyyv811fs5vyp22gf4fxk00000gn/T/ipykernel_99281/1240264420.py\u001b[0m in \u001b[0;36m<module>\u001b[0;34m\u001b[0m\n\u001b[0;32m----> 1\u001b[0;31m \u001b[0md\u001b[0m\u001b[0;34m[\u001b[0m\u001b[0;34m'y'\u001b[0m\u001b[0;34m]\u001b[0m \u001b[0;34m+=\u001b[0m \u001b[0;36m10\u001b[0m\u001b[0;34m\u001b[0m\u001b[0;34m\u001b[0m\u001b[0m\n\u001b[0m",
      "\u001b[0;31mKeyError\u001b[0m: 'y'"
     ]
    }
   ],
   "source": [
    "d['y'] += 10  # add 10 to the current value of d['y']... which does not exist"
   ]
  },
  {
   "cell_type": "code",
   "execution_count": 23,
   "id": "46b4d1c8",
   "metadata": {},
   "outputs": [],
   "source": [
    "d = {'a':1, 'b':2, 'c':3, 'a':4, 'b':5}"
   ]
  },
  {
   "cell_type": "code",
   "execution_count": 24,
   "id": "7629204e",
   "metadata": {},
   "outputs": [
    {
     "data": {
      "text/plain": [
       "{'a': 4, 'b': 5, 'c': 3}"
      ]
     },
     "execution_count": 24,
     "metadata": {},
     "output_type": "execute_result"
    }
   ],
   "source": [
    "d"
   ]
  },
  {
   "cell_type": "code",
   "execution_count": 25,
   "id": "ae35552d",
   "metadata": {},
   "outputs": [
    {
     "name": "stdout",
     "output_type": "stream",
     "text": [
      "{'odds': 5, 'evens': 5}\n"
     ]
    }
   ],
   "source": [
    "# count the odd/even numbers\n",
    "\n",
    "d = {'odds':0, 'evens':0}\n",
    "\n",
    "for one_number in range(10):\n",
    "    if one_number % 2 == 1:     # if the remainder from /2 is 1, it's odd\n",
    "        d['odds'] += 1\n",
    "    else:                       # if the remainder is 0, it's evens\n",
    "        d['evens'] += 1\n",
    "        \n",
    "print(d)        "
   ]
  },
  {
   "cell_type": "code",
   "execution_count": 26,
   "id": "64ea7294",
   "metadata": {},
   "outputs": [
    {
     "name": "stdout",
     "output_type": "stream",
     "text": [
      "{'odds': [1, 3, 5, 7, 9], 'evens': [0, 2, 4, 6, 8]}\n"
     ]
    }
   ],
   "source": [
    "# sort the odd/even numbers\n",
    "\n",
    "d = {'odds':[], 'evens':[]}\n",
    "\n",
    "for one_number in range(10):\n",
    "    if one_number % 2 == 1:     # if the remainder from /2 is 1, it's odd\n",
    "        d['odds'].append(one_number)\n",
    "    else:                       # if the remainder is 0, it's evens\n",
    "        d['evens'].append(one_number)\n",
    "        \n",
    "print(d)        "
   ]
  },
  {
   "cell_type": "markdown",
   "id": "019bb780",
   "metadata": {},
   "source": [
    "# Exercise: Vowels, digits, and others\n",
    "\n",
    "1. Define a dict (`counts`) with three keys (`vowels`, `digits`, and `others`).  The value for each should be an empty list (`[]`).\n",
    "2. Ask the user, repeatedly, to enter a string.\n",
    "    - If we get an empty string, exit from the loop and print `counts`\n",
    "3. If we got a non-empty string, then go through each character in the string:\n",
    "    - If it's a vowel (a, e, i, o, u) then add it to the `vowels` list.\n",
    "    - If it's a digit (0-9) then add it to the `digits` list.\n",
    "    - Anything else should be added to the `others` list.\n",
    "4. In the end, print the dictionary, `counts`.    \n",
    "    \n",
    "    \n",
    "Example:\n",
    "\n",
    "    Enter string: hello123\n",
    "    Enter string: bye4\n",
    "    Enter string: [ENTER]\n",
    "    {'vowels':['e', 'o', 'e'],\n",
    "     'digits':['1', '2', '3, '4'],\n",
    "     'others':['h', 'l', 'l', 'b', 'y']}\n",
    "    "
   ]
  },
  {
   "cell_type": "code",
   "execution_count": 29,
   "id": "5bb6bba4",
   "metadata": {},
   "outputs": [
    {
     "name": "stdout",
     "output_type": "stream",
     "text": [
      "Enter string: this is a test\n",
      "Enter string: hello 123\n",
      "Enter string: bye456!!\n",
      "Enter string: \n",
      "{'vowels': ['i', 'i', 'a', 'e', 'e', 'o', 'e'], 'digits': ['1', '2', '3', '4', '5', '6'], 'others': ['t', 'h', 's', ' ', 's', ' ', ' ', 't', 's', 't', 'h', 'l', 'l', ' ', 'b', 'y', '!', '!']}\n"
     ]
    }
   ],
   "source": [
    "counts = {'vowels':[],\n",
    "         'digits':[],\n",
    "         'others':[]}\n",
    "\n",
    "while True:\n",
    "    s = input('Enter string: ').strip()\n",
    "    \n",
    "    if not s:   # empty string? exit from the while loop\n",
    "        break\n",
    "        \n",
    "    for one_character in s:                 # go through each character in s\n",
    "        if one_character in 'aeiou':        # is one_character a vowel?\n",
    "            counts['vowels'].append(one_character)   # add one_character to the list counts['vowels']\n",
    "        elif one_character.isdigit():       # is one_character a digit?\n",
    "            counts['digits'].append(one_character)\n",
    "        else:\n",
    "            counts['others'].append(one_character)\n",
    "            \n",
    "print(counts)            "
   ]
  },
  {
   "cell_type": "code",
   "execution_count": 28,
   "id": "d097a0dd",
   "metadata": {},
   "outputs": [
    {
     "data": {
      "text/plain": [
       "'a    b    c'"
      ]
     },
     "execution_count": 28,
     "metadata": {},
     "output_type": "execute_result"
    }
   ],
   "source": [
    "s = '   a    b    c    '\n",
    "\n",
    "s.strip()  # returns a new string without whitespace (space, \\n, \\r, \\t, \\v) on the sides"
   ]
  },
  {
   "cell_type": "code",
   "execution_count": 30,
   "id": "dd4fed00",
   "metadata": {},
   "outputs": [
    {
     "name": "stdout",
     "output_type": "stream",
     "text": [
      "vowels\n",
      "digits\n",
      "others\n"
     ]
    }
   ],
   "source": [
    "# what happens if we use a for loop on our dict?\n",
    "\n",
    "for one_item in counts:\n",
    "    print(one_item)"
   ]
  },
  {
   "cell_type": "code",
   "execution_count": 31,
   "id": "b02b4296",
   "metadata": {},
   "outputs": [
    {
     "name": "stdout",
     "output_type": "stream",
     "text": [
      "vowels: ['i', 'i', 'a', 'e', 'e', 'o', 'e']\n",
      "digits: ['1', '2', '3', '4', '5', '6']\n",
      "others: ['t', 'h', 's', ' ', 's', ' ', ' ', 't', 's', 't', 'h', 'l', 'l', ' ', 'b', 'y', '!', '!']\n"
     ]
    }
   ],
   "source": [
    "for key in counts:\n",
    "    print(f'{key}: {counts[key]}')"
   ]
  },
  {
   "cell_type": "code",
   "execution_count": 32,
   "id": "0ffe9780",
   "metadata": {},
   "outputs": [
    {
     "data": {
      "text/plain": [
       "dict_keys(['vowels', 'digits', 'others'])"
      ]
     },
     "execution_count": 32,
     "metadata": {},
     "output_type": "execute_result"
    }
   ],
   "source": [
    "counts.keys()   # get the keys -- we nearly never need this method"
   ]
  },
  {
   "cell_type": "code",
   "execution_count": 33,
   "id": "1e7d35e4",
   "metadata": {},
   "outputs": [
    {
     "data": {
      "text/plain": [
       "True"
      ]
     },
     "execution_count": 33,
     "metadata": {},
     "output_type": "execute_result"
    }
   ],
   "source": [
    "'vowels' in counts.keys()"
   ]
  },
  {
   "cell_type": "code",
   "execution_count": 34,
   "id": "5dcfd596",
   "metadata": {},
   "outputs": [
    {
     "data": {
      "text/plain": [
       "True"
      ]
     },
     "execution_count": 34,
     "metadata": {},
     "output_type": "execute_result"
    }
   ],
   "source": [
    "'vowels' in counts"
   ]
  },
  {
   "cell_type": "code",
   "execution_count": 35,
   "id": "54943431",
   "metadata": {},
   "outputs": [],
   "source": [
    "# \"code smell\""
   ]
  },
  {
   "cell_type": "code",
   "execution_count": 36,
   "id": "d5f97441",
   "metadata": {},
   "outputs": [
    {
     "data": {
      "text/plain": [
       "dict_values([['i', 'i', 'a', 'e', 'e', 'o', 'e'], ['1', '2', '3', '4', '5', '6'], ['t', 'h', 's', ' ', 's', ' ', ' ', 't', 's', 't', 'h', 'l', 'l', ' ', 'b', 'y', '!', '!']])"
      ]
     },
     "execution_count": 36,
     "metadata": {},
     "output_type": "execute_result"
    }
   ],
   "source": [
    "counts.values()   # sometimes useful!"
   ]
  },
  {
   "cell_type": "code",
   "execution_count": 38,
   "id": "6488d663",
   "metadata": {},
   "outputs": [
    {
     "ename": "TypeError",
     "evalue": "'dict_values' object is not subscriptable",
     "output_type": "error",
     "traceback": [
      "\u001b[0;31m---------------------------------------------------------------------------\u001b[0m",
      "\u001b[0;31mTypeError\u001b[0m                                 Traceback (most recent call last)",
      "\u001b[0;32m/var/folders/rr/0mnyyv811fs5vyp22gf4fxk00000gn/T/ipykernel_99281/1848875979.py\u001b[0m in \u001b[0;36m<module>\u001b[0;34m\u001b[0m\n\u001b[0;32m----> 1\u001b[0;31m \u001b[0mcounts\u001b[0m\u001b[0;34m.\u001b[0m\u001b[0mvalues\u001b[0m\u001b[0;34m(\u001b[0m\u001b[0;34m)\u001b[0m\u001b[0;34m[\u001b[0m\u001b[0;36m0\u001b[0m\u001b[0;34m]\u001b[0m     \u001b[0;31m# not exactly a list...\u001b[0m\u001b[0;34m\u001b[0m\u001b[0;34m\u001b[0m\u001b[0m\n\u001b[0m",
      "\u001b[0;31mTypeError\u001b[0m: 'dict_values' object is not subscriptable"
     ]
    }
   ],
   "source": [
    "counts.values()[0]     # not exactly a list... "
   ]
  },
  {
   "cell_type": "code",
   "execution_count": 39,
   "id": "409d1ba3",
   "metadata": {},
   "outputs": [
    {
     "data": {
      "text/plain": [
       "dict_items([('vowels', ['i', 'i', 'a', 'e', 'e', 'o', 'e']), ('digits', ['1', '2', '3', '4', '5', '6']), ('others', ['t', 'h', 's', ' ', 's', ' ', ' ', 't', 's', 't', 'h', 'l', 'l', ' ', 'b', 'y', '!', '!'])])"
      ]
     },
     "execution_count": 39,
     "metadata": {},
     "output_type": "execute_result"
    }
   ],
   "source": [
    "counts.items()"
   ]
  },
  {
   "cell_type": "code",
   "execution_count": 40,
   "id": "12d69b9d",
   "metadata": {},
   "outputs": [
    {
     "name": "stdout",
     "output_type": "stream",
     "text": [
      "('vowels', ['i', 'i', 'a', 'e', 'e', 'o', 'e'])\n",
      "('digits', ['1', '2', '3', '4', '5', '6'])\n",
      "('others', ['t', 'h', 's', ' ', 's', ' ', ' ', 't', 's', 't', 'h', 'l', 'l', ' ', 'b', 'y', '!', '!'])\n"
     ]
    }
   ],
   "source": [
    "for x in counts.items():\n",
    "    print(x)"
   ]
  },
  {
   "cell_type": "code",
   "execution_count": 41,
   "id": "77d78f12",
   "metadata": {},
   "outputs": [
    {
     "name": "stdout",
     "output_type": "stream",
     "text": [
      "vowels: ['i', 'i', 'a', 'e', 'e', 'o', 'e']\n",
      "digits: ['1', '2', '3', '4', '5', '6']\n",
      "others: ['t', 'h', 's', ' ', 's', ' ', ' ', 't', 's', 't', 'h', 'l', 'l', ' ', 'b', 'y', '!', '!']\n"
     ]
    }
   ],
   "source": [
    "for t in counts.items():\n",
    "    key = t[0]\n",
    "    value = t[1]\n",
    "    \n",
    "    print(f'{key}: {value}')"
   ]
  },
  {
   "cell_type": "code",
   "execution_count": 42,
   "id": "311ba58f",
   "metadata": {},
   "outputs": [
    {
     "name": "stdout",
     "output_type": "stream",
     "text": [
      "vowels: ['i', 'i', 'a', 'e', 'e', 'o', 'e']\n",
      "digits: ['1', '2', '3', '4', '5', '6']\n",
      "others: ['t', 'h', 's', ' ', 's', ' ', ' ', 't', 's', 't', 'h', 'l', 'l', ' ', 'b', 'y', '!', '!']\n"
     ]
    }
   ],
   "source": [
    "# unpacking -- counts.items returns, with each iteration, a 2-element tuple\n",
    "for key, value in counts.items():\n",
    "    print(f'{key}: {value}')"
   ]
  },
  {
   "cell_type": "code",
   "execution_count": 43,
   "id": "708aedb3",
   "metadata": {},
   "outputs": [],
   "source": [
    "mylist = [10, 20, 30]\n",
    "x,y,z = mylist   # unpacking"
   ]
  },
  {
   "cell_type": "code",
   "execution_count": 44,
   "id": "1f342f20",
   "metadata": {},
   "outputs": [
    {
     "data": {
      "text/plain": [
       "10"
      ]
     },
     "execution_count": 44,
     "metadata": {},
     "output_type": "execute_result"
    }
   ],
   "source": [
    "x"
   ]
  },
  {
   "cell_type": "code",
   "execution_count": 45,
   "id": "701d36d0",
   "metadata": {},
   "outputs": [
    {
     "data": {
      "text/plain": [
       "20"
      ]
     },
     "execution_count": 45,
     "metadata": {},
     "output_type": "execute_result"
    }
   ],
   "source": [
    "y"
   ]
  },
  {
   "cell_type": "code",
   "execution_count": 46,
   "id": "a638694c",
   "metadata": {},
   "outputs": [
    {
     "data": {
      "text/plain": [
       "30"
      ]
     },
     "execution_count": 46,
     "metadata": {},
     "output_type": "execute_result"
    }
   ],
   "source": [
    "z"
   ]
  },
  {
   "cell_type": "code",
   "execution_count": 47,
   "id": "bc1032f5",
   "metadata": {},
   "outputs": [
    {
     "name": "stdout",
     "output_type": "stream",
     "text": [
      "vowels\n",
      "digits\n",
      "others\n"
     ]
    }
   ],
   "source": [
    "for one_key in counts:\n",
    "    print(one_key)"
   ]
  },
  {
   "cell_type": "code",
   "execution_count": 48,
   "id": "bd03373d",
   "metadata": {},
   "outputs": [
    {
     "name": "stdout",
     "output_type": "stream",
     "text": [
      "Enter key: a\n",
      "d[a] = 10\n",
      "Enter key: b\n",
      "d[b] = 20\n",
      "Enter key: x\n",
      "x is not a key in d\n",
      "Enter key: p\n",
      "p is not a key in d\n",
      "Enter key: q\n",
      "q is not a key in d\n",
      "Enter key: ab\n",
      "ab is not a key in d\n",
      "Enter key: \n"
     ]
    }
   ],
   "source": [
    "d = {'a':10, 'b':20, 'c':30}\n",
    "\n",
    "while True:\n",
    "    k = input('Enter key: ').strip()\n",
    "    \n",
    "    if not k:\n",
    "        break\n",
    "        \n",
    "    if k in d:   # is k a key in d?  print the value!\n",
    "        print(f'd[{k}] = {d[k]}')\n",
    "    else:\n",
    "        print(f'{k} is not a key in d')"
   ]
  },
  {
   "cell_type": "code",
   "execution_count": 49,
   "id": "3f380040",
   "metadata": {},
   "outputs": [
    {
     "data": {
      "text/plain": [
       "10"
      ]
     },
     "execution_count": 49,
     "metadata": {},
     "output_type": "execute_result"
    }
   ],
   "source": [
    "# the \"dict.get\" method works like []\n",
    "\n",
    "d.get('a')  # if 'a' in d, returns d['a']"
   ]
  },
  {
   "cell_type": "code",
   "execution_count": 50,
   "id": "c05cc55f",
   "metadata": {},
   "outputs": [
    {
     "data": {
      "text/plain": [
       "20"
      ]
     },
     "execution_count": 50,
     "metadata": {},
     "output_type": "execute_result"
    }
   ],
   "source": [
    "d.get('b')  # if 'b' in d, return d['b']"
   ]
  },
  {
   "cell_type": "code",
   "execution_count": 52,
   "id": "e1aebe84",
   "metadata": {},
   "outputs": [
    {
     "name": "stdout",
     "output_type": "stream",
     "text": [
      "None\n"
     ]
    }
   ],
   "source": [
    "print(d.get('x'))  # if 'x' in d, return d['x']... otherwise None"
   ]
  },
  {
   "cell_type": "code",
   "execution_count": 53,
   "id": "d453e861",
   "metadata": {},
   "outputs": [
    {
     "data": {
      "text/plain": [
       "'No such key'"
      ]
     },
     "execution_count": 53,
     "metadata": {},
     "output_type": "execute_result"
    }
   ],
   "source": [
    "# we can pass a second argument to dict.get -- which will be returned instead of None\n",
    "d.get('x', 'No such key')"
   ]
  },
  {
   "cell_type": "markdown",
   "id": "00d218ce",
   "metadata": {},
   "source": [
    "# Next up\n",
    "\n",
    "1. Dict implementation\n",
    "2. Paradigm #3\n",
    "3. Sets\n",
    "4. Files\n",
    "\n",
    "resume at 10:55"
   ]
  },
  {
   "cell_type": "code",
   "execution_count": 56,
   "id": "63589456",
   "metadata": {},
   "outputs": [
    {
     "ename": "SyntaxError",
     "evalue": "invalid syntax (385913230.py, line 1)",
     "output_type": "error",
     "traceback": [
      "\u001b[0;36m  File \u001b[0;32m\"/var/folders/rr/0mnyyv811fs5vyp22gf4fxk00000gn/T/ipykernel_99281/385913230.py\"\u001b[0;36m, line \u001b[0;32m1\u001b[0m\n\u001b[0;31m    print(input '' ='' + {total} )\u001b[0m\n\u001b[0m                ^\u001b[0m\n\u001b[0;31mSyntaxError\u001b[0m\u001b[0;31m:\u001b[0m invalid syntax\n"
     ]
    }
   ],
   "source": [
    "print(input '' ='' + {total} )"
   ]
  },
  {
   "cell_type": "code",
   "execution_count": null,
   "id": "5bd07530",
   "metadata": {},
   "outputs": [],
   "source": []
  }
 ],
 "metadata": {
  "kernelspec": {
   "display_name": "Python 3 (ipykernel)",
   "language": "python",
   "name": "python3"
  },
  "language_info": {
   "codemirror_mode": {
    "name": "ipython",
    "version": 3
   },
   "file_extension": ".py",
   "mimetype": "text/x-python",
   "name": "python",
   "nbconvert_exporter": "python",
   "pygments_lexer": "ipython3",
   "version": "3.10.5"
  }
 },
 "nbformat": 4,
 "nbformat_minor": 5
}
